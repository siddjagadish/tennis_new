{
 "cells": [
  {
   "cell_type": "markdown",
   "metadata": {},
   "source": [
    "#### Universal ELO Model\n",
    "\n",
    "In this notebook, we try to create a universal ELO model, a la 538."
   ]
  },
  {
   "cell_type": "code",
   "execution_count": 1,
   "metadata": {},
   "outputs": [],
   "source": [
    "import os\n",
    "import pandas as pd\n",
    "from tennis_new.fetch.defs import STORED_DATA_PATH"
   ]
  },
  {
   "cell_type": "markdown",
   "metadata": {},
   "source": [
    "#### Mess Around With Data"
   ]
  },
  {
   "cell_type": "code",
   "execution_count": 2,
   "metadata": {},
   "outputs": [
    {
     "name": "stderr",
     "output_type": "stream",
     "text": [
      "/Users/siddhantjagadish/Documents/DataProjects/tennis_new/venv/lib/python3.7/site-packages/IPython/core/interactiveshell.py:3049: DtypeWarning: Columns (13,17,19,33,39,40,41,42,43,44,45,46) have mixed types. Specify dtype option on import or set low_memory=False.\n",
      "  interactivity=interactivity, compiler=compiler, result=result)\n"
     ]
    }
   ],
   "source": [
    "jd = pd.read_csv(\n",
    "    os.path.join(STORED_DATA_PATH, 'joined.tsv'),\n",
    "    sep='\\t'\n",
    ")"
   ]
  },
  {
   "cell_type": "code",
   "execution_count": 3,
   "metadata": {},
   "outputs": [
    {
     "data": {
      "text/plain": [
       "(198106, 48)"
      ]
     },
     "execution_count": 3,
     "metadata": {},
     "output_type": "execute_result"
    }
   ],
   "source": [
    "jd.shape"
   ]
  },
  {
   "cell_type": "code",
   "execution_count": 4,
   "metadata": {},
   "outputs": [
    {
     "data": {
      "text/html": [
       "<div>\n",
       "<style scoped>\n",
       "    .dataframe tbody tr th:only-of-type {\n",
       "        vertical-align: middle;\n",
       "    }\n",
       "\n",
       "    .dataframe tbody tr th {\n",
       "        vertical-align: top;\n",
       "    }\n",
       "\n",
       "    .dataframe thead th {\n",
       "        text-align: right;\n",
       "    }\n",
       "</style>\n",
       "<table border=\"1\" class=\"dataframe\">\n",
       "  <thead>\n",
       "    <tr style=\"text-align: right;\">\n",
       "      <th></th>\n",
       "      <th>match_id</th>\n",
       "      <th>winner_name</th>\n",
       "      <th>loser_name</th>\n",
       "      <th>winner_player_id</th>\n",
       "      <th>loser_player_id</th>\n",
       "      <th>tourney_surface</th>\n",
       "      <th>tourney_year</th>\n",
       "      <th>tourney_month</th>\n",
       "      <th>tourney_day</th>\n",
       "      <th>round_order</th>\n",
       "      <th>match_order</th>\n",
       "      <th>tourney_round_name</th>\n",
       "      <th>tourney_name</th>\n",
       "    </tr>\n",
       "  </thead>\n",
       "  <tbody>\n",
       "    <tr>\n",
       "      <th>0</th>\n",
       "      <td>2016-451-d643-n409</td>\n",
       "      <td>Novak Djokovic</td>\n",
       "      <td>Rafael Nadal</td>\n",
       "      <td>d643</td>\n",
       "      <td>n409</td>\n",
       "      <td>Hard</td>\n",
       "      <td>2016</td>\n",
       "      <td>1.0</td>\n",
       "      <td>4.0</td>\n",
       "      <td>1</td>\n",
       "      <td>1</td>\n",
       "      <td>Finals</td>\n",
       "      <td>Brisbane</td>\n",
       "    </tr>\n",
       "    <tr>\n",
       "      <th>1</th>\n",
       "      <td>2016-451-d643-ba47</td>\n",
       "      <td>Novak Djokovic</td>\n",
       "      <td>Tomas Berdych</td>\n",
       "      <td>d643</td>\n",
       "      <td>ba47</td>\n",
       "      <td>Hard</td>\n",
       "      <td>2016</td>\n",
       "      <td>1.0</td>\n",
       "      <td>4.0</td>\n",
       "      <td>2</td>\n",
       "      <td>1</td>\n",
       "      <td>Semi-Finals</td>\n",
       "      <td>Brisbane</td>\n",
       "    </tr>\n",
       "    <tr>\n",
       "      <th>2</th>\n",
       "      <td>2016-451-n409-me89</td>\n",
       "      <td>Rafael Nadal</td>\n",
       "      <td>Illya Marchenko</td>\n",
       "      <td>n409</td>\n",
       "      <td>me89</td>\n",
       "      <td>Hard</td>\n",
       "      <td>2016</td>\n",
       "      <td>1.0</td>\n",
       "      <td>4.0</td>\n",
       "      <td>2</td>\n",
       "      <td>2</td>\n",
       "      <td>Semi-Finals</td>\n",
       "      <td>Brisbane</td>\n",
       "    </tr>\n",
       "    <tr>\n",
       "      <th>3</th>\n",
       "      <td>2016-451-d643-md56</td>\n",
       "      <td>Novak Djokovic</td>\n",
       "      <td>Leonardo Mayer</td>\n",
       "      <td>d643</td>\n",
       "      <td>md56</td>\n",
       "      <td>Hard</td>\n",
       "      <td>2016</td>\n",
       "      <td>1.0</td>\n",
       "      <td>4.0</td>\n",
       "      <td>3</td>\n",
       "      <td>1</td>\n",
       "      <td>Quarter-Finals</td>\n",
       "      <td>Brisbane</td>\n",
       "    </tr>\n",
       "    <tr>\n",
       "      <th>4</th>\n",
       "      <td>2016-451-n409-kb54</td>\n",
       "      <td>Rafael Nadal</td>\n",
       "      <td>Andrey Kuznetsov</td>\n",
       "      <td>n409</td>\n",
       "      <td>kb54</td>\n",
       "      <td>Hard</td>\n",
       "      <td>2016</td>\n",
       "      <td>1.0</td>\n",
       "      <td>4.0</td>\n",
       "      <td>3</td>\n",
       "      <td>2</td>\n",
       "      <td>Quarter-Finals</td>\n",
       "      <td>Brisbane</td>\n",
       "    </tr>\n",
       "  </tbody>\n",
       "</table>\n",
       "</div>"
      ],
      "text/plain": [
       "             match_id     winner_name        loser_name winner_player_id  \\\n",
       "0  2016-451-d643-n409  Novak Djokovic      Rafael Nadal             d643   \n",
       "1  2016-451-d643-ba47  Novak Djokovic     Tomas Berdych             d643   \n",
       "2  2016-451-n409-me89    Rafael Nadal   Illya Marchenko             n409   \n",
       "3  2016-451-d643-md56  Novak Djokovic    Leonardo Mayer             d643   \n",
       "4  2016-451-n409-kb54    Rafael Nadal  Andrey Kuznetsov             n409   \n",
       "\n",
       "  loser_player_id tourney_surface  tourney_year  tourney_month  tourney_day  \\\n",
       "0            n409            Hard          2016            1.0          4.0   \n",
       "1            ba47            Hard          2016            1.0          4.0   \n",
       "2            me89            Hard          2016            1.0          4.0   \n",
       "3            md56            Hard          2016            1.0          4.0   \n",
       "4            kb54            Hard          2016            1.0          4.0   \n",
       "\n",
       "   round_order  match_order tourney_round_name tourney_name  \n",
       "0            1            1             Finals     Brisbane  \n",
       "1            2            1        Semi-Finals     Brisbane  \n",
       "2            2            2        Semi-Finals     Brisbane  \n",
       "3            3            1     Quarter-Finals     Brisbane  \n",
       "4            3            2     Quarter-Finals     Brisbane  "
      ]
     },
     "execution_count": 4,
     "metadata": {},
     "output_type": "execute_result"
    }
   ],
   "source": [
    "ELO_REL_COLUMNS = [\n",
    "    'match_id',\n",
    "    'winner_name',\n",
    "    'loser_name',\n",
    "    'winner_player_id',\n",
    "    'loser_player_id',\n",
    "    'tourney_surface',\n",
    "    'tourney_year',\n",
    "    'tourney_month',\n",
    "    'tourney_day',\n",
    "    'round_order',\n",
    "    'match_order',\n",
    "    'tourney_round_name',\n",
    "    'tourney_name'\n",
    "]\n",
    "jd[ELO_REL_COLUMNS].head()"
   ]
  },
  {
   "cell_type": "code",
   "execution_count": 10,
   "metadata": {},
   "outputs": [
    {
     "data": {
      "text/html": [
       "<div>\n",
       "<style scoped>\n",
       "    .dataframe tbody tr th:only-of-type {\n",
       "        vertical-align: middle;\n",
       "    }\n",
       "\n",
       "    .dataframe tbody tr th {\n",
       "        vertical-align: top;\n",
       "    }\n",
       "\n",
       "    .dataframe thead th {\n",
       "        text-align: right;\n",
       "    }\n",
       "</style>\n",
       "<table border=\"1\" class=\"dataframe\">\n",
       "  <thead>\n",
       "    <tr style=\"text-align: right;\">\n",
       "      <th></th>\n",
       "      <th>match_id</th>\n",
       "      <th>winner_name</th>\n",
       "      <th>loser_name</th>\n",
       "      <th>winner_player_id</th>\n",
       "      <th>loser_player_id</th>\n",
       "      <th>tourney_surface</th>\n",
       "      <th>tourney_year</th>\n",
       "      <th>tourney_month</th>\n",
       "      <th>tourney_day</th>\n",
       "      <th>round_order</th>\n",
       "      <th>match_order</th>\n",
       "      <th>tourney_round_name</th>\n",
       "      <th>tourney_name</th>\n",
       "    </tr>\n",
       "  </thead>\n",
       "  <tbody>\n",
       "    <tr>\n",
       "      <th>13823</th>\n",
       "      <td>1877-540-e994-lh24</td>\n",
       "      <td>L. Erskine</td>\n",
       "      <td>J. Lambert</td>\n",
       "      <td>e994</td>\n",
       "      <td>lh24</td>\n",
       "      <td>Grass</td>\n",
       "      <td>1877</td>\n",
       "      <td>7.0</td>\n",
       "      <td>9.0</td>\n",
       "      <td>4</td>\n",
       "      <td>1</td>\n",
       "      <td>Round Robin</td>\n",
       "      <td>Wimbledon</td>\n",
       "    </tr>\n",
       "    <tr>\n",
       "      <th>13824</th>\n",
       "      <td>1877-540-gi91-hg46</td>\n",
       "      <td>Spencer Gore</td>\n",
       "      <td>M. Hankey</td>\n",
       "      <td>gi91</td>\n",
       "      <td>hg46</td>\n",
       "      <td>Grass</td>\n",
       "      <td>1877</td>\n",
       "      <td>7.0</td>\n",
       "      <td>9.0</td>\n",
       "      <td>4</td>\n",
       "      <td>2</td>\n",
       "      <td>Round Robin</td>\n",
       "      <td>Wimbledon</td>\n",
       "    </tr>\n",
       "    <tr>\n",
       "      <th>13825</th>\n",
       "      <td>1877-540-lh23-bt10</td>\n",
       "      <td>F. Langham</td>\n",
       "      <td>J. Baker</td>\n",
       "      <td>lh23</td>\n",
       "      <td>bt10</td>\n",
       "      <td>Grass</td>\n",
       "      <td>1877</td>\n",
       "      <td>7.0</td>\n",
       "      <td>9.0</td>\n",
       "      <td>4</td>\n",
       "      <td>3</td>\n",
       "      <td>Round Robin</td>\n",
       "      <td>Wimbledon</td>\n",
       "    </tr>\n",
       "    <tr>\n",
       "      <th>13826</th>\n",
       "      <td>1877-540-mu62-af58</td>\n",
       "      <td>William Marshall</td>\n",
       "      <td>B. Akroyd</td>\n",
       "      <td>mu62</td>\n",
       "      <td>af58</td>\n",
       "      <td>Grass</td>\n",
       "      <td>1877</td>\n",
       "      <td>7.0</td>\n",
       "      <td>9.0</td>\n",
       "      <td>4</td>\n",
       "      <td>4</td>\n",
       "      <td>Round Robin</td>\n",
       "      <td>Wimbledon</td>\n",
       "    </tr>\n",
       "    <tr>\n",
       "      <th>13827</th>\n",
       "      <td>1877-540-mu66-o628</td>\n",
       "      <td>J. Marshall</td>\n",
       "      <td>F. Oliver</td>\n",
       "      <td>mu66</td>\n",
       "      <td>o628</td>\n",
       "      <td>Grass</td>\n",
       "      <td>1877</td>\n",
       "      <td>7.0</td>\n",
       "      <td>9.0</td>\n",
       "      <td>4</td>\n",
       "      <td>5</td>\n",
       "      <td>Round Robin</td>\n",
       "      <td>Wimbledon</td>\n",
       "    </tr>\n",
       "  </tbody>\n",
       "</table>\n",
       "</div>"
      ],
      "text/plain": [
       "                 match_id       winner_name  loser_name winner_player_id  \\\n",
       "13823  1877-540-e994-lh24        L. Erskine  J. Lambert             e994   \n",
       "13824  1877-540-gi91-hg46      Spencer Gore   M. Hankey             gi91   \n",
       "13825  1877-540-lh23-bt10        F. Langham    J. Baker             lh23   \n",
       "13826  1877-540-mu62-af58  William Marshall   B. Akroyd             mu62   \n",
       "13827  1877-540-mu66-o628       J. Marshall   F. Oliver             mu66   \n",
       "\n",
       "      loser_player_id tourney_surface  tourney_year  tourney_month  \\\n",
       "13823            lh24           Grass          1877            7.0   \n",
       "13824            hg46           Grass          1877            7.0   \n",
       "13825            bt10           Grass          1877            7.0   \n",
       "13826            af58           Grass          1877            7.0   \n",
       "13827            o628           Grass          1877            7.0   \n",
       "\n",
       "       tourney_day  round_order  match_order tourney_round_name tourney_name  \n",
       "13823          9.0            4            1        Round Robin    Wimbledon  \n",
       "13824          9.0            4            2        Round Robin    Wimbledon  \n",
       "13825          9.0            4            3        Round Robin    Wimbledon  \n",
       "13826          9.0            4            4        Round Robin    Wimbledon  \n",
       "13827          9.0            4            5        Round Robin    Wimbledon  "
      ]
     },
     "execution_count": 10,
     "metadata": {},
     "output_type": "execute_result"
    }
   ],
   "source": [
    "# Sort data so we can update appropriately\n",
    "# TODO: This should be done in the creation of the joined?\n",
    "\n",
    "# Sorting columns should never be null\n",
    "sort_cols = [\n",
    "    'tourney_year', 'tourney_month', 'tourney_day', 'round_order', 'match_order'\n",
    "]\n",
    "for col in sort_cols:\n",
    "    assert jd[col].notnull().all()\n",
    "\n",
    "jd.sort_values(\n",
    "    ['tourney_year', 'tourney_month', 'tourney_day', 'round_order', 'match_order'],\n",
    "    ascending=[True, True, True, False, True],\n",
    "    inplace=True\n",
    ")\n",
    "jd[ELO_REL_COLUMNS].head()"
   ]
  },
  {
   "cell_type": "code",
   "execution_count": 11,
   "metadata": {},
   "outputs": [],
   "source": [
    "from tennis_new.ml.elo import ELOModel\n",
    "\n",
    "elo = ELOModel(winner_mod=True)\n",
    "elo.fit_and_backfill(\n",
    "    jd['winner_name'].tolist(),\n",
    "    jd['loser_name'].tolist(),\n",
    "    jd['match_id'].tolist()\n",
    ")"
   ]
  },
  {
   "cell_type": "code",
   "execution_count": 12,
   "metadata": {},
   "outputs": [],
   "source": [
    "elo_preds = pd.DataFrame(elo.history)"
   ]
  },
  {
   "cell_type": "code",
   "execution_count": 13,
   "metadata": {},
   "outputs": [],
   "source": [
    "together = pd.merge(\n",
    "    jd,\n",
    "    elo_preds,\n",
    "    on='match_id'\n",
    ")"
   ]
  },
  {
   "cell_type": "code",
   "execution_count": 14,
   "metadata": {},
   "outputs": [
    {
     "data": {
      "text/html": [
       "<div>\n",
       "<style scoped>\n",
       "    .dataframe tbody tr th:only-of-type {\n",
       "        vertical-align: middle;\n",
       "    }\n",
       "\n",
       "    .dataframe tbody tr th {\n",
       "        vertical-align: top;\n",
       "    }\n",
       "\n",
       "    .dataframe thead th {\n",
       "        text-align: right;\n",
       "    }\n",
       "</style>\n",
       "<table border=\"1\" class=\"dataframe\">\n",
       "  <thead>\n",
       "    <tr style=\"text-align: right;\">\n",
       "      <th></th>\n",
       "      <th>winner_name</th>\n",
       "      <th>elo1</th>\n",
       "      <th>tourney_year</th>\n",
       "    </tr>\n",
       "  </thead>\n",
       "  <tbody>\n",
       "    <tr>\n",
       "      <th>185208</th>\n",
       "      <td>Novak Djokovic</td>\n",
       "      <td>2618.113339</td>\n",
       "      <td>2016</td>\n",
       "    </tr>\n",
       "    <tr>\n",
       "      <th>184275</th>\n",
       "      <td>Novak Djokovic</td>\n",
       "      <td>2598.207088</td>\n",
       "      <td>2015</td>\n",
       "    </tr>\n",
       "    <tr>\n",
       "      <th>188622</th>\n",
       "      <td>Novak Djokovic</td>\n",
       "      <td>2560.325028</td>\n",
       "      <td>2017</td>\n",
       "    </tr>\n",
       "    <tr>\n",
       "      <th>178627</th>\n",
       "      <td>Novak Djokovic</td>\n",
       "      <td>2547.730451</td>\n",
       "      <td>2014</td>\n",
       "    </tr>\n",
       "    <tr>\n",
       "      <th>174918</th>\n",
       "      <td>Rafael Nadal</td>\n",
       "      <td>2525.219964</td>\n",
       "      <td>2013</td>\n",
       "    </tr>\n",
       "    <tr>\n",
       "      <th>172149</th>\n",
       "      <td>Novak Djokovic</td>\n",
       "      <td>2522.606206</td>\n",
       "      <td>2013</td>\n",
       "    </tr>\n",
       "    <tr>\n",
       "      <th>74187</th>\n",
       "      <td>John McEnroe</td>\n",
       "      <td>2519.516093</td>\n",
       "      <td>1985</td>\n",
       "    </tr>\n",
       "    <tr>\n",
       "      <th>73203</th>\n",
       "      <td>John McEnroe</td>\n",
       "      <td>2517.241843</td>\n",
       "      <td>1984</td>\n",
       "    </tr>\n",
       "    <tr>\n",
       "      <th>145086</th>\n",
       "      <td>Roger Federer</td>\n",
       "      <td>2514.054465</td>\n",
       "      <td>2007</td>\n",
       "    </tr>\n",
       "    <tr>\n",
       "      <th>58319</th>\n",
       "      <td>Bjorn Borg</td>\n",
       "      <td>2511.026926</td>\n",
       "      <td>1980</td>\n",
       "    </tr>\n",
       "    <tr>\n",
       "      <th>188425</th>\n",
       "      <td>Andy Murray</td>\n",
       "      <td>2509.252550</td>\n",
       "      <td>2017</td>\n",
       "    </tr>\n",
       "    <tr>\n",
       "      <th>175833</th>\n",
       "      <td>Rafael Nadal</td>\n",
       "      <td>2509.019155</td>\n",
       "      <td>2014</td>\n",
       "    </tr>\n",
       "    <tr>\n",
       "      <th>166467</th>\n",
       "      <td>Novak Djokovic</td>\n",
       "      <td>2505.620223</td>\n",
       "      <td>2011</td>\n",
       "    </tr>\n",
       "    <tr>\n",
       "      <th>143981</th>\n",
       "      <td>Roger Federer</td>\n",
       "      <td>2498.511245</td>\n",
       "      <td>2006</td>\n",
       "    </tr>\n",
       "    <tr>\n",
       "      <th>188309</th>\n",
       "      <td>Andy Murray</td>\n",
       "      <td>2497.579839</td>\n",
       "      <td>2016</td>\n",
       "    </tr>\n",
       "    <tr>\n",
       "      <th>77186</th>\n",
       "      <td>Ivan Lendl</td>\n",
       "      <td>2495.414970</td>\n",
       "      <td>1986</td>\n",
       "    </tr>\n",
       "    <tr>\n",
       "      <th>82260</th>\n",
       "      <td>Ivan Lendl</td>\n",
       "      <td>2487.785491</td>\n",
       "      <td>1987</td>\n",
       "    </tr>\n",
       "    <tr>\n",
       "      <th>83051</th>\n",
       "      <td>Ivan Lendl</td>\n",
       "      <td>2485.601145</td>\n",
       "      <td>1988</td>\n",
       "    </tr>\n",
       "    <tr>\n",
       "      <th>192648</th>\n",
       "      <td>Novak Djokovic</td>\n",
       "      <td>2481.939983</td>\n",
       "      <td>2018</td>\n",
       "    </tr>\n",
       "    <tr>\n",
       "      <th>171055</th>\n",
       "      <td>Novak Djokovic</td>\n",
       "      <td>2478.619386</td>\n",
       "      <td>2012</td>\n",
       "    </tr>\n",
       "  </tbody>\n",
       "</table>\n",
       "</div>"
      ],
      "text/plain": [
       "           winner_name         elo1  tourney_year\n",
       "185208  Novak Djokovic  2618.113339          2016\n",
       "184275  Novak Djokovic  2598.207088          2015\n",
       "188622  Novak Djokovic  2560.325028          2017\n",
       "178627  Novak Djokovic  2547.730451          2014\n",
       "174918    Rafael Nadal  2525.219964          2013\n",
       "172149  Novak Djokovic  2522.606206          2013\n",
       "74187     John McEnroe  2519.516093          1985\n",
       "73203     John McEnroe  2517.241843          1984\n",
       "145086   Roger Federer  2514.054465          2007\n",
       "58319       Bjorn Borg  2511.026926          1980\n",
       "188425     Andy Murray  2509.252550          2017\n",
       "175833    Rafael Nadal  2509.019155          2014\n",
       "166467  Novak Djokovic  2505.620223          2011\n",
       "143981   Roger Federer  2498.511245          2006\n",
       "188309     Andy Murray  2497.579839          2016\n",
       "77186       Ivan Lendl  2495.414970          1986\n",
       "82260       Ivan Lendl  2487.785491          1987\n",
       "83051       Ivan Lendl  2485.601145          1988\n",
       "192648  Novak Djokovic  2481.939983          2018\n",
       "171055  Novak Djokovic  2478.619386          2012"
      ]
     },
     "execution_count": 14,
     "metadata": {},
     "output_type": "execute_result"
    }
   ],
   "source": [
    "# Top player-years of all-time\n",
    "together.sort_values('elo1', ascending=False).drop_duplicates(['winner_name', 'tourney_year'])[[\n",
    "    'winner_name', 'elo1', 'tourney_year'\n",
    "]].head(20)"
   ]
  },
  {
   "cell_type": "code",
   "execution_count": 15,
   "metadata": {},
   "outputs": [
    {
     "data": {
      "text/plain": [
       "2012    4496\n",
       "2011    4489\n",
       "2015    4443\n",
       "2013    4439\n",
       "2014    4350\n",
       "2016    4022\n",
       "2017    3962\n",
       "2018    3954\n",
       "2019    1880\n",
       "Name: tourney_year, dtype: int64"
      ]
     },
     "execution_count": 15,
     "metadata": {},
     "output_type": "execute_result"
    }
   ],
   "source": [
    "# Look at hold-out performance\n",
    "test = together[\n",
    "    (together['tourney_year'] > 2010)\n",
    "]\n",
    "test['tourney_year'].value_counts()"
   ]
  },
  {
   "cell_type": "code",
   "execution_count": 16,
   "metadata": {},
   "outputs": [
    {
     "data": {
      "text/plain": [
       "0.665103371721937"
      ]
     },
     "execution_count": 16,
     "metadata": {},
     "output_type": "execute_result"
    }
   ],
   "source": [
    "(test['elo_match_prediction'] > 0.5).mean()"
   ]
  },
  {
   "cell_type": "markdown",
   "metadata": {},
   "source": [
    "67% accuracy since 2010"
   ]
  },
  {
   "cell_type": "code",
   "execution_count": 17,
   "metadata": {},
   "outputs": [
    {
     "data": {
      "text/plain": [
       "tourney_name     tourney_year\n",
       "Australian Open  2011            (0.7112970711297071, 239)\n",
       "                 2012            (0.6861924686192469, 239)\n",
       "                 2013            (0.7071129707112971, 239)\n",
       "                 2014            (0.6764705882352942, 238)\n",
       "                 2015             (0.702928870292887, 239)\n",
       "                 2016            (0.7364016736401674, 239)\n",
       "                 2017            (0.7238493723849372, 239)\n",
       "                 2018            (0.6317991631799164, 239)\n",
       "                 2019            (0.7401574803149606, 127)\n",
       "Roland Garros    2011            (0.6861924686192469, 239)\n",
       "                 2012             (0.702928870292887, 239)\n",
       "                 2013            (0.6932773109243697, 238)\n",
       "                 2014            (0.6485355648535565, 239)\n",
       "                 2015            (0.6820083682008368, 239)\n",
       "                 2016             (0.698744769874477, 239)\n",
       "                 2017            (0.6527196652719666, 239)\n",
       "                 2018            (0.6778242677824268, 239)\n",
       "                 2019            (0.7795275590551181, 127)\n",
       "US Open          2011            (0.6778242677824268, 239)\n",
       "                 2012            (0.6820083682008368, 239)\n",
       "                 2013            (0.6610878661087866, 239)\n",
       "                 2014            (0.6276150627615062, 239)\n",
       "                 2015            (0.7196652719665272, 239)\n",
       "                 2016            (0.6596638655462185, 238)\n",
       "                 2017            (0.6903765690376569, 239)\n",
       "                 2018             (0.694560669456067, 239)\n",
       "Wimbledon        2011            (0.6820083682008368, 239)\n",
       "                 2012            (0.6778242677824268, 239)\n",
       "                 2013            (0.6778242677824268, 239)\n",
       "                 2014            (0.7154811715481172, 239)\n",
       "                 2015             (0.694560669456067, 239)\n",
       "                 2016             (0.694560669456067, 239)\n",
       "                 2017            (0.6903765690376569, 239)\n",
       "                 2018            (0.6401673640167364, 239)\n",
       "dtype: object"
      ]
     },
     "execution_count": 17,
     "metadata": {},
     "output_type": "execute_result"
    }
   ],
   "source": [
    "MAJORS = [\n",
    "    'Wimbledon',\n",
    "    'US Open',\n",
    "    'Roland Garros',\n",
    "    'Australian Open'\n",
    "]\n",
    "\n",
    "major_test = test[\n",
    "    (test['tourney_name'].isin(MAJORS)) &\n",
    "    (test['elo_match_prediction'] != 0.5)\n",
    "]\n",
    "major_test.groupby(['tourney_name', 'tourney_year']).apply(\n",
    "    lambda x: (\n",
    "        (x['elo_match_prediction'] > 0.5).mean(),\n",
    "        x.shape[0]\n",
    "    )\n",
    ")"
   ]
  },
  {
   "cell_type": "markdown",
   "metadata": {},
   "source": [
    "2018 tournaments were tough to predict..."
   ]
  },
  {
   "cell_type": "markdown",
   "metadata": {},
   "source": [
    "#### Look at Players over Time"
   ]
  },
  {
   "cell_type": "code",
   "execution_count": 41,
   "metadata": {},
   "outputs": [],
   "source": [
    "elo_preds['tourney_year'] = jd['tourney_year'].tolist()\n",
    "elo_preds['tourney_month'] = jd['tourney_month'].tolist()\n",
    "elo_preds['tourney_day'] = jd['tourney_day'].tolist()"
   ]
  },
  {
   "cell_type": "code",
   "execution_count": 81,
   "metadata": {},
   "outputs": [],
   "source": [
    "%matplotlib inline\n",
    "from matplotlib import pyplot as plt\n",
    "import numpy as np\n",
    "\n",
    "def plot_player_over_time(pid):\n",
    "    rel = elo_preds[\n",
    "        (elo_preds['p1_id'] == pid) | (elo_preds['p2_id'] == pid)\n",
    "    ]\n",
    "    elos = rel[[\n",
    "        'p1_id',\n",
    "        'p2_id',\n",
    "        'elo1',\n",
    "        'elo2'\n",
    "    ]].apply(\n",
    "        lambda x: x['elo1'] if x['p1_id'] == pid else x['elo2'],\n",
    "        axis=1\n",
    "    )\n",
    "    plt.plot(range(len(elos)), elos)\n",
    "    _x = np.array(range(0, len(elos), 50))\n",
    "    plt.xticks(\n",
    "        _x.tolist(),\n",
    "        rel['tourney_year'].iloc[_x].tolist(),\n",
    "        rotation=90\n",
    "    )"
   ]
  },
  {
   "cell_type": "code",
   "execution_count": 82,
   "metadata": {},
   "outputs": [
    {
     "data": {
      "image/png": "[encoded data removed]",
      "text/plain": [
       "<Figure size 432x288 with 1 Axes>"
      ]
     },
     "metadata": {
      "needs_background": "light"
     },
     "output_type": "display_data"
    }
   ],
   "source": [
    "plot_player_over_time('Novak Djokovic')"
   ]
  },
  {
   "cell_type": "code",
   "execution_count": 83,
   "metadata": {},
   "outputs": [
    {
     "data": {
      "image/png": "[encoded data removed]",
      "text/plain": [
       "<Figure size 432x288 with 1 Axes>"
      ]
     },
     "metadata": {
      "needs_background": "light"
     },
     "output_type": "display_data"
    }
   ],
   "source": [
    "plot_player_over_time('Roger Federer')"
   ]
  },
  {
   "cell_type": "code",
   "execution_count": null,
   "metadata": {},
   "outputs": [],
   "source": []
  }
 ],
 "metadata": {
  "kernelspec": {
   "display_name": "Python 3",
   "language": "python",
   "name": "python3"
  },
  "language_info": {
   "codemirror_mode": {
    "name": "ipython",
    "version": 3
   },
   "file_extension": ".py",
   "mimetype": "text/x-python",
   "name": "python",
   "nbconvert_exporter": "python",
   "pygments_lexer": "ipython3",
   "version": "3.7.3"
  }
 },
 "nbformat": 4,
 "nbformat_minor": 2
}
