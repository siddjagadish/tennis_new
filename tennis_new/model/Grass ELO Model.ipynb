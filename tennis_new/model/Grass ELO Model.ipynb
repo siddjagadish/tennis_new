{
 "cells": [
  {
   "cell_type": "code",
   "execution_count": 1,
   "metadata": {
    "scrolled": true
   },
   "outputs": [
    {
     "name": "stderr",
     "output_type": "stream",
     "text": [
      "/Users/siddhantjagadish/Documents/DataProjects/tennis_new/venv/lib/python3.7/site-packages/IPython/core/interactiveshell.py:3049: DtypeWarning: Columns (10,11,14,33,39,40,41,42,43,44,45,46) have mixed types. Specify dtype option on import or set low_memory=False.\n",
      "  interactivity=interactivity, compiler=compiler, result=result)\n"
     ]
    }
   ],
   "source": [
    "import pandas as pd\n",
    "from pathlib import Path\n",
    "from tennis_new.fetch.defs import STORED_DATA_PATH\n",
    "\n",
    "jd = pd.read_csv(\n",
    "    Path.joinpath(STORED_DATA_PATH, 'joined.tsv'),\n",
    "    sep='\\t'\n",
    ")"
   ]
  },
  {
   "cell_type": "code",
   "execution_count": 25,
   "metadata": {},
   "outputs": [
    {
     "data": {
      "text/plain": [
       "Hard      76802\n",
       "Clay      65213\n",
       "Grass     38456\n",
       "Carpet    17635\n",
       "Name: tourney_surface, dtype: int64"
      ]
     },
     "execution_count": 25,
     "metadata": {},
     "output_type": "execute_result"
    }
   ],
   "source": [
    "jd['tourney_surface'].value_counts()"
   ]
  },
  {
   "cell_type": "code",
   "execution_count": 27,
   "metadata": {},
   "outputs": [],
   "source": [
    "# We should know surface for all matches\n",
    "assert jd['tourney_surface'].notnull().all()"
   ]
  },
  {
   "cell_type": "code",
   "execution_count": 29,
   "metadata": {},
   "outputs": [
    {
     "data": {
      "text/plain": [
       "[<matplotlib.lines.Line2D at 0x1189064a8>]"
      ]
     },
     "execution_count": 29,
     "metadata": {},
     "output_type": "execute_result"
    },
    {
     "data": {
      "image/png": "[encoded data removed]",
      "text/plain": [
       "<Figure size 432x288 with 1 Axes>"
      ]
     },
     "metadata": {
      "needs_background": "light"
     },
     "output_type": "display_data"
    }
   ],
   "source": [
    "# How much grass data do we have over time?\n",
    "%matplotlib inline\n",
    "from matplotlib import pyplot as plt\n",
    "\n",
    "plt.plot(\n",
    "    jd['tourney_year'],\n",
    "    (jd['tourney_surface'] == 'Grass').sum() - (jd['tourney_surface'] == 'Grass').cumsum()\n",
    ")"
   ]
  },
  {
   "cell_type": "code",
   "execution_count": 69,
   "metadata": {},
   "outputs": [],
   "source": [
    "# Say we want 5k grass test set matches, let's get these...\n",
    "TEST_SIZE = 5000\n",
    "\n",
    "def get_val_test_for_surface(df, surface='Grass', n=5000):\n",
    "    total_on_surface = (df['tourney_surface'] == surface).sum()\n",
    "    n_test_on_surface = total_on_surface - (df['tourney_surface'] == surface).cumsum()\n",
    "    val_idx = np.where(\n",
    "        (n_test_on_surface <= 2 * n) &\n",
    "        (n_test_on_surface > n) &\n",
    "        (df['tourney_surface'] == surface)\n",
    "    )[0]\n",
    "    test_idx = np.where(\n",
    "        (n_test_on_surface <= n) &\n",
    "        (df['tourney_surface'] == surface)\n",
    "    )[0]\n",
    "    return val_idx, test_idx "
   ]
  },
  {
   "cell_type": "code",
   "execution_count": 70,
   "metadata": {},
   "outputs": [],
   "source": [
    "val_idx, test_idx = get_val_test_for_surface(jd, surface='Grass')"
   ]
  },
  {
   "cell_type": "code",
   "execution_count": 71,
   "metadata": {},
   "outputs": [
    {
     "data": {
      "text/plain": [
       "(5000, 5001)"
      ]
     },
     "execution_count": 71,
     "metadata": {},
     "output_type": "execute_result"
    }
   ],
   "source": [
    "len(val_idx), len(test_idx)"
   ]
  },
  {
   "cell_type": "code",
   "execution_count": 72,
   "metadata": {},
   "outputs": [
    {
     "data": {
      "text/html": [
       "<div>\n",
       "<style scoped>\n",
       "    .dataframe tbody tr th:only-of-type {\n",
       "        vertical-align: middle;\n",
       "    }\n",
       "\n",
       "    .dataframe tbody tr th {\n",
       "        vertical-align: top;\n",
       "    }\n",
       "\n",
       "    .dataframe thead th {\n",
       "        text-align: right;\n",
       "    }\n",
       "</style>\n",
       "<table border=\"1\" class=\"dataframe\">\n",
       "  <thead>\n",
       "    <tr style=\"text-align: right;\">\n",
       "      <th></th>\n",
       "      <th>tourney_year</th>\n",
       "      <th>tourney_month</th>\n",
       "    </tr>\n",
       "  </thead>\n",
       "  <tbody>\n",
       "    <tr>\n",
       "      <th>108773</th>\n",
       "      <td>1995</td>\n",
       "      <td>6.0</td>\n",
       "    </tr>\n",
       "    <tr>\n",
       "      <th>155866</th>\n",
       "      <td>2009</td>\n",
       "      <td>7.0</td>\n",
       "    </tr>\n",
       "  </tbody>\n",
       "</table>\n",
       "</div>"
      ],
      "text/plain": [
       "        tourney_year  tourney_month\n",
       "108773          1995            6.0\n",
       "155866          2009            7.0"
      ]
     },
     "execution_count": 72,
     "metadata": {},
     "output_type": "execute_result"
    }
   ],
   "source": [
    "jd[['tourney_year', 'tourney_month']].iloc[[val_idx.min(), test_idx.min()], :]"
   ]
  },
  {
   "cell_type": "markdown",
   "metadata": {},
   "source": [
    "My validation set begins in June 1995 and my test begins in July 2009"
   ]
  },
  {
   "cell_type": "code",
   "execution_count": 118,
   "metadata": {},
   "outputs": [],
   "source": [
    "# Universal ELO Model\n",
    "from tennis_new.ml.elo import ELOModel\n",
    "\n",
    "elo = ELOModel(winner_mod=True)\n",
    "elo.fit_and_backfill(\n",
    "    jd['winner_name'].tolist(),\n",
    "    jd['loser_name'].tolist(),\n",
    "    jd['match_id'].tolist()\n",
    ")"
   ]
  },
  {
   "cell_type": "code",
   "execution_count": 89,
   "metadata": {},
   "outputs": [],
   "source": [
    "def _eval_mod(mod):\n",
    "    history_df = pd.DataFrame(mod.history)\n",
    "    val_accuracy = (history_df.iloc[val_idx]['elo_match_prediction'] > 0.5).mean()\n",
    "    test_accuracy = (history_df.iloc[test_idx]['elo_match_prediction'] > 0.5).mean()\n",
    "    return {\n",
    "        'val_accuracy': val_accuracy,\n",
    "        'test_accuracy': test_accuracy\n",
    "    }"
   ]
  },
  {
   "cell_type": "code",
   "execution_count": 90,
   "metadata": {},
   "outputs": [
    {
     "data": {
      "text/plain": [
       "{'val_accuracy': 0.6604, 'test_accuracy': 0.6600679864027195}"
      ]
     },
     "execution_count": 90,
     "metadata": {},
     "output_type": "execute_result"
    }
   ],
   "source": [
    "_eval_mod(elo)"
   ]
  },
  {
   "cell_type": "markdown",
   "metadata": {},
   "source": [
    "Without any surface weighting, we achieve 66% accuracy on both the val set and the test set.  Now let's try surface weighting... "
   ]
  },
  {
   "cell_type": "code",
   "execution_count": 91,
   "metadata": {},
   "outputs": [],
   "source": [
    "# Sobol functions... \n",
    "# TODO: These should be in the repo\n",
    "from sobol import i4_sobol\n",
    "\n",
    "def generate_sobol_seq(dim, n, seed):\n",
    "    seed = seed\n",
    "    out = []\n",
    "    for i in range(n):\n",
    "        cur_out, seed = i4_sobol(dim, seed)\n",
    "        out.append(cur_out)\n",
    "    return np.array(out)\n",
    "\n",
    "def get_range_params(mini, maxi, randos):\n",
    "    return np.array(\n",
    "        list(map(lambda x: x * (maxi - mini) + mini, randos))\n",
    "    )"
   ]
  },
  {
   "cell_type": "code",
   "execution_count": 112,
   "metadata": {},
   "outputs": [
    {
     "data": {
      "text/plain": [
       "<matplotlib.collections.PathCollection at 0x2b72ef978>"
      ]
     },
     "execution_count": 112,
     "metadata": {},
     "output_type": "execute_result"
    },
    {
     "data": {
      "image/png": "[encoded data removed]",
      "text/plain": [
       "<Figure size 432x288 with 1 Axes>"
      ]
     },
     "metadata": {
      "needs_background": "light"
     },
     "output_type": "display_data"
    }
   ],
   "source": [
    "# Sobol Sample for Hyperparams, tune universal ELO model\n",
    "from tennis_new.ml.elo import ELOModel\n",
    "\n",
    "N_MODELS = 100\n",
    "SEED = 10\n",
    "MIN_WEIGHT = 0.3\n",
    "MAX_WEIGHT = 1.\n",
    "\n",
    "sobol_grid = generate_sobol_seq(3, N_MODELS, SEED)\n",
    "clay_weights = get_range_params(MIN_WEIGHT, MAX_WEIGHT, sobol_grid[:, 0])\n",
    "hard_weights = get_range_params(MIN_WEIGHT, MAX_WEIGHT, sobol_grid[:, 1])\n",
    "carpet_weights = get_range_params(MIN_WEIGHT, MAX_WEIGHT, sobol_grid[:, 2])\n",
    "\n",
    "plt.scatter(clay_weights, hard_weights)"
   ]
  },
  {
   "cell_type": "code",
   "execution_count": 114,
   "metadata": {},
   "outputs": [
    {
     "name": "stderr",
     "output_type": "stream",
     "text": [
      "100it [02:07,  1.09s/it]\n"
     ]
    }
   ],
   "source": [
    "# Tune over surface weights\n",
    "from tqdm import tqdm\n",
    "\n",
    "out = []\n",
    "for clay, hard, carpet in tqdm(zip(clay_weights, hard_weights, carpet_weights)):\n",
    "    weight_dict = {\n",
    "        'Clay': clay,\n",
    "        'Hard': hard,\n",
    "        'Carpet': carpet,\n",
    "        'Grass': 1.0\n",
    "    }\n",
    "    weights = jd['tourney_surface'].map(lambda x: weight_dict[x])\n",
    "    cur_elo = ELOModel(winner_mod=True)\n",
    "    cur_elo.fit_and_backfill(\n",
    "        jd['winner_name'].tolist(),\n",
    "        jd['loser_name'].tolist(),\n",
    "        jd['match_id'].tolist(),\n",
    "        weights=weights\n",
    "    )\n",
    "    cur_eval = _eval_mod(cur_elo)\n",
    "    cur_eval.update(weight_dict)\n",
    "    out.append(cur_eval)"
   ]
  },
  {
   "cell_type": "code",
   "execution_count": 115,
   "metadata": {},
   "outputs": [
    {
     "data": {
      "text/html": [
       "<div>\n",
       "<style scoped>\n",
       "    .dataframe tbody tr th:only-of-type {\n",
       "        vertical-align: middle;\n",
       "    }\n",
       "\n",
       "    .dataframe tbody tr th {\n",
       "        vertical-align: top;\n",
       "    }\n",
       "\n",
       "    .dataframe thead th {\n",
       "        text-align: right;\n",
       "    }\n",
       "</style>\n",
       "<table border=\"1\" class=\"dataframe\">\n",
       "  <thead>\n",
       "    <tr style=\"text-align: right;\">\n",
       "      <th></th>\n",
       "      <th>Carpet</th>\n",
       "      <th>Clay</th>\n",
       "      <th>Grass</th>\n",
       "      <th>Hard</th>\n",
       "      <th>test_accuracy</th>\n",
       "      <th>val_accuracy</th>\n",
       "    </tr>\n",
       "  </thead>\n",
       "  <tbody>\n",
       "    <tr>\n",
       "      <th>69</th>\n",
       "      <td>0.830469</td>\n",
       "      <td>0.360156</td>\n",
       "      <td>1.0</td>\n",
       "      <td>0.710156</td>\n",
       "      <td>0.665267</td>\n",
       "      <td>0.6666</td>\n",
       "    </tr>\n",
       "    <tr>\n",
       "      <th>54</th>\n",
       "      <td>0.611719</td>\n",
       "      <td>0.316406</td>\n",
       "      <td>1.0</td>\n",
       "      <td>0.578906</td>\n",
       "      <td>0.663467</td>\n",
       "      <td>0.6664</td>\n",
       "    </tr>\n",
       "    <tr>\n",
       "      <th>21</th>\n",
       "      <td>0.584375</td>\n",
       "      <td>0.321875</td>\n",
       "      <td>1.0</td>\n",
       "      <td>0.671875</td>\n",
       "      <td>0.665467</td>\n",
       "      <td>0.6658</td>\n",
       "    </tr>\n",
       "    <tr>\n",
       "      <th>6</th>\n",
       "      <td>0.890625</td>\n",
       "      <td>0.365625</td>\n",
       "      <td>1.0</td>\n",
       "      <td>0.628125</td>\n",
       "      <td>0.664267</td>\n",
       "      <td>0.6654</td>\n",
       "    </tr>\n",
       "    <tr>\n",
       "      <th>86</th>\n",
       "      <td>0.950781</td>\n",
       "      <td>0.327344</td>\n",
       "      <td>1.0</td>\n",
       "      <td>0.392969</td>\n",
       "      <td>0.662667</td>\n",
       "      <td>0.6648</td>\n",
       "    </tr>\n",
       "    <tr>\n",
       "      <th>45</th>\n",
       "      <td>0.748437</td>\n",
       "      <td>0.442187</td>\n",
       "      <td>1.0</td>\n",
       "      <td>0.726562</td>\n",
       "      <td>0.665267</td>\n",
       "      <td>0.6648</td>\n",
       "    </tr>\n",
       "    <tr>\n",
       "      <th>34</th>\n",
       "      <td>0.595312</td>\n",
       "      <td>0.551562</td>\n",
       "      <td>1.0</td>\n",
       "      <td>0.617188</td>\n",
       "      <td>0.662667</td>\n",
       "      <td>0.6644</td>\n",
       "    </tr>\n",
       "    <tr>\n",
       "      <th>66</th>\n",
       "      <td>0.655469</td>\n",
       "      <td>0.535156</td>\n",
       "      <td>1.0</td>\n",
       "      <td>0.535156</td>\n",
       "      <td>0.657668</td>\n",
       "      <td>0.6640</td>\n",
       "    </tr>\n",
       "    <tr>\n",
       "      <th>37</th>\n",
       "      <td>0.420312</td>\n",
       "      <td>0.376562</td>\n",
       "      <td>1.0</td>\n",
       "      <td>0.792187</td>\n",
       "      <td>0.663667</td>\n",
       "      <td>0.6640</td>\n",
       "    </tr>\n",
       "    <tr>\n",
       "      <th>53</th>\n",
       "      <td>0.967187</td>\n",
       "      <td>0.310937</td>\n",
       "      <td>1.0</td>\n",
       "      <td>0.857812</td>\n",
       "      <td>0.664267</td>\n",
       "      <td>0.6638</td>\n",
       "    </tr>\n",
       "    <tr>\n",
       "      <th>57</th>\n",
       "      <td>0.436719</td>\n",
       "      <td>0.491406</td>\n",
       "      <td>1.0</td>\n",
       "      <td>0.753906</td>\n",
       "      <td>0.663867</td>\n",
       "      <td>0.6636</td>\n",
       "    </tr>\n",
       "    <tr>\n",
       "      <th>81</th>\n",
       "      <td>0.808594</td>\n",
       "      <td>0.600781</td>\n",
       "      <td>1.0</td>\n",
       "      <td>0.688281</td>\n",
       "      <td>0.662867</td>\n",
       "      <td>0.6634</td>\n",
       "    </tr>\n",
       "    <tr>\n",
       "      <th>25</th>\n",
       "      <td>0.901563</td>\n",
       "      <td>0.507812</td>\n",
       "      <td>1.0</td>\n",
       "      <td>0.660937</td>\n",
       "      <td>0.664267</td>\n",
       "      <td>0.6632</td>\n",
       "    </tr>\n",
       "    <tr>\n",
       "      <th>94</th>\n",
       "      <td>0.819531</td>\n",
       "      <td>0.458594</td>\n",
       "      <td>1.0</td>\n",
       "      <td>0.611719</td>\n",
       "      <td>0.665067</td>\n",
       "      <td>0.6632</td>\n",
       "    </tr>\n",
       "    <tr>\n",
       "      <th>1</th>\n",
       "      <td>0.343750</td>\n",
       "      <td>0.606250</td>\n",
       "      <td>1.0</td>\n",
       "      <td>0.693750</td>\n",
       "      <td>0.662068</td>\n",
       "      <td>0.6632</td>\n",
       "    </tr>\n",
       "    <tr>\n",
       "      <th>77</th>\n",
       "      <td>0.502344</td>\n",
       "      <td>0.469531</td>\n",
       "      <td>1.0</td>\n",
       "      <td>0.819531</td>\n",
       "      <td>0.662667</td>\n",
       "      <td>0.6630</td>\n",
       "    </tr>\n",
       "    <tr>\n",
       "      <th>84</th>\n",
       "      <td>0.721094</td>\n",
       "      <td>0.688281</td>\n",
       "      <td>1.0</td>\n",
       "      <td>0.600781</td>\n",
       "      <td>0.658268</td>\n",
       "      <td>0.6630</td>\n",
       "    </tr>\n",
       "    <tr>\n",
       "      <th>46</th>\n",
       "      <td>0.354687</td>\n",
       "      <td>0.398438</td>\n",
       "      <td>1.0</td>\n",
       "      <td>0.595312</td>\n",
       "      <td>0.663867</td>\n",
       "      <td>0.6628</td>\n",
       "    </tr>\n",
       "    <tr>\n",
       "      <th>2</th>\n",
       "      <td>0.956250</td>\n",
       "      <td>0.518750</td>\n",
       "      <td>1.0</td>\n",
       "      <td>0.431250</td>\n",
       "      <td>0.658268</td>\n",
       "      <td>0.6628</td>\n",
       "    </tr>\n",
       "    <tr>\n",
       "      <th>97</th>\n",
       "      <td>0.994531</td>\n",
       "      <td>0.633594</td>\n",
       "      <td>1.0</td>\n",
       "      <td>0.786719</td>\n",
       "      <td>0.662068</td>\n",
       "      <td>0.6628</td>\n",
       "    </tr>\n",
       "  </tbody>\n",
       "</table>\n",
       "</div>"
      ],
      "text/plain": [
       "      Carpet      Clay  Grass      Hard  test_accuracy  val_accuracy\n",
       "69  0.830469  0.360156    1.0  0.710156       0.665267        0.6666\n",
       "54  0.611719  0.316406    1.0  0.578906       0.663467        0.6664\n",
       "21  0.584375  0.321875    1.0  0.671875       0.665467        0.6658\n",
       "6   0.890625  0.365625    1.0  0.628125       0.664267        0.6654\n",
       "86  0.950781  0.327344    1.0  0.392969       0.662667        0.6648\n",
       "45  0.748437  0.442187    1.0  0.726562       0.665267        0.6648\n",
       "34  0.595312  0.551562    1.0  0.617188       0.662667        0.6644\n",
       "66  0.655469  0.535156    1.0  0.535156       0.657668        0.6640\n",
       "37  0.420312  0.376562    1.0  0.792187       0.663667        0.6640\n",
       "53  0.967187  0.310937    1.0  0.857812       0.664267        0.6638\n",
       "57  0.436719  0.491406    1.0  0.753906       0.663867        0.6636\n",
       "81  0.808594  0.600781    1.0  0.688281       0.662867        0.6634\n",
       "25  0.901563  0.507812    1.0  0.660937       0.664267        0.6632\n",
       "94  0.819531  0.458594    1.0  0.611719       0.665067        0.6632\n",
       "1   0.343750  0.606250    1.0  0.693750       0.662068        0.6632\n",
       "77  0.502344  0.469531    1.0  0.819531       0.662667        0.6630\n",
       "84  0.721094  0.688281    1.0  0.600781       0.658268        0.6630\n",
       "46  0.354687  0.398438    1.0  0.595312       0.663867        0.6628\n",
       "2   0.956250  0.518750    1.0  0.431250       0.658268        0.6628\n",
       "97  0.994531  0.633594    1.0  0.786719       0.662068        0.6628"
      ]
     },
     "execution_count": 115,
     "metadata": {},
     "output_type": "execute_result"
    }
   ],
   "source": [
    "tune_df = pd.DataFrame(out)\n",
    "tune_df.sort_values('val_accuracy', ascending=False).head(20)"
   ]
  },
  {
   "cell_type": "code",
   "execution_count": 116,
   "metadata": {},
   "outputs": [
    {
     "data": {
      "text/plain": [
       "<matplotlib.collections.PathCollection at 0x5a91c50f0>"
      ]
     },
     "execution_count": 116,
     "metadata": {},
     "output_type": "execute_result"
    },
    {
     "data": {
      "image/png": "[encoded data removed]",
      "text/plain": [
       "<Figure size 432x288 with 1 Axes>"
      ]
     },
     "metadata": {
      "needs_background": "light"
     },
     "output_type": "display_data"
    }
   ],
   "source": [
    "plt.scatter(tune_df['val_accuracy'], tune_df['test_accuracy'])"
   ]
  },
  {
   "cell_type": "code",
   "execution_count": 117,
   "metadata": {},
   "outputs": [
    {
     "data": {
      "text/plain": [
       "0.7093870733527099"
      ]
     },
     "execution_count": 117,
     "metadata": {},
     "output_type": "execute_result"
    }
   ],
   "source": [
    "from scipy.stats import spearmanr\n",
    "\n",
    "spearmanr(tune_df['val_accuracy'], tune_df['test_accuracy']).correlation"
   ]
  },
  {
   "cell_type": "markdown",
   "metadata": {},
   "source": [
    "Val performance and test performance are generally correlated...this is good!  Our results generalize!  We can get an extra half point of accuracy by just weighting the surfaces appropriately...We can take our optimal weights from above..."
   ]
  }
 ],
 "metadata": {
  "kernelspec": {
   "display_name": "Python 3",
   "language": "python",
   "name": "python3"
  },
  "language_info": {
   "codemirror_mode": {
    "name": "ipython",
    "version": 3
   },
   "file_extension": ".py",
   "mimetype": "text/x-python",
   "name": "python",
   "nbconvert_exporter": "python",
   "pygments_lexer": "ipython3",
   "version": "3.7.3"
  }
 },
 "nbformat": 4,
 "nbformat_minor": 2
}
