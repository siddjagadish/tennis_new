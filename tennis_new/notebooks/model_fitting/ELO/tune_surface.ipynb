{
 "cells": [
  {
   "cell_type": "code",
   "execution_count": 1,
   "metadata": {},
   "outputs": [],
   "source": [
    "# hyperparams\n",
    "SURFACE = 'Hard'"
   ]
  },
  {
   "cell_type": "code",
   "execution_count": 2,
   "metadata": {
    "scrolled": true
   },
   "outputs": [],
   "source": [
    "from tennis_new.fetch.get_joined import read_joined\n",
    "\n",
    "jd = read_joined() \n",
    "assert jd['tourney_surface'].notnull().all()"
   ]
  },
  {
   "cell_type": "code",
   "execution_count": 3,
   "metadata": {},
   "outputs": [
    {
     "name": "stderr",
     "output_type": "stream",
     "text": [
      "/Users/siddhantjagadish/Documents/DataProjects/tennis_new/venv/lib/python3.7/site-packages/pandas/plotting/_converter.py:129: FutureWarning: Using an implicitly registered datetime converter for a matplotlib plotting method. The converter was registered by pandas on import. Future versions of pandas will require you to explicitly register matplotlib converters.\n",
      "\n",
      "To register the converters:\n",
      "\t>>> from pandas.plotting import register_matplotlib_converters\n",
      "\t>>> register_matplotlib_converters()\n",
      "  warnings.warn(msg, FutureWarning)\n"
     ]
    },
    {
     "data": {
      "text/plain": [
       "[<matplotlib.lines.Line2D at 0x117867d68>]"
      ]
     },
     "execution_count": 3,
     "metadata": {},
     "output_type": "execute_result"
    },
    {
     "data": {
      "image/png": "[encoded data removed]",
      "text/plain": [
       "<Figure size 432x288 with 1 Axes>"
      ]
     },
     "metadata": {
      "needs_background": "light"
     },
     "output_type": "display_data"
    }
   ],
   "source": [
    "# How much grass data do we have over time?\n",
    "%matplotlib inline\n",
    "import pandas as pd\n",
    "from matplotlib import pyplot as plt\n",
    "\n",
    "plt.plot(\n",
    "    pd.to_datetime(jd['tourney_dates']),\n",
    "    (jd['tourney_surface'] == SURFACE).sum() - (jd['tourney_surface'] == SURFACE).cumsum()\n",
    ")"
   ]
  },
  {
   "cell_type": "code",
   "execution_count": 5,
   "metadata": {},
   "outputs": [],
   "source": [
    "# 5000 for Grass, 10000 for the others...\n",
    "from tennis_new.model.base import get_val_test_for_surface\n",
    "\n",
    "TEST_NS = {\n",
    "    'Hard': (10000, True),\n",
    "    'Clay': (10000, True),\n",
    "    'Grass': (5000, False)\n",
    "}\n",
    "test_n, atp_only = TEST_NS[SURFACE]\n",
    "\n",
    "val_idx, test_idx = get_val_test_for_surface(jd, n=test_n, surface=SURFACE, atp_only=atp_only)"
   ]
  },
  {
   "cell_type": "code",
   "execution_count": 6,
   "metadata": {},
   "outputs": [
    {
     "data": {
      "text/plain": [
       "(10001, 10002)"
      ]
     },
     "execution_count": 6,
     "metadata": {},
     "output_type": "execute_result"
    }
   ],
   "source": [
    "len(val_idx), len(test_idx)"
   ]
  },
  {
   "cell_type": "code",
   "execution_count": 7,
   "metadata": {},
   "outputs": [
    {
     "data": {
      "text/plain": [
       "274664    2010.11.21\n",
       "324182    2015.01.11\n",
       "Name: tourney_dates, dtype: object"
      ]
     },
     "execution_count": 7,
     "metadata": {},
     "output_type": "execute_result"
    }
   ],
   "source": [
    "jd['tourney_dates'].iloc[[val_idx.min(), test_idx.min()]]"
   ]
  },
  {
   "cell_type": "markdown",
   "metadata": {},
   "source": [
    "My validation set begins in June 2003 and my test begins in June 2012"
   ]
  },
  {
   "cell_type": "code",
   "execution_count": 8,
   "metadata": {},
   "outputs": [],
   "source": [
    "# Universal ELO Model\n",
    "from tennis_new.ml.elo import ELOModel\n",
    "\n",
    "elo = ELOModel(winner_mod=True)\n",
    "elo.fit_and_backfill(\n",
    "    jd['winner_name'].tolist(),\n",
    "    jd['loser_name'].tolist(),\n",
    "    jd['match_id'].tolist()\n",
    ")"
   ]
  },
  {
   "cell_type": "code",
   "execution_count": 9,
   "metadata": {},
   "outputs": [],
   "source": [
    "def _eval_mod(mod):\n",
    "    history_df = pd.DataFrame(mod.history)\n",
    "    val_accuracy = (history_df.iloc[val_idx]['elo_match_prediction'] > 0.5).mean()\n",
    "    test_accuracy = (history_df.iloc[test_idx]['elo_match_prediction'] > 0.5).mean()\n",
    "    return {\n",
    "        'val_accuracy': val_accuracy,\n",
    "        'test_accuracy': test_accuracy\n",
    "    }"
   ]
  },
  {
   "cell_type": "code",
   "execution_count": 10,
   "metadata": {},
   "outputs": [
    {
     "data": {
      "text/plain": [
       "{'val_accuracy': 0.6939306069393061, 'test_accuracy': 0.6783643271345731}"
      ]
     },
     "execution_count": 10,
     "metadata": {},
     "output_type": "execute_result"
    }
   ],
   "source": [
    "_eval_mod(elo)"
   ]
  },
  {
   "cell_type": "code",
   "execution_count": 11,
   "metadata": {},
   "outputs": [
    {
     "data": {
      "text/plain": [
       "{'val_accuracy': 0.6982301769823017, 'test_accuracy': 0.6813637272545491}"
      ]
     },
     "execution_count": 11,
     "metadata": {},
     "output_type": "execute_result"
    }
   ],
   "source": [
    "# Try the gra\n",
    "from tennis_new.model.config.elo.grass import GrassCourtELO\n",
    "from tennis_new.model.config.elo.hardcourt import HardCourtELO\n",
    "from tennis_new.model.config.elo.clay import ClayCourtELO \n",
    "\n",
    "repo_elo = {\n",
    "    'Hard': HardCourtELO,\n",
    "    'Grass': GrassCourtELO,\n",
    "    'Clay': ClayCourtELO\n",
    "}[SURFACE]\n",
    "\n",
    "repo_mod_wrapper = repo_elo()\n",
    "repo_mod_wrapper.fit(jd)\n",
    "_eval_mod(repo_mod_wrapper.predictor)"
   ]
  },
  {
   "cell_type": "markdown",
   "metadata": {},
   "source": [
    "Without any surface weighting, we achieve 66% accuracy on both the val set and the test set.  Now let's try surface weighting... "
   ]
  },
  {
   "cell_type": "code",
   "execution_count": 12,
   "metadata": {},
   "outputs": [
    {
     "data": {
      "text/plain": [
       "<matplotlib.collections.PathCollection at 0x118ef9eb8>"
      ]
     },
     "execution_count": 12,
     "metadata": {},
     "output_type": "execute_result"
    },
    {
     "data": {
      "image/png": "[encoded data removed]",
      "text/plain": [
       "<Figure size 432x288 with 1 Axes>"
      ]
     },
     "metadata": {
      "needs_background": "light"
     },
     "output_type": "display_data"
    }
   ],
   "source": [
    "# Sobol functions... \n",
    "# TODO: These should be in the repo\n",
    "from tennis_new.ml.sobol import generate_sobol_seq, get_range_values \n",
    "\n",
    "\n",
    "N_MODELS = 100\n",
    "SEED = 10\n",
    "MIN_WEIGHT = 0.3\n",
    "MAX_WEIGHT = 1.\n",
    "\n",
    "sobol_grid = generate_sobol_seq(3, N_MODELS, SEED)\n",
    "w1 = get_range_values(MIN_WEIGHT, MAX_WEIGHT, sobol_grid[:, 0])\n",
    "w2 = get_range_values(MIN_WEIGHT, MAX_WEIGHT, sobol_grid[:, 1])\n",
    "w3 = get_range_values(MIN_WEIGHT, MAX_WEIGHT, sobol_grid[:, 2])\n",
    "\n",
    "plt.scatter(w1, w2)"
   ]
  },
  {
   "cell_type": "code",
   "execution_count": 13,
   "metadata": {},
   "outputs": [
    {
     "name": "stderr",
     "output_type": "stream",
     "text": [
      "100it [06:20,  3.63s/it]\n"
     ]
    }
   ],
   "source": [
    "# Tune over surface weights\n",
    "from tennis_new.model.base import SurfaceWeighter\n",
    "from tqdm import tqdm\n",
    "\n",
    "out = []\n",
    "weight_dict = {\n",
    "    'Clay': 1.,\n",
    "    'Hard': 1.,\n",
    "    'Carpet': 1.,\n",
    "    'Grass': 1.\n",
    "}\n",
    "\n",
    "surface_to_replace = [x for x in weight_dict.keys() if x!= SURFACE] \n",
    "for cur_weights in tqdm(zip(w1, w2, w3)):\n",
    "    weight_dict.update(dict(zip(surface_to_replace, cur_weights)))\n",
    "    weighter = SurfaceWeighter(weight_dict)\n",
    "    weights = weighter.weight(jd) \n",
    "    cur_elo = ELOModel(winner_mod=True)\n",
    "    cur_elo.fit_and_backfill(\n",
    "        jd['winner_name'].tolist(),\n",
    "        jd['loser_name'].tolist(),\n",
    "        jd['match_id'].tolist(),\n",
    "        weights=weights\n",
    "    )\n",
    "    cur_eval = _eval_mod(cur_elo)\n",
    "    cur_eval.update(weight_dict)\n",
    "    out.append(cur_eval)"
   ]
  },
  {
   "cell_type": "code",
   "execution_count": 14,
   "metadata": {},
   "outputs": [
    {
     "data": {
      "text/plain": [
       "{'Clay': 0.39953124999999995,\n",
       " 'Carpet': 0.6620312499999998,\n",
       " 'Hard': 1.0,\n",
       " 'Grass': 0.6926562499999999}"
      ]
     },
     "execution_count": 14,
     "metadata": {},
     "output_type": "execute_result"
    }
   ],
   "source": [
    "TOP_N = 10  # How many top weights to average?\n",
    "\n",
    "tune_df = pd.DataFrame(out)\n",
    "tune_df.sort_values('val_accuracy', ascending=False).head(TOP_N)\n",
    "# Take average of top 10 for tuned weights\n",
    "best_weights = dict(tune_df.sort_values('val_accuracy', ascending=False)[[\n",
    "    'Clay', 'Carpet', 'Hard', 'Grass'\n",
    "]].head(TOP_N).mean(axis=0))\n",
    "best_weights"
   ]
  },
  {
   "cell_type": "code",
   "execution_count": 15,
   "metadata": {},
   "outputs": [
    {
     "data": {
      "text/html": [
       "<div>\n",
       "<style scoped>\n",
       "    .dataframe tbody tr th:only-of-type {\n",
       "        vertical-align: middle;\n",
       "    }\n",
       "\n",
       "    .dataframe tbody tr th {\n",
       "        vertical-align: top;\n",
       "    }\n",
       "\n",
       "    .dataframe thead th {\n",
       "        text-align: right;\n",
       "    }\n",
       "</style>\n",
       "<table border=\"1\" class=\"dataframe\">\n",
       "  <thead>\n",
       "    <tr style=\"text-align: right;\">\n",
       "      <th></th>\n",
       "      <th>Carpet</th>\n",
       "      <th>Clay</th>\n",
       "      <th>Grass</th>\n",
       "      <th>Hard</th>\n",
       "      <th>test_accuracy</th>\n",
       "      <th>val_accuracy</th>\n",
       "    </tr>\n",
       "  </thead>\n",
       "  <tbody>\n",
       "    <tr>\n",
       "      <th>77</th>\n",
       "      <td>0.819531</td>\n",
       "      <td>0.469531</td>\n",
       "      <td>0.502344</td>\n",
       "      <td>1.0</td>\n",
       "      <td>0.680564</td>\n",
       "      <td>0.69983</td>\n",
       "    </tr>\n",
       "    <tr>\n",
       "      <th>53</th>\n",
       "      <td>0.857812</td>\n",
       "      <td>0.310937</td>\n",
       "      <td>0.967187</td>\n",
       "      <td>1.0</td>\n",
       "      <td>0.680464</td>\n",
       "      <td>0.69983</td>\n",
       "    </tr>\n",
       "    <tr>\n",
       "      <th>57</th>\n",
       "      <td>0.753906</td>\n",
       "      <td>0.491406</td>\n",
       "      <td>0.436719</td>\n",
       "      <td>1.0</td>\n",
       "      <td>0.680164</td>\n",
       "      <td>0.69973</td>\n",
       "    </tr>\n",
       "    <tr>\n",
       "      <th>18</th>\n",
       "      <td>0.496875</td>\n",
       "      <td>0.496875</td>\n",
       "      <td>0.409375</td>\n",
       "      <td>1.0</td>\n",
       "      <td>0.679564</td>\n",
       "      <td>0.69953</td>\n",
       "    </tr>\n",
       "    <tr>\n",
       "      <th>5</th>\n",
       "      <td>0.956250</td>\n",
       "      <td>0.343750</td>\n",
       "      <td>0.781250</td>\n",
       "      <td>1.0</td>\n",
       "      <td>0.680264</td>\n",
       "      <td>0.69943</td>\n",
       "    </tr>\n",
       "    <tr>\n",
       "      <th>6</th>\n",
       "      <td>0.628125</td>\n",
       "      <td>0.365625</td>\n",
       "      <td>0.890625</td>\n",
       "      <td>1.0</td>\n",
       "      <td>0.680664</td>\n",
       "      <td>0.69923</td>\n",
       "    </tr>\n",
       "    <tr>\n",
       "      <th>69</th>\n",
       "      <td>0.710156</td>\n",
       "      <td>0.360156</td>\n",
       "      <td>0.830469</td>\n",
       "      <td>1.0</td>\n",
       "      <td>0.679764</td>\n",
       "      <td>0.69893</td>\n",
       "    </tr>\n",
       "    <tr>\n",
       "      <th>54</th>\n",
       "      <td>0.578906</td>\n",
       "      <td>0.316406</td>\n",
       "      <td>0.611719</td>\n",
       "      <td>1.0</td>\n",
       "      <td>0.681264</td>\n",
       "      <td>0.69893</td>\n",
       "    </tr>\n",
       "    <tr>\n",
       "      <th>86</th>\n",
       "      <td>0.392969</td>\n",
       "      <td>0.327344</td>\n",
       "      <td>0.950781</td>\n",
       "      <td>1.0</td>\n",
       "      <td>0.679864</td>\n",
       "      <td>0.69883</td>\n",
       "    </tr>\n",
       "    <tr>\n",
       "      <th>82</th>\n",
       "      <td>0.425781</td>\n",
       "      <td>0.513281</td>\n",
       "      <td>0.546094</td>\n",
       "      <td>1.0</td>\n",
       "      <td>0.680064</td>\n",
       "      <td>0.69873</td>\n",
       "    </tr>\n",
       "  </tbody>\n",
       "</table>\n",
       "</div>"
      ],
      "text/plain": [
       "      Carpet      Clay     Grass  Hard  test_accuracy  val_accuracy\n",
       "77  0.819531  0.469531  0.502344   1.0       0.680564       0.69983\n",
       "53  0.857812  0.310937  0.967187   1.0       0.680464       0.69983\n",
       "57  0.753906  0.491406  0.436719   1.0       0.680164       0.69973\n",
       "18  0.496875  0.496875  0.409375   1.0       0.679564       0.69953\n",
       "5   0.956250  0.343750  0.781250   1.0       0.680264       0.69943\n",
       "6   0.628125  0.365625  0.890625   1.0       0.680664       0.69923\n",
       "69  0.710156  0.360156  0.830469   1.0       0.679764       0.69893\n",
       "54  0.578906  0.316406  0.611719   1.0       0.681264       0.69893\n",
       "86  0.392969  0.327344  0.950781   1.0       0.679864       0.69883\n",
       "82  0.425781  0.513281  0.546094   1.0       0.680064       0.69873"
      ]
     },
     "execution_count": 15,
     "metadata": {},
     "output_type": "execute_result"
    }
   ],
   "source": [
    "tune_df.sort_values('val_accuracy', ascending=False).head(TOP_N)"
   ]
  },
  {
   "cell_type": "code",
   "execution_count": 16,
   "metadata": {},
   "outputs": [
    {
     "data": {
      "text/plain": [
       "<matplotlib.collections.PathCollection at 0x4aebf5908>"
      ]
     },
     "execution_count": 16,
     "metadata": {},
     "output_type": "execute_result"
    },
    {
     "data": {
      "image/png": "[encoded data removed]",
      "text/plain": [
       "<Figure size 432x288 with 1 Axes>"
      ]
     },
     "metadata": {
      "needs_background": "light"
     },
     "output_type": "display_data"
    }
   ],
   "source": [
    "plt.scatter(tune_df['val_accuracy'], tune_df['test_accuracy'])"
   ]
  },
  {
   "cell_type": "code",
   "execution_count": 17,
   "metadata": {},
   "outputs": [
    {
     "data": {
      "text/plain": [
       "0.5796794590110046"
      ]
     },
     "execution_count": 17,
     "metadata": {},
     "output_type": "execute_result"
    }
   ],
   "source": [
    "from scipy.stats import spearmanr\n",
    "\n",
    "spearmanr(tune_df['val_accuracy'], tune_df['test_accuracy']).correlation"
   ]
  },
  {
   "cell_type": "markdown",
   "metadata": {},
   "source": [
    "Val performance and test performance are generally correlated...this is good!  Our results generalize!  We can get an extra half point of accuracy by just weighting the surfaces appropriately...We can take our optimal weights from above..."
   ]
  },
  {
   "cell_type": "markdown",
   "metadata": {},
   "source": [
    "#### Let's Look at Best Model"
   ]
  },
  {
   "cell_type": "code",
   "execution_count": 18,
   "metadata": {},
   "outputs": [],
   "source": [
    "weighter = SurfaceWeighter(best_weights)\n",
    "_weights = weighter.weight(jd)\n",
    "best_elo = ELOModel(winner_mod=True)\n",
    "best_elo.fit_and_backfill(\n",
    "    jd['winner_name'].tolist(),\n",
    "    jd['loser_name'].tolist(),\n",
    "    jd['match_id'].tolist(),\n",
    "    weights=_weights\n",
    ")"
   ]
  },
  {
   "cell_type": "code",
   "execution_count": 19,
   "metadata": {},
   "outputs": [
    {
     "data": {
      "text/plain": [
       "{'val_accuracy': 0.6982301769823017, 'test_accuracy': 0.6813637272545491}"
      ]
     },
     "execution_count": 19,
     "metadata": {},
     "output_type": "execute_result"
    }
   ],
   "source": [
    "_eval_mod(best_elo)"
   ]
  },
  {
   "cell_type": "markdown",
   "metadata": {},
   "source": [
    "#### Hacky Check of Ser/Des of Models"
   ]
  },
  {
   "cell_type": "code",
   "execution_count": 20,
   "metadata": {},
   "outputs": [],
   "source": [
    "from tennis_new.model.base import SurfaceWeighter, Surface\n",
    "from tennis_new.model.config.elo.base import ELOBaseModel\n",
    "\n",
    "\n",
    "class SurfaceELO(ELOBaseModel):\n",
    "\n",
    "    @property\n",
    "    def weighter(self):\n",
    "        return SurfaceWeighter({\n",
    "            Surface.hard.value: best_weights['Hard'],\n",
    "            Surface.clay.value: best_weights['Clay'],\n",
    "            Surface.grass.value: best_weights['Grass'],\n",
    "            Surface.carpet.value: best_weights['Carpet'] \n",
    "        })\n",
    "\n",
    "surface_from_repo = SurfaceELO()\n",
    "surface_from_repo.fit(jd)"
   ]
  },
  {
   "cell_type": "code",
   "execution_count": 21,
   "metadata": {},
   "outputs": [
    {
     "data": {
      "text/plain": [
       "{'val_accuracy': 0.6982301769823017, 'test_accuracy': 0.6813637272545491}"
      ]
     },
     "execution_count": 21,
     "metadata": {},
     "output_type": "execute_result"
    }
   ],
   "source": [
    "# Should get same evaluation...\n",
    "_eval_mod(surface_from_repo.predictor)"
   ]
  },
  {
   "cell_type": "code",
   "execution_count": 22,
   "metadata": {},
   "outputs": [
    {
     "data": {
      "text/plain": [
       "True"
      ]
     },
     "execution_count": 22,
     "metadata": {},
     "output_type": "execute_result"
    }
   ],
   "source": [
    "# models are the same\n",
    "surface_from_repo.predictor.state_to_dict() == best_elo.state_to_dict()"
   ]
  },
  {
   "cell_type": "code",
   "execution_count": 23,
   "metadata": {},
   "outputs": [
    {
     "data": {
      "text/plain": [
       "True"
      ]
     },
     "execution_count": 23,
     "metadata": {},
     "output_type": "execute_result"
    }
   ],
   "source": [
    "# Great, reloading works!\n",
    "reloaded = SurfaceELO(**surface_from_repo.state_to_dict())\n",
    "reloaded.predictor.state_to_dict() == best_elo.state_to_dict()"
   ]
  },
  {
   "cell_type": "markdown",
   "metadata": {},
   "source": [
    "#### Inspect Model"
   ]
  },
  {
   "cell_type": "code",
   "execution_count": null,
   "metadata": {},
   "outputs": [],
   "source": [
    "# Get the last time each player played...\n",
    "winner_deduped = jd.drop_duplicates('winner_name', keep='last').copy()\n",
    "winner_deduped.rename(columns={'winner_name': 'player'}, inplace=True)\n",
    "\n",
    "loser_deduped = jd.drop_duplicates('loser_name', keep='last').copy()\n",
    "loser_deduped.rename(columns={'loser_name': 'player'}, inplace=True)\n",
    "\n",
    "last_time_df = pd.merge(\n",
    "    winner_deduped[['player', 'tourney_dates']],\n",
    "    loser_deduped[['player', 'tourney_dates']],\n",
    "    on='player',\n",
    "    how='outer',\n",
    "    suffixes=('_winner', '_loser')\n",
    ")\n",
    "last_time_df['tourney_dates_winner'] = pd.to_datetime(last_time_df['tourney_dates_winner'])\n",
    "last_time_df['tourney_dates_loser'] = pd.to_datetime(last_time_df['tourney_dates_loser'])\n",
    "last_time_df['max_date'] = last_time_df[['tourney_dates_winner', 'tourney_dates_loser']].max(axis=1)\n",
    "last_play_dict = dict(zip(last_time_df['player'], last_time_df['max_date']))"
   ]
  },
  {
   "cell_type": "code",
   "execution_count": null,
   "metadata": {},
   "outputs": [],
   "source": [
    "# Look at ELO Rankings\n",
    "cur_elo_ratings = pd.DataFrame(\n",
    "    best_elo.beta.items(),\n",
    "    columns=['player', 'ELO']\n",
    ")\n",
    "cur_elo_ratings['max_date'] = cur_elo_ratings['player'].map(lambda x: last_play_dict[x])\n",
    "ratings = cur_elo_ratings[cur_elo_ratings['max_date'] >= pd.to_datetime('2019.04.01')].sort_values('ELO', ascending=False).head(50)\n",
    "ratings.index = range(1, ratings.shape[0] + 1)\n",
    "ratings"
   ]
  },
  {
   "cell_type": "markdown",
   "metadata": {},
   "source": [
    "#### Player Investigations\n",
    "\n",
    "Some of these ratings don't quite make sense (they may be riding the high of their old selves...) Let's see what's going on with Andy Murray, for example"
   ]
  },
  {
   "cell_type": "code",
   "execution_count": null,
   "metadata": {},
   "outputs": [],
   "source": [
    "best_history_df = pd.DataFrame(best_elo.history)\n",
    "jd_with_history = pd.merge(jd, best_history_df, on='match_id')"
   ]
  },
  {
   "cell_type": "code",
   "execution_count": null,
   "metadata": {},
   "outputs": [],
   "source": [
    "def plot_player_over_time(history_df, pid):\n",
    "    rel = jd_with_history[\n",
    "        (jd_with_history['p1_id'] == pid) | (jd_with_history['p2_id'] == pid)\n",
    "    ]\n",
    "    elos = rel[[\n",
    "        'p1_id',\n",
    "        'p2_id',\n",
    "        'elo1',\n",
    "        'elo2'\n",
    "    ]].apply(\n",
    "        lambda x: x['elo1'] if x['p1_id'] == pid else x['elo2'],\n",
    "        axis=1\n",
    "    )\n",
    "    # plt.plot(range(len(elos)), elos)\n",
    "    plt.plot(pd.to_datetime(rel['tourney_dates']), elos)\n",
    "    plt.title(\"%s ELO for %s Over Time\" % (SURFACE, pid))\n",
    "    \n",
    "plot_player_over_time(jd_with_history, 'Rafael Nadal')\n",
    "plot_player_over_time(jd_with_history, 'Roger Federer')\n",
    "# plt.xlim([pd.to_datetime('2018.01.01'), pd.to_datetime('2019.08.01')])\n",
    "# plt.xticks(rotation=90)\n",
    "# plt.ylim([2400, 2600])"
   ]
  },
  {
   "cell_type": "code",
   "execution_count": null,
   "metadata": {},
   "outputs": [],
   "source": [
    "def examine_player(player, last_n=20, summarize_tourney=True):\n",
    "    rel = jd_with_history[\n",
    "        (jd_with_history['winner_name'] == player) |\n",
    "        (jd_with_history['loser_name'] == player)\n",
    "    ].copy()\n",
    "    if summarize_tourney:\n",
    "        rel.drop_duplicates('tourney_year_id', keep='last', inplace=True)\n",
    "    return rel.tail(last_n)[[\n",
    "        'tourney_dates',\n",
    "        'tourney_title',\n",
    "        'winner_name',\n",
    "        'loser_name',\n",
    "        'round',\n",
    "        'round_order',\n",
    "        'score',\n",
    "        'elo1',\n",
    "        'elo2',\n",
    "        'elo_match_prediction',\n",
    "        'tourney_surface'\n",
    "    ]].sort_values(\n",
    "        ['tourney_dates', 'round_order'], \n",
    "        ascending=[True, False]\n",
    "    )\n",
    "\n",
    "examine_player(\"Rafael Nadal\", last_n=50, summarize_tourney=False)"
   ]
  },
  {
   "cell_type": "markdown",
   "metadata": {},
   "source": [
    "Seems like Murray is well on his way down, but because we've built up such a history in the past, we're not able to adjust for his injury fast enough.  The Glicko model may be a better way of going about this?  Something is also mislabeled, because our data indicates that Andy Murray has played a match in the future (on Dec 31, 2019)"
   ]
  },
  {
   "cell_type": "code",
   "execution_count": null,
   "metadata": {},
   "outputs": [],
   "source": [
    "def _find_player(p):\n",
    "    _df = cur_elo_ratings[\n",
    "        (cur_elo_ratings['player'].map(lambda x: p in x)) &\n",
    "        (cur_elo_ratings['max_date'] > pd.to_datetime('2017.01.01'))\n",
    "    ].sort_values('max_date', ascending=False)\n",
    "    ret_player = _df['player'].iloc[0]\n",
    "    if _df.shape[0] > 1:\n",
    "        print(\"Found multiple players, returning %s...\" % ret_player)\n",
    "    return ret_player\n",
    "        \n",
    "def calculate_prob(p1, p2):\n",
    "    p1_idx = _find_player(p1)\n",
    "    p2_idx = _find_player(p2)\n",
    "    prob = best_elo.predict(p1_idx, p2_idx)\n",
    "    print(\n",
    "        \"{0} will defeat {1} with probability {2}, based on observing {3} matches for {0} and {4} matches for {1}\".format(\n",
    "            p1_idx,\n",
    "            p2_idx,\n",
    "            prob,\n",
    "            best_elo.match_counts[p1_idx],\n",
    "            best_elo.match_counts[p2_idx]\n",
    "        )\n",
    "    )\n",
    "    print(\"{0} has ELO {1}\".format(p1_idx, best_elo.beta[p1_idx]))\n",
    "    print(\"{0} has ELO {1}\".format(p2_idx, best_elo.beta[p2_idx]))\n",
    "\n",
    "calculate_prob('Opelka', 'Evans')"
   ]
  },
  {
   "cell_type": "markdown",
   "metadata": {},
   "source": [
    "This dude has played many more matches than this!  We will do much better if we can find them!  These matches are on the Challenger Tour, which is not represented in our current data"
   ]
  },
  {
   "cell_type": "markdown",
   "metadata": {},
   "source": [
    "#### Aside, date writing\n",
    "\n",
    "How do we read in dates appropriately with pandas csv reading?"
   ]
  },
  {
   "cell_type": "code",
   "execution_count": null,
   "metadata": {},
   "outputs": [],
   "source": [
    "from datetime import datetime\n",
    "\n",
    "dates = jd.apply(\n",
    "    lambda x: datetime(\n",
    "        month=int(x['tourney_month']),\n",
    "        year=int(x['tourney_year']),\n",
    "        day=int(x['tourney_day'])\n",
    "    ),\n",
    "    axis=1\n",
    ")"
   ]
  },
  {
   "cell_type": "code",
   "execution_count": null,
   "metadata": {},
   "outputs": [],
   "source": [
    "jd['date'] = pd.to_datetime(dates)"
   ]
  },
  {
   "cell_type": "code",
   "execution_count": null,
   "metadata": {},
   "outputs": [],
   "source": [
    "jd.to_csv('./date_test.csv', index=False)"
   ]
  },
  {
   "cell_type": "code",
   "execution_count": null,
   "metadata": {},
   "outputs": [],
   "source": [
    "q = pd.read_csv('./date_test.csv', parse_dates=['date'])"
   ]
  }
 ],
 "metadata": {
  "kernelspec": {
   "display_name": "Python 3",
   "language": "python",
   "name": "python3"
  },
  "language_info": {
   "codemirror_mode": {
    "name": "ipython",
    "version": 3
   },
   "file_extension": ".py",
   "mimetype": "text/x-python",
   "name": "python",
   "nbconvert_exporter": "python",
   "pygments_lexer": "ipython3",
   "version": "3.7.3"
  }
 },
 "nbformat": 4,
 "nbformat_minor": 2
}
