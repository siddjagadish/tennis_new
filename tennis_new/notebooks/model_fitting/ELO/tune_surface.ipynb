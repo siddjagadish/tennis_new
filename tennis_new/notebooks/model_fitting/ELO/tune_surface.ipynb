{
 "cells": [
  {
   "cell_type": "code",
   "execution_count": 1,
   "metadata": {},
   "outputs": [],
   "source": [
    "# Hyperparams\n",
    "SURFACE = 'Hard'"
   ]
  },
  {
   "cell_type": "code",
   "execution_count": 2,
   "metadata": {
    "scrolled": true
   },
   "outputs": [],
   "source": [
    "from tennis_new.fetch.get_joined import read_joined\n",
    "\n",
    "jd = read_joined() \n",
    "assert jd['tourney_surface'].notnull().all()"
   ]
  },
  {
   "cell_type": "code",
   "execution_count": 5,
   "metadata": {},
   "outputs": [
    {
     "data": {
      "text/html": [
       "<div>\n",
       "<style scoped>\n",
       "    .dataframe tbody tr th:only-of-type {\n",
       "        vertical-align: middle;\n",
       "    }\n",
       "\n",
       "    .dataframe tbody tr th {\n",
       "        vertical-align: top;\n",
       "    }\n",
       "\n",
       "    .dataframe thead th {\n",
       "        text-align: right;\n",
       "    }\n",
       "</style>\n",
       "<table border=\"1\" class=\"dataframe\">\n",
       "  <thead>\n",
       "    <tr style=\"text-align: right;\">\n",
       "      <th></th>\n",
       "      <th>winner_url</th>\n",
       "      <th>loser_url</th>\n",
       "    </tr>\n",
       "  </thead>\n",
       "  <tbody>\n",
       "    <tr>\n",
       "      <th>0</th>\n",
       "      <td>/en/players/l.-erskine/e994/overview</td>\n",
       "      <td>/en/players/j.-lambert/lh24/overview</td>\n",
       "    </tr>\n",
       "    <tr>\n",
       "      <th>1</th>\n",
       "      <td>/en/players/spencer-gore/gi91/overview</td>\n",
       "      <td>/en/players/m.-hankey/hg46/overview</td>\n",
       "    </tr>\n",
       "    <tr>\n",
       "      <th>2</th>\n",
       "      <td>/en/players/f.-langham/lh23/overview</td>\n",
       "      <td>/en/players/j.-baker/bt10/overview</td>\n",
       "    </tr>\n",
       "    <tr>\n",
       "      <th>3</th>\n",
       "      <td>/en/players/william-marshall/mu62/overview</td>\n",
       "      <td>/en/players/b.-akroyd/af58/overview</td>\n",
       "    </tr>\n",
       "    <tr>\n",
       "      <th>4</th>\n",
       "      <td>/en/players/j.-marshall/mu66/overview</td>\n",
       "      <td>/en/players/f.-oliver/o628/overview</td>\n",
       "    </tr>\n",
       "  </tbody>\n",
       "</table>\n",
       "</div>"
      ],
      "text/plain": [
       "                                   winner_url  \\\n",
       "0        /en/players/l.-erskine/e994/overview   \n",
       "1      /en/players/spencer-gore/gi91/overview   \n",
       "2        /en/players/f.-langham/lh23/overview   \n",
       "3  /en/players/william-marshall/mu62/overview   \n",
       "4       /en/players/j.-marshall/mu66/overview   \n",
       "\n",
       "                              loser_url  \n",
       "0  /en/players/j.-lambert/lh24/overview  \n",
       "1   /en/players/m.-hankey/hg46/overview  \n",
       "2    /en/players/j.-baker/bt10/overview  \n",
       "3   /en/players/b.-akroyd/af58/overview  \n",
       "4   /en/players/f.-oliver/o628/overview  "
      ]
     },
     "execution_count": 5,
     "metadata": {},
     "output_type": "execute_result"
    }
   ],
   "source": [
    "jd[['winner_url', 'loser_url']].head()"
   ]
  },
  {
   "cell_type": "code",
   "execution_count": 6,
   "metadata": {},
   "outputs": [
    {
     "data": {
      "text/plain": [
       "['loser_id',\n",
       " 'loser_name',\n",
       " 'loser_url',\n",
       " 'match_id',\n",
       " 'round',\n",
       " 'round_order',\n",
       " 'score',\n",
       " 'tour_type',\n",
       " 'tourney_dates',\n",
       " 'tourney_doubles_draw_size',\n",
       " 'tourney_doubles_winner_first_link',\n",
       " 'tourney_doubles_winner_first_name',\n",
       " 'tourney_doubles_winner_second_link',\n",
       " 'tourney_doubles_winner_second_name',\n",
       " 'tourney_in_out',\n",
       " 'tourney_location',\n",
       " 'tourney_singles_draw_size',\n",
       " 'tourney_singles_winner_link',\n",
       " 'tourney_singles_winner_name',\n",
       " 'tourney_surface',\n",
       " 'tourney_title',\n",
       " 'tourney_url_suffix',\n",
       " 'tourney_year_id',\n",
       " 'winner_id',\n",
       " 'winner_name',\n",
       " 'winner_url']"
      ]
     },
     "execution_count": 6,
     "metadata": {},
     "output_type": "execute_result"
    }
   ],
   "source": [
    "sorted(jd.columns)"
   ]
  },
  {
   "cell_type": "code",
   "execution_count": 3,
   "metadata": {},
   "outputs": [
    {
     "name": "stderr",
     "output_type": "stream",
     "text": [
      "/Users/siddhantjagadish/Documents/DataProjects/tennis_new/venv/lib/python3.7/site-packages/pandas/plotting/_converter.py:129: FutureWarning: Using an implicitly registered datetime converter for a matplotlib plotting method. The converter was registered by pandas on import. Future versions of pandas will require you to explicitly register matplotlib converters.\n",
      "\n",
      "To register the converters:\n",
      "\t>>> from pandas.plotting import register_matplotlib_converters\n",
      "\t>>> register_matplotlib_converters()\n",
      "  warnings.warn(msg, FutureWarning)\n"
     ]
    },
    {
     "data": {
      "text/plain": [
       "[<matplotlib.lines.Line2D at 0x117a7f780>]"
      ]
     },
     "execution_count": 3,
     "metadata": {},
     "output_type": "execute_result"
    },
    {
     "data": {
      "image/png": "[encoded data removed]",
      "text/plain": [
       "<Figure size 432x288 with 1 Axes>"
      ]
     },
     "metadata": {
      "needs_background": "light"
     },
     "output_type": "display_data"
    }
   ],
   "source": [
    "# How much grass data do we have over time?\n",
    "%matplotlib inline\n",
    "import pandas as pd\n",
    "from matplotlib import pyplot as plt\n",
    "\n",
    "plt.plot(\n",
    "    pd.to_datetime(jd['tourney_dates']),\n",
    "    (jd['tourney_surface'] == SURFACE).sum() - (jd['tourney_surface'] == SURFACE).cumsum()\n",
    ")"
   ]
  },
  {
   "cell_type": "code",
   "execution_count": 4,
   "metadata": {},
   "outputs": [],
   "source": [
    "# 5000 for Grass, 10000 for the others...\n",
    "from tennis_new.model.base import get_val_test_for_surface\n",
    "\n",
    "TEST_NS = {\n",
    "    'Hard': (10000, True),\n",
    "    'Clay': (10000, True),\n",
    "    'Grass': (5000, False)\n",
    "}\n",
    "test_n, atp_only = TEST_NS[SURFACE]\n",
    "\n",
    "val_idx, test_idx = get_val_test_for_surface(jd, n=test_n, surface=SURFACE, atp_only=atp_only)"
   ]
  },
  {
   "cell_type": "code",
   "execution_count": 5,
   "metadata": {},
   "outputs": [
    {
     "data": {
      "text/plain": [
       "(10002, 10001)"
      ]
     },
     "execution_count": 5,
     "metadata": {},
     "output_type": "execute_result"
    }
   ],
   "source": [
    "len(val_idx), len(test_idx)"
   ]
  },
  {
   "cell_type": "code",
   "execution_count": 6,
   "metadata": {},
   "outputs": [
    {
     "data": {
      "text/plain": [
       "275165    2011.01.17\n",
       "324836    2015.02.02\n",
       "Name: tourney_dates, dtype: object"
      ]
     },
     "execution_count": 6,
     "metadata": {},
     "output_type": "execute_result"
    }
   ],
   "source": [
    "jd['tourney_dates'].iloc[[val_idx.min(), test_idx.min()]]"
   ]
  },
  {
   "cell_type": "markdown",
   "metadata": {},
   "source": [
    "My validation set begins in June 2003 and my test begins in June 2012"
   ]
  },
  {
   "cell_type": "code",
   "execution_count": 8,
   "metadata": {},
   "outputs": [],
   "source": [
    "# Universal ELO Model\n",
    "from tennis_new.ml.elo import ELOModel\n",
    "\n",
    "elo = ELOModel(winner_mod=True)\n",
    "elo.fit_and_backfill(\n",
    "    jd['winner_name'].tolist(),\n",
    "    jd['loser_name'].tolist(),\n",
    "    jd['match_id'].tolist()\n",
    ")"
   ]
  },
  {
   "cell_type": "code",
   "execution_count": 9,
   "metadata": {},
   "outputs": [],
   "source": [
    "def _eval_mod(mod):\n",
    "    history_df = pd.DataFrame(mod.history)\n",
    "    val_accuracy = (history_df.iloc[val_idx]['elo_match_prediction'] > 0.5).mean()\n",
    "    test_accuracy = (history_df.iloc[test_idx]['elo_match_prediction'] > 0.5).mean()\n",
    "    return {\n",
    "        'val_accuracy': val_accuracy,\n",
    "        'test_accuracy': test_accuracy\n",
    "    }"
   ]
  },
  {
   "cell_type": "code",
   "execution_count": 10,
   "metadata": {},
   "outputs": [
    {
     "data": {
      "text/plain": [
       "{'val_accuracy': 0.6932613477304539, 'test_accuracy': 0.6759324067593241}"
      ]
     },
     "execution_count": 10,
     "metadata": {},
     "output_type": "execute_result"
    }
   ],
   "source": [
    "_eval_mod(elo)"
   ]
  },
  {
   "cell_type": "code",
   "execution_count": 11,
   "metadata": {},
   "outputs": [
    {
     "data": {
      "text/plain": [
       "{'val_accuracy': 0.6972605478904219, 'test_accuracy': 0.6787321267873213}"
      ]
     },
     "execution_count": 11,
     "metadata": {},
     "output_type": "execute_result"
    }
   ],
   "source": [
    "from tennis_new.model.config.elo.grass import GrassCourtELO\n",
    "from tennis_new.model.config.elo.hardcourt import HardCourtELO\n",
    "from tennis_new.model.config.elo.clay import ClayCourtELO \n",
    "\n",
    "repo_elo = {\n",
    "    'Hard': HardCourtELO,\n",
    "    'Grass': GrassCourtELO,\n",
    "    'Clay': ClayCourtELO\n",
    "}[SURFACE]\n",
    "\n",
    "repo_mod_wrapper = repo_elo()\n",
    "repo_mod_wrapper.fit(jd)\n",
    "_eval_mod(repo_mod_wrapper.predictor)"
   ]
  },
  {
   "cell_type": "markdown",
   "metadata": {},
   "source": [
    "Without any surface weighting, we achieve 66% accuracy on both the val set and the test set.  Now let's try surface weighting... "
   ]
  },
  {
   "cell_type": "code",
   "execution_count": 12,
   "metadata": {},
   "outputs": [
    {
     "data": {
      "text/plain": [
       "<matplotlib.collections.PathCollection at 0x11aad6208>"
      ]
     },
     "execution_count": 12,
     "metadata": {},
     "output_type": "execute_result"
    },
    {
     "data": {
      "image/png": "[encoded data removed]",
      "text/plain": [
       "<Figure size 432x288 with 1 Axes>"
      ]
     },
     "metadata": {
      "needs_background": "light"
     },
     "output_type": "display_data"
    }
   ],
   "source": [
    "# Sobol functions... \n",
    "# TODO: These should be in the repo\n",
    "from tennis_new.ml.sobol import generate_sobol_seq, get_range_values \n",
    "\n",
    "\n",
    "N_MODELS = 100\n",
    "SEED = 10\n",
    "MIN_WEIGHT = 0.3\n",
    "MAX_WEIGHT = 1.\n",
    "\n",
    "sobol_grid = generate_sobol_seq(3, N_MODELS, SEED)\n",
    "w1 = get_range_values(MIN_WEIGHT, MAX_WEIGHT, sobol_grid[:, 0])\n",
    "w2 = get_range_values(MIN_WEIGHT, MAX_WEIGHT, sobol_grid[:, 1])\n",
    "w3 = get_range_values(MIN_WEIGHT, MAX_WEIGHT, sobol_grid[:, 2])\n",
    "\n",
    "plt.scatter(w1, w2)"
   ]
  },
  {
   "cell_type": "code",
   "execution_count": null,
   "metadata": {},
   "outputs": [
    {
     "name": "stderr",
     "output_type": "stream",
     "text": [
      "82it [04:47,  3.47s/it]"
     ]
    }
   ],
   "source": [
    "# Tune over surface weights\n",
    "from tennis_new.model.base import SurfaceWeighter\n",
    "from tqdm import tqdm\n",
    "\n",
    "out = []\n",
    "weight_dict = {\n",
    "    'Clay': 1.,\n",
    "    'Hard': 1.,\n",
    "    'Carpet': 1.,\n",
    "    'Grass': 1.\n",
    "}\n",
    "\n",
    "surface_to_replace = [x for x in weight_dict.keys() if x!= SURFACE] \n",
    "for cur_weights in tqdm(zip(w1, w2, w3)):\n",
    "    weight_dict.update(dict(zip(surface_to_replace, cur_weights)))\n",
    "    weighter = SurfaceWeighter(weight_dict)\n",
    "    weights = weighter.weight(jd) \n",
    "    cur_elo = ELOModel(winner_mod=True)\n",
    "    cur_elo.fit_and_backfill(\n",
    "        jd['winner_name'].tolist(),\n",
    "        jd['loser_name'].tolist(),\n",
    "        jd['match_id'].tolist(),\n",
    "        weights=weights\n",
    "    )\n",
    "    cur_eval = _eval_mod(cur_elo)\n",
    "    cur_eval.update(weight_dict)\n",
    "    out.append(cur_eval)"
   ]
  },
  {
   "cell_type": "code",
   "execution_count": null,
   "metadata": {},
   "outputs": [],
   "source": [
    "TOP_N = 10  # How many top weights to average?\n",
    "\n",
    "tune_df = pd.DataFrame(out)\n",
    "tune_df.sort_values('val_accuracy', ascending=False).head(TOP_N)\n",
    "# Take average of top 10 for tuned weights\n",
    "best_weights = dict(tune_df.sort_values('val_accuracy', ascending=False)[[\n",
    "    'Clay', 'Carpet', 'Hard', 'Grass'\n",
    "]].head(TOP_N).mean(axis=0))\n",
    "best_weights"
   ]
  },
  {
   "cell_type": "code",
   "execution_count": null,
   "metadata": {},
   "outputs": [],
   "source": [
    "tune_df.sort_values('val_accuracy', ascending=False).head(TOP_N)"
   ]
  },
  {
   "cell_type": "code",
   "execution_count": null,
   "metadata": {},
   "outputs": [],
   "source": [
    "plt.scatter(tune_df['val_accuracy'], tune_df['test_accuracy'])"
   ]
  },
  {
   "cell_type": "code",
   "execution_count": null,
   "metadata": {},
   "outputs": [],
   "source": [
    "from scipy.stats import spearmanr\n",
    "\n",
    "spearmanr(tune_df['val_accuracy'], tune_df['test_accuracy']).correlation"
   ]
  },
  {
   "cell_type": "markdown",
   "metadata": {},
   "source": [
    "Val performance and test performance are generally correlated...this is good!  Our results generalize!  We can get an extra half point of accuracy by just weighting the surfaces appropriately...We can take our optimal weights from above..."
   ]
  },
  {
   "cell_type": "markdown",
   "metadata": {},
   "source": [
    "#### Let's Look at Best Model"
   ]
  },
  {
   "cell_type": "code",
   "execution_count": null,
   "metadata": {},
   "outputs": [],
   "source": [
    "weighter = SurfaceWeighter(best_weights)\n",
    "_weights = weighter.weight(jd)\n",
    "best_elo = ELOModel(winner_mod=True)\n",
    "best_elo.fit_and_backfill(\n",
    "    jd['winner_name'].tolist(),\n",
    "    jd['loser_name'].tolist(),\n",
    "    jd['match_id'].tolist(),\n",
    "    weights=_weights\n",
    ")"
   ]
  },
  {
   "cell_type": "code",
   "execution_count": null,
   "metadata": {},
   "outputs": [],
   "source": [
    "_eval_mod(best_elo)"
   ]
  },
  {
   "cell_type": "markdown",
   "metadata": {},
   "source": [
    "#### Hacky Check of Ser/Des of Models"
   ]
  },
  {
   "cell_type": "code",
   "execution_count": null,
   "metadata": {},
   "outputs": [],
   "source": [
    "from tennis_new.model.base import SurfaceWeighter, Surface\n",
    "from tennis_new.model.config.elo.base import ELOBaseModel\n",
    "\n",
    "\n",
    "class SurfaceELO(ELOBaseModel):\n",
    "\n",
    "    @property\n",
    "    def weighter(self):\n",
    "        return SurfaceWeighter({\n",
    "            Surface.hard.value: best_weights['Hard'],\n",
    "            Surface.clay.value: best_weights['Clay'],\n",
    "            Surface.grass.value: best_weights['Grass'],\n",
    "            Surface.carpet.value: best_weights['Carpet'] \n",
    "        })\n",
    "\n",
    "surface_from_repo = SurfaceELO()\n",
    "surface_from_repo.fit(jd)"
   ]
  },
  {
   "cell_type": "code",
   "execution_count": null,
   "metadata": {},
   "outputs": [],
   "source": [
    "# Should get same evaluation...\n",
    "_eval_mod(surface_from_repo.predictor)"
   ]
  },
  {
   "cell_type": "code",
   "execution_count": null,
   "metadata": {},
   "outputs": [],
   "source": [
    "# models are the same\n",
    "surface_from_repo.predictor.state_to_dict() == best_elo.state_to_dict()"
   ]
  },
  {
   "cell_type": "code",
   "execution_count": null,
   "metadata": {},
   "outputs": [],
   "source": [
    "# Great, reloading works!\n",
    "reloaded = SurfaceELO(**surface_from_repo.state_to_dict())\n",
    "reloaded.predictor.state_to_dict() == best_elo.state_to_dict()"
   ]
  },
  {
   "cell_type": "markdown",
   "metadata": {},
   "source": [
    "#### Inspect Model"
   ]
  },
  {
   "cell_type": "code",
   "execution_count": null,
   "metadata": {},
   "outputs": [],
   "source": [
    "# Get the last time each player played...\n",
    "winner_deduped = jd.drop_duplicates('winner_name', keep='last').copy()\n",
    "winner_deduped.rename(columns={'winner_name': 'player'}, inplace=True)\n",
    "\n",
    "loser_deduped = jd.drop_duplicates('loser_name', keep='last').copy()\n",
    "loser_deduped.rename(columns={'loser_name': 'player'}, inplace=True)\n",
    "\n",
    "last_time_df = pd.merge(\n",
    "    winner_deduped[['player', 'tourney_dates']],\n",
    "    loser_deduped[['player', 'tourney_dates']],\n",
    "    on='player',\n",
    "    how='outer',\n",
    "    suffixes=('_winner', '_loser')\n",
    ")\n",
    "last_time_df['tourney_dates_winner'] = pd.to_datetime(last_time_df['tourney_dates_winner'])\n",
    "last_time_df['tourney_dates_loser'] = pd.to_datetime(last_time_df['tourney_dates_loser'])\n",
    "last_time_df['max_date'] = last_time_df[['tourney_dates_winner', 'tourney_dates_loser']].max(axis=1)\n",
    "last_play_dict = dict(zip(last_time_df['player'], last_time_df['max_date']))"
   ]
  },
  {
   "cell_type": "code",
   "execution_count": null,
   "metadata": {},
   "outputs": [],
   "source": [
    "# Look at ELO Rankings\n",
    "cur_elo_ratings = pd.DataFrame(\n",
    "    best_elo.beta.items(),\n",
    "    columns=['player', 'ELO']\n",
    ")\n",
    "cur_elo_ratings['max_date'] = cur_elo_ratings['player'].map(lambda x: last_play_dict[x])\n",
    "ratings = cur_elo_ratings[cur_elo_ratings['max_date'] >= pd.to_datetime('2019.04.01')].sort_values('ELO', ascending=False).head(50)\n",
    "ratings.index = range(1, ratings.shape[0] + 1)\n",
    "ratings"
   ]
  },
  {
   "cell_type": "markdown",
   "metadata": {},
   "source": [
    "#### Player Investigations\n",
    "\n",
    "Some of these ratings don't quite make sense (they may be riding the high of their old selves...) Let's see what's going on with Andy Murray, for example"
   ]
  },
  {
   "cell_type": "code",
   "execution_count": null,
   "metadata": {},
   "outputs": [],
   "source": [
    "best_history_df = pd.DataFrame(best_elo.history)\n",
    "jd_with_history = pd.merge(jd, best_history_df, on='match_id')"
   ]
  },
  {
   "cell_type": "code",
   "execution_count": null,
   "metadata": {},
   "outputs": [],
   "source": [
    "def plot_player_over_time(history_df, pid):\n",
    "    rel = jd_with_history[\n",
    "        (jd_with_history['p1_id'] == pid) | (jd_with_history['p2_id'] == pid)\n",
    "    ]\n",
    "    elos = rel[[\n",
    "        'p1_id',\n",
    "        'p2_id',\n",
    "        'elo1',\n",
    "        'elo2'\n",
    "    ]].apply(\n",
    "        lambda x: x['elo1'] if x['p1_id'] == pid else x['elo2'],\n",
    "        axis=1\n",
    "    )\n",
    "    # plt.plot(range(len(elos)), elos)\n",
    "    plt.plot(pd.to_datetime(rel['tourney_dates']), elos)\n",
    "    plt.title(\"%s ELO for %s Over Time\" % (SURFACE, pid))\n",
    "    \n",
    "plot_player_over_time(jd_with_history, 'Rafael Nadal')\n",
    "plot_player_over_time(jd_with_history, 'Roger Federer')\n",
    "# plt.xlim([pd.to_datetime('2018.01.01'), pd.to_datetime('2019.08.01')])\n",
    "# plt.xticks(rotation=90)\n",
    "# plt.ylim([2400, 2600])"
   ]
  },
  {
   "cell_type": "code",
   "execution_count": null,
   "metadata": {},
   "outputs": [],
   "source": [
    "def examine_player(player, last_n=20, summarize_tourney=True):\n",
    "    rel = jd_with_history[\n",
    "        (jd_with_history['winner_name'] == player) |\n",
    "        (jd_with_history['loser_name'] == player)\n",
    "    ].copy()\n",
    "    if summarize_tourney:\n",
    "        rel.drop_duplicates('tourney_year_id', keep='last', inplace=True)\n",
    "    return rel.tail(last_n)[[\n",
    "        'tourney_dates',\n",
    "        'tourney_title',\n",
    "        'winner_name',\n",
    "        'loser_name',\n",
    "        'round',\n",
    "        'round_order',\n",
    "        'score',\n",
    "        'elo1',\n",
    "        'elo2',\n",
    "        'elo_match_prediction',\n",
    "        'tourney_surface'\n",
    "    ]].sort_values(\n",
    "        ['tourney_dates', 'round_order'], \n",
    "        ascending=[True, False]\n",
    "    )\n",
    "\n",
    "examine_player(\"Rafael Nadal\", last_n=50, summarize_tourney=False)"
   ]
  },
  {
   "cell_type": "markdown",
   "metadata": {},
   "source": [
    "Seems like Murray is well on his way down, but because we've built up such a history in the past, we're not able to adjust for his injury fast enough.  The Glicko model may be a better way of going about this?  Something is also mislabeled, because our data indicates that Andy Murray has played a match in the future (on Dec 31, 2019)"
   ]
  },
  {
   "cell_type": "code",
   "execution_count": null,
   "metadata": {},
   "outputs": [],
   "source": [
    "def _find_player(p):\n",
    "    _df = cur_elo_ratings[\n",
    "        (cur_elo_ratings['player'].map(lambda x: p in x)) &\n",
    "        (cur_elo_ratings['max_date'] > pd.to_datetime('2017.01.01'))\n",
    "    ].sort_values('max_date', ascending=False)\n",
    "    ret_player = _df['player'].iloc[0]\n",
    "    if _df.shape[0] > 1:\n",
    "        print(\"Found multiple players, returning %s...\" % ret_player)\n",
    "    return ret_player\n",
    "        \n",
    "def calculate_prob(p1, p2):\n",
    "    p1_idx = _find_player(p1)\n",
    "    p2_idx = _find_player(p2)\n",
    "    prob = best_elo.predict(p1_idx, p2_idx)\n",
    "    print(\n",
    "        \"{0} will defeat {1} with probability {2}, based on observing {3} matches for {0} and {4} matches for {1}\".format(\n",
    "            p1_idx,\n",
    "            p2_idx,\n",
    "            prob,\n",
    "            best_elo.match_counts[p1_idx],\n",
    "            best_elo.match_counts[p2_idx]\n",
    "        )\n",
    "    )\n",
    "    print(\"{0} has ELO {1}\".format(p1_idx, best_elo.beta[p1_idx]))\n",
    "    print(\"{0} has ELO {1}\".format(p2_idx, best_elo.beta[p2_idx]))\n",
    "\n",
    "calculate_prob('Opelka', 'Evans')"
   ]
  },
  {
   "cell_type": "markdown",
   "metadata": {},
   "source": [
    "This dude has played many more matches than this!  We will do much better if we can find them!  These matches are on the Challenger Tour, which is not represented in our current data"
   ]
  },
  {
   "cell_type": "markdown",
   "metadata": {},
   "source": [
    "#### Aside, date writing\n",
    "\n",
    "How do we read in dates appropriately with pandas csv reading?"
   ]
  },
  {
   "cell_type": "code",
   "execution_count": null,
   "metadata": {},
   "outputs": [],
   "source": [
    "from datetime import datetime\n",
    "\n",
    "dates = jd.apply(\n",
    "    lambda x: datetime(\n",
    "        month=int(x['tourney_month']),\n",
    "        year=int(x['tourney_year']),\n",
    "        day=int(x['tourney_day'])\n",
    "    ),\n",
    "    axis=1\n",
    ")"
   ]
  },
  {
   "cell_type": "code",
   "execution_count": null,
   "metadata": {},
   "outputs": [],
   "source": [
    "jd['date'] = pd.to_datetime(dates)"
   ]
  },
  {
   "cell_type": "code",
   "execution_count": null,
   "metadata": {},
   "outputs": [],
   "source": [
    "jd.to_csv('./date_test.csv', index=False)"
   ]
  },
  {
   "cell_type": "code",
   "execution_count": null,
   "metadata": {},
   "outputs": [],
   "source": [
    "q = pd.read_csv('./date_test.csv', parse_dates=['date'])"
   ]
  }
 ],
 "metadata": {
  "kernelspec": {
   "display_name": "Python 3",
   "language": "python",
   "name": "python3"
  },
  "language_info": {
   "codemirror_mode": {
    "name": "ipython",
    "version": 3
   },
   "file_extension": ".py",
   "mimetype": "text/x-python",
   "name": "python",
   "nbconvert_exporter": "python",
   "pygments_lexer": "ipython3",
   "version": "3.7.3"
  }
 },
 "nbformat": 4,
 "nbformat_minor": 2
}
