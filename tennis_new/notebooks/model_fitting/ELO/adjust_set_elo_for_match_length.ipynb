{
 "cells": [
  {
   "cell_type": "markdown",
   "metadata": {},
   "source": [
    "We've previously found that modeling set outcomes tends to perform better than modeling match outcomes, when evaluated on predicting match outcomes.  This is true on both an AUC and an Accuracy basis.  However, the AUC improvement occurs despite not taking into account, at prediction time, whether we are predicting the outcome of a best-of-3 or best-of-5 match.  Upsets occur much more easily in best-of-three than best-of-five matches.  Here, we attempt to improve model performance by transforming set predictions into the appropriate match predictions.  To do so, we use the formulae below, where $\\hat{p}$ is our predicted set probability:\n",
    "\n",
    "$\\begin{align}\n",
    "    \\mathbb{P}_2 &= \\hat{p}^2(1 + 2(1 - \\hat{p})) \\\\\n",
    "    \\mathbb{P}_3 &= \\hat{p}^3(1 + 3(1 - \\hat{p}) + {4 \\choose 2}(1 - \\hat{p})^2)\n",
    "\\end{align} \\\\\n",
    "\\text{where } \\hat{p} \\text{ is the set prediction}\n",
    "$\n"
   ]
  },
  {
   "cell_type": "code",
   "execution_count": 1,
   "metadata": {},
   "outputs": [
    {
     "name": "stderr",
     "output_type": "stream",
     "text": [
      "/Users/siddhantjagadish/Documents/DataProjects/tennis_new/venv_377/lib/python3.7/site-packages/IPython/core/interactiveshell.py:3214: DtypeWarning: Columns (1) have mixed types. Specify dtype option on import or set low_memory=False.\n",
      "  if (yield from self.run_code(code, result)):\n"
     ]
    }
   ],
   "source": [
    "from tennis_new.fetch.tennis_explorer.combiner import read_joined\n",
    "\n",
    "jd = read_joined()"
   ]
  },
  {
   "cell_type": "code",
   "execution_count": 2,
   "metadata": {},
   "outputs": [
    {
     "data": {
      "text/plain": [
       "2.0    913434\n",
       "1.0     36528\n",
       "3.0     15579\n",
       "4.0        12\n",
       "NaN         7\n",
       "Name: p1_sets_won, dtype: int64"
      ]
     },
     "execution_count": 2,
     "metadata": {},
     "output_type": "execute_result"
    }
   ],
   "source": [
    "jd['p1_sets_won'].value_counts(dropna=False)"
   ]
  },
  {
   "cell_type": "code",
   "execution_count": 3,
   "metadata": {},
   "outputs": [],
   "source": [
    "import numpy as np\n",
    "\n",
    "jd['best_of'] = jd['p1_sets_won'].map({\n",
    "    1.: 3,\n",
    "    2.: 3,\n",
    "    3.: 5,\n",
    "    4.: 3,\n",
    "    np.nan: 3\n",
    "})"
   ]
  },
  {
   "cell_type": "code",
   "execution_count": 4,
   "metadata": {},
   "outputs": [
    {
     "data": {
      "text/plain": [
       "{'DummyFilter_prediction_AUCMetric': 0.8187031847302881,\n",
       " 'DummyFilter_prediction_AccuracyMetric': 0.7358520800135314,\n",
       " 'DummyFilter_prediction_LogLikelihoodMetric': -0.5226366377611569,\n",
       " 'HasOddsFilter_prediction_AUCMetric': 0.786068092124641,\n",
       " 'HasOddsFilter_prediction_AccuracyMetric': 0.7080332235338619,\n",
       " 'HasOddsFilter_prediction_LogLikelihoodMetric': -0.5576990341361893,\n",
       " 'DummyFilter_odds_implied_probability_AUCMetric': None,\n",
       " 'DummyFilter_odds_implied_probability_AccuracyMetric': None,\n",
       " 'DummyFilter_odds_implied_probability_LogLikelihoodMetric': None,\n",
       " 'HasOddsFilter_odds_implied_probability_AUCMetric': 0.7955634245248138,\n",
       " 'HasOddsFilter_odds_implied_probability_AccuracyMetric': 0.7200428690759507,\n",
       " 'HasOddsFilter_odds_implied_probability_LogLikelihoodMetric': -0.5484675296646053}"
      ]
     },
     "execution_count": 4,
     "metadata": {},
     "output_type": "execute_result"
    }
   ],
   "source": [
    "from tennis_new.model.config.elo.global_set_elo import SetELO\n",
    "\n",
    "set_elo = SetELO()\n",
    "set_elo.run(jd)\n",
    "set_elo.validation_evaluation"
   ]
  },
  {
   "cell_type": "markdown",
   "metadata": {},
   "source": [
    "Now that we have our original SetELO model, let's see what our calculation adjustment gets us! "
   ]
  },
  {
   "cell_type": "code",
   "execution_count": 5,
   "metadata": {},
   "outputs": [],
   "source": [
    "def adjust_for_match_length(p, best_of):\n",
    "    if best_of == 3:\n",
    "        return (p ** 2) * (1. + 2. * (1 - p))\n",
    "    elif best_of == 5:\n",
    "        out = 0\n",
    "        out += p ** 3  # Straight Sets\n",
    "        out += 3 * (p ** 3) * (1 - p)  # 4 sets\n",
    "        out += 6 * (p ** 3) * ((1 - p) ** 2) # 5 sets\n",
    "        return out\n",
    "    else:\n",
    "        raise ValueError(\"Unexpected Match Length\")\n",
    "\n",
    "class SetELOWithCalculations(SetELO):\n",
    "\n",
    "    def post_process(self):\n",
    "        new_preds = self.all_jd[['best_of', 'prediction']].apply(\n",
    "            lambda x: adjust_for_match_length(x['prediction'], x['best_of']),\n",
    "            axis=1\n",
    "        )\n",
    "        self.all_jd['unadjusted_pred'] = self.all_jd['prediction']\n",
    "        self.all_jd['prediction'] = new_preds.values\n",
    "        \n",
    "adjusted_set_elo = SetELOWithCalculations()\n",
    "adjusted_set_elo.run(jd)"
   ]
  },
  {
   "cell_type": "code",
   "execution_count": 6,
   "metadata": {},
   "outputs": [
    {
     "data": {
      "text/plain": [
       "{'DummyFilter_prediction_AUCMetric': 0.8187661398370436,\n",
       " 'DummyFilter_prediction_AccuracyMetric': 0.7358520800135314,\n",
       " 'DummyFilter_prediction_LogLikelihoodMetric': -0.5263718356952306,\n",
       " 'HasOddsFilter_prediction_AUCMetric': 0.7862599786271594,\n",
       " 'HasOddsFilter_prediction_AccuracyMetric': 0.7080332235338619,\n",
       " 'HasOddsFilter_prediction_LogLikelihoodMetric': -0.5581285702662083,\n",
       " 'DummyFilter_odds_implied_probability_AUCMetric': None,\n",
       " 'DummyFilter_odds_implied_probability_AccuracyMetric': None,\n",
       " 'DummyFilter_odds_implied_probability_LogLikelihoodMetric': None,\n",
       " 'HasOddsFilter_odds_implied_probability_AUCMetric': 0.7955634245248138,\n",
       " 'HasOddsFilter_odds_implied_probability_AccuracyMetric': 0.7200428690759507,\n",
       " 'HasOddsFilter_odds_implied_probability_LogLikelihoodMetric': -0.5484675296646053}"
      ]
     },
     "execution_count": 6,
     "metadata": {},
     "output_type": "execute_result"
    }
   ],
   "source": [
    "adjusted_set_elo.validation_evaluation"
   ]
  },
  {
   "cell_type": "markdown",
   "metadata": {},
   "source": [
    "Above, we see that we get a slight boost to the AUC, but surprisingly enough, the log likelihood worsens!  Overall, this seems worth doing, but not tremendously important.  There aren't very many five set matches, which might explain the overall lack of importance here.  To investigate the decrease in log likelihood, let's look at calibration plots."
   ]
  },
  {
   "cell_type": "code",
   "execution_count": 7,
   "metadata": {},
   "outputs": [
    {
     "data": {
      "image/png": "[encoded data removed]",
      "text/plain": [
       "<Figure size 432x288 with 1 Axes>"
      ]
     },
     "metadata": {
      "needs_background": "light"
     },
     "output_type": "display_data"
    }
   ],
   "source": [
    "%matplotlib inline\n",
    "from sklearn.calibration import calibration_curve\n",
    "from matplotlib import pyplot as plt\n",
    "\n",
    "def calibration_plot(df):\n",
    "    preds = np.concatenate([\n",
    "        df['prediction'].values,\n",
    "        1. - df['prediction'].values\n",
    "    ])\n",
    "    ys = np.concatenate([\n",
    "        np.ones(len(df)),\n",
    "        np.zeros(len(df))\n",
    "    ])\n",
    "    _y, _x = calibration_curve(ys, preds, n_bins=100)\n",
    "    plt.plot(_x, _y, label='model')\n",
    "    plt.plot(_x, _x, label='perfect_calibration')\n",
    "    plt.legend()\n",
    "    plt.xlabel(\"Predicted Probability\")\n",
    "    plt.ylabel(\"True Probability\")\n",
    "    \n",
    "validation_set = set_elo.validation_filter.filter_data(set_elo.all_jd)\n",
    "calibration_plot(validation_set)"
   ]
  },
  {
   "cell_type": "markdown",
   "metadata": {},
   "source": [
    "Above, we see that without the adjustment, our predictions are not extreme enough.  Let's see how the adjustment changes this..."
   ]
  },
  {
   "cell_type": "code",
   "execution_count": 8,
   "metadata": {},
   "outputs": [
    {
     "data": {
      "image/png": "[encoded data removed]",
      "text/plain": [
       "<Figure size 432x288 with 1 Axes>"
      ]
     },
     "metadata": {
      "needs_background": "light"
     },
     "output_type": "display_data"
    }
   ],
   "source": [
    "validation_set = adjusted_set_elo.validation_filter.filter_data(adjusted_set_elo.all_jd)\n",
    "calibration_plot(validation_set)"
   ]
  },
  {
   "cell_type": "markdown",
   "metadata": {},
   "source": [
    "It's now the opposite!  Here are a couple theories as to what's going on:\n",
    "\n",
    "1) The underlying set probabilities are too extreme\n",
    "2) Perhaps the i.i.d. assumption is a bit much!\n",
    "\n",
    "It seems like perhaps a best-of specific calibration function would address either issue, but as a first step, we can investigate the first theory (TODO in the future: Look into whether set probabilities are properly calibrated)."
   ]
  }
 ],
 "metadata": {
  "kernelspec": {
   "display_name": "Python 3",
   "language": "python",
   "name": "python3"
  },
  "language_info": {
   "codemirror_mode": {
    "name": "ipython",
    "version": 3
   },
   "file_extension": ".py",
   "mimetype": "text/x-python",
   "name": "python",
   "nbconvert_exporter": "python",
   "pygments_lexer": "ipython3",
   "version": "3.7.7"
  }
 },
 "nbformat": 4,
 "nbformat_minor": 2
}
