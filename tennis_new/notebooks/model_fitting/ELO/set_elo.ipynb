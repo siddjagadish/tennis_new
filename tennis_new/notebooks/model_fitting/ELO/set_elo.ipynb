{
 "cells": [
  {
   "cell_type": "markdown",
   "metadata": {},
   "source": [
    "Here, we'll try to fit our very first model on TennisExplorer data.\n",
    "\n",
    "OTHER TODO: \n",
    "* Figure out walkover / retirement handling!\n",
    "    * Try 2x2 training and evaluation\n",
    "* Try making formulaic match predictions for set model, e.g.:\n",
    "* Weight tiebreak sets differently\n",
    "* Try weighting by games\n",
    "\n",
    "\n",
    "$\\begin{align}\n",
    "    \\mathbb{P}_2 &= \\hat{p}^2(1 + 2(1 - \\hat{p})) \\\\\n",
    "    \\mathbb{P}_3 &= \\hat{p}^3(1 + 3(1 - \\hat{p}) + {4 \\choose 2}(1 - \\hat{p})^2)\n",
    "\\end{align} \\\\\n",
    "\\text{where } \\hat{p} \\text{ is the set prediction}\n",
    "$\n",
    "\n",
    "Note that the bottom TODO will not affect accuracy results, but may help with the AUC metrics and later calibration and betting performance."
   ]
  },
  {
   "cell_type": "code",
   "execution_count": 1,
   "metadata": {},
   "outputs": [
    {
     "name": "stderr",
     "output_type": "stream",
     "text": [
      "/Users/siddhantjagadish/Documents/DataProjects/tennis_new/venv_377/lib/python3.7/site-packages/IPython/core/interactiveshell.py:3214: DtypeWarning: Columns (1) have mixed types. Specify dtype option on import or set low_memory=False.\n",
      "  if (yield from self.run_code(code, result)):\n"
     ]
    }
   ],
   "source": [
    "from tennis_new.fetch.tennis_explorer.combiner import read_joined\n",
    "\n",
    "jd = read_joined()"
   ]
  },
  {
   "cell_type": "code",
   "execution_count": 2,
   "metadata": {},
   "outputs": [],
   "source": [
    "from tennis_new.model.utils.filters import TrainingFilter\n",
    "\n",
    "rel = TrainingFilter().filter_data(jd)"
   ]
  },
  {
   "cell_type": "code",
   "execution_count": 3,
   "metadata": {},
   "outputs": [],
   "source": [
    "from tennis_new.model.config.elo.base import ELOBaseModel \n",
    "\n",
    "gs_elo = ELOBaseModel()\n",
    "gs_elo.run(jd)"
   ]
  },
  {
   "cell_type": "code",
   "execution_count": 4,
   "metadata": {},
   "outputs": [
    {
     "data": {
      "text/plain": [
       "{'DummyFilter_prediction_AUCMetric': 0.8088814270063787,\n",
       " 'DummyFilter_prediction_AccuracyMetric': 0.7275996830794705,\n",
       " 'DummyFilter_prediction_LogLikelihoodMetric': -0.533704037104847,\n",
       " 'HasOddsFilter_prediction_AUCMetric': 0.7849735388169738,\n",
       " 'HasOddsFilter_prediction_AccuracyMetric': 0.7074658387051017,\n",
       " 'HasOddsFilter_prediction_LogLikelihoodMetric': -0.556931976858201,\n",
       " 'DummyFilter_odds_implied_probability_AUCMetric': None,\n",
       " 'DummyFilter_odds_implied_probability_AccuracyMetric': None,\n",
       " 'DummyFilter_odds_implied_probability_LogLikelihoodMetric': None,\n",
       " 'HasOddsFilter_odds_implied_probability_AUCMetric': 0.7955634245248138,\n",
       " 'HasOddsFilter_odds_implied_probability_AccuracyMetric': 0.7200428690759507,\n",
       " 'HasOddsFilter_odds_implied_probability_LogLikelihoodMetric': -0.5484675296646053}"
      ]
     },
     "execution_count": 4,
     "metadata": {},
     "output_type": "execute_result"
    }
   ],
   "source": [
    "gs_elo.validation_evaluation"
   ]
  },
  {
   "cell_type": "code",
   "execution_count": 5,
   "metadata": {},
   "outputs": [
    {
     "data": {
      "text/plain": [
       "{'DummyFilter_prediction_AUCMetric': 0.8187031847302881,\n",
       " 'DummyFilter_prediction_AccuracyMetric': 0.7358520800135314,\n",
       " 'DummyFilter_prediction_LogLikelihoodMetric': -0.5226366377611569,\n",
       " 'HasOddsFilter_prediction_AUCMetric': 0.786068092124641,\n",
       " 'HasOddsFilter_prediction_AccuracyMetric': 0.7080332235338619,\n",
       " 'HasOddsFilter_prediction_LogLikelihoodMetric': -0.5576990341361893,\n",
       " 'DummyFilter_odds_implied_probability_AUCMetric': None,\n",
       " 'DummyFilter_odds_implied_probability_AccuracyMetric': None,\n",
       " 'DummyFilter_odds_implied_probability_LogLikelihoodMetric': None,\n",
       " 'HasOddsFilter_odds_implied_probability_AUCMetric': 0.7955634245248138,\n",
       " 'HasOddsFilter_odds_implied_probability_AccuracyMetric': 0.7200428690759507,\n",
       " 'HasOddsFilter_odds_implied_probability_LogLikelihoodMetric': -0.5484675296646053}"
      ]
     },
     "execution_count": 5,
     "metadata": {},
     "output_type": "execute_result"
    }
   ],
   "source": [
    "from tennis_new.model.config.elo.global_set_elo import SetELO\n",
    "\n",
    "set_elo = SetELO()\n",
    "set_elo.run(jd)\n",
    "set_elo.validation_evaluation"
   ]
  },
  {
   "cell_type": "markdown",
   "metadata": {},
   "source": [
    "#### P-Test for Accuracy Improvement\n",
    "Let's perform a P-Test to Ensure that our accuracy has improved!"
   ]
  },
  {
   "cell_type": "code",
   "execution_count": 6,
   "metadata": {},
   "outputs": [],
   "source": [
    "test_set = gs_elo.test_filter.filter_data(gs_elo.all_jd)\n",
    "set_test_set = set_elo.test_filter.filter_data(set_elo.all_jd)"
   ]
  },
  {
   "cell_type": "code",
   "execution_count": 7,
   "metadata": {},
   "outputs": [
    {
     "data": {
      "text/plain": [
       "1.2167284746968122e-09"
      ]
     },
     "execution_count": 7,
     "metadata": {},
     "output_type": "execute_result"
    }
   ],
   "source": [
    "from statsmodels.stats.proportion import proportions_ztest\n",
    "\n",
    "proportions_ztest(\n",
    "    [(test_set['prediction'] > 0.5).sum(), (set_test_set['prediction'] > 0.5).sum()],\n",
    "    [len(test_set), len(set_test_set)],\n",
    ")[-1]"
   ]
  },
  {
   "cell_type": "markdown",
   "metadata": {},
   "source": [
    "Hooray, we have a statistically significant accuracy improvement!"
   ]
  }
 ],
 "metadata": {
  "kernelspec": {
   "display_name": "Python 3",
   "language": "python",
   "name": "python3"
  },
  "language_info": {
   "codemirror_mode": {
    "name": "ipython",
    "version": 3
   },
   "file_extension": ".py",
   "mimetype": "text/x-python",
   "name": "python",
   "nbconvert_exporter": "python",
   "pygments_lexer": "ipython3",
   "version": "3.7.7"
  }
 },
 "nbformat": 4,
 "nbformat_minor": 2
}
