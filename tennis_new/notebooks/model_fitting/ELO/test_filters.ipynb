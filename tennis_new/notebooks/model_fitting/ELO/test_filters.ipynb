{
 "cells": [
  {
   "cell_type": "markdown",
   "metadata": {},
   "source": [
    "There is a decent number of strange matches in the dataset.  Here, we consider including or excluding various kinds of strange matches both from training and from evaluation.  Our hope is that we can create a meaningful improvement in model performance through manipulating these filters."
   ]
  },
  {
   "cell_type": "code",
   "execution_count": 1,
   "metadata": {},
   "outputs": [
    {
     "name": "stderr",
     "output_type": "stream",
     "text": [
      "/Users/siddhantjagadish/Documents/DataProjects/tennis_new/venv_377/lib/python3.7/site-packages/IPython/core/interactiveshell.py:3214: DtypeWarning: Columns (1) have mixed types. Specify dtype option on import or set low_memory=False.\n",
      "  if (yield from self.run_code(code, result)):\n"
     ]
    }
   ],
   "source": [
    "from tennis_new.fetch.tennis_explorer.combiner import read_joined\n",
    "\n",
    "jd = read_joined()"
   ]
  },
  {
   "cell_type": "markdown",
   "metadata": {},
   "source": [
    "Now let's modify our metrics to allow for nuanced understanding of the possible filtering we want to do.  Specifically, we want to examine the effects of including / excluding:\n",
    "\n",
    "* Retirements: Identified as cases where the winner won 1 set, and p1_set1 is not null\n",
    "* Walkovers: Identified as cases where the winner won only 1 set, and p1_set1 is null\n",
    "    * Some of these cases have errors in recording -- partial scores for retirements were not recorded on TennisExplorer.  One example of this kind of case is [/match-detail/?id=14145](http://www.tennislive.net/atp/match/richey-reneberg-VS-oscar-burrieza-lopez/australian-open-melbourne-1997/)\n",
    "        \n",
    "Let's start by getting our baseline performance"
   ]
  },
  {
   "cell_type": "code",
   "execution_count": 3,
   "metadata": {},
   "outputs": [
    {
     "data": {
      "text/plain": [
       "{'DummyFilter_prediction_AUCMetric': 0.8187031847302881,\n",
       " 'DummyFilter_prediction_AccuracyMetric': 0.7358520800135314,\n",
       " 'DummyFilter_prediction_LogLikelihoodMetric': -0.5226366377611569,\n",
       " 'HasOddsFilter_prediction_AUCMetric': 0.7839029874196454,\n",
       " 'HasOddsFilter_prediction_AccuracyMetric': 0.7056423354253945,\n",
       " 'HasOddsFilter_prediction_LogLikelihoodMetric': -0.5594758958654537,\n",
       " 'DummyFilter_odds_implied_probability_AUCMetric': None,\n",
       " 'DummyFilter_odds_implied_probability_AccuracyMetric': None,\n",
       " 'DummyFilter_odds_implied_probability_LogLikelihoodMetric': None,\n",
       " 'HasOddsFilter_odds_implied_probability_AUCMetric': 0.7937506478103871,\n",
       " 'HasOddsFilter_odds_implied_probability_AccuracyMetric': 0.7114980299325661,\n",
       " 'HasOddsFilter_odds_implied_probability_LogLikelihoodMetric': -0.5501844612492598}"
      ]
     },
     "execution_count": 3,
     "metadata": {},
     "output_type": "execute_result"
    }
   ],
   "source": [
    "from tennis_new.model.config.elo.global_set_elo import SetELO\n",
    "\n",
    "set_elo = SetELO()\n",
    "set_elo.run(jd)\n",
    "set_elo.validation_evaluation"
   ]
  },
  {
   "cell_type": "markdown",
   "metadata": {},
   "source": [
    "Now let's subclass our model config with a new evaluator to get a more nuanced view of what's happening:"
   ]
  },
  {
   "cell_type": "code",
   "execution_count": 4,
   "metadata": {},
   "outputs": [
    {
     "data": {
      "text/plain": [
       "{'DummyFilter_prediction_AccuracyMetric': 0.7358520800135314,\n",
       " 'DummyFilter_prediction_AUCMetric': 0.8187031847302881,\n",
       " 'PossibleWalkoverFilter_prediction_AccuracyMetric': 0.737773727542894,\n",
       " 'PossibleWalkoverFilter_prediction_AUCMetric': 0.8211988276191851,\n",
       " 'CompleteMatchFilter_prediction_AccuracyMetric': 0.7433517659154695,\n",
       " 'CompleteMatchFilter_prediction_AUCMetric': 0.8276610280137657,\n",
       " 'HasOddsFilter_prediction_AccuracyMetric': 0.7056423354253945,\n",
       " 'HasOddsFilter_prediction_AUCMetric': 0.7839029874196454,\n",
       " 'HasOddsNoWalkFilter_prediction_AccuracyMetric': 0.7062759936208136,\n",
       " 'HasOddsNoWalkFilter_prediction_AUCMetric': 0.7848521712141644,\n",
       " 'HasOddsCompleteMatchFilter_prediction_AccuracyMetric': 0.7124238101413565,\n",
       " 'HasOddsCompleteMatchFilter_prediction_AUCMetric': 0.7924853974658239,\n",
       " 'DummyFilter_odds_implied_probability_AccuracyMetric': None,\n",
       " 'DummyFilter_odds_implied_probability_AUCMetric': None,\n",
       " 'PossibleWalkoverFilter_odds_implied_probability_AccuracyMetric': None,\n",
       " 'PossibleWalkoverFilter_odds_implied_probability_AUCMetric': None,\n",
       " 'CompleteMatchFilter_odds_implied_probability_AccuracyMetric': None,\n",
       " 'CompleteMatchFilter_odds_implied_probability_AUCMetric': None,\n",
       " 'HasOddsFilter_odds_implied_probability_AccuracyMetric': 0.7114980299325661,\n",
       " 'HasOddsFilter_odds_implied_probability_AUCMetric': 0.7937506478103871,\n",
       " 'HasOddsNoWalkFilter_odds_implied_probability_AccuracyMetric': 0.7121548516213765,\n",
       " 'HasOddsNoWalkFilter_odds_implied_probability_AUCMetric': 0.7945928447195886,\n",
       " 'HasOddsCompleteMatchFilter_odds_implied_probability_AccuracyMetric': 0.718324471534172,\n",
       " 'HasOddsCompleteMatchFilter_odds_implied_probability_AUCMetric': 0.801849728416497}"
      ]
     },
     "execution_count": 4,
     "metadata": {},
     "output_type": "execute_result"
    }
   ],
   "source": [
    "from tennis_new.model.utils import filters\n",
    "from tennis_new.model.utils.evaluation import Evaluator\n",
    "from tennis_new.model.utils.metrics import AccuracyMetric, AUCMetric \n",
    "\n",
    "\n",
    "class HasOddsNoWalkFilter(filters.Filter):\n",
    "    sub_filters = [\n",
    "        filters.HasOddsFilter(),\n",
    "        filters.PossibleWalkoverFilter()\n",
    "    ]\n",
    "\n",
    "    \n",
    "class CompleteMatchFilter(filters.Filter):\n",
    "    sub_filters = [\n",
    "        filters.PossibleWalkoverFilter(),\n",
    "        filters.RetirementFilter()\n",
    "    ]\n",
    "\n",
    "    \n",
    "class HasOddsCompleteMatchFilter(filters.Filter):\n",
    "    sub_filters = [\n",
    "        filters.HasOddsFilter(),\n",
    "        CompleteMatchFilter()\n",
    "    ]\n",
    "\n",
    "    \n",
    "class InvestigationEvaluator(Evaluator):\n",
    "    \n",
    "    @property\n",
    "    def filters(self):\n",
    "        return [\n",
    "            filters.DummyFilter(),\n",
    "            filters.PossibleWalkoverFilter(),\n",
    "            CompleteMatchFilter(),\n",
    "            filters.HasOddsFilter(),\n",
    "            HasOddsNoWalkFilter(),\n",
    "            HasOddsCompleteMatchFilter()\n",
    "        ]\n",
    "\n",
    "    @property\n",
    "    def metrics(self):\n",
    "        return [\n",
    "            AccuracyMetric(),\n",
    "            AUCMetric()\n",
    "        ]\n",
    "    \n",
    "\n",
    "class InvestigationSetELO(SetELO):\n",
    "\n",
    "    @property\n",
    "    def evaluator(self):\n",
    "        return InvestigationEvaluator('prediction', self.baseline_pred_col)\n",
    "    \n",
    "\n",
    "baseline_model = InvestigationSetELO()\n",
    "baseline_model.run(jd)\n",
    "baseline_model.validation_evaluation"
   ]
  },
  {
   "cell_type": "markdown",
   "metadata": {},
   "source": [
    "Now let's try removing the walkovers from training and see what happens "
   ]
  },
  {
   "cell_type": "code",
   "execution_count": 5,
   "metadata": {},
   "outputs": [
    {
     "data": {
      "text/plain": [
       "{'DummyFilter_prediction_AccuracyMetric': 0.7353669067310004,\n",
       " 'DummyFilter_prediction_AUCMetric': 0.8184461581251941,\n",
       " 'PossibleWalkoverFilter_prediction_AccuracyMetric': 0.7372754289408237,\n",
       " 'PossibleWalkoverFilter_prediction_AUCMetric': 0.8209598815326888,\n",
       " 'CompleteMatchFilter_prediction_AccuracyMetric': 0.7428284287844684,\n",
       " 'CompleteMatchFilter_prediction_AUCMetric': 0.8274457821801312,\n",
       " 'HasOddsFilter_prediction_AccuracyMetric': 0.705346435968915,\n",
       " 'HasOddsFilter_prediction_AUCMetric': 0.7839522594090187,\n",
       " 'HasOddsNoWalkFilter_prediction_AccuracyMetric': 0.7059632884080178,\n",
       " 'HasOddsNoWalkFilter_prediction_AUCMetric': 0.784908206161682,\n",
       " 'HasOddsCompleteMatchFilter_prediction_AccuracyMetric': 0.71205096615225,\n",
       " 'HasOddsCompleteMatchFilter_prediction_AUCMetric': 0.792566927985133,\n",
       " 'DummyFilter_odds_implied_probability_AccuracyMetric': None,\n",
       " 'DummyFilter_odds_implied_probability_AUCMetric': None,\n",
       " 'PossibleWalkoverFilter_odds_implied_probability_AccuracyMetric': None,\n",
       " 'PossibleWalkoverFilter_odds_implied_probability_AUCMetric': None,\n",
       " 'CompleteMatchFilter_odds_implied_probability_AccuracyMetric': None,\n",
       " 'CompleteMatchFilter_odds_implied_probability_AUCMetric': None,\n",
       " 'HasOddsFilter_odds_implied_probability_AccuracyMetric': 0.7114980299325661,\n",
       " 'HasOddsFilter_odds_implied_probability_AUCMetric': 0.7937506478103871,\n",
       " 'HasOddsNoWalkFilter_odds_implied_probability_AccuracyMetric': 0.7121548516213765,\n",
       " 'HasOddsNoWalkFilter_odds_implied_probability_AUCMetric': 0.7945928447195886,\n",
       " 'HasOddsCompleteMatchFilter_odds_implied_probability_AccuracyMetric': 0.718324471534172,\n",
       " 'HasOddsCompleteMatchFilter_odds_implied_probability_AUCMetric': 0.801849728416497}"
      ]
     },
     "execution_count": 5,
     "metadata": {},
     "output_type": "execute_result"
    }
   ],
   "source": [
    "class NoWalkoverTrainingFilter(filters.Filter):\n",
    "    \n",
    "    sub_filters = filters.TrainingFilter.sub_filters + [filters.PossibleWalkoverFilter()]\n",
    "    \n",
    "class SetELONoWalkover(InvestigationSetELO):\n",
    "    \n",
    "    @property\n",
    "    def training_filter(self):\n",
    "        return NoWalkoverTrainingFilter()\n",
    "        \n",
    "no_walkover_model = SetELONoWalkover()\n",
    "no_walkover_model.run(jd)\n",
    "no_walkover_model.validation_evaluation"
   ]
  },
  {
   "cell_type": "markdown",
   "metadata": {},
   "source": [
    "In general, removing the \"possible walkovers\" from training doesn't seem to help my results much (it even hurts them slightly), even when removing the possible walkovers from evaluation.  Let's try filtering out the retirements, just for shits and giggles. "
   ]
  },
  {
   "cell_type": "code",
   "execution_count": 6,
   "metadata": {},
   "outputs": [
    {
     "data": {
      "text/plain": [
       "{'DummyFilter_prediction_AccuracyMetric': 0.7347259438623355,\n",
       " 'DummyFilter_prediction_AUCMetric': 0.817629042898023,\n",
       " 'PossibleWalkoverFilter_prediction_AccuracyMetric': 0.7366244983345155,\n",
       " 'PossibleWalkoverFilter_prediction_AUCMetric': 0.8201479895566363,\n",
       " 'CompleteMatchFilter_prediction_AccuracyMetric': 0.7423606672779985,\n",
       " 'CompleteMatchFilter_prediction_AUCMetric': 0.8267733311166058,\n",
       " 'HasOddsFilter_prediction_AccuracyMetric': 0.7049415209232063,\n",
       " 'HasOddsFilter_prediction_AUCMetric': 0.7831434638666345,\n",
       " 'HasOddsNoWalkFilter_prediction_AccuracyMetric': 0.7055724068920229,\n",
       " 'HasOddsNoWalkFilter_prediction_AUCMetric': 0.7841042266021381,\n",
       " 'HasOddsCompleteMatchFilter_prediction_AccuracyMetric': 0.712002334327584,\n",
       " 'HasOddsCompleteMatchFilter_prediction_AUCMetric': 0.7919668183008487,\n",
       " 'DummyFilter_odds_implied_probability_AccuracyMetric': None,\n",
       " 'DummyFilter_odds_implied_probability_AUCMetric': None,\n",
       " 'PossibleWalkoverFilter_odds_implied_probability_AccuracyMetric': None,\n",
       " 'PossibleWalkoverFilter_odds_implied_probability_AUCMetric': None,\n",
       " 'CompleteMatchFilter_odds_implied_probability_AccuracyMetric': None,\n",
       " 'CompleteMatchFilter_odds_implied_probability_AUCMetric': None,\n",
       " 'HasOddsFilter_odds_implied_probability_AccuracyMetric': 0.7114980299325661,\n",
       " 'HasOddsFilter_odds_implied_probability_AUCMetric': 0.7937506478103871,\n",
       " 'HasOddsNoWalkFilter_odds_implied_probability_AccuracyMetric': 0.7121548516213765,\n",
       " 'HasOddsNoWalkFilter_odds_implied_probability_AUCMetric': 0.7945928447195886,\n",
       " 'HasOddsCompleteMatchFilter_odds_implied_probability_AccuracyMetric': 0.718324471534172,\n",
       " 'HasOddsCompleteMatchFilter_odds_implied_probability_AUCMetric': 0.801849728416497}"
      ]
     },
     "execution_count": 6,
     "metadata": {},
     "output_type": "execute_result"
    }
   ],
   "source": [
    "class NoRetirementTrainingFilter(filters.Filter):\n",
    "    \n",
    "    sub_filters = filters.TrainingFilter.sub_filters + [filters.RetirementFilter()]\n",
    "    \n",
    "class SetELONoRetirement(InvestigationSetELO):\n",
    "    \n",
    "    @property\n",
    "    def training_filter(self):\n",
    "        return NoRetirementTrainingFilter()\n",
    "        \n",
    "no_retirement_model = SetELONoRetirement()\n",
    "no_retirement_model.run(jd)\n",
    "no_retirement_model.validation_evaluation"
   ]
  },
  {
   "cell_type": "markdown",
   "metadata": {},
   "source": [
    "This is even worse!  In conclusion, we will apply neither additional filter to model training."
   ]
  }
 ],
 "metadata": {
  "kernelspec": {
   "display_name": "Python 3",
   "language": "python",
   "name": "python3"
  },
  "language_info": {
   "codemirror_mode": {
    "name": "ipython",
    "version": 3
   },
   "file_extension": ".py",
   "mimetype": "text/x-python",
   "name": "python",
   "nbconvert_exporter": "python",
   "pygments_lexer": "ipython3",
   "version": "3.7.7"
  }
 },
 "nbformat": 4,
 "nbformat_minor": 2
}
