{
 "cells": [
  {
   "cell_type": "markdown",
   "metadata": {},
   "source": [
    "Here, we'll try to fit our very first model on TennisExplorer data"
   ]
  },
  {
   "cell_type": "code",
   "execution_count": 1,
   "metadata": {},
   "outputs": [
    {
     "name": "stderr",
     "output_type": "stream",
     "text": [
      "/Users/siddhantjagadish/Documents/DataProjects/tennis_new/venv/lib/python3.7/site-packages/IPython/core/interactiveshell.py:3214: DtypeWarning: Columns (0) have mixed types. Specify dtype option on import or set low_memory=False.\n",
      "  if (yield from self.run_code(code, result)):\n"
     ]
    }
   ],
   "source": [
    "from tennis_new.fetch.tennis_explorer.combiner import read_joined\n",
    "\n",
    "jd = read_joined()"
   ]
  },
  {
   "cell_type": "code",
   "execution_count": 47,
   "metadata": {},
   "outputs": [
    {
     "data": {
      "text/plain": [
       "comment                                      NaN\n",
       "date                                  2020-01-25\n",
       "match_link             /match-detail/?id=1867589\n",
       "match_time                                 08:30\n",
       "p1_link                           /player/zekic/\n",
       "p1_name                                 Zekic M.\n",
       "p1_odds                                     1.36\n",
       "p1_seed                                      NaN\n",
       "p1_set1                                        7\n",
       "p1_set2                                        6\n",
       "p1_set3                                      NaN\n",
       "p1_set4                                      NaN\n",
       "p1_set5                                      NaN\n",
       "p1_sets_won                                    2\n",
       "p2_link                         /player/eleveld/\n",
       "p2_name                               Eleveld J.\n",
       "p2_odds                                     2.96\n",
       "p2_seed                                      NaN\n",
       "p2_set1                                        6\n",
       "p2_set2                                        0\n",
       "p2_set3                                      NaN\n",
       "p2_set4                                      NaN\n",
       "p2_set5                                      NaN\n",
       "p2_sets_won                                    0\n",
       "tourney_link                                 NaN\n",
       "tourney_name                        Futures 2020\n",
       "tourney_type                           type-men2\n",
       "details                                      NaN\n",
       "sex                                          NaN\n",
       "surface                                      NaN\n",
       "tourney_prize_money                          NaN\n",
       "Name: 952931, dtype: object"
      ]
     },
     "execution_count": 47,
     "metadata": {},
     "output_type": "execute_result"
    }
   ],
   "source": [
    "jd[jd['surface'].isnull()].iloc[-1]"
   ]
  },
  {
   "cell_type": "code",
   "execution_count": 2,
   "metadata": {},
   "outputs": [],
   "source": [
    "from tennis_new.model.utils.filters import (\n",
    "    MissingPIDFilter,\n",
    "    MissingScoreFilter,\n",
    "    PossibleWalkoverFilter,\n",
    "    RetirementFilter,\n",
    "    TrainingFilter\n",
    ")"
   ]
  },
  {
   "cell_type": "markdown",
   "metadata": {},
   "source": [
    "#### Back to Fitting"
   ]
  },
  {
   "cell_type": "code",
   "execution_count": 7,
   "metadata": {},
   "outputs": [],
   "source": [
    "# Fit only when we have the unique identifier for both players?\n",
    "rel = TrainingFilter.filter(jd)"
   ]
  },
  {
   "cell_type": "code",
   "execution_count": 8,
   "metadata": {},
   "outputs": [],
   "source": [
    "from tennis_new.ml.elo import ELOModel\n",
    "\n",
    "match_elo = ELOModel(winner_mod=True)"
   ]
  },
  {
   "cell_type": "code",
   "execution_count": 9,
   "metadata": {},
   "outputs": [
    {
     "name": "stdout",
     "output_type": "stream",
     "text": [
      "Automatic pdb calling has been turned OFF\n"
     ]
    }
   ],
   "source": [
    "%pdb\n",
    "match_elo.fit_and_backfill(\n",
    "    rel['p1_link'],\n",
    "    rel['p2_link'],\n",
    "    rel['match_link']\n",
    ")"
   ]
  },
  {
   "cell_type": "code",
   "execution_count": 44,
   "metadata": {},
   "outputs": [],
   "source": [
    "import pandas as pd\n",
    "\n",
    "def get_test_set(df, test_min='2011-01-01', test_max='2015-01-01', test_surface=None, filter_walkovers=True):\n",
    "    date_cond = (\n",
    "        (df['date'] >= test_min) &\n",
    "        (df['date'] < test_max)\n",
    "    )\n",
    "    if test_surface is None:\n",
    "        surface_cond = True\n",
    "    cond = date_cond & surface_cond\n",
    "    if filter_walkovers:\n",
    "        cond &= (~possible_walkover(df))\n",
    "    return df[cond]\n",
    "\n",
    "def eval_mod(mod, df, test_min='2011-01-01', test_max='2015-01-01', test_surface=None, filter_walkovers=False):\n",
    "    # TODO: Filter out walkovers from test set\n",
    "    history_df = pd.DataFrame(mod.history)\n",
    "    test_set = get_test_set(\n",
    "        df,\n",
    "        test_min=test_min,\n",
    "        test_max=test_max,\n",
    "        test_surface=test_surface,\n",
    "        filter_walkovers=filter_walkovers\n",
    "    )\n",
    "    test_set = pd.merge(test_set, history_df, left_on='match_link', right_on='match_id')\n",
    "    \n",
    "    accuracy = (test_set['elo_match_prediction'] > 0.5).mean()\n",
    "    w_odds = test_set[\n",
    "        test_set['p1_odds'].notnull() &\n",
    "        test_set['p2_odds'].notnull() &\n",
    "        (test_set['p1_odds'] != test_set['p2_odds'])\n",
    "    ]\n",
    "    n_w_odds = w_odds.shape[0]\n",
    "    odds_accuracy = (w_odds['p1_odds'] <= w_odds['p2_odds']).mean()\n",
    "    mod_odds_accuracy = (w_odds['elo_match_prediction'] > 0.5).mean()\n",
    "    return {\n",
    "        'overall_accuracy': accuracy,\n",
    "        'odds_accuracy': odds_accuracy,\n",
    "        'model_odds_accuracy': mod_odds_accuracy,\n",
    "        'n_w_odds': n_w_odds\n",
    "    }"
   ]
  },
  {
   "cell_type": "code",
   "execution_count": 45,
   "metadata": {},
   "outputs": [
    {
     "data": {
      "text/plain": [
       "{'overall_accuracy': 0.7275996830794705,\n",
       " 'odds_accuracy': 0.7200428690759507,\n",
       " 'model_odds_accuracy': 0.7074658387051017,\n",
       " 'n_w_odds': 63449}"
      ]
     },
     "execution_count": 45,
     "metadata": {},
     "output_type": "execute_result"
    }
   ],
   "source": [
    "match_eval = eval_mod(match_elo, rel)\n",
    "match_eval"
   ]
  },
  {
   "cell_type": "markdown",
   "metadata": {},
   "source": [
    "#### Try Initial Set Model\n",
    "\n",
    "Note that this model we will definitely have to tune the ELO parameters."
   ]
  },
  {
   "cell_type": "code",
   "execution_count": 13,
   "metadata": {},
   "outputs": [],
   "source": [
    "from tennis_new.ml.elo import ELOModel\n",
    "\n",
    "set_elo = ELOModel(winner_mod=True)"
   ]
  },
  {
   "cell_type": "code",
   "execution_count": 14,
   "metadata": {},
   "outputs": [],
   "source": [
    "set_elo.fit_and_backfill(\n",
    "    rel['p1_link'],\n",
    "    rel['p2_link'],\n",
    "    rel['match_link'],\n",
    "    ys=rel[['p1_sets_won', 'p2_sets_won']].values\n",
    ")"
   ]
  },
  {
   "cell_type": "code",
   "execution_count": 37,
   "metadata": {},
   "outputs": [
    {
     "name": "stdout",
     "output_type": "stream",
     "text": [
      "224662\n"
     ]
    },
    {
     "data": {
      "text/plain": [
       "{'overall_accuracy': 0.7358520800135314,\n",
       " 'odds_accuracy': 0.7200428690759507,\n",
       " 'model_odds_accuracy': 0.7080332235338619,\n",
       " 'n_w_odds': 63449}"
      ]
     },
     "execution_count": 37,
     "metadata": {},
     "output_type": "execute_result"
    }
   ],
   "source": [
    "set_eval = eval_mod(set_elo, rel)\n",
    "set_eval"
   ]
  },
  {
   "cell_type": "markdown",
   "metadata": {},
   "source": [
    "The set model is working pretty well!  We should tune the ELO parameters again"
   ]
  },
  {
   "cell_type": "markdown",
   "metadata": {},
   "source": [
    "This is even worse!  For now, we won't do any filtering"
   ]
  },
  {
   "cell_type": "markdown",
   "metadata": {},
   "source": [
    "#### Tune ELO Parameters"
   ]
  },
  {
   "cell_type": "code",
   "execution_count": 17,
   "metadata": {},
   "outputs": [],
   "source": [
    "from tennis_new.ml.sobol import generate_sobol_seq, get_range_values\n",
    "\n",
    "MIN_C = 100\n",
    "MAX_C = 500\n",
    "MIN_O = 0\n",
    "MAX_O = 50\n",
    "MIN_S = 0\n",
    "MAX_S = 2\n",
    "\n",
    "\n",
    "sobol_vals = generate_sobol_seq(3, 100, 1)\n",
    "cs = get_range_values(MIN_C, MAX_C, sobol_vals[:, 0])\n",
    "os = get_range_values(MIN_O, MAX_O, sobol_vals[:, 1])\n",
    "ss = get_range_values(MIN_S, MAX_S, sobol_vals[:, 2])"
   ]
  },
  {
   "cell_type": "code",
   "execution_count": 18,
   "metadata": {},
   "outputs": [
    {
     "name": "stderr",
     "output_type": "stream",
     "text": [
      "/Users/siddhantjagadish/Documents/DataProjects/tennis_new/venv/lib/python3.7/site-packages/tqdm/autonotebook/__init__.py:18: TqdmExperimentalWarning: Using `tqdm.autonotebook.tqdm` in notebook mode. Use `tqdm.tqdm` instead to force console mode (e.g. in jupyter console)\n",
      "  \" (e.g. in jupyter console)\", TqdmExperimentalWarning)\n"
     ]
    },
    {
     "data": {
      "application/vnd.jupyter.widget-view+json": {
       "model_id": "f113a00dbb9445c1b18ce77d46e2f868",
       "version_major": 2,
       "version_minor": 0
      },
      "text/plain": [
       "HBox(children=(IntProgress(value=1, bar_style='info', max=1), HTML(value='')))"
      ]
     },
     "metadata": {},
     "output_type": "display_data"
    },
    {
     "name": "stdout",
     "output_type": "stream",
     "text": [
      "224662\n",
      "282149\n",
      "224662\n",
      "282149\n",
      "224662\n",
      "282149\n",
      "224662\n",
      "282149\n",
      "224662\n",
      "282149\n",
      "224662\n",
      "282149\n",
      "224662\n",
      "282149\n",
      "224662\n",
      "282149\n",
      "224662\n",
      "282149\n",
      "224662\n",
      "282149\n",
      "224662\n",
      "282149\n",
      "224662\n",
      "282149\n",
      "224662\n",
      "282149\n",
      "224662\n",
      "282149\n",
      "224662\n",
      "282149\n",
      "224662\n",
      "282149\n",
      "224662\n",
      "282149\n",
      "224662\n",
      "282149\n",
      "224662\n",
      "282149\n",
      "224662\n",
      "282149\n",
      "224662\n",
      "282149\n",
      "224662\n",
      "282149\n",
      "224662\n",
      "282149\n",
      "224662\n",
      "282149\n",
      "224662\n",
      "282149\n",
      "224662\n",
      "282149\n",
      "224662\n",
      "282149\n",
      "224662\n",
      "282149\n",
      "224662\n",
      "282149\n",
      "224662\n",
      "282149\n",
      "224662\n",
      "282149\n",
      "224662\n",
      "282149\n",
      "224662\n",
      "282149\n",
      "224662\n",
      "282149\n",
      "224662\n",
      "282149\n",
      "224662\n",
      "282149\n",
      "224662\n",
      "282149\n",
      "224662\n",
      "282149\n",
      "224662\n",
      "282149\n",
      "224662\n",
      "282149\n",
      "224662\n",
      "282149\n",
      "224662\n",
      "282149\n",
      "224662\n",
      "282149\n",
      "224662\n",
      "282149\n",
      "224662\n",
      "282149\n",
      "224662\n",
      "282149\n",
      "224662\n",
      "282149\n",
      "224662\n",
      "282149\n",
      "224662\n",
      "282149\n",
      "224662\n",
      "282149\n",
      "224662\n",
      "282149\n",
      "224662\n",
      "282149\n",
      "224662\n",
      "282149\n",
      "224662\n",
      "282149\n",
      "224662\n",
      "282149\n",
      "224662\n",
      "282149\n",
      "224662\n",
      "282149\n",
      "224662\n",
      "282149\n",
      "224662\n",
      "282149\n",
      "224662\n",
      "282149\n",
      "224662\n",
      "282149\n",
      "224662\n",
      "282149\n",
      "224662\n",
      "282149\n",
      "224662\n",
      "282149\n",
      "224662\n",
      "282149\n",
      "224662\n",
      "282149\n",
      "224662\n",
      "282149\n",
      "224662\n",
      "282149\n",
      "224662\n",
      "282149\n",
      "224662\n",
      "282149\n",
      "224662\n",
      "282149\n",
      "224662\n",
      "282149\n",
      "224662\n",
      "282149\n",
      "224662\n",
      "282149\n",
      "224662\n",
      "282149\n",
      "224662\n",
      "282149\n",
      "224662\n",
      "282149\n",
      "224662\n",
      "282149\n",
      "224662\n",
      "282149\n",
      "224662\n",
      "282149\n",
      "224662\n",
      "282149\n",
      "224662\n",
      "282149\n",
      "224662\n",
      "282149\n",
      "224662\n",
      "282149\n",
      "224662\n",
      "282149\n",
      "224662\n",
      "282149\n",
      "224662\n",
      "282149\n",
      "224662\n",
      "282149\n",
      "224662\n",
      "282149\n",
      "224662\n",
      "282149\n",
      "224662\n",
      "282149\n",
      "224662\n",
      "282149\n",
      "224662\n",
      "282149\n",
      "224662\n",
      "282149\n",
      "224662\n",
      "282149\n",
      "224662\n",
      "282149\n",
      "224662\n",
      "282149\n",
      "224662\n",
      "282149\n",
      "224662\n",
      "282149\n",
      "224662\n",
      "282149\n",
      "\n"
     ]
    }
   ],
   "source": [
    "from tqdm.autonotebook import tqdm\n",
    "\n",
    "out = []\n",
    "test_out = []\n",
    "for c, o, s in tqdm(zip(cs, os, ss)):\n",
    "    cur_elo = ELOModel(c=c, o=o, s=s, winner_mod=True)\n",
    "    cur_elo.fit_and_backfill(\n",
    "        rel['p1_link'],\n",
    "        rel['p2_link'],\n",
    "        rel['match_link'],\n",
    "        ys=rel[['p1_sets_won', 'p2_sets_won']].values\n",
    "    )\n",
    "    cur_eval = eval_mod(cur_elo, rel)\n",
    "    test_eval = eval_mod(cur_elo, rel, test_min='2015-01-01', test_max='2021-01-01')\n",
    "    cur_eval.update({'c': c, 'o': o, 's': s})\n",
    "    test_eval.update({'c': c, 'o': o, 's': s})\n",
    "    out.append(cur_eval)\n",
    "    test_out.append(test_eval)"
   ]
  },
  {
   "cell_type": "code",
   "execution_count": 19,
   "metadata": {},
   "outputs": [],
   "source": [
    "tune_df = pd.DataFrame(out)"
   ]
  },
  {
   "cell_type": "code",
   "execution_count": 20,
   "metadata": {},
   "outputs": [],
   "source": [
    "test_df = pd.DataFrame(test_out)"
   ]
  },
  {
   "cell_type": "code",
   "execution_count": 23,
   "metadata": {},
   "outputs": [
    {
     "data": {
      "text/html": [
       "<div>\n",
       "<style scoped>\n",
       "    .dataframe tbody tr th:only-of-type {\n",
       "        vertical-align: middle;\n",
       "    }\n",
       "\n",
       "    .dataframe tbody tr th {\n",
       "        vertical-align: top;\n",
       "    }\n",
       "\n",
       "    .dataframe thead th {\n",
       "        text-align: right;\n",
       "    }\n",
       "</style>\n",
       "<table border=\"1\" class=\"dataframe\">\n",
       "  <thead>\n",
       "    <tr style=\"text-align: right;\">\n",
       "      <th></th>\n",
       "      <th>c</th>\n",
       "      <th>model_odds_accuracy</th>\n",
       "      <th>n_w_odds</th>\n",
       "      <th>o</th>\n",
       "      <th>odds_accuracy</th>\n",
       "      <th>overall_accuracy</th>\n",
       "      <th>s</th>\n",
       "    </tr>\n",
       "  </thead>\n",
       "  <tbody>\n",
       "    <tr>\n",
       "      <th>66</th>\n",
       "      <td>209.375</td>\n",
       "      <td>0.708380</td>\n",
       "      <td>63449</td>\n",
       "      <td>32.421875</td>\n",
       "      <td>0.720043</td>\n",
       "      <td>0.734730</td>\n",
       "      <td>0.390625</td>\n",
       "    </tr>\n",
       "    <tr>\n",
       "      <th>35</th>\n",
       "      <td>268.750</td>\n",
       "      <td>0.708254</td>\n",
       "      <td>63449</td>\n",
       "      <td>7.031250</td>\n",
       "      <td>0.720043</td>\n",
       "      <td>0.733106</td>\n",
       "      <td>0.468750</td>\n",
       "    </tr>\n",
       "    <tr>\n",
       "      <th>46</th>\n",
       "      <td>143.750</td>\n",
       "      <td>0.708128</td>\n",
       "      <td>63449</td>\n",
       "      <td>35.156250</td>\n",
       "      <td>0.720043</td>\n",
       "      <td>0.732848</td>\n",
       "      <td>0.343750</td>\n",
       "    </tr>\n",
       "    <tr>\n",
       "      <th>77</th>\n",
       "      <td>334.375</td>\n",
       "      <td>0.708033</td>\n",
       "      <td>63449</td>\n",
       "      <td>4.296875</td>\n",
       "      <td>0.720043</td>\n",
       "      <td>0.732029</td>\n",
       "      <td>0.515625</td>\n",
       "    </tr>\n",
       "    <tr>\n",
       "      <th>25</th>\n",
       "      <td>462.500</td>\n",
       "      <td>0.707923</td>\n",
       "      <td>63449</td>\n",
       "      <td>20.312500</td>\n",
       "      <td>0.720043</td>\n",
       "      <td>0.733417</td>\n",
       "      <td>0.562500</td>\n",
       "    </tr>\n",
       "  </tbody>\n",
       "</table>\n",
       "</div>"
      ],
      "text/plain": [
       "          c  model_odds_accuracy  n_w_odds          o  odds_accuracy  \\\n",
       "66  209.375             0.708380     63449  32.421875       0.720043   \n",
       "35  268.750             0.708254     63449   7.031250       0.720043   \n",
       "46  143.750             0.708128     63449  35.156250       0.720043   \n",
       "77  334.375             0.708033     63449   4.296875       0.720043   \n",
       "25  462.500             0.707923     63449  20.312500       0.720043   \n",
       "\n",
       "    overall_accuracy         s  \n",
       "66          0.734730  0.390625  \n",
       "35          0.733106  0.468750  \n",
       "46          0.732848  0.343750  \n",
       "77          0.732029  0.515625  \n",
       "25          0.733417  0.562500  "
      ]
     },
     "execution_count": 23,
     "metadata": {},
     "output_type": "execute_result"
    }
   ],
   "source": [
    "tune_df.sort_values('model_odds_accuracy', ascending=False).head()"
   ]
  },
  {
   "cell_type": "code",
   "execution_count": 38,
   "metadata": {},
   "outputs": [
    {
     "data": {
      "text/plain": [
       "0.03"
      ]
     },
     "execution_count": 38,
     "metadata": {},
     "output_type": "execute_result"
    }
   ],
   "source": [
    "(tune_df['model_odds_accuracy'] > set_eval['model_odds_accuracy']).mean()"
   ]
  },
  {
   "cell_type": "code",
   "execution_count": 39,
   "metadata": {},
   "outputs": [
    {
     "data": {
      "text/html": [
       "<div>\n",
       "<style scoped>\n",
       "    .dataframe tbody tr th:only-of-type {\n",
       "        vertical-align: middle;\n",
       "    }\n",
       "\n",
       "    .dataframe tbody tr th {\n",
       "        vertical-align: top;\n",
       "    }\n",
       "\n",
       "    .dataframe thead th {\n",
       "        text-align: right;\n",
       "    }\n",
       "</style>\n",
       "<table border=\"1\" class=\"dataframe\">\n",
       "  <thead>\n",
       "    <tr style=\"text-align: right;\">\n",
       "      <th></th>\n",
       "      <th>c</th>\n",
       "      <th>model_odds_accuracy</th>\n",
       "      <th>n_w_odds</th>\n",
       "      <th>o</th>\n",
       "      <th>odds_accuracy</th>\n",
       "      <th>overall_accuracy</th>\n",
       "      <th>s</th>\n",
       "    </tr>\n",
       "  </thead>\n",
       "  <tbody>\n",
       "    <tr>\n",
       "      <th>35</th>\n",
       "      <td>268.750</td>\n",
       "      <td>0.716535</td>\n",
       "      <td>166130</td>\n",
       "      <td>7.031250</td>\n",
       "      <td>0.726046</td>\n",
       "      <td>0.731323</td>\n",
       "      <td>0.468750</td>\n",
       "    </tr>\n",
       "    <tr>\n",
       "      <th>66</th>\n",
       "      <td>209.375</td>\n",
       "      <td>0.716367</td>\n",
       "      <td>166130</td>\n",
       "      <td>32.421875</td>\n",
       "      <td>0.726046</td>\n",
       "      <td>0.731628</td>\n",
       "      <td>0.390625</td>\n",
       "    </tr>\n",
       "    <tr>\n",
       "      <th>46</th>\n",
       "      <td>143.750</td>\n",
       "      <td>0.716216</td>\n",
       "      <td>166130</td>\n",
       "      <td>35.156250</td>\n",
       "      <td>0.726046</td>\n",
       "      <td>0.730210</td>\n",
       "      <td>0.343750</td>\n",
       "    </tr>\n",
       "    <tr>\n",
       "      <th>22</th>\n",
       "      <td>187.500</td>\n",
       "      <td>0.716180</td>\n",
       "      <td>166130</td>\n",
       "      <td>42.187500</td>\n",
       "      <td>0.726046</td>\n",
       "      <td>0.727974</td>\n",
       "      <td>0.437500</td>\n",
       "    </tr>\n",
       "    <tr>\n",
       "      <th>25</th>\n",
       "      <td>462.500</td>\n",
       "      <td>0.716180</td>\n",
       "      <td>166130</td>\n",
       "      <td>20.312500</td>\n",
       "      <td>0.726046</td>\n",
       "      <td>0.731188</td>\n",
       "      <td>0.562500</td>\n",
       "    </tr>\n",
       "  </tbody>\n",
       "</table>\n",
       "</div>"
      ],
      "text/plain": [
       "          c  model_odds_accuracy  n_w_odds          o  odds_accuracy  \\\n",
       "35  268.750             0.716535    166130   7.031250       0.726046   \n",
       "66  209.375             0.716367    166130  32.421875       0.726046   \n",
       "46  143.750             0.716216    166130  35.156250       0.726046   \n",
       "22  187.500             0.716180    166130  42.187500       0.726046   \n",
       "25  462.500             0.716180    166130  20.312500       0.726046   \n",
       "\n",
       "    overall_accuracy         s  \n",
       "35          0.731323  0.468750  \n",
       "66          0.731628  0.390625  \n",
       "46          0.730210  0.343750  \n",
       "22          0.727974  0.437500  \n",
       "25          0.731188  0.562500  "
      ]
     },
     "execution_count": 39,
     "metadata": {},
     "output_type": "execute_result"
    }
   ],
   "source": [
    "test_df.sort_values('model_odds_accuracy', ascending=False, inplace=True)\n",
    "test_df.head()"
   ]
  },
  {
   "cell_type": "code",
   "execution_count": 40,
   "metadata": {},
   "outputs": [
    {
     "name": "stdout",
     "output_type": "stream",
     "text": [
      "282149\n"
     ]
    },
    {
     "data": {
      "text/plain": [
       "0.08"
      ]
     },
     "execution_count": 40,
     "metadata": {},
     "output_type": "execute_result"
    }
   ],
   "source": [
    "test_eval = eval_mod(set_elo, rel, test_min='2015-01-01', test_max='2021-01-01')\n",
    "(test_df['model_odds_accuracy'] > test_eval['model_odds_accuracy']).mean()"
   ]
  },
  {
   "cell_type": "code",
   "execution_count": 29,
   "metadata": {},
   "outputs": [
    {
     "data": {
      "text/plain": [
       "(SpearmanrResult(correlation=-0.01588963663264467, pvalue=0.875316933156026),\n",
       " SpearmanrResult(correlation=-0.03675967596759676, pvalue=0.7165317400859508))"
      ]
     },
     "execution_count": 29,
     "metadata": {},
     "output_type": "execute_result"
    }
   ],
   "source": [
    "from scipy.stats import spearmanr\n",
    "\n",
    "(\n",
    "    spearmanr(tune_df['model_odds_accuracy'], test_df['model_odds_accuracy']),\n",
    "    spearmanr(tune_df['overall_accuracy'], test_df['overall_accuracy'])\n",
    ")"
   ]
  },
  {
   "cell_type": "markdown",
   "metadata": {},
   "source": [
    "Above, it loks like the "
   ]
  },
  {
   "cell_type": "code",
   "execution_count": 43,
   "metadata": {},
   "outputs": [
    {
     "data": {
      "text/plain": [
       "<matplotlib.legend.Legend at 0x960ac8c18>"
      ]
     },
     "execution_count": 43,
     "metadata": {},
     "output_type": "execute_result"
    },
    {
     "data": {
      "image/png": "[encoded data removed]",
      "text/plain": [
       "<Figure size 432x288 with 1 Axes>"
      ]
     },
     "metadata": {
      "needs_background": "light"
     },
     "output_type": "display_data"
    }
   ],
   "source": [
    "%matplotlib inline\n",
    "from matplotlib import pyplot as plt\n",
    "import numpy as np\n",
    "\n",
    "def _plot_params(c, o, s):\n",
    "    _x = np.arange(100)\n",
    "    _y = c / (_x + o) ** s\n",
    "    plt.plot(_x, _y, label='c:%0.2f, o: %0.2f, s:%0.2f' % (c, o, s))\n",
    "        \n",
    "\n",
    "def _plot_row(row):\n",
    "    _plot_params(row['c'], row['o'], row['s'])\n",
    "\n",
    "for i in range(5):\n",
    "    _plot_row(tune_df.sort_values('model_odds_accuracy', ascending=False).iloc[i])\n",
    "\n",
    "_default_mod = ELOModel()\n",
    "_plot_params(_default_mod.c, _default_mod.o, _default_mod.s)\n",
    "\n",
    "plt.legend()"
   ]
  },
  {
   "cell_type": "markdown",
   "metadata": {},
   "source": [
    "Above, it looks like the default parameters (those suggested by ESPN) are almost as good as what we've found through tuning."
   ]
  }
 ],
 "metadata": {
  "kernelspec": {
   "display_name": "Python 3",
   "language": "python",
   "name": "python3"
  },
  "language_info": {
   "codemirror_mode": {
    "name": "ipython",
    "version": 3
   },
   "file_extension": ".py",
   "mimetype": "text/x-python",
   "name": "python",
   "nbconvert_exporter": "python",
   "pygments_lexer": "ipython3",
   "version": "3.7.3"
  }
 },
 "nbformat": 4,
 "nbformat_minor": 2
}
