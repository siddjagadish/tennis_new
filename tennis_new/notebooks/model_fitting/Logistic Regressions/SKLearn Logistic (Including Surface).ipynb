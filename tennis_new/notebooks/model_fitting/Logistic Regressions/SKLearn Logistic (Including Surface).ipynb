{
 "cells": [
  {
   "cell_type": "markdown",
   "metadata": {},
   "source": [
    "In this notebook, we attempt to fit two logistic regression models, one with surface-specific intercepts, and the other without them.  We fit both models through SKLearn.  We fit \"set models\" only.  We discover that both models work reasonably well, with the set data providing a small lift in performance in the part of the validation set that has surface information.\n",
    "\n",
    "We also implement different regularization strengths for main effects and surface offsets by using different (smaller) values than 1 for encoding (player, surface) combos.  By using 0.1 instead of 1, for example, the regression that behaves the same way as the unweighted one would require a coefficient 10x as large, meaning the regularization penalty is also 10x as large.  In this way, we can achieve a 10x increase in the strength of the regularization parameter without modifying the sklearn internals."
   ]
  },
  {
   "cell_type": "code",
   "execution_count": 1,
   "metadata": {},
   "outputs": [
    {
     "name": "stderr",
     "output_type": "stream",
     "text": [
      "/Users/siddhantjagadish/Documents/DataProjects/tennis_new/venv_377/lib/python3.7/site-packages/IPython/core/interactiveshell.py:3214: DtypeWarning: Columns (0) have mixed types. Specify dtype option on import or set low_memory=False.\n",
      "  if (yield from self.run_code(code, result)):\n"
     ]
    }
   ],
   "source": [
    "from tennis_new.fetch.tennis_explorer.combiner import read_joined\n",
    "\n",
    "jd = read_joined()"
   ]
  },
  {
   "cell_type": "markdown",
   "metadata": {},
   "source": [
    "#### Run Set ELO\n",
    "\n",
    "Run SetELO first so that we have easy access to training set and validation set and all that"
   ]
  },
  {
   "cell_type": "code",
   "execution_count": 2,
   "metadata": {},
   "outputs": [],
   "source": [
    "from tennis_new.model.config.elo.global_set_elo import SetELO\n",
    "\n",
    "set_elo = SetELO()\n",
    "set_elo.run(jd)"
   ]
  },
  {
   "cell_type": "code",
   "execution_count": 3,
   "metadata": {},
   "outputs": [
    {
     "data": {
      "text/plain": [
       "{'DummyFilter_prediction_AUCMetric': 0.8187031847302881,\n",
       " 'DummyFilter_prediction_AccuracyMetric': 0.7358520800135314,\n",
       " 'DummyFilter_prediction_LogLikelihoodMetric': -0.5226366377611569,\n",
       " 'HasOddsFilter_prediction_AUCMetric': 0.7839029874196454,\n",
       " 'HasOddsFilter_prediction_AccuracyMetric': 0.7056423354253945,\n",
       " 'HasOddsFilter_prediction_LogLikelihoodMetric': -0.5594758958654537,\n",
       " 'DummyFilter_odds_implied_probability_AUCMetric': None,\n",
       " 'DummyFilter_odds_implied_probability_AccuracyMetric': None,\n",
       " 'DummyFilter_odds_implied_probability_LogLikelihoodMetric': None,\n",
       " 'HasOddsFilter_odds_implied_probability_AUCMetric': 0.7937506478103871,\n",
       " 'HasOddsFilter_odds_implied_probability_AccuracyMetric': 0.7114980299325661,\n",
       " 'HasOddsFilter_odds_implied_probability_LogLikelihoodMetric': -0.5501844612492598}"
      ]
     },
     "execution_count": 3,
     "metadata": {},
     "output_type": "execute_result"
    }
   ],
   "source": [
    "set_elo.validation_evaluation"
   ]
  },
  {
   "cell_type": "markdown",
   "metadata": {},
   "source": [
    "#### Define Logit Training X, y\n",
    "\n",
    "Now we'll need to create a sparse dataset for the logistic regression.  We'll start by making sure we have the right date filtering.  Recall that for ELO models, our training data is the full date range.  We'll have to manually cut the dates for our logit model."
   ]
  },
  {
   "cell_type": "code",
   "execution_count": 4,
   "metadata": {},
   "outputs": [
    {
     "data": {
      "text/plain": [
       "(('1997-01-01', '2010-12-31'),\n",
       " ('2011-01-01', '2014-12-31'),\n",
       " ('2015-01-01', '2020-12-21'))"
      ]
     },
     "execution_count": 4,
     "metadata": {},
     "output_type": "execute_result"
    }
   ],
   "source": [
    "elo_training_set = set_elo.training_filter.filter_data(jd)\n",
    "elo_validation_set = set_elo.validation_filter.filter_data(set_elo.all_jd)\n",
    "elo_test_set = set_elo.test_filter.filter_data(set_elo.all_jd)\n",
    "logit_training_set = elo_training_set[\n",
    "    elo_training_set['date'] < elo_validation_set['date'].min()\n",
    "].copy()\n",
    "(\n",
    "    (logit_training_set['date'].min(), logit_training_set['date'].max()),\n",
    "    (elo_validation_set['date'].min(), elo_validation_set['date'].max()),\n",
    "    (elo_test_set['date'].min(), elo_test_set['date'].max())\n",
    ")"
   ]
  },
  {
   "cell_type": "markdown",
   "metadata": {},
   "source": [
    "Next, we'll create enumeration of our player ids so that we can easily create a sparse DF"
   ]
  },
  {
   "cell_type": "code",
   "execution_count": 5,
   "metadata": {},
   "outputs": [],
   "source": [
    "import pandas as pd\n",
    "\n",
    "all_players = pd.concat([\n",
    "    logit_training_set[['p1_link', 'date']].rename(columns={'p1_link': 'pid'}).drop_duplicates('pid', keep='first'),\n",
    "    logit_training_set[['p2_link', 'date']].rename(columns={'p2_link': 'pid'}).drop_duplicates('pid', keep='first')\n",
    "]).sort_values('date', ascending=True)['pid'].drop_duplicates(keep='first')\n",
    "PLAYER_MAP = dict(enumerate(all_players))\n",
    "INV_PLAYER_MAP = {v: k for k, v in PLAYER_MAP.items()}"
   ]
  },
  {
   "cell_type": "code",
   "execution_count": 6,
   "metadata": {},
   "outputs": [
    {
     "data": {
      "text/plain": [
       "{0: 'Various surfaces',\n",
       " 1: 'clay',\n",
       " 2: 'grass',\n",
       " 3: 'hard',\n",
       " 4: 'indoors',\n",
       " 5: 'zMISSING'}"
      ]
     },
     "execution_count": 6,
     "metadata": {},
     "output_type": "execute_result"
    }
   ],
   "source": [
    "MISSING_KEY = 'zMISSING'\n",
    "\n",
    "SURFACE_MAP = dict(enumerate(logit_training_set['surface'].fillna(MISSING_KEY).drop_duplicates().sort_values()))\n",
    "INV_SURFACE_MAP = {v: k for k, v in SURFACE_MAP.items()}\n",
    "SURFACE_MAP"
   ]
  },
  {
   "cell_type": "markdown",
   "metadata": {},
   "source": [
    "#### Now Create Sparse Logit Input\n",
    "\n",
    "This has previously proved problematic, especially when the surface information is involved.  Below, we "
   ]
  },
  {
   "cell_type": "code",
   "execution_count": 7,
   "metadata": {},
   "outputs": [],
   "source": [
    "import numpy as np\n",
    "from scipy.sparse import csc_matrix\n",
    "\n",
    "test_player_map = {\n",
    "    0: '0',\n",
    "    1: '1',\n",
    "    2: '2',\n",
    "    3: '3'\n",
    "} \n",
    "test_surface_map = {\n",
    "    0: 'grass',\n",
    "    1: 'hard',\n",
    "    2: MISSING_KEY\n",
    "}\n",
    "test_df = pd.DataFrame({\n",
    "    'p1_link': ['0', '1', '2', '3'],\n",
    "    'p2_link': ['1', '2', '0', '2'],\n",
    "    'p1_sets_won': [2, 1, 3, 2],\n",
    "    'p2_sets_won': [1, 0, 2, 0],\n",
    "    'surface': ['grass', None, 'hard', 'hard']\n",
    "})\n",
    "\n",
    "\n",
    "MISSING_KEY = 'zMISSING'\n",
    "\n",
    "class DataProcessor(object):\n",
    "\n",
    "    def __init__(self, player_map, surface_map=None, surface_multiplier=1.):\n",
    "        self.player_map = player_map\n",
    "        self.inv_player_map = {v: k for k, v in self.player_map.items()}\n",
    "        self.surface_map = surface_map\n",
    "        if surface_map is not None:\n",
    "            self.inv_surface_map = {v: k for k, v in self.surface_map.items()}\n",
    "            self.handle_surfaces = True \n",
    "        else:\n",
    "            self.inv_surface_map = None\n",
    "            self.handle_surfaces = False\n",
    "        # Value to use for surface_idx variables.  This is a hack to allow for more regularization of surface offsets\n",
    "        # than of the main effect\n",
    "        self.surface_multiplier = surface_multiplier  \n",
    "            \n",
    "    def preprocess_data(self, df, use_sets=True):\n",
    "        _df = df[[\n",
    "            'p1_link',\n",
    "            'p2_link',\n",
    "            'p1_sets_won',\n",
    "            'p2_sets_won',\n",
    "            'surface'\n",
    "        ]].copy()\n",
    "        _df['__p1_idx__'] = _df['p1_link'].map(self.inv_player_map).astype(int)\n",
    "        _df['__p2_idx__'] = _df['p2_link'].map(self.inv_player_map).astype(int)\n",
    "        if use_sets: \n",
    "            _df['__clipped_p1_sets__'] = np.clip(_df['p1_sets_won'], 1, None).astype(int)\n",
    "            _df['__clipped_p2_sets__'] = _df['p2_sets_won'].astype(int)\n",
    "        else:\n",
    "            _df['__clipped_p1_sets__'] = 1 \n",
    "            _df['__clipped_p2_sets__'] = 0 \n",
    "        _df['__total_sets__'] = _df['__clipped_p1_sets__'] + _df['__clipped_p2_sets__']\n",
    "        _df['__column_indices__'] = (\n",
    "            _df['__p1_idx__'].map(lambda x: [x]) +\n",
    "            _df['__p2_idx__'].map(lambda x: [x])\n",
    "        ) \n",
    "        if self.handle_surfaces:\n",
    "            _df['__surface_id__'] = _df['surface'].fillna(MISSING_KEY).map(self.inv_surface_map).astype(int)\n",
    "            _df['__surface_start_idx__'] = (_df['__surface_id__'] + 1) * len(self.player_map)\n",
    "            _df['__p1_surface_idx__'] = _df['__surface_start_idx__'] + _df['__p1_idx__']\n",
    "            _df['__p2_surface_idx__'] = _df['__surface_start_idx__'] + _df['__p2_idx__']\n",
    "            _df['__column_indices__'] += (\n",
    "                _df['__p1_surface_idx__'].map(lambda x: [x]) +\n",
    "                _df['__p2_surface_idx__'].map(lambda x: [x])\n",
    "            )\n",
    "        return _df\n",
    "            \n",
    "    def create_X_y(self, df, use_sets=True):\n",
    "        preprocessed_df = self.preprocess_data(df, use_sets=use_sets)\n",
    "        # Stack data\n",
    "        total_sets = preprocessed_df['__total_sets__'].sum()\n",
    "        col_indices = np.concatenate(\n",
    "            np.repeat(\n",
    "                preprocessed_df['__column_indices__'],\n",
    "                preprocessed_df['__total_sets__']\n",
    "            ).map(np.array).values\n",
    "        )\n",
    "        if self.handle_surfaces:\n",
    "            vals_per_row = [1, -1, self.surface_multiplier, -self.surface_multiplier]\n",
    "            n_cols = len(self.player_map) * (len(self.surface_map) + 1)\n",
    "        else:\n",
    "            vals_per_row = [1, -1]\n",
    "            n_cols = len(self.player_map)\n",
    "\n",
    "        x_values = np.tile(vals_per_row, total_sets)\n",
    "        row_indices = np.repeat(range(total_sets), len(vals_per_row))\n",
    "        assert len(x_values) == len(row_indices) == len(col_indices)\n",
    "\n",
    "        X = csc_matrix(\n",
    "            (x_values, (row_indices, col_indices)),\n",
    "            shape=(total_sets, n_cols)\n",
    "        )\n",
    "        \n",
    "        # create y\n",
    "        ones = preprocessed_df['__clipped_p1_sets__'].map(lambda x: np.ones(x).astype(int).tolist())\n",
    "        zeros = preprocessed_df['__clipped_p2_sets__'].map(lambda x: np.zeros(x).astype(int).tolist())\n",
    "        y = np.concatenate((ones + zeros).tolist())\n",
    "        return X, y"
   ]
  },
  {
   "cell_type": "code",
   "execution_count": 8,
   "metadata": {},
   "outputs": [
    {
     "data": {
      "text/html": [
       "<div>\n",
       "<style scoped>\n",
       "    .dataframe tbody tr th:only-of-type {\n",
       "        vertical-align: middle;\n",
       "    }\n",
       "\n",
       "    .dataframe tbody tr th {\n",
       "        vertical-align: top;\n",
       "    }\n",
       "\n",
       "    .dataframe thead th {\n",
       "        text-align: right;\n",
       "    }\n",
       "</style>\n",
       "<table border=\"1\" class=\"dataframe\">\n",
       "  <thead>\n",
       "    <tr style=\"text-align: right;\">\n",
       "      <th></th>\n",
       "      <th>p1_link</th>\n",
       "      <th>p2_link</th>\n",
       "      <th>p1_sets_won</th>\n",
       "      <th>p2_sets_won</th>\n",
       "      <th>surface</th>\n",
       "    </tr>\n",
       "  </thead>\n",
       "  <tbody>\n",
       "    <tr>\n",
       "      <th>0</th>\n",
       "      <td>0</td>\n",
       "      <td>1</td>\n",
       "      <td>2</td>\n",
       "      <td>1</td>\n",
       "      <td>grass</td>\n",
       "    </tr>\n",
       "    <tr>\n",
       "      <th>1</th>\n",
       "      <td>1</td>\n",
       "      <td>2</td>\n",
       "      <td>1</td>\n",
       "      <td>0</td>\n",
       "      <td>None</td>\n",
       "    </tr>\n",
       "    <tr>\n",
       "      <th>2</th>\n",
       "      <td>2</td>\n",
       "      <td>0</td>\n",
       "      <td>3</td>\n",
       "      <td>2</td>\n",
       "      <td>hard</td>\n",
       "    </tr>\n",
       "    <tr>\n",
       "      <th>3</th>\n",
       "      <td>3</td>\n",
       "      <td>2</td>\n",
       "      <td>2</td>\n",
       "      <td>0</td>\n",
       "      <td>hard</td>\n",
       "    </tr>\n",
       "  </tbody>\n",
       "</table>\n",
       "</div>"
      ],
      "text/plain": [
       "  p1_link p2_link  p1_sets_won  p2_sets_won surface\n",
       "0       0       1            2            1   grass\n",
       "1       1       2            1            0    None\n",
       "2       2       0            3            2    hard\n",
       "3       3       2            2            0    hard"
      ]
     },
     "execution_count": 8,
     "metadata": {},
     "output_type": "execute_result"
    }
   ],
   "source": [
    "test_df"
   ]
  },
  {
   "cell_type": "code",
   "execution_count": 9,
   "metadata": {},
   "outputs": [],
   "source": [
    "test_dp = DataProcessor(test_player_map, surface_map=None)"
   ]
  },
  {
   "cell_type": "code",
   "execution_count": 10,
   "metadata": {},
   "outputs": [
    {
     "data": {
      "text/plain": [
       "(matrix([[ 1, -1,  0,  0],\n",
       "         [ 1, -1,  0,  0],\n",
       "         [ 1, -1,  0,  0],\n",
       "         [ 0,  1, -1,  0],\n",
       "         [-1,  0,  1,  0],\n",
       "         [-1,  0,  1,  0],\n",
       "         [-1,  0,  1,  0],\n",
       "         [-1,  0,  1,  0],\n",
       "         [-1,  0,  1,  0],\n",
       "         [ 0,  0, -1,  1],\n",
       "         [ 0,  0, -1,  1]], dtype=int64),\n",
       " array([1, 1, 0, 1, 1, 1, 1, 0, 0, 1, 1]))"
      ]
     },
     "execution_count": 10,
     "metadata": {},
     "output_type": "execute_result"
    }
   ],
   "source": [
    "X, y = test_dp.create_X_y(test_df, use_sets=True)\n",
    "X.todense(), y"
   ]
  },
  {
   "cell_type": "code",
   "execution_count": 11,
   "metadata": {},
   "outputs": [
    {
     "data": {
      "text/plain": [
       "(matrix([[  1.,  -1.,   0.,   0.,  10., -10.,   0.,   0.,   0.,   0.,\n",
       "            0.,   0.,   0.,   0.,   0.,   0.],\n",
       "         [  1.,  -1.,   0.,   0.,  10., -10.,   0.,   0.,   0.,   0.,\n",
       "            0.,   0.,   0.,   0.,   0.,   0.],\n",
       "         [  1.,  -1.,   0.,   0.,  10., -10.,   0.,   0.,   0.,   0.,\n",
       "            0.,   0.,   0.,   0.,   0.,   0.],\n",
       "         [  0.,   1.,  -1.,   0.,   0.,   0.,   0.,   0.,   0.,   0.,\n",
       "            0.,   0.,   0.,  10., -10.,   0.],\n",
       "         [ -1.,   0.,   1.,   0.,   0.,   0.,   0.,   0., -10.,   0.,\n",
       "           10.,   0.,   0.,   0.,   0.,   0.],\n",
       "         [ -1.,   0.,   1.,   0.,   0.,   0.,   0.,   0., -10.,   0.,\n",
       "           10.,   0.,   0.,   0.,   0.,   0.],\n",
       "         [ -1.,   0.,   1.,   0.,   0.,   0.,   0.,   0., -10.,   0.,\n",
       "           10.,   0.,   0.,   0.,   0.,   0.],\n",
       "         [ -1.,   0.,   1.,   0.,   0.,   0.,   0.,   0., -10.,   0.,\n",
       "           10.,   0.,   0.,   0.,   0.,   0.],\n",
       "         [ -1.,   0.,   1.,   0.,   0.,   0.,   0.,   0., -10.,   0.,\n",
       "           10.,   0.,   0.,   0.,   0.,   0.],\n",
       "         [  0.,   0.,  -1.,   1.,   0.,   0.,   0.,   0.,   0.,   0.,\n",
       "          -10.,  10.,   0.,   0.,   0.,   0.],\n",
       "         [  0.,   0.,  -1.,   1.,   0.,   0.,   0.,   0.,   0.,   0.,\n",
       "          -10.,  10.,   0.,   0.,   0.,   0.]]),\n",
       " array([1, 1, 0, 1, 1, 1, 1, 0, 0, 1, 1]))"
      ]
     },
     "execution_count": 11,
     "metadata": {},
     "output_type": "execute_result"
    }
   ],
   "source": [
    "surface_test_dp = DataProcessor(test_player_map, surface_map=test_surface_map, surface_multiplier=10.)\n",
    "X, y = surface_test_dp.create_X_y(test_df, use_sets=True)\n",
    "X.todense(), y"
   ]
  },
  {
   "cell_type": "markdown",
   "metadata": {},
   "source": [
    "Cool, so our the ressults are as expected for our test DF.  Let's try fitting real logistic regressions now (both with and without surface features) on our real data."
   ]
  },
  {
   "cell_type": "code",
   "execution_count": 12,
   "metadata": {},
   "outputs": [],
   "source": [
    "dp = DataProcessor(PLAYER_MAP, surface_map=None)\n",
    "X, y = dp.create_X_y(logit_training_set, use_sets=True)\n",
    "surface_dp = DataProcessor(PLAYER_MAP, surface_map=SURFACE_MAP, surface_multiplier=0.1)\n",
    "sX, sy = surface_dp.create_X_y(logit_training_set, use_sets=True)"
   ]
  },
  {
   "cell_type": "code",
   "execution_count": 13,
   "metadata": {},
   "outputs": [
    {
     "data": {
      "text/plain": [
       "LogisticRegression(C=1.0, class_weight=None, dual=False, fit_intercept=False,\n",
       "                   intercept_scaling=1, l1_ratio=None, max_iter=100,\n",
       "                   multi_class='warn', n_jobs=None, penalty='l2',\n",
       "                   random_state=None, solver='saga', tol=0.0001, verbose=0,\n",
       "                   warm_start=False)"
      ]
     },
     "execution_count": 13,
     "metadata": {},
     "output_type": "execute_result"
    }
   ],
   "source": [
    "from sklearn.linear_model import LogisticRegression\n",
    "\n",
    "logit = LogisticRegression(fit_intercept=False, solver='saga')\n",
    "logit.fit(\n",
    "    X, y \n",
    ")"
   ]
  },
  {
   "cell_type": "code",
   "execution_count": 14,
   "metadata": {},
   "outputs": [
    {
     "data": {
      "text/plain": [
       "LogisticRegression(C=1.0, class_weight=None, dual=False, fit_intercept=False,\n",
       "                   intercept_scaling=1, l1_ratio=None, max_iter=100,\n",
       "                   multi_class='warn', n_jobs=None, penalty='l2',\n",
       "                   random_state=None, solver='saga', tol=0.0001, verbose=0,\n",
       "                   warm_start=False)"
      ]
     },
     "execution_count": 14,
     "metadata": {},
     "output_type": "execute_result"
    }
   ],
   "source": [
    "from sklearn.linear_model import LogisticRegression\n",
    "\n",
    "surface_logit = LogisticRegression(fit_intercept=False, solver='saga')\n",
    "surface_logit.fit(\n",
    "    sX, sy \n",
    ")"
   ]
  },
  {
   "cell_type": "code",
   "execution_count": 15,
   "metadata": {},
   "outputs": [],
   "source": [
    "logit_validation_set = elo_validation_set[\n",
    "    elo_validation_set['p1_link'].isin(PLAYER_MAP.values()) &\n",
    "    elo_validation_set['p2_link'].isin(PLAYER_MAP.values()) &\n",
    "    (elo_validation_set['date'] < '2012-01-01')\n",
    "].copy()\n",
    "val_X, val_y = dp.create_X_y(logit_validation_set, use_sets=False)\n",
    "val_sX, val_sy = surface_dp.create_X_y(logit_validation_set, use_sets=False)"
   ]
  },
  {
   "cell_type": "code",
   "execution_count": 16,
   "metadata": {},
   "outputs": [
    {
     "data": {
      "text/plain": [
       "(0.7403709304394236, 0.7056573563422879, 0.7067692581391212)"
      ]
     },
     "execution_count": 16,
     "metadata": {},
     "output_type": "execute_result"
    }
   ],
   "source": [
    "# How does our ELO model perform on the validation set?\n",
    "(\n",
    "    (logit_validation_set['prediction'] > 0.5).mean(),\n",
    "    (logit.predict_proba(val_X)[:, 1] > 0.5).mean(),\n",
    "    (surface_logit.predict_proba(val_sX)[:, 1] > 0.5).mean()\n",
    ")"
   ]
  },
  {
   "cell_type": "code",
   "execution_count": 17,
   "metadata": {},
   "outputs": [],
   "source": [
    "has_surface_validation_set = logit_validation_set[\n",
    "    logit_validation_set['surface'].notnull()\n",
    "].copy()\n",
    "hs_val_X, hs_val_y = dp.create_X_y(has_surface_validation_set, use_sets=False)\n",
    "hs_val_sX, hs_val_sy = surface_dp.create_X_y(has_surface_validation_set, use_sets=False)"
   ]
  },
  {
   "cell_type": "code",
   "execution_count": 18,
   "metadata": {},
   "outputs": [
    {
     "data": {
      "text/plain": [
       "(0.7098164524039533, 0.6701345024894108, 0.6737014193356617)"
      ]
     },
     "execution_count": 18,
     "metadata": {},
     "output_type": "execute_result"
    }
   ],
   "source": [
    "(\n",
    "    (has_surface_validation_set['prediction'] > 0.5).mean(),\n",
    "    (logit.predict_proba(hs_val_X)[:, 1] > 0.5).mean(),\n",
    "    (surface_logit.predict_proba(hs_val_sX)[:, 1] > 0.5).mean()\n",
    ")"
   ]
  },
  {
   "cell_type": "markdown",
   "metadata": {},
   "source": [
    "Above, we gain a reasonable amount of accuracy from including surface information with a 10x relative regularization penalty.  Let's see if this is a significant difference: "
   ]
  },
  {
   "cell_type": "code",
   "execution_count": 20,
   "metadata": {},
   "outputs": [
    {
     "data": {
      "text/plain": [
       "0.5417424696706867"
      ]
     },
     "execution_count": 20,
     "metadata": {},
     "output_type": "execute_result"
    }
   ],
   "source": [
    "from scipy.stats import fisher_exact\n",
    "\n",
    "fisher_exact(\n",
    "    [\n",
    "        [\n",
    "            (logit.predict_proba(hs_val_X)[:, 1] > 0.5).sum(),\n",
    "            (logit.predict_proba(hs_val_X)[:, 1] <= 0.5).sum(),\n",
    "        ],\n",
    "        [\n",
    "            (surface_logit.predict_proba(hs_val_sX)[:, 1] > 0.5).sum(),\n",
    "            (surface_logit.predict_proba(hs_val_sX)[:, 1] <= 0.5).sum()\n",
    "        ]\n",
    "    ]\n",
    ")[1]"
   ]
  },
  {
   "cell_type": "markdown",
   "metadata": {},
   "source": [
    "Above, it looks like this is *not* a significant difference for our size of data.\n",
    "\n",
    "Coefficient inspection -- Let's take a look at the coefficients and see if the rankings our model recovers are consistent with our expectations."
   ]
  },
  {
   "cell_type": "code",
   "execution_count": 22,
   "metadata": {},
   "outputs": [
    {
     "data": {
      "text/html": [
       "<div>\n",
       "<style scoped>\n",
       "    .dataframe tbody tr th:only-of-type {\n",
       "        vertical-align: middle;\n",
       "    }\n",
       "\n",
       "    .dataframe tbody tr th {\n",
       "        vertical-align: top;\n",
       "    }\n",
       "\n",
       "    .dataframe thead th {\n",
       "        text-align: right;\n",
       "    }\n",
       "</style>\n",
       "<table border=\"1\" class=\"dataframe\">\n",
       "  <thead>\n",
       "    <tr style=\"text-align: right;\">\n",
       "      <th></th>\n",
       "      <th>player_idx</th>\n",
       "      <th>coef</th>\n",
       "      <th>player_link</th>\n",
       "    </tr>\n",
       "  </thead>\n",
       "  <tbody>\n",
       "    <tr>\n",
       "      <th>1552</th>\n",
       "      <td>1552</td>\n",
       "      <td>5.180929</td>\n",
       "      <td>/player/nadal/</td>\n",
       "    </tr>\n",
       "    <tr>\n",
       "      <th>836</th>\n",
       "      <td>836</td>\n",
       "      <td>5.178273</td>\n",
       "      <td>/player/federer/</td>\n",
       "    </tr>\n",
       "    <tr>\n",
       "      <th>233</th>\n",
       "      <td>233</td>\n",
       "      <td>4.873466</td>\n",
       "      <td>/player/agassi/</td>\n",
       "    </tr>\n",
       "    <tr>\n",
       "      <th>1214</th>\n",
       "      <td>1214</td>\n",
       "      <td>4.856656</td>\n",
       "      <td>/player/roddick/</td>\n",
       "    </tr>\n",
       "    <tr>\n",
       "      <th>139</th>\n",
       "      <td>139</td>\n",
       "      <td>4.833060</td>\n",
       "      <td>/player/sampras/</td>\n",
       "    </tr>\n",
       "  </tbody>\n",
       "</table>\n",
       "</div>"
      ],
      "text/plain": [
       "      player_idx      coef       player_link\n",
       "1552        1552  5.180929    /player/nadal/\n",
       "836          836  5.178273  /player/federer/\n",
       "233          233  4.873466   /player/agassi/\n",
       "1214        1214  4.856656  /player/roddick/\n",
       "139          139  4.833060  /player/sampras/"
      ]
     },
     "execution_count": 22,
     "metadata": {},
     "output_type": "execute_result"
    }
   ],
   "source": [
    "coef_df = pd.DataFrame({\n",
    "    'player_idx': range(len(PLAYER_MAP)),\n",
    "    'coef': logit.coef_[0, :]\n",
    "})\n",
    "coef_df['player_link'] = coef_df['player_idx'].map(PLAYER_MAP)\n",
    "coef_df.sort_values('coef', ascending=False).head()"
   ]
  },
  {
   "cell_type": "code",
   "execution_count": 23,
   "metadata": {},
   "outputs": [
    {
     "data": {
      "text/html": [
       "<div>\n",
       "<style scoped>\n",
       "    .dataframe tbody tr th:only-of-type {\n",
       "        vertical-align: middle;\n",
       "    }\n",
       "\n",
       "    .dataframe tbody tr th {\n",
       "        vertical-align: top;\n",
       "    }\n",
       "\n",
       "    .dataframe thead th {\n",
       "        text-align: right;\n",
       "    }\n",
       "</style>\n",
       "<table border=\"1\" class=\"dataframe\">\n",
       "  <thead>\n",
       "    <tr style=\"text-align: right;\">\n",
       "      <th></th>\n",
       "      <th>main</th>\n",
       "      <th>Various surfaces</th>\n",
       "      <th>clay</th>\n",
       "      <th>grass</th>\n",
       "      <th>hard</th>\n",
       "      <th>indoors</th>\n",
       "      <th>zMISSING</th>\n",
       "      <th>player_idx</th>\n",
       "      <th>player_link</th>\n",
       "    </tr>\n",
       "  </thead>\n",
       "  <tbody>\n",
       "    <tr>\n",
       "      <th>836</th>\n",
       "      <td>5.168220</td>\n",
       "      <td>0.097555</td>\n",
       "      <td>-1.249422</td>\n",
       "      <td>1.257279</td>\n",
       "      <td>1.364180</td>\n",
       "      <td>-0.952770</td>\n",
       "      <td>0.000000</td>\n",
       "      <td>836</td>\n",
       "      <td>/player/federer/</td>\n",
       "    </tr>\n",
       "    <tr>\n",
       "      <th>1552</th>\n",
       "      <td>5.139812</td>\n",
       "      <td>0.463256</td>\n",
       "      <td>2.914234</td>\n",
       "      <td>0.074189</td>\n",
       "      <td>-0.320102</td>\n",
       "      <td>-2.222621</td>\n",
       "      <td>-0.394975</td>\n",
       "      <td>1552</td>\n",
       "      <td>/player/nadal/</td>\n",
       "    </tr>\n",
       "    <tr>\n",
       "      <th>1214</th>\n",
       "      <td>4.826429</td>\n",
       "      <td>-0.160260</td>\n",
       "      <td>-0.776010</td>\n",
       "      <td>0.584205</td>\n",
       "      <td>0.972544</td>\n",
       "      <td>-0.137837</td>\n",
       "      <td>0.000000</td>\n",
       "      <td>1214</td>\n",
       "      <td>/player/roddick/</td>\n",
       "    </tr>\n",
       "    <tr>\n",
       "      <th>233</th>\n",
       "      <td>4.819809</td>\n",
       "      <td>0.088843</td>\n",
       "      <td>-0.712436</td>\n",
       "      <td>-0.002006</td>\n",
       "      <td>1.183215</td>\n",
       "      <td>-0.075635</td>\n",
       "      <td>0.000000</td>\n",
       "      <td>233</td>\n",
       "      <td>/player/agassi/</td>\n",
       "    </tr>\n",
       "    <tr>\n",
       "      <th>139</th>\n",
       "      <td>4.790050</td>\n",
       "      <td>-0.144149</td>\n",
       "      <td>-2.086960</td>\n",
       "      <td>1.057952</td>\n",
       "      <td>0.803580</td>\n",
       "      <td>0.848583</td>\n",
       "      <td>0.000000</td>\n",
       "      <td>139</td>\n",
       "      <td>/player/sampras/</td>\n",
       "    </tr>\n",
       "  </tbody>\n",
       "</table>\n",
       "</div>"
      ],
      "text/plain": [
       "          main  Various surfaces      clay     grass      hard   indoors  \\\n",
       "836   5.168220          0.097555 -1.249422  1.257279  1.364180 -0.952770   \n",
       "1552  5.139812          0.463256  2.914234  0.074189 -0.320102 -2.222621   \n",
       "1214  4.826429         -0.160260 -0.776010  0.584205  0.972544 -0.137837   \n",
       "233   4.819809          0.088843 -0.712436 -0.002006  1.183215 -0.075635   \n",
       "139   4.790050         -0.144149 -2.086960  1.057952  0.803580  0.848583   \n",
       "\n",
       "      zMISSING  player_idx       player_link  \n",
       "836   0.000000         836  /player/federer/  \n",
       "1552 -0.394975        1552    /player/nadal/  \n",
       "1214  0.000000        1214  /player/roddick/  \n",
       "233   0.000000         233   /player/agassi/  \n",
       "139   0.000000         139  /player/sampras/  "
      ]
     },
     "execution_count": 23,
     "metadata": {},
     "output_type": "execute_result"
    }
   ],
   "source": [
    "_coefs = surface_logit.coef_[0, :].reshape(\n",
    "    (len(SURFACE_MAP) + 1, len(PLAYER_MAP)),\n",
    ").T\n",
    "s_coef_df = pd.DataFrame(_coefs, columns=['main'] + sorted(SURFACE_MAP.values()))\n",
    "s_coef_df['player_idx'] = range(len(s_coef_df))\n",
    "s_coef_df['player_link'] = s_coef_df['player_idx'].map(PLAYER_MAP)\n",
    "s_coef_df.sort_values('main', ascending=False).head(5)"
   ]
  },
  {
   "cell_type": "markdown",
   "metadata": {},
   "source": [
    "Let's see who has the biggest surface-specific adjustments:"
   ]
  },
  {
   "cell_type": "code",
   "execution_count": 24,
   "metadata": {},
   "outputs": [
    {
     "data": {
      "text/html": [
       "<div>\n",
       "<style scoped>\n",
       "    .dataframe tbody tr th:only-of-type {\n",
       "        vertical-align: middle;\n",
       "    }\n",
       "\n",
       "    .dataframe tbody tr th {\n",
       "        vertical-align: top;\n",
       "    }\n",
       "\n",
       "    .dataframe thead th {\n",
       "        text-align: right;\n",
       "    }\n",
       "</style>\n",
       "<table border=\"1\" class=\"dataframe\">\n",
       "  <thead>\n",
       "    <tr style=\"text-align: right;\">\n",
       "      <th></th>\n",
       "      <th>main</th>\n",
       "      <th>clay</th>\n",
       "      <th>player_link</th>\n",
       "    </tr>\n",
       "  </thead>\n",
       "  <tbody>\n",
       "    <tr>\n",
       "      <th>8501</th>\n",
       "      <td>3.286023</td>\n",
       "      <td>3.528068</td>\n",
       "      <td>/player/bellucci/</td>\n",
       "    </tr>\n",
       "    <tr>\n",
       "      <th>1497</th>\n",
       "      <td>3.605316</td>\n",
       "      <td>3.486916</td>\n",
       "      <td>/player/starace/</td>\n",
       "    </tr>\n",
       "    <tr>\n",
       "      <th>1005</th>\n",
       "      <td>3.517185</td>\n",
       "      <td>3.179439</td>\n",
       "      <td>/player/volandri/</td>\n",
       "    </tr>\n",
       "    <tr>\n",
       "      <th>326</th>\n",
       "      <td>3.477992</td>\n",
       "      <td>3.017018</td>\n",
       "      <td>/player/portas/</td>\n",
       "    </tr>\n",
       "    <tr>\n",
       "      <th>1552</th>\n",
       "      <td>5.139812</td>\n",
       "      <td>2.914234</td>\n",
       "      <td>/player/nadal/</td>\n",
       "    </tr>\n",
       "    <tr>\n",
       "      <th>982</th>\n",
       "      <td>3.279763</td>\n",
       "      <td>2.635250</td>\n",
       "      <td>/player/vassallo-arguello/</td>\n",
       "    </tr>\n",
       "    <tr>\n",
       "      <th>86</th>\n",
       "      <td>3.888661</td>\n",
       "      <td>2.622425</td>\n",
       "      <td>/player/mantilla/</td>\n",
       "    </tr>\n",
       "    <tr>\n",
       "      <th>151</th>\n",
       "      <td>3.337208</td>\n",
       "      <td>2.540238</td>\n",
       "      <td>/player/blanco/</td>\n",
       "    </tr>\n",
       "    <tr>\n",
       "      <th>1168</th>\n",
       "      <td>3.726788</td>\n",
       "      <td>2.519917</td>\n",
       "      <td>/player/acasuso/</td>\n",
       "    </tr>\n",
       "    <tr>\n",
       "      <th>4779</th>\n",
       "      <td>3.919391</td>\n",
       "      <td>2.513787</td>\n",
       "      <td>/player/almagro/</td>\n",
       "    </tr>\n",
       "  </tbody>\n",
       "</table>\n",
       "</div>"
      ],
      "text/plain": [
       "          main      clay                 player_link\n",
       "8501  3.286023  3.528068           /player/bellucci/\n",
       "1497  3.605316  3.486916            /player/starace/\n",
       "1005  3.517185  3.179439           /player/volandri/\n",
       "326   3.477992  3.017018             /player/portas/\n",
       "1552  5.139812  2.914234              /player/nadal/\n",
       "982   3.279763  2.635250  /player/vassallo-arguello/\n",
       "86    3.888661  2.622425           /player/mantilla/\n",
       "151   3.337208  2.540238             /player/blanco/\n",
       "1168  3.726788  2.519917            /player/acasuso/\n",
       "4779  3.919391  2.513787            /player/almagro/"
      ]
     },
     "execution_count": 24,
     "metadata": {},
     "output_type": "execute_result"
    }
   ],
   "source": [
    "s_coef_df.sort_values('clay', ascending=False)[['main', 'clay', 'player_link']].head(10)"
   ]
  },
  {
   "cell_type": "code",
   "execution_count": 25,
   "metadata": {},
   "outputs": [
    {
     "data": {
      "text/html": [
       "<div>\n",
       "<style scoped>\n",
       "    .dataframe tbody tr th:only-of-type {\n",
       "        vertical-align: middle;\n",
       "    }\n",
       "\n",
       "    .dataframe tbody tr th {\n",
       "        vertical-align: top;\n",
       "    }\n",
       "\n",
       "    .dataframe thead th {\n",
       "        text-align: right;\n",
       "    }\n",
       "</style>\n",
       "<table border=\"1\" class=\"dataframe\">\n",
       "  <thead>\n",
       "    <tr style=\"text-align: right;\">\n",
       "      <th></th>\n",
       "      <th>main</th>\n",
       "      <th>Various surfaces</th>\n",
       "      <th>clay</th>\n",
       "      <th>grass</th>\n",
       "      <th>hard</th>\n",
       "      <th>indoors</th>\n",
       "      <th>zMISSING</th>\n",
       "      <th>player_idx</th>\n",
       "      <th>player_link</th>\n",
       "    </tr>\n",
       "  </thead>\n",
       "  <tbody>\n",
       "    <tr>\n",
       "      <th>1552</th>\n",
       "      <td>5.139812</td>\n",
       "      <td>5.603068</td>\n",
       "      <td>8.054046</td>\n",
       "      <td>5.214000</td>\n",
       "      <td>4.819710</td>\n",
       "      <td>2.917190</td>\n",
       "      <td>4.744837</td>\n",
       "      <td>1552</td>\n",
       "      <td>/player/nadal/</td>\n",
       "    </tr>\n",
       "    <tr>\n",
       "      <th>1497</th>\n",
       "      <td>3.605316</td>\n",
       "      <td>4.338144</td>\n",
       "      <td>7.092232</td>\n",
       "      <td>2.873911</td>\n",
       "      <td>2.073353</td>\n",
       "      <td>2.081617</td>\n",
       "      <td>3.533171</td>\n",
       "      <td>1497</td>\n",
       "      <td>/player/starace/</td>\n",
       "    </tr>\n",
       "    <tr>\n",
       "      <th>8501</th>\n",
       "      <td>3.286023</td>\n",
       "      <td>3.044252</td>\n",
       "      <td>6.814091</td>\n",
       "      <td>3.348598</td>\n",
       "      <td>3.866585</td>\n",
       "      <td>3.491467</td>\n",
       "      <td>-0.520251</td>\n",
       "      <td>8501</td>\n",
       "      <td>/player/bellucci/</td>\n",
       "    </tr>\n",
       "    <tr>\n",
       "      <th>1005</th>\n",
       "      <td>3.517185</td>\n",
       "      <td>3.751706</td>\n",
       "      <td>6.696624</td>\n",
       "      <td>3.143398</td>\n",
       "      <td>1.865084</td>\n",
       "      <td>2.480833</td>\n",
       "      <td>3.517185</td>\n",
       "      <td>1005</td>\n",
       "      <td>/player/volandri/</td>\n",
       "    </tr>\n",
       "    <tr>\n",
       "      <th>86</th>\n",
       "      <td>3.888661</td>\n",
       "      <td>3.810278</td>\n",
       "      <td>6.511087</td>\n",
       "      <td>3.023639</td>\n",
       "      <td>3.462724</td>\n",
       "      <td>3.073589</td>\n",
       "      <td>3.839517</td>\n",
       "      <td>86</td>\n",
       "      <td>/player/mantilla/</td>\n",
       "    </tr>\n",
       "  </tbody>\n",
       "</table>\n",
       "</div>"
      ],
      "text/plain": [
       "          main  Various surfaces      clay     grass      hard   indoors  \\\n",
       "1552  5.139812          5.603068  8.054046  5.214000  4.819710  2.917190   \n",
       "1497  3.605316          4.338144  7.092232  2.873911  2.073353  2.081617   \n",
       "8501  3.286023          3.044252  6.814091  3.348598  3.866585  3.491467   \n",
       "1005  3.517185          3.751706  6.696624  3.143398  1.865084  2.480833   \n",
       "86    3.888661          3.810278  6.511087  3.023639  3.462724  3.073589   \n",
       "\n",
       "      zMISSING  player_idx        player_link  \n",
       "1552  4.744837        1552     /player/nadal/  \n",
       "1497  3.533171        1497   /player/starace/  \n",
       "8501 -0.520251        8501  /player/bellucci/  \n",
       "1005  3.517185        1005  /player/volandri/  \n",
       "86    3.839517          86  /player/mantilla/  "
      ]
     },
     "execution_count": 25,
     "metadata": {},
     "output_type": "execute_result"
    }
   ],
   "source": [
    "surface_quality_df = s_coef_df.copy()\n",
    "for col in SURFACE_MAP.values():\n",
    "    surface_quality_df[col] = surface_quality_df['main'] + surface_quality_df[col]\n",
    "\n",
    "surface_quality_df.sort_values('clay', ascending=False).head(5)"
   ]
  },
  {
   "cell_type": "code",
   "execution_count": 26,
   "metadata": {},
   "outputs": [
    {
     "data": {
      "text/html": [
       "<div>\n",
       "<style scoped>\n",
       "    .dataframe tbody tr th:only-of-type {\n",
       "        vertical-align: middle;\n",
       "    }\n",
       "\n",
       "    .dataframe tbody tr th {\n",
       "        vertical-align: top;\n",
       "    }\n",
       "\n",
       "    .dataframe thead th {\n",
       "        text-align: right;\n",
       "    }\n",
       "</style>\n",
       "<table border=\"1\" class=\"dataframe\">\n",
       "  <thead>\n",
       "    <tr style=\"text-align: right;\">\n",
       "      <th></th>\n",
       "      <th>main</th>\n",
       "      <th>Various surfaces</th>\n",
       "      <th>clay</th>\n",
       "      <th>grass</th>\n",
       "      <th>hard</th>\n",
       "      <th>indoors</th>\n",
       "      <th>zMISSING</th>\n",
       "      <th>player_idx</th>\n",
       "      <th>player_link</th>\n",
       "    </tr>\n",
       "  </thead>\n",
       "  <tbody>\n",
       "    <tr>\n",
       "      <th>836</th>\n",
       "      <td>5.168220</td>\n",
       "      <td>5.265775</td>\n",
       "      <td>3.918798</td>\n",
       "      <td>6.425499</td>\n",
       "      <td>6.532399</td>\n",
       "      <td>4.215450</td>\n",
       "      <td>5.168220</td>\n",
       "      <td>836</td>\n",
       "      <td>/player/federer/</td>\n",
       "    </tr>\n",
       "    <tr>\n",
       "      <th>3325</th>\n",
       "      <td>4.507004</td>\n",
       "      <td>4.702344</td>\n",
       "      <td>2.952930</td>\n",
       "      <td>4.721055</td>\n",
       "      <td>6.518082</td>\n",
       "      <td>5.532682</td>\n",
       "      <td>3.065629</td>\n",
       "      <td>3325</td>\n",
       "      <td>/player/murray/</td>\n",
       "    </tr>\n",
       "    <tr>\n",
       "      <th>6873</th>\n",
       "      <td>4.700031</td>\n",
       "      <td>4.715040</td>\n",
       "      <td>5.238796</td>\n",
       "      <td>4.598778</td>\n",
       "      <td>6.302329</td>\n",
       "      <td>4.457974</td>\n",
       "      <td>3.357273</td>\n",
       "      <td>6873</td>\n",
       "      <td>/player/djokovic/</td>\n",
       "    </tr>\n",
       "    <tr>\n",
       "      <th>8879</th>\n",
       "      <td>4.172113</td>\n",
       "      <td>4.476857</td>\n",
       "      <td>4.628081</td>\n",
       "      <td>4.192386</td>\n",
       "      <td>6.156748</td>\n",
       "      <td>4.214228</td>\n",
       "      <td>1.781587</td>\n",
       "      <td>8879</td>\n",
       "      <td>/player/del-potro/</td>\n",
       "    </tr>\n",
       "    <tr>\n",
       "      <th>222</th>\n",
       "      <td>4.019767</td>\n",
       "      <td>3.394987</td>\n",
       "      <td>2.571767</td>\n",
       "      <td>4.448368</td>\n",
       "      <td>6.018731</td>\n",
       "      <td>4.066957</td>\n",
       "      <td>4.019767</td>\n",
       "      <td>222</td>\n",
       "      <td>/player/kiefer/</td>\n",
       "    </tr>\n",
       "  </tbody>\n",
       "</table>\n",
       "</div>"
      ],
      "text/plain": [
       "          main  Various surfaces      clay     grass      hard   indoors  \\\n",
       "836   5.168220          5.265775  3.918798  6.425499  6.532399  4.215450   \n",
       "3325  4.507004          4.702344  2.952930  4.721055  6.518082  5.532682   \n",
       "6873  4.700031          4.715040  5.238796  4.598778  6.302329  4.457974   \n",
       "8879  4.172113          4.476857  4.628081  4.192386  6.156748  4.214228   \n",
       "222   4.019767          3.394987  2.571767  4.448368  6.018731  4.066957   \n",
       "\n",
       "      zMISSING  player_idx         player_link  \n",
       "836   5.168220         836    /player/federer/  \n",
       "3325  3.065629        3325     /player/murray/  \n",
       "6873  3.357273        6873   /player/djokovic/  \n",
       "8879  1.781587        8879  /player/del-potro/  \n",
       "222   4.019767         222     /player/kiefer/  "
      ]
     },
     "execution_count": 26,
     "metadata": {},
     "output_type": "execute_result"
    }
   ],
   "source": [
    "surface_quality_df.sort_values('hard', ascending=False).head(5)"
   ]
  },
  {
   "cell_type": "code",
   "execution_count": 27,
   "metadata": {},
   "outputs": [
    {
     "data": {
      "text/html": [
       "<div>\n",
       "<style scoped>\n",
       "    .dataframe tbody tr th:only-of-type {\n",
       "        vertical-align: middle;\n",
       "    }\n",
       "\n",
       "    .dataframe tbody tr th {\n",
       "        vertical-align: top;\n",
       "    }\n",
       "\n",
       "    .dataframe thead th {\n",
       "        text-align: right;\n",
       "    }\n",
       "</style>\n",
       "<table border=\"1\" class=\"dataframe\">\n",
       "  <thead>\n",
       "    <tr style=\"text-align: right;\">\n",
       "      <th></th>\n",
       "      <th>main</th>\n",
       "      <th>Various surfaces</th>\n",
       "      <th>clay</th>\n",
       "      <th>grass</th>\n",
       "      <th>hard</th>\n",
       "      <th>indoors</th>\n",
       "      <th>zMISSING</th>\n",
       "      <th>player_idx</th>\n",
       "      <th>player_link</th>\n",
       "    </tr>\n",
       "  </thead>\n",
       "  <tbody>\n",
       "    <tr>\n",
       "      <th>836</th>\n",
       "      <td>5.168220</td>\n",
       "      <td>5.265775</td>\n",
       "      <td>3.918798</td>\n",
       "      <td>6.425499</td>\n",
       "      <td>6.532399</td>\n",
       "      <td>4.215450</td>\n",
       "      <td>5.168220</td>\n",
       "      <td>836</td>\n",
       "      <td>/player/federer/</td>\n",
       "    </tr>\n",
       "    <tr>\n",
       "      <th>139</th>\n",
       "      <td>4.790050</td>\n",
       "      <td>4.645901</td>\n",
       "      <td>2.703089</td>\n",
       "      <td>5.848001</td>\n",
       "      <td>5.593629</td>\n",
       "      <td>5.638633</td>\n",
       "      <td>4.790050</td>\n",
       "      <td>139</td>\n",
       "      <td>/player/sampras/</td>\n",
       "    </tr>\n",
       "    <tr>\n",
       "      <th>152</th>\n",
       "      <td>4.657749</td>\n",
       "      <td>4.993575</td>\n",
       "      <td>3.479018</td>\n",
       "      <td>5.689429</td>\n",
       "      <td>5.159737</td>\n",
       "      <td>4.432763</td>\n",
       "      <td>4.657749</td>\n",
       "      <td>152</td>\n",
       "      <td>/player/hewitt/</td>\n",
       "    </tr>\n",
       "    <tr>\n",
       "      <th>1214</th>\n",
       "      <td>4.826429</td>\n",
       "      <td>4.666169</td>\n",
       "      <td>4.050419</td>\n",
       "      <td>5.410634</td>\n",
       "      <td>5.798973</td>\n",
       "      <td>4.688592</td>\n",
       "      <td>4.826429</td>\n",
       "      <td>1214</td>\n",
       "      <td>/player/roddick/</td>\n",
       "    </tr>\n",
       "    <tr>\n",
       "      <th>4</th>\n",
       "      <td>4.466138</td>\n",
       "      <td>4.681318</td>\n",
       "      <td>3.764912</td>\n",
       "      <td>5.380417</td>\n",
       "      <td>4.855823</td>\n",
       "      <td>4.094836</td>\n",
       "      <td>4.466138</td>\n",
       "      <td>4</td>\n",
       "      <td>/player/rafter/</td>\n",
       "    </tr>\n",
       "  </tbody>\n",
       "</table>\n",
       "</div>"
      ],
      "text/plain": [
       "          main  Various surfaces      clay     grass      hard   indoors  \\\n",
       "836   5.168220          5.265775  3.918798  6.425499  6.532399  4.215450   \n",
       "139   4.790050          4.645901  2.703089  5.848001  5.593629  5.638633   \n",
       "152   4.657749          4.993575  3.479018  5.689429  5.159737  4.432763   \n",
       "1214  4.826429          4.666169  4.050419  5.410634  5.798973  4.688592   \n",
       "4     4.466138          4.681318  3.764912  5.380417  4.855823  4.094836   \n",
       "\n",
       "      zMISSING  player_idx       player_link  \n",
       "836   5.168220         836  /player/federer/  \n",
       "139   4.790050         139  /player/sampras/  \n",
       "152   4.657749         152   /player/hewitt/  \n",
       "1214  4.826429        1214  /player/roddick/  \n",
       "4     4.466138           4   /player/rafter/  "
      ]
     },
     "execution_count": 27,
     "metadata": {},
     "output_type": "execute_result"
    }
   ],
   "source": [
    "surface_quality_df.sort_values('grass', ascending=False).head(5)"
   ]
  },
  {
   "cell_type": "code",
   "execution_count": 28,
   "metadata": {},
   "outputs": [
    {
     "data": {
      "text/html": [
       "<div>\n",
       "<style scoped>\n",
       "    .dataframe tbody tr th:only-of-type {\n",
       "        vertical-align: middle;\n",
       "    }\n",
       "\n",
       "    .dataframe tbody tr th {\n",
       "        vertical-align: top;\n",
       "    }\n",
       "\n",
       "    .dataframe thead th {\n",
       "        text-align: right;\n",
       "    }\n",
       "</style>\n",
       "<table border=\"1\" class=\"dataframe\">\n",
       "  <thead>\n",
       "    <tr style=\"text-align: right;\">\n",
       "      <th></th>\n",
       "      <th>main</th>\n",
       "      <th>Various surfaces</th>\n",
       "      <th>clay</th>\n",
       "      <th>grass</th>\n",
       "      <th>hard</th>\n",
       "      <th>indoors</th>\n",
       "      <th>zMISSING</th>\n",
       "      <th>player_idx</th>\n",
       "      <th>player_link</th>\n",
       "    </tr>\n",
       "  </thead>\n",
       "  <tbody>\n",
       "    <tr>\n",
       "      <th>88</th>\n",
       "      <td>4.122040</td>\n",
       "      <td>3.567408</td>\n",
       "      <td>1.513612</td>\n",
       "      <td>5.220850</td>\n",
       "      <td>4.658481</td>\n",
       "      <td>6.062053</td>\n",
       "      <td>4.122040</td>\n",
       "      <td>88</td>\n",
       "      <td>/player/rusedski/</td>\n",
       "    </tr>\n",
       "    <tr>\n",
       "      <th>77</th>\n",
       "      <td>3.597507</td>\n",
       "      <td>3.785257</td>\n",
       "      <td>2.505569</td>\n",
       "      <td>3.270266</td>\n",
       "      <td>2.827144</td>\n",
       "      <td>5.959048</td>\n",
       "      <td>3.597507</td>\n",
       "      <td>77</td>\n",
       "      <td>/player/rosset/</td>\n",
       "    </tr>\n",
       "    <tr>\n",
       "      <th>351</th>\n",
       "      <td>4.209054</td>\n",
       "      <td>3.769686</td>\n",
       "      <td>2.206456</td>\n",
       "      <td>4.812374</td>\n",
       "      <td>4.970697</td>\n",
       "      <td>5.706960</td>\n",
       "      <td>4.209054</td>\n",
       "      <td>351</td>\n",
       "      <td>/player/kafelnikov/</td>\n",
       "    </tr>\n",
       "    <tr>\n",
       "      <th>139</th>\n",
       "      <td>4.790050</td>\n",
       "      <td>4.645901</td>\n",
       "      <td>2.703089</td>\n",
       "      <td>5.848001</td>\n",
       "      <td>5.593629</td>\n",
       "      <td>5.638633</td>\n",
       "      <td>4.790050</td>\n",
       "      <td>139</td>\n",
       "      <td>/player/sampras/</td>\n",
       "    </tr>\n",
       "    <tr>\n",
       "      <th>234</th>\n",
       "      <td>4.393801</td>\n",
       "      <td>4.288143</td>\n",
       "      <td>3.683437</td>\n",
       "      <td>4.260212</td>\n",
       "      <td>4.632614</td>\n",
       "      <td>5.543977</td>\n",
       "      <td>4.393801</td>\n",
       "      <td>234</td>\n",
       "      <td>/player/krajicek/</td>\n",
       "    </tr>\n",
       "  </tbody>\n",
       "</table>\n",
       "</div>"
      ],
      "text/plain": [
       "         main  Various surfaces      clay     grass      hard   indoors  \\\n",
       "88   4.122040          3.567408  1.513612  5.220850  4.658481  6.062053   \n",
       "77   3.597507          3.785257  2.505569  3.270266  2.827144  5.959048   \n",
       "351  4.209054          3.769686  2.206456  4.812374  4.970697  5.706960   \n",
       "139  4.790050          4.645901  2.703089  5.848001  5.593629  5.638633   \n",
       "234  4.393801          4.288143  3.683437  4.260212  4.632614  5.543977   \n",
       "\n",
       "     zMISSING  player_idx          player_link  \n",
       "88   4.122040          88    /player/rusedski/  \n",
       "77   3.597507          77      /player/rosset/  \n",
       "351  4.209054         351  /player/kafelnikov/  \n",
       "139  4.790050         139     /player/sampras/  \n",
       "234  4.393801         234    /player/krajicek/  "
      ]
     },
     "execution_count": 28,
     "metadata": {},
     "output_type": "execute_result"
    }
   ],
   "source": [
    "surface_quality_df.sort_values('indoors', ascending=False).head(5)"
   ]
  },
  {
   "cell_type": "markdown",
   "metadata": {},
   "source": [
    "Now, we can see that we only have a modest accuracy improvement from including the surface information.  However, the surface-by-surface rankings produced by adding this information largely seem to make sense (Nadal is king of clay, Sampras appears very high on grass, etc.)  The gains will likely be larger when we have surface information for every match."
   ]
  }
 ],
 "metadata": {
  "kernelspec": {
   "display_name": "Python 3",
   "language": "python",
   "name": "python3"
  },
  "language_info": {
   "codemirror_mode": {
    "name": "ipython",
    "version": 3
   },
   "file_extension": ".py",
   "mimetype": "text/x-python",
   "name": "python",
   "nbconvert_exporter": "python",
   "pygments_lexer": "ipython3",
   "version": "3.7.7"
  }
 },
 "nbformat": 4,
 "nbformat_minor": 2
}
