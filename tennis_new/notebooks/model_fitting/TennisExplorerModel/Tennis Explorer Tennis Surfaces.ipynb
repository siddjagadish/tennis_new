{
 "cells": [
  {
   "cell_type": "markdown",
   "metadata": {},
   "source": [
    "Here, we'll try to fit our very first model on TennisExplorer data"
   ]
  },
  {
   "cell_type": "code",
   "execution_count": 1,
   "metadata": {},
   "outputs": [
    {
     "name": "stderr",
     "output_type": "stream",
     "text": [
      "/Users/siddhantjagadish/Documents/DataProjects/tennis_new/venv/lib/python3.7/site-packages/IPython/core/interactiveshell.py:3214: DtypeWarning: Columns (0) have mixed types. Specify dtype option on import or set low_memory=False.\n",
      "  if (yield from self.run_code(code, result)):\n"
     ]
    }
   ],
   "source": [
    "from tennis_new.fetch.tennis_explorer.combiner import read_joined\n",
    "\n",
    "jd = read_joined()"
   ]
  },
  {
   "cell_type": "code",
   "execution_count": 2,
   "metadata": {},
   "outputs": [
    {
     "data": {
      "text/plain": [
       "(952932, 31)"
      ]
     },
     "execution_count": 2,
     "metadata": {},
     "output_type": "execute_result"
    }
   ],
   "source": [
    "jd.shape"
   ]
  },
  {
   "cell_type": "markdown",
   "metadata": {},
   "source": [
    "#### Back to Fitting"
   ]
  },
  {
   "cell_type": "code",
   "execution_count": 65,
   "metadata": {},
   "outputs": [],
   "source": [
    "from library import eval_mod, missing_pids, missing_score_error, possible_walkover\n",
    "\n",
    "bad_rows = missing_pids(jd) | missing_score_error(jd)\n",
    "rel = jd[~bad_rows]"
   ]
  },
  {
   "cell_type": "code",
   "execution_count": 66,
   "metadata": {},
   "outputs": [],
   "source": [
    "from tennis_new.ml.elo import ELOModel"
   ]
  },
  {
   "cell_type": "code",
   "execution_count": 94,
   "metadata": {},
   "outputs": [],
   "source": [
    "unfiltered_elo = ELOModel(winner_mod=True)"
   ]
  },
  {
   "cell_type": "code",
   "execution_count": 95,
   "metadata": {},
   "outputs": [],
   "source": [
    "unfiltered_elo.fit_and_backfill(\n",
    "    rel['p1_link'],\n",
    "    rel['p2_link'],\n",
    "    rel['match_link']\n",
    ")"
   ]
  },
  {
   "cell_type": "code",
   "execution_count": 96,
   "metadata": {},
   "outputs": [
    {
     "data": {
      "text/plain": [
       "(952869, 31)"
      ]
     },
     "execution_count": 96,
     "metadata": {},
     "output_type": "execute_result"
    }
   ],
   "source": [
    "rel.shape"
   ]
  },
  {
   "cell_type": "code",
   "execution_count": 97,
   "metadata": {},
   "outputs": [
    {
     "name": "stdout",
     "output_type": "stream",
     "text": [
      "224662\n"
     ]
    },
    {
     "data": {
      "text/plain": [
       "{'overall_accuracy': 0.7275996830794705,\n",
       " 'odds_accuracy': 0.7200428690759507,\n",
       " 'model_odds_accuracy': 0.7074658387051017,\n",
       " 'n_w_odds': 63449}"
      ]
     },
     "execution_count": 97,
     "metadata": {},
     "output_type": "execute_result"
    }
   ],
   "source": [
    "unfiltered_eval = eval_mod(unfiltered_elo, rel, test_surface=None)\n",
    "unfiltered_eval"
   ]
  },
  {
   "cell_type": "code",
   "execution_count": 78,
   "metadata": {},
   "outputs": [],
   "source": [
    "good_filter = (~(\n",
    "    rel['p1_set1'].isnull() |\n",
    "    (rel['p1_sets_won'].isnull())\n",
    ")).values.astype(int)\n",
    "good_filter = (~(\n",
    "    possible_walkover(rel)\n",
    "))"
   ]
  },
  {
   "cell_type": "code",
   "execution_count": 76,
   "metadata": {},
   "outputs": [],
   "source": [
    "# Try fitting with filter\n",
    "filtered_elo = ELOModel(winner_mod=True)\n",
    "filtered_elo.fit_and_backfill(\n",
    "    rel['p1_link'],\n",
    "    rel['p2_link'],\n",
    "    rel['match_link'],\n",
    "    filter_mask=good_filter\n",
    ")"
   ]
  },
  {
   "cell_type": "code",
   "execution_count": 77,
   "metadata": {},
   "outputs": [
    {
     "name": "stdout",
     "output_type": "stream",
     "text": [
      "224662\n"
     ]
    },
    {
     "data": {
      "text/plain": [
       "{'overall_accuracy': 0.7271946301555225,\n",
       " 'odds_accuracy': 0.7200428690759507,\n",
       " 'model_odds_accuracy': 0.7080805056029252,\n",
       " 'n_w_odds': 63449}"
      ]
     },
     "execution_count": 77,
     "metadata": {},
     "output_type": "execute_result"
    }
   ],
   "source": [
    "first_eval = eval_mod(filtered_elo, rel, test_surface=None)\n",
    "first_eval"
   ]
  },
  {
   "cell_type": "code",
   "execution_count": 88,
   "metadata": {},
   "outputs": [
    {
     "name": "stdout",
     "output_type": "stream",
     "text": [
      "17561\n"
     ]
    },
    {
     "data": {
      "text/plain": [
       "{'overall_accuracy': 0.7073059620750527,\n",
       " 'odds_accuracy': 0.7120073608342279,\n",
       " 'model_odds_accuracy': 0.6965189388130655,\n",
       " 'n_w_odds': 13042}"
      ]
     },
     "execution_count": 88,
     "metadata": {},
     "output_type": "execute_result"
    }
   ],
   "source": [
    "first_eval = eval_mod(filtered_elo, rel, test_surface='hard')\n",
    "first_eval"
   ]
  },
  {
   "cell_type": "markdown",
   "metadata": {},
   "source": [
    "#### Tune Surface Weights\n",
    "\n",
    "Let's start with hard..."
   ]
  },
  {
   "cell_type": "code",
   "execution_count": 80,
   "metadata": {},
   "outputs": [],
   "source": [
    "from tennis_new.ml.sobol import generate_sobol_seq, get_range_values\n",
    "\n",
    "N_TRIALS = 100\n",
    "\n",
    "sobol_vals = generate_sobol_seq(4, N_TRIALS, 1)\n",
    "clay = sobol_vals[:, 0]\n",
    "indoors = sobol_vals[:, 1]\n",
    "grass = sobol_vals[:, 2]\n",
    "var = sobol_vals[:, 3]"
   ]
  },
  {
   "cell_type": "code",
   "execution_count": 81,
   "metadata": {},
   "outputs": [
    {
     "data": {
      "text/plain": [
       "clay                122332\n",
       "hard                 96797\n",
       "indoors              50470\n",
       "grass                15223\n",
       "Various surfaces      6851\n",
       "Name: surface, dtype: int64"
      ]
     },
     "execution_count": 81,
     "metadata": {},
     "output_type": "execute_result"
    }
   ],
   "source": [
    "rel['surface'].value_counts()"
   ]
  },
  {
   "cell_type": "code",
   "execution_count": 82,
   "metadata": {},
   "outputs": [
    {
     "name": "stderr",
     "output_type": "stream",
     "text": [
      "/Users/siddhantjagadish/Documents/DataProjects/tennis_new/venv/lib/python3.7/site-packages/pandas/core/generic.py:6130: SettingWithCopyWarning: \n",
      "A value is trying to be set on a copy of a slice from a DataFrame\n",
      "\n",
      "See the caveats in the documentation: http://pandas.pydata.org/pandas-docs/stable/indexing.html#indexing-view-versus-copy\n",
      "  self._update_inplace(new_data)\n"
     ]
    }
   ],
   "source": [
    "rel['surface'].fillna('Various surfaces', inplace=True)"
   ]
  },
  {
   "cell_type": "code",
   "execution_count": 83,
   "metadata": {},
   "outputs": [
    {
     "data": {
      "application/vnd.jupyter.widget-view+json": {
       "model_id": "c77275754ea54505b4ff9341c7405fa8",
       "version_major": 2,
       "version_minor": 0
      },
      "text/plain": [
       "HBox(children=(IntProgress(value=1, bar_style='info', max=1), HTML(value='')))"
      ]
     },
     "metadata": {},
     "output_type": "display_data"
    },
    {
     "name": "stdout",
     "output_type": "stream",
     "text": [
      "17561\n",
      "17561\n",
      "17561\n",
      "17561\n",
      "17561\n",
      "17561\n",
      "17561\n",
      "17561\n",
      "17561\n",
      "17561\n",
      "17561\n",
      "17561\n",
      "17561\n",
      "17561\n",
      "17561\n",
      "17561\n",
      "17561\n",
      "17561\n",
      "17561\n",
      "17561\n",
      "17561\n",
      "17561\n",
      "17561\n",
      "17561\n",
      "17561\n",
      "17561\n",
      "17561\n",
      "17561\n",
      "17561\n",
      "17561\n",
      "17561\n",
      "17561\n",
      "17561\n",
      "17561\n",
      "17561\n",
      "17561\n",
      "17561\n",
      "17561\n",
      "17561\n",
      "17561\n",
      "17561\n",
      "17561\n",
      "17561\n",
      "17561\n",
      "17561\n",
      "17561\n",
      "17561\n",
      "17561\n",
      "17561\n",
      "17561\n",
      "17561\n",
      "17561\n",
      "17561\n",
      "17561\n",
      "17561\n",
      "17561\n",
      "17561\n",
      "17561\n",
      "17561\n",
      "17561\n",
      "17561\n",
      "17561\n",
      "17561\n",
      "17561\n",
      "17561\n",
      "17561\n",
      "17561\n",
      "17561\n",
      "17561\n",
      "17561\n",
      "17561\n",
      "17561\n",
      "17561\n",
      "17561\n",
      "17561\n",
      "17561\n",
      "17561\n",
      "17561\n",
      "17561\n",
      "17561\n",
      "17561\n",
      "17561\n",
      "17561\n",
      "17561\n",
      "17561\n",
      "17561\n",
      "17561\n",
      "17561\n",
      "17561\n",
      "17561\n",
      "17561\n",
      "17561\n",
      "17561\n",
      "17561\n",
      "17561\n",
      "17561\n",
      "17561\n",
      "17561\n",
      "17561\n",
      "17561\n",
      "\n"
     ]
    }
   ],
   "source": [
    "from tqdm.autonotebook import tqdm\n",
    "\n",
    "out = []\n",
    "for c, i, g, v in tqdm(zip(clay, indoors, grass, var)):\n",
    "    cur_weight_dict = {\n",
    "        'clay': c,\n",
    "        'hard': 1.,\n",
    "        'indoors': i,\n",
    "        'grass': g,\n",
    "        'Various surfaces': v\n",
    "    }\n",
    "    weights = rel['surface'].map(lambda x: cur_weight_dict[x])\n",
    "    filtered_elo = ELOModel(winner_mod=True)\n",
    "    filtered_elo.fit_and_backfill(\n",
    "        rel['p1_link'],\n",
    "        rel['p2_link'],\n",
    "        rel['match_link'],\n",
    "        weights=weights\n",
    "    )\n",
    "    cur_eval = eval_mod(filtered_elo, rel, test_surface='hard')\n",
    "    cur_eval.update(cur_weight_dict)\n",
    "    out.append(cur_eval)"
   ]
  },
  {
   "cell_type": "code",
   "execution_count": 84,
   "metadata": {},
   "outputs": [
    {
     "data": {
      "text/html": [
       "<div>\n",
       "<style scoped>\n",
       "    .dataframe tbody tr th:only-of-type {\n",
       "        vertical-align: middle;\n",
       "    }\n",
       "\n",
       "    .dataframe tbody tr th {\n",
       "        vertical-align: top;\n",
       "    }\n",
       "\n",
       "    .dataframe thead th {\n",
       "        text-align: right;\n",
       "    }\n",
       "</style>\n",
       "<table border=\"1\" class=\"dataframe\">\n",
       "  <thead>\n",
       "    <tr style=\"text-align: right;\">\n",
       "      <th></th>\n",
       "      <th>Various surfaces</th>\n",
       "      <th>clay</th>\n",
       "      <th>grass</th>\n",
       "      <th>hard</th>\n",
       "      <th>indoors</th>\n",
       "      <th>model_odds_accuracy</th>\n",
       "      <th>n_w_odds</th>\n",
       "      <th>odds_accuracy</th>\n",
       "      <th>overall_accuracy</th>\n",
       "    </tr>\n",
       "  </thead>\n",
       "  <tbody>\n",
       "    <tr>\n",
       "      <th>34</th>\n",
       "      <td>0.328125</td>\n",
       "      <td>0.296875</td>\n",
       "      <td>0.859375</td>\n",
       "      <td>1.0</td>\n",
       "      <td>0.515625</td>\n",
       "      <td>0.701963</td>\n",
       "      <td>13042</td>\n",
       "      <td>0.712007</td>\n",
       "      <td>0.708787</td>\n",
       "    </tr>\n",
       "    <tr>\n",
       "      <th>38</th>\n",
       "      <td>0.453125</td>\n",
       "      <td>0.171875</td>\n",
       "      <td>0.484375</td>\n",
       "      <td>1.0</td>\n",
       "      <td>0.890625</td>\n",
       "      <td>0.701426</td>\n",
       "      <td>13042</td>\n",
       "      <td>0.712007</td>\n",
       "      <td>0.710609</td>\n",
       "    </tr>\n",
       "    <tr>\n",
       "      <th>82</th>\n",
       "      <td>0.398438</td>\n",
       "      <td>0.367188</td>\n",
       "      <td>0.914062</td>\n",
       "      <td>1.0</td>\n",
       "      <td>0.867188</td>\n",
       "      <td>0.701043</td>\n",
       "      <td>13042</td>\n",
       "      <td>0.712007</td>\n",
       "      <td>0.709982</td>\n",
       "    </tr>\n",
       "    <tr>\n",
       "      <th>14</th>\n",
       "      <td>0.312500</td>\n",
       "      <td>0.062500</td>\n",
       "      <td>0.687500</td>\n",
       "      <td>1.0</td>\n",
       "      <td>0.937500</td>\n",
       "      <td>0.700889</td>\n",
       "      <td>13042</td>\n",
       "      <td>0.712007</td>\n",
       "      <td>0.707192</td>\n",
       "    </tr>\n",
       "    <tr>\n",
       "      <th>86</th>\n",
       "      <td>0.273438</td>\n",
       "      <td>0.242188</td>\n",
       "      <td>0.289062</td>\n",
       "      <td>1.0</td>\n",
       "      <td>0.742188</td>\n",
       "      <td>0.700813</td>\n",
       "      <td>13042</td>\n",
       "      <td>0.712007</td>\n",
       "      <td>0.706452</td>\n",
       "    </tr>\n",
       "  </tbody>\n",
       "</table>\n",
       "</div>"
      ],
      "text/plain": [
       "    Various surfaces      clay     grass  hard   indoors  model_odds_accuracy  \\\n",
       "34          0.328125  0.296875  0.859375   1.0  0.515625             0.701963   \n",
       "38          0.453125  0.171875  0.484375   1.0  0.890625             0.701426   \n",
       "82          0.398438  0.367188  0.914062   1.0  0.867188             0.701043   \n",
       "14          0.312500  0.062500  0.687500   1.0  0.937500             0.700889   \n",
       "86          0.273438  0.242188  0.289062   1.0  0.742188             0.700813   \n",
       "\n",
       "    n_w_odds  odds_accuracy  overall_accuracy  \n",
       "34     13042       0.712007          0.708787  \n",
       "38     13042       0.712007          0.710609  \n",
       "82     13042       0.712007          0.709982  \n",
       "14     13042       0.712007          0.707192  \n",
       "86     13042       0.712007          0.706452  "
      ]
     },
     "execution_count": 84,
     "metadata": {},
     "output_type": "execute_result"
    }
   ],
   "source": [
    "import pandas as pd\n",
    "\n",
    "out_df = pd.DataFrame(out)\n",
    "out_df.sort_values('model_odds_accuracy', ascending=False, inplace=True)\n",
    "out_df.head()"
   ]
  },
  {
   "cell_type": "code",
   "execution_count": 85,
   "metadata": {},
   "outputs": [
    {
     "data": {
      "text/plain": [
       "{'Various surfaces': 0.3828125,\n",
       " 'clay': 0.2265625,\n",
       " 'grass': 0.5755208333333334,\n",
       " 'indoors': 0.7994791666666666}"
      ]
     },
     "execution_count": 85,
     "metadata": {},
     "output_type": "execute_result"
    }
   ],
   "source": [
    "weight_cols = [\n",
    "    'Various surfaces',\n",
    "    'clay',\n",
    "    'grass',\n",
    "    'indoors',\n",
    "]\n",
    "\n",
    "final_weights = dict(out_df[out_df['model_odds_accuracy'] > 0.7][weight_cols].mean(axis=0))\n",
    "final_weights"
   ]
  },
  {
   "cell_type": "code",
   "execution_count": null,
   "metadata": {},
   "outputs": [],
   "source": [
    "# TODO: Let's fit a metamodel to figure out the surface effects"
   ]
  },
  {
   "cell_type": "code",
   "execution_count": 89,
   "metadata": {},
   "outputs": [],
   "source": [
    "import numpy as np\n",
    "from scipy.stats import chi2_contingency\n",
    "\n",
    "\n",
    "n = first_eval['n_w_odds']\n",
    "ns = int(0.701963 * n)\n",
    "nf = n - ns\n",
    "\n",
    "ns_control = int(0.6965 * n)\n",
    "nf_control = n - ns_control\n",
    "\n",
    "_, p, _, _ = chi2_contingency(\n",
    "    np.array([\n",
    "        [ns, nf],\n",
    "        [ns_control, nf_control]\n",
    "    ])\n",
    ")"
   ]
  },
  {
   "cell_type": "code",
   "execution_count": 90,
   "metadata": {},
   "outputs": [
    {
     "data": {
      "text/plain": [
       "0.33776556274726416"
      ]
     },
     "execution_count": 90,
     "metadata": {},
     "output_type": "execute_result"
    }
   ],
   "source": [
    "p"
   ]
  },
  {
   "cell_type": "markdown",
   "metadata": {},
   "source": [
    "We've tuned above, but gotten results that look a little strange!  The top weights don't seem similar at all, and it seems very strange to be assigning a high weight to grass to predict clay court matches.  The improvement is also not statistically significant"
   ]
  },
  {
   "cell_type": "code",
   "execution_count": 92,
   "metadata": {},
   "outputs": [
    {
     "name": "stdout",
     "output_type": "stream",
     "text": [
      "24345\n"
     ]
    },
    {
     "data": {
      "text/plain": [
       "{'overall_accuracy': 0.6836722119531732,\n",
       " 'odds_accuracy': 0.6960634726884345,\n",
       " 'model_odds_accuracy': 0.6822878067919265,\n",
       " 'n_w_odds': 22939}"
      ]
     },
     "execution_count": 92,
     "metadata": {},
     "output_type": "execute_result"
    }
   ],
   "source": [
    "test_eval = eval_mod(\n",
    "    unfiltered_elo,\n",
    "    rel,\n",
    "    test_min='2015-01-01',\n",
    "    test_max='2020-01-01',\n",
    "    test_surface='hard'\n",
    ")\n",
    "test_eval"
   ]
  },
  {
   "cell_type": "code",
   "execution_count": 101,
   "metadata": {},
   "outputs": [],
   "source": [
    "final_weights.update({'hard': 1.})"
   ]
  },
  {
   "cell_type": "code",
   "execution_count": 102,
   "metadata": {},
   "outputs": [
    {
     "name": "stdout",
     "output_type": "stream",
     "text": [
      "24345\n"
     ]
    },
    {
     "data": {
      "text/plain": [
       "{'overall_accuracy': 0.6835489833641405,\n",
       " 'odds_accuracy': 0.6960634726884345,\n",
       " 'model_odds_accuracy': 0.6833776537774097,\n",
       " 'n_w_odds': 22939}"
      ]
     },
     "execution_count": 102,
     "metadata": {},
     "output_type": "execute_result"
    }
   ],
   "source": [
    "tuned_elo = ELOModel(winner_mod=True)\n",
    "_w = rel['surface'].map(lambda x: final_weights[x])\n",
    "tuned_elo.fit_and_backfill(\n",
    "    rel['p1_link'],\n",
    "    rel['p2_link'],\n",
    "    rel['match_link'],\n",
    "    weights=_w\n",
    ")\n",
    "\n",
    "test_tuned_eval = eval_mod(\n",
    "    tuned_elo,\n",
    "    rel,\n",
    "    test_min='2015-01-01',\n",
    "    test_max='2020-01-01',\n",
    "    test_surface='hard'\n",
    ")\n",
    "test_tuned_eval"
   ]
  },
  {
   "cell_type": "markdown",
   "metadata": {},
   "source": [
    "The tuning helps a little bit on the test set, but not a ton..."
   ]
  },
  {
   "cell_type": "markdown",
   "metadata": {},
   "source": [
    "#### Look at Calibration\n",
    "\n",
    "Let's look at calibration just for 3-set matches"
   ]
  },
  {
   "cell_type": "code",
   "execution_count": 111,
   "metadata": {},
   "outputs": [],
   "source": [
    "from library import get_test_set\n",
    "\n",
    "val_period = get_test_set(\n",
    "    rel,\n",
    "    test_surface='hard'\n",
    ").copy()\n",
    "\n",
    "val_period = pd.merge(\n",
    "    val_period,\n",
    "    pd.DataFrame(tuned_elo.history),\n",
    "    left_on='match_link',\n",
    "    right_on='match_id'\n",
    ")"
   ]
  },
  {
   "cell_type": "code",
   "execution_count": 112,
   "metadata": {},
   "outputs": [
    {
     "data": {
      "text/plain": [
       "['comment',\n",
       " 'date',\n",
       " 'details',\n",
       " 'elo1',\n",
       " 'elo2',\n",
       " 'elo_match_prediction',\n",
       " 'match_id',\n",
       " 'match_link',\n",
       " 'match_time',\n",
       " 'p1_id',\n",
       " 'p1_link',\n",
       " 'p1_name',\n",
       " 'p1_odds',\n",
       " 'p1_seed',\n",
       " 'p1_set1',\n",
       " 'p1_set2',\n",
       " 'p1_set3',\n",
       " 'p1_set4',\n",
       " 'p1_set5',\n",
       " 'p1_sets_won',\n",
       " 'p2_id',\n",
       " 'p2_link',\n",
       " 'p2_name',\n",
       " 'p2_odds',\n",
       " 'p2_seed',\n",
       " 'p2_set1',\n",
       " 'p2_set2',\n",
       " 'p2_set3',\n",
       " 'p2_set4',\n",
       " 'p2_set5',\n",
       " 'p2_sets_won',\n",
       " 'sex',\n",
       " 'surface',\n",
       " 'tourney_link',\n",
       " 'tourney_name',\n",
       " 'tourney_prize_money',\n",
       " 'tourney_type']"
      ]
     },
     "execution_count": 112,
     "metadata": {},
     "output_type": "execute_result"
    }
   ],
   "source": [
    "sorted(val_period.columns)"
   ]
  },
  {
   "cell_type": "code",
   "execution_count": 113,
   "metadata": {},
   "outputs": [],
   "source": [
    "import numpy as np\n",
    "\n",
    "rel = val_period[val_period['p1_sets_won'] == 2]\n",
    "preds = rel['elo_match_prediction'].values\n",
    "ys = np.ones(len(rel))\n",
    "reverse_preds = 1. - preds\n",
    "reverse_ys = np.zeros(len(rel))\n",
    "preds = np.concatenate([preds, reverse_preds])\n",
    "ys = np.concatenate([ys, reverse_ys])"
   ]
  },
  {
   "cell_type": "code",
   "execution_count": 116,
   "metadata": {},
   "outputs": [
    {
     "data": {
      "text/plain": [
       "Text(0.5, 0, 'Predicted Prob.')"
      ]
     },
     "execution_count": 116,
     "metadata": {},
     "output_type": "execute_result"
    },
    {
     "data": {
      "image/png": "[encoded data removed]",
      "text/plain": [
       "<Figure size 432x288 with 1 Axes>"
      ]
     },
     "metadata": {
      "needs_background": "light"
     },
     "output_type": "display_data"
    }
   ],
   "source": [
    "%matplotlib inline\n",
    "from sklearn.calibration import calibration_curve\n",
    "from matplotlib import pyplot as plt\n",
    "\n",
    "_y, _x = calibration_curve(ys, preds, n_bins=50)\n",
    "plt.plot(_x, _y)\n",
    "plt.plot(_x, _x)\n",
    "plt.ylabel(\"True Prob.\")\n",
    "plt.xlabel(\"Predicted Prob.\")"
   ]
  },
  {
   "cell_type": "markdown",
   "metadata": {},
   "source": [
    "My predictions should be a bit more extreme...Looks like I just need to put things through some sort of an s-curve for calibration -- this is convenient! "
   ]
  }
 ],
 "metadata": {
  "kernelspec": {
   "display_name": "Python 3",
   "language": "python",
   "name": "python3"
  },
  "language_info": {
   "codemirror_mode": {
    "name": "ipython",
    "version": 3
   },
   "file_extension": ".py",
   "mimetype": "text/x-python",
   "name": "python",
   "nbconvert_exporter": "python",
   "pygments_lexer": "ipython3",
   "version": "3.7.3"
  }
 },
 "nbformat": 4,
 "nbformat_minor": 2
}
