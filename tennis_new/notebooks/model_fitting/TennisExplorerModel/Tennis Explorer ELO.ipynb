{
 "cells": [
  {
   "cell_type": "markdown",
   "metadata": {},
   "source": [
    "Here, we'll try to fit our very first model on TennisExplorer data"
   ]
  },
  {
   "cell_type": "code",
   "execution_count": 1,
   "metadata": {},
   "outputs": [
    {
     "name": "stderr",
     "output_type": "stream",
     "text": [
      "/Users/siddhantjagadish/Documents/DataProjects/tennis_new/venv/lib/python3.7/site-packages/IPython/core/interactiveshell.py:3214: DtypeWarning: Columns (0) have mixed types. Specify dtype option on import or set low_memory=False.\n",
      "  if (yield from self.run_code(code, result)):\n"
     ]
    }
   ],
   "source": [
    "from tennis_new.fetch.tennis_explorer.combiner import read_joined\n",
    "\n",
    "jd = read_joined()"
   ]
  },
  {
   "cell_type": "code",
   "execution_count": 2,
   "metadata": {},
   "outputs": [
    {
     "data": {
      "text/plain": [
       "(952932, 31)"
      ]
     },
     "execution_count": 2,
     "metadata": {},
     "output_type": "execute_result"
    }
   ],
   "source": [
    "jd.shape"
   ]
  },
  {
   "cell_type": "markdown",
   "metadata": {},
   "source": [
    "#### Data Checks... "
   ]
  },
  {
   "cell_type": "code",
   "execution_count": 3,
   "metadata": {},
   "outputs": [],
   "source": [
    "# Matches are included only once?\n",
    "assert jd['match_link'].value_counts().max() == 1\n",
    "assert jd['match_link'].notnull().all()"
   ]
  },
  {
   "cell_type": "code",
   "execution_count": 4,
   "metadata": {},
   "outputs": [
    {
     "data": {
      "text/plain": [
       "False    952872\n",
       "True         60\n",
       "dtype: int64"
      ]
     },
     "execution_count": 4,
     "metadata": {},
     "output_type": "execute_result"
    }
   ],
   "source": [
    "(jd['p1_link'].isnull() | jd['p2_link'].isnull()).value_counts()"
   ]
  },
  {
   "cell_type": "markdown",
   "metadata": {},
   "source": [
    "Player links are missing occasionally.  How often are they both missing?"
   ]
  },
  {
   "cell_type": "code",
   "execution_count": 5,
   "metadata": {},
   "outputs": [
    {
     "data": {
      "text/plain": [
       "False    952932\n",
       "dtype: int64"
      ]
     },
     "execution_count": 5,
     "metadata": {},
     "output_type": "execute_result"
    }
   ],
   "source": [
    "(jd['p1_link'].isnull() & jd['p2_link'].isnull()).value_counts()"
   ]
  },
  {
   "cell_type": "markdown",
   "metadata": {},
   "source": [
    "They are never both missing.  This is good!"
   ]
  },
  {
   "cell_type": "code",
   "execution_count": 6,
   "metadata": {},
   "outputs": [
    {
     "name": "stdout",
     "output_type": "stream",
     "text": [
      "1 0\n",
      "2 1\n",
      "3 0\n",
      "4 0\n",
      "5 0\n"
     ]
    }
   ],
   "source": [
    "# We should never have a score for a later set and not missing for an earlier set \n",
    "for early_set in range(1, 5):\n",
    "    for later_set in range(early_set + 1, 6):\n",
    "        assert ~(\n",
    "            jd['p1_set%d' % early_set].isnull() &\n",
    "            jd['p1_set%d' % later_set].notnull()\n",
    "        ).any()\n",
    "        assert ~(\n",
    "            jd['p1_set%d' % early_set].isnull() &\n",
    "            jd['p1_set%d' % later_set].notnull()\n",
    "        ).any()\n",
    "\n",
    "# Check that any time a score is present that it is present for both players in that set\n",
    "for set_no in range(1, 6):\n",
    "    print(set_no, (jd['p1_set%d' % set_no].isnull() != jd['p2_set%d' % set_no].isnull()).sum())"
   ]
  },
  {
   "cell_type": "markdown",
   "metadata": {},
   "source": [
    "There is one cases where only one player is missing a score for a set...\n",
    "TODO: Remove this case"
   ]
  },
  {
   "cell_type": "markdown",
   "metadata": {},
   "source": [
    "Let's look at how often the winner wins 1, 2 or 3 sets..."
   ]
  },
  {
   "cell_type": "code",
   "execution_count": 7,
   "metadata": {},
   "outputs": [
    {
     "data": {
      "text/plain": [
       "2.0    901412\n",
       "1.0     36080\n",
       "3.0     15437\n",
       "Name: p1_sets_won, dtype: int64"
      ]
     },
     "execution_count": 7,
     "metadata": {},
     "output_type": "execute_result"
    }
   ],
   "source": [
    "jd['p1_sets_won'].value_counts()"
   ]
  },
  {
   "cell_type": "markdown",
   "metadata": {},
   "source": [
    "Very often, we have the winner winning only one set.  What's up with that?"
   ]
  },
  {
   "cell_type": "code",
   "execution_count": 8,
   "metadata": {},
   "outputs": [
    {
     "data": {
      "text/plain": [
       "False    28513\n",
       "True      7567\n",
       "Name: p1_set1, dtype: int64"
      ]
     },
     "execution_count": 8,
     "metadata": {},
     "output_type": "execute_result"
    }
   ],
   "source": [
    "jd[jd['p1_sets_won'] == 1]['p1_set1'].isnull().value_counts()"
   ]
  },
  {
   "cell_type": "markdown",
   "metadata": {},
   "source": [
    "In some of these cases we have no score in the first set at all, but in the majority of these we do.  Let's look at some of the cases where the score is missing -- we will cross-reference with atptour.com"
   ]
  },
  {
   "cell_type": "code",
   "execution_count": 15,
   "metadata": {},
   "outputs": [
    {
     "data": {
      "text/html": [
       "<div>\n",
       "<style scoped>\n",
       "    .dataframe tbody tr th:only-of-type {\n",
       "        vertical-align: middle;\n",
       "    }\n",
       "\n",
       "    .dataframe tbody tr th {\n",
       "        vertical-align: top;\n",
       "    }\n",
       "\n",
       "    .dataframe thead th {\n",
       "        text-align: right;\n",
       "    }\n",
       "</style>\n",
       "<table border=\"1\" class=\"dataframe\">\n",
       "  <thead>\n",
       "    <tr style=\"text-align: right;\">\n",
       "      <th></th>\n",
       "      <th>match_link</th>\n",
       "      <th>date</th>\n",
       "      <th>tourney_name</th>\n",
       "      <th>p1_sets_won</th>\n",
       "      <th>p2_sets_won</th>\n",
       "      <th>p1_name</th>\n",
       "      <th>p2_name</th>\n",
       "      <th>p1_set1</th>\n",
       "      <th>p2_set1</th>\n",
       "    </tr>\n",
       "  </thead>\n",
       "  <tbody>\n",
       "    <tr>\n",
       "      <th>4</th>\n",
       "      <td>/match-detail/?id=13797</td>\n",
       "      <td>1997-01-01</td>\n",
       "      <td>Adelaide</td>\n",
       "      <td>1.0</td>\n",
       "      <td>0.0</td>\n",
       "      <td>Tillstrom M.</td>\n",
       "      <td>Black B.</td>\n",
       "      <td>NaN</td>\n",
       "      <td>NaN</td>\n",
       "    </tr>\n",
       "    <tr>\n",
       "      <th>30</th>\n",
       "      <td>/match-detail/?id=13880</td>\n",
       "      <td>1997-01-06</td>\n",
       "      <td>Singapur challenger</td>\n",
       "      <td>1.0</td>\n",
       "      <td>0.0</td>\n",
       "      <td>Johnson D.</td>\n",
       "      <td>Van Lottum J.</td>\n",
       "      <td>NaN</td>\n",
       "      <td>NaN</td>\n",
       "    </tr>\n",
       "    <tr>\n",
       "      <th>94</th>\n",
       "      <td>/match-detail/?id=13983</td>\n",
       "      <td>1997-01-08</td>\n",
       "      <td>Sydney</td>\n",
       "      <td>1.0</td>\n",
       "      <td>0.0</td>\n",
       "      <td>Black B.</td>\n",
       "      <td>Woodbridge T.</td>\n",
       "      <td>NaN</td>\n",
       "      <td>NaN</td>\n",
       "    </tr>\n",
       "    <tr>\n",
       "      <th>123</th>\n",
       "      <td>/match-detail/?id=14145</td>\n",
       "      <td>1997-01-15</td>\n",
       "      <td>Australian Open</td>\n",
       "      <td>1.0</td>\n",
       "      <td>0.0</td>\n",
       "      <td>Reneberg R.</td>\n",
       "      <td>Burrieza-Lopez O.</td>\n",
       "      <td>NaN</td>\n",
       "      <td>NaN</td>\n",
       "    </tr>\n",
       "    <tr>\n",
       "      <th>534</th>\n",
       "      <td>/match-detail/?id=14603</td>\n",
       "      <td>1997-02-14</td>\n",
       "      <td>Dubai</td>\n",
       "      <td>1.0</td>\n",
       "      <td>0.0</td>\n",
       "      <td>Ivanisevic G.</td>\n",
       "      <td>Becker B.</td>\n",
       "      <td>NaN</td>\n",
       "      <td>NaN</td>\n",
       "    </tr>\n",
       "    <tr>\n",
       "      <th>604</th>\n",
       "      <td>/match-detail/?id=14796</td>\n",
       "      <td>1997-02-18</td>\n",
       "      <td>Antwerp</td>\n",
       "      <td>1.0</td>\n",
       "      <td>0.0</td>\n",
       "      <td>Norman D.</td>\n",
       "      <td>Ulihrach B.</td>\n",
       "      <td>NaN</td>\n",
       "      <td>NaN</td>\n",
       "    </tr>\n",
       "    <tr>\n",
       "      <th>710</th>\n",
       "      <td>/match-detail/?id=14815</td>\n",
       "      <td>1997-02-21</td>\n",
       "      <td>Antwerp</td>\n",
       "      <td>1.0</td>\n",
       "      <td>0.0</td>\n",
       "      <td>Goellner M.</td>\n",
       "      <td>Damm M.</td>\n",
       "      <td>NaN</td>\n",
       "      <td>NaN</td>\n",
       "    </tr>\n",
       "    <tr>\n",
       "      <th>788</th>\n",
       "      <td>/match-detail/?id=14972</td>\n",
       "      <td>1997-02-25</td>\n",
       "      <td>Salinas challenger</td>\n",
       "      <td>1.0</td>\n",
       "      <td>0.0</td>\n",
       "      <td>Hernandez A.</td>\n",
       "      <td>Rikl D.</td>\n",
       "      <td>NaN</td>\n",
       "      <td>NaN</td>\n",
       "    </tr>\n",
       "    <tr>\n",
       "      <th>927</th>\n",
       "      <td>/match-detail/?id=15105</td>\n",
       "      <td>1997-03-07</td>\n",
       "      <td>Rotterdam</td>\n",
       "      <td>1.0</td>\n",
       "      <td>0.0</td>\n",
       "      <td>Ivanisevic G.</td>\n",
       "      <td>Korda P.</td>\n",
       "      <td>NaN</td>\n",
       "      <td>NaN</td>\n",
       "    </tr>\n",
       "    <tr>\n",
       "      <th>1062</th>\n",
       "      <td>/match-detail/?id=15303</td>\n",
       "      <td>1997-03-20</td>\n",
       "      <td>Saint Petersburg</td>\n",
       "      <td>1.0</td>\n",
       "      <td>0.0</td>\n",
       "      <td>Clement A.</td>\n",
       "      <td>Rusedski G.</td>\n",
       "      <td>NaN</td>\n",
       "      <td>NaN</td>\n",
       "    </tr>\n",
       "    <tr>\n",
       "      <th>1090</th>\n",
       "      <td>/match-detail/?id=15446</td>\n",
       "      <td>1997-03-22</td>\n",
       "      <td>Miami</td>\n",
       "      <td>1.0</td>\n",
       "      <td>0.0</td>\n",
       "      <td>Etlis G.</td>\n",
       "      <td>Reneberg R.</td>\n",
       "      <td>NaN</td>\n",
       "      <td>NaN</td>\n",
       "    </tr>\n",
       "    <tr>\n",
       "      <th>1165</th>\n",
       "      <td>/match-detail/?id=15494</td>\n",
       "      <td>1997-03-27</td>\n",
       "      <td>Miami</td>\n",
       "      <td>1.0</td>\n",
       "      <td>0.0</td>\n",
       "      <td>Sampras P.</td>\n",
       "      <td>Dreekmann H.</td>\n",
       "      <td>NaN</td>\n",
       "      <td>NaN</td>\n",
       "    </tr>\n",
       "    <tr>\n",
       "      <th>1169</th>\n",
       "      <td>/match-detail/?id=15518</td>\n",
       "      <td>1997-03-27</td>\n",
       "      <td>Casablanca</td>\n",
       "      <td>1.0</td>\n",
       "      <td>0.0</td>\n",
       "      <td>Vicente F.</td>\n",
       "      <td>Gross O.</td>\n",
       "      <td>NaN</td>\n",
       "      <td>NaN</td>\n",
       "    </tr>\n",
       "    <tr>\n",
       "      <th>1266</th>\n",
       "      <td>/match-detail/?id=15771</td>\n",
       "      <td>1997-04-08</td>\n",
       "      <td>Delhi</td>\n",
       "      <td>1.0</td>\n",
       "      <td>0.0</td>\n",
       "      <td>Schuettler R.</td>\n",
       "      <td>Enqvist T.</td>\n",
       "      <td>NaN</td>\n",
       "      <td>NaN</td>\n",
       "    </tr>\n",
       "    <tr>\n",
       "      <th>1345</th>\n",
       "      <td>/match-detail/?id=15845</td>\n",
       "      <td>1997-04-09</td>\n",
       "      <td>Hong Kong ATP</td>\n",
       "      <td>1.0</td>\n",
       "      <td>0.0</td>\n",
       "      <td>Prinosil D.</td>\n",
       "      <td>Raoux G.</td>\n",
       "      <td>NaN</td>\n",
       "      <td>NaN</td>\n",
       "    </tr>\n",
       "    <tr>\n",
       "      <th>1548</th>\n",
       "      <td>/match-detail/?id=15967</td>\n",
       "      <td>1997-04-17</td>\n",
       "      <td>Barcelona</td>\n",
       "      <td>1.0</td>\n",
       "      <td>0.0</td>\n",
       "      <td>Costa A.</td>\n",
       "      <td>Goellner M.</td>\n",
       "      <td>NaN</td>\n",
       "      <td>NaN</td>\n",
       "    </tr>\n",
       "    <tr>\n",
       "      <th>1686</th>\n",
       "      <td>/match-detail/?id=16090</td>\n",
       "      <td>1997-04-25</td>\n",
       "      <td>Prague challenger</td>\n",
       "      <td>2.0</td>\n",
       "      <td>0.0</td>\n",
       "      <td>Portas A.</td>\n",
       "      <td>Vicente F.</td>\n",
       "      <td>NaN</td>\n",
       "      <td>NaN</td>\n",
       "    </tr>\n",
       "    <tr>\n",
       "      <th>1773</th>\n",
       "      <td>/match-detail/?id=16264</td>\n",
       "      <td>1997-05-02</td>\n",
       "      <td>Atlanta</td>\n",
       "      <td>1.0</td>\n",
       "      <td>0.0</td>\n",
       "      <td>Stoltenberg J.</td>\n",
       "      <td>Meligeni F.</td>\n",
       "      <td>NaN</td>\n",
       "      <td>NaN</td>\n",
       "    </tr>\n",
       "    <tr>\n",
       "      <th>1956</th>\n",
       "      <td>/match-detail/?id=16566</td>\n",
       "      <td>1997-05-10</td>\n",
       "      <td>Hamburg</td>\n",
       "      <td>2.0</td>\n",
       "      <td>0.0</td>\n",
       "      <td>Medvedev A.</td>\n",
       "      <td>Kafelnikov Y.</td>\n",
       "      <td>NaN</td>\n",
       "      <td>NaN</td>\n",
       "    </tr>\n",
       "    <tr>\n",
       "      <th>2169</th>\n",
       "      <td>/match-detail/?id=16943</td>\n",
       "      <td>1997-05-21</td>\n",
       "      <td>St. Polten</td>\n",
       "      <td>1.0</td>\n",
       "      <td>0.0</td>\n",
       "      <td>Filippini M.</td>\n",
       "      <td>Rosset M.</td>\n",
       "      <td>NaN</td>\n",
       "      <td>NaN</td>\n",
       "    </tr>\n",
       "  </tbody>\n",
       "</table>\n",
       "</div>"
      ],
      "text/plain": [
       "                   match_link        date         tourney_name  p1_sets_won  \\\n",
       "4     /match-detail/?id=13797  1997-01-01             Adelaide          1.0   \n",
       "30    /match-detail/?id=13880  1997-01-06  Singapur challenger          1.0   \n",
       "94    /match-detail/?id=13983  1997-01-08               Sydney          1.0   \n",
       "123   /match-detail/?id=14145  1997-01-15      Australian Open          1.0   \n",
       "534   /match-detail/?id=14603  1997-02-14                Dubai          1.0   \n",
       "604   /match-detail/?id=14796  1997-02-18              Antwerp          1.0   \n",
       "710   /match-detail/?id=14815  1997-02-21              Antwerp          1.0   \n",
       "788   /match-detail/?id=14972  1997-02-25   Salinas challenger          1.0   \n",
       "927   /match-detail/?id=15105  1997-03-07            Rotterdam          1.0   \n",
       "1062  /match-detail/?id=15303  1997-03-20     Saint Petersburg          1.0   \n",
       "1090  /match-detail/?id=15446  1997-03-22                Miami          1.0   \n",
       "1165  /match-detail/?id=15494  1997-03-27                Miami          1.0   \n",
       "1169  /match-detail/?id=15518  1997-03-27           Casablanca          1.0   \n",
       "1266  /match-detail/?id=15771  1997-04-08                Delhi          1.0   \n",
       "1345  /match-detail/?id=15845  1997-04-09        Hong Kong ATP          1.0   \n",
       "1548  /match-detail/?id=15967  1997-04-17            Barcelona          1.0   \n",
       "1686  /match-detail/?id=16090  1997-04-25    Prague challenger          2.0   \n",
       "1773  /match-detail/?id=16264  1997-05-02              Atlanta          1.0   \n",
       "1956  /match-detail/?id=16566  1997-05-10              Hamburg          2.0   \n",
       "2169  /match-detail/?id=16943  1997-05-21           St. Polten          1.0   \n",
       "\n",
       "      p2_sets_won         p1_name            p2_name  p1_set1  p2_set1  \n",
       "4             0.0    Tillstrom M.           Black B.      NaN      NaN  \n",
       "30            0.0      Johnson D.      Van Lottum J.      NaN      NaN  \n",
       "94            0.0        Black B.      Woodbridge T.      NaN      NaN  \n",
       "123           0.0     Reneberg R.  Burrieza-Lopez O.      NaN      NaN  \n",
       "534           0.0   Ivanisevic G.          Becker B.      NaN      NaN  \n",
       "604           0.0       Norman D.        Ulihrach B.      NaN      NaN  \n",
       "710           0.0     Goellner M.            Damm M.      NaN      NaN  \n",
       "788           0.0    Hernandez A.            Rikl D.      NaN      NaN  \n",
       "927           0.0   Ivanisevic G.           Korda P.      NaN      NaN  \n",
       "1062          0.0      Clement A.        Rusedski G.      NaN      NaN  \n",
       "1090          0.0        Etlis G.        Reneberg R.      NaN      NaN  \n",
       "1165          0.0      Sampras P.       Dreekmann H.      NaN      NaN  \n",
       "1169          0.0      Vicente F.           Gross O.      NaN      NaN  \n",
       "1266          0.0   Schuettler R.         Enqvist T.      NaN      NaN  \n",
       "1345          0.0     Prinosil D.           Raoux G.      NaN      NaN  \n",
       "1548          0.0        Costa A.        Goellner M.      NaN      NaN  \n",
       "1686          0.0       Portas A.         Vicente F.      NaN      NaN  \n",
       "1773          0.0  Stoltenberg J.        Meligeni F.      NaN      NaN  \n",
       "1956          0.0     Medvedev A.      Kafelnikov Y.      NaN      NaN  \n",
       "2169          0.0    Filippini M.          Rosset M.      NaN      NaN  "
      ]
     },
     "execution_count": 15,
     "metadata": {},
     "output_type": "execute_result"
    }
   ],
   "source": [
    "INVESTIGATE_COLS = [\n",
    "    'match_link',\n",
    "    'date',\n",
    "    'tourney_name',\n",
    "    'p1_sets_won',\n",
    "    'p2_sets_won',\n",
    "    'p1_name',\n",
    "    'p2_name',\n",
    "    'p1_set1',\n",
    "    'p2_set1'\n",
    "]\n",
    "\n",
    "\n",
    "jd[jd['p1_set1'].isnull()][INVESTIGATE_COLS].head(20)"
   ]
  },
  {
   "cell_type": "markdown",
   "metadata": {},
   "source": [
    "Above, based on looking through atptour.com manually, these are a mixture of walkovers and first-set retirements.  Unforunately, it does not look like we have a straightforward way of distinguishing between the two.  Now, let's look at the cases where p1_sets_won == 1 and p1_set1 is *not null.*"
   ]
  },
  {
   "cell_type": "code",
   "execution_count": 10,
   "metadata": {},
   "outputs": [
    {
     "data": {
      "text/html": [
       "<div>\n",
       "<style scoped>\n",
       "    .dataframe tbody tr th:only-of-type {\n",
       "        vertical-align: middle;\n",
       "    }\n",
       "\n",
       "    .dataframe tbody tr th {\n",
       "        vertical-align: top;\n",
       "    }\n",
       "\n",
       "    .dataframe thead th {\n",
       "        text-align: right;\n",
       "    }\n",
       "</style>\n",
       "<table border=\"1\" class=\"dataframe\">\n",
       "  <thead>\n",
       "    <tr style=\"text-align: right;\">\n",
       "      <th></th>\n",
       "      <th>date</th>\n",
       "      <th>tourney_name</th>\n",
       "      <th>p1_name</th>\n",
       "      <th>p2_name</th>\n",
       "      <th>p1_set1</th>\n",
       "      <th>p1_set2</th>\n",
       "      <th>p1_set3</th>\n",
       "      <th>p1_set4</th>\n",
       "      <th>p1_set5</th>\n",
       "      <th>p2_set1</th>\n",
       "      <th>p2_set2</th>\n",
       "      <th>p2_set3</th>\n",
       "      <th>p2_set4</th>\n",
       "      <th>p2_set5</th>\n",
       "    </tr>\n",
       "  </thead>\n",
       "  <tbody>\n",
       "    <tr>\n",
       "      <th>135</th>\n",
       "      <td>1997-01-15</td>\n",
       "      <td>Australian Open</td>\n",
       "      <td>Stafford G.</td>\n",
       "      <td>Burillo J.</td>\n",
       "      <td>6.0</td>\n",
       "      <td>6.0</td>\n",
       "      <td>3.0</td>\n",
       "      <td>NaN</td>\n",
       "      <td>NaN</td>\n",
       "      <td>0.0</td>\n",
       "      <td>1.0</td>\n",
       "      <td>0.0</td>\n",
       "      <td>NaN</td>\n",
       "      <td>NaN</td>\n",
       "    </tr>\n",
       "    <tr>\n",
       "      <th>174</th>\n",
       "      <td>1997-01-15</td>\n",
       "      <td>Australian Open</td>\n",
       "      <td>Tramacchi P.</td>\n",
       "      <td>Van Herck J.</td>\n",
       "      <td>6.0</td>\n",
       "      <td>6.0</td>\n",
       "      <td>6.0</td>\n",
       "      <td>3.0</td>\n",
       "      <td>NaN</td>\n",
       "      <td>7.0</td>\n",
       "      <td>3.0</td>\n",
       "      <td>4.0</td>\n",
       "      <td>2.0</td>\n",
       "      <td>NaN</td>\n",
       "    </tr>\n",
       "    <tr>\n",
       "      <th>228</th>\n",
       "      <td>1997-01-18</td>\n",
       "      <td>Australian Open</td>\n",
       "      <td>Hrbaty D.</td>\n",
       "      <td>Berasategui A.</td>\n",
       "      <td>6.0</td>\n",
       "      <td>7.0</td>\n",
       "      <td>6.0</td>\n",
       "      <td>2.0</td>\n",
       "      <td>NaN</td>\n",
       "      <td>3.0</td>\n",
       "      <td>6.0</td>\n",
       "      <td>7.0</td>\n",
       "      <td>0.0</td>\n",
       "      <td>NaN</td>\n",
       "    </tr>\n",
       "    <tr>\n",
       "      <th>241</th>\n",
       "      <td>1997-01-20</td>\n",
       "      <td>Australian Open</td>\n",
       "      <td>Costa A.</td>\n",
       "      <td>Ferreira W.</td>\n",
       "      <td>6.0</td>\n",
       "      <td>6.0</td>\n",
       "      <td>3.0</td>\n",
       "      <td>NaN</td>\n",
       "      <td>NaN</td>\n",
       "      <td>3.0</td>\n",
       "      <td>2.0</td>\n",
       "      <td>2.0</td>\n",
       "      <td>NaN</td>\n",
       "      <td>NaN</td>\n",
       "    </tr>\n",
       "    <tr>\n",
       "      <th>359</th>\n",
       "      <td>1997-01-31</td>\n",
       "      <td>Zagreb</td>\n",
       "      <td>Ivanisevic G.</td>\n",
       "      <td>Radulescu A.</td>\n",
       "      <td>6.0</td>\n",
       "      <td>1.0</td>\n",
       "      <td>NaN</td>\n",
       "      <td>NaN</td>\n",
       "      <td>NaN</td>\n",
       "      <td>0.0</td>\n",
       "      <td>1.0</td>\n",
       "      <td>NaN</td>\n",
       "      <td>NaN</td>\n",
       "      <td>NaN</td>\n",
       "    </tr>\n",
       "    <tr>\n",
       "      <th>377</th>\n",
       "      <td>1997-02-03</td>\n",
       "      <td>Wolfsburg challenger</td>\n",
       "      <td>Grant G.</td>\n",
       "      <td>Golmard J.</td>\n",
       "      <td>5.0</td>\n",
       "      <td>NaN</td>\n",
       "      <td>NaN</td>\n",
       "      <td>NaN</td>\n",
       "      <td>NaN</td>\n",
       "      <td>4.0</td>\n",
       "      <td>NaN</td>\n",
       "      <td>NaN</td>\n",
       "      <td>NaN</td>\n",
       "      <td>NaN</td>\n",
       "    </tr>\n",
       "    <tr>\n",
       "      <th>480</th>\n",
       "      <td>1997-02-12</td>\n",
       "      <td>Marseille</td>\n",
       "      <td>Dreekmann H.</td>\n",
       "      <td>Champion T.</td>\n",
       "      <td>6.0</td>\n",
       "      <td>3.0</td>\n",
       "      <td>NaN</td>\n",
       "      <td>NaN</td>\n",
       "      <td>NaN</td>\n",
       "      <td>2.0</td>\n",
       "      <td>1.0</td>\n",
       "      <td>NaN</td>\n",
       "      <td>NaN</td>\n",
       "      <td>NaN</td>\n",
       "    </tr>\n",
       "    <tr>\n",
       "      <th>554</th>\n",
       "      <td>1997-02-16</td>\n",
       "      <td>Marseille</td>\n",
       "      <td>Enqvist T.</td>\n",
       "      <td>Rios M.</td>\n",
       "      <td>6.0</td>\n",
       "      <td>1.0</td>\n",
       "      <td>NaN</td>\n",
       "      <td>NaN</td>\n",
       "      <td>NaN</td>\n",
       "      <td>4.0</td>\n",
       "      <td>0.0</td>\n",
       "      <td>NaN</td>\n",
       "      <td>NaN</td>\n",
       "      <td>NaN</td>\n",
       "    </tr>\n",
       "    <tr>\n",
       "      <th>555</th>\n",
       "      <td>1997-02-17</td>\n",
       "      <td>San Jose</td>\n",
       "      <td>Sampras P.</td>\n",
       "      <td>Rusedski G.</td>\n",
       "      <td>3.0</td>\n",
       "      <td>5.0</td>\n",
       "      <td>NaN</td>\n",
       "      <td>NaN</td>\n",
       "      <td>NaN</td>\n",
       "      <td>6.0</td>\n",
       "      <td>0.0</td>\n",
       "      <td>NaN</td>\n",
       "      <td>NaN</td>\n",
       "      <td>NaN</td>\n",
       "    </tr>\n",
       "    <tr>\n",
       "      <th>573</th>\n",
       "      <td>1997-02-17</td>\n",
       "      <td>Punta del Este challenger</td>\n",
       "      <td>Koubek S.</td>\n",
       "      <td>Goossens K.</td>\n",
       "      <td>2.0</td>\n",
       "      <td>7.0</td>\n",
       "      <td>5.0</td>\n",
       "      <td>NaN</td>\n",
       "      <td>NaN</td>\n",
       "      <td>6.0</td>\n",
       "      <td>5.0</td>\n",
       "      <td>0.0</td>\n",
       "      <td>NaN</td>\n",
       "      <td>NaN</td>\n",
       "    </tr>\n",
       "    <tr>\n",
       "      <th>782</th>\n",
       "      <td>1997-02-25</td>\n",
       "      <td>Philadelphia</td>\n",
       "      <td>Woodbridge T.</td>\n",
       "      <td>Chesnokov A.</td>\n",
       "      <td>6.0</td>\n",
       "      <td>1.0</td>\n",
       "      <td>NaN</td>\n",
       "      <td>NaN</td>\n",
       "      <td>NaN</td>\n",
       "      <td>3.0</td>\n",
       "      <td>0.0</td>\n",
       "      <td>NaN</td>\n",
       "      <td>NaN</td>\n",
       "      <td>NaN</td>\n",
       "    </tr>\n",
       "    <tr>\n",
       "      <th>789</th>\n",
       "      <td>1997-02-25</td>\n",
       "      <td>Salinas challenger</td>\n",
       "      <td>Oncins J.</td>\n",
       "      <td>Etlis G.</td>\n",
       "      <td>3.0</td>\n",
       "      <td>6.0</td>\n",
       "      <td>3.0</td>\n",
       "      <td>NaN</td>\n",
       "      <td>NaN</td>\n",
       "      <td>6.0</td>\n",
       "      <td>3.0</td>\n",
       "      <td>0.0</td>\n",
       "      <td>NaN</td>\n",
       "      <td>NaN</td>\n",
       "    </tr>\n",
       "    <tr>\n",
       "      <th>908</th>\n",
       "      <td>1997-03-05</td>\n",
       "      <td>Indian Wells challenger</td>\n",
       "      <td>Bergh F.</td>\n",
       "      <td>Stafford G.</td>\n",
       "      <td>7.0</td>\n",
       "      <td>2.0</td>\n",
       "      <td>NaN</td>\n",
       "      <td>NaN</td>\n",
       "      <td>NaN</td>\n",
       "      <td>6.0</td>\n",
       "      <td>0.0</td>\n",
       "      <td>NaN</td>\n",
       "      <td>NaN</td>\n",
       "      <td>NaN</td>\n",
       "    </tr>\n",
       "    <tr>\n",
       "      <th>936</th>\n",
       "      <td>1997-03-07</td>\n",
       "      <td>Indian Wells challenger</td>\n",
       "      <td>Novak J.</td>\n",
       "      <td>Gross O.</td>\n",
       "      <td>7.0</td>\n",
       "      <td>2.0</td>\n",
       "      <td>NaN</td>\n",
       "      <td>NaN</td>\n",
       "      <td>NaN</td>\n",
       "      <td>5.0</td>\n",
       "      <td>0.0</td>\n",
       "      <td>NaN</td>\n",
       "      <td>NaN</td>\n",
       "      <td>NaN</td>\n",
       "    </tr>\n",
       "    <tr>\n",
       "      <th>945</th>\n",
       "      <td>1997-03-11</td>\n",
       "      <td>Indian Wells</td>\n",
       "      <td>Voinea A.</td>\n",
       "      <td>Forget G.</td>\n",
       "      <td>4.0</td>\n",
       "      <td>4.0</td>\n",
       "      <td>NaN</td>\n",
       "      <td>NaN</td>\n",
       "      <td>NaN</td>\n",
       "      <td>6.0</td>\n",
       "      <td>2.0</td>\n",
       "      <td>NaN</td>\n",
       "      <td>NaN</td>\n",
       "      <td>NaN</td>\n",
       "    </tr>\n",
       "    <tr>\n",
       "      <th>989</th>\n",
       "      <td>1997-03-12</td>\n",
       "      <td>Indian Wells</td>\n",
       "      <td>Dosedel S.</td>\n",
       "      <td>Corretja A.</td>\n",
       "      <td>6.0</td>\n",
       "      <td>4.0</td>\n",
       "      <td>NaN</td>\n",
       "      <td>NaN</td>\n",
       "      <td>NaN</td>\n",
       "      <td>4.0</td>\n",
       "      <td>1.0</td>\n",
       "      <td>NaN</td>\n",
       "      <td>NaN</td>\n",
       "      <td>NaN</td>\n",
       "    </tr>\n",
       "    <tr>\n",
       "      <th>1042</th>\n",
       "      <td>1997-03-19</td>\n",
       "      <td>Saint Petersburg</td>\n",
       "      <td>Clement A.</td>\n",
       "      <td>Olhovskiy A.</td>\n",
       "      <td>7.0</td>\n",
       "      <td>4.0</td>\n",
       "      <td>NaN</td>\n",
       "      <td>NaN</td>\n",
       "      <td>NaN</td>\n",
       "      <td>5.0</td>\n",
       "      <td>1.0</td>\n",
       "      <td>NaN</td>\n",
       "      <td>NaN</td>\n",
       "      <td>NaN</td>\n",
       "    </tr>\n",
       "    <tr>\n",
       "      <th>1049</th>\n",
       "      <td>1997-03-20</td>\n",
       "      <td>Miami</td>\n",
       "      <td>Voinea A.</td>\n",
       "      <td>Zabaleta M.</td>\n",
       "      <td>5.0</td>\n",
       "      <td>7.0</td>\n",
       "      <td>6.0</td>\n",
       "      <td>NaN</td>\n",
       "      <td>NaN</td>\n",
       "      <td>7.0</td>\n",
       "      <td>5.0</td>\n",
       "      <td>6.0</td>\n",
       "      <td>NaN</td>\n",
       "      <td>NaN</td>\n",
       "    </tr>\n",
       "    <tr>\n",
       "      <th>1270</th>\n",
       "      <td>1997-04-08</td>\n",
       "      <td>Delhi</td>\n",
       "      <td>Meneschincheri M.</td>\n",
       "      <td>Jonsson L.</td>\n",
       "      <td>6.0</td>\n",
       "      <td>4.0</td>\n",
       "      <td>4.0</td>\n",
       "      <td>NaN</td>\n",
       "      <td>NaN</td>\n",
       "      <td>0.0</td>\n",
       "      <td>6.0</td>\n",
       "      <td>1.0</td>\n",
       "      <td>NaN</td>\n",
       "      <td>NaN</td>\n",
       "    </tr>\n",
       "    <tr>\n",
       "      <th>1377</th>\n",
       "      <td>1997-04-10</td>\n",
       "      <td>Bermudy challenger</td>\n",
       "      <td>Sargsian S.</td>\n",
       "      <td>Charpentier M.</td>\n",
       "      <td>4.0</td>\n",
       "      <td>5.0</td>\n",
       "      <td>NaN</td>\n",
       "      <td>NaN</td>\n",
       "      <td>NaN</td>\n",
       "      <td>6.0</td>\n",
       "      <td>2.0</td>\n",
       "      <td>NaN</td>\n",
       "      <td>NaN</td>\n",
       "      <td>NaN</td>\n",
       "    </tr>\n",
       "  </tbody>\n",
       "</table>\n",
       "</div>"
      ],
      "text/plain": [
       "            date               tourney_name            p1_name  \\\n",
       "135   1997-01-15            Australian Open        Stafford G.   \n",
       "174   1997-01-15            Australian Open       Tramacchi P.   \n",
       "228   1997-01-18            Australian Open          Hrbaty D.   \n",
       "241   1997-01-20            Australian Open           Costa A.   \n",
       "359   1997-01-31                     Zagreb      Ivanisevic G.   \n",
       "377   1997-02-03       Wolfsburg challenger           Grant G.   \n",
       "480   1997-02-12                  Marseille       Dreekmann H.   \n",
       "554   1997-02-16                  Marseille         Enqvist T.   \n",
       "555   1997-02-17                   San Jose         Sampras P.   \n",
       "573   1997-02-17  Punta del Este challenger          Koubek S.   \n",
       "782   1997-02-25               Philadelphia      Woodbridge T.   \n",
       "789   1997-02-25         Salinas challenger          Oncins J.   \n",
       "908   1997-03-05    Indian Wells challenger           Bergh F.   \n",
       "936   1997-03-07    Indian Wells challenger           Novak J.   \n",
       "945   1997-03-11               Indian Wells          Voinea A.   \n",
       "989   1997-03-12               Indian Wells         Dosedel S.   \n",
       "1042  1997-03-19           Saint Petersburg         Clement A.   \n",
       "1049  1997-03-20                      Miami          Voinea A.   \n",
       "1270  1997-04-08                      Delhi  Meneschincheri M.   \n",
       "1377  1997-04-10         Bermudy challenger        Sargsian S.   \n",
       "\n",
       "             p2_name  p1_set1  p1_set2  p1_set3  p1_set4  p1_set5  p2_set1  \\\n",
       "135       Burillo J.      6.0      6.0      3.0      NaN      NaN      0.0   \n",
       "174     Van Herck J.      6.0      6.0      6.0      3.0      NaN      7.0   \n",
       "228   Berasategui A.      6.0      7.0      6.0      2.0      NaN      3.0   \n",
       "241      Ferreira W.      6.0      6.0      3.0      NaN      NaN      3.0   \n",
       "359     Radulescu A.      6.0      1.0      NaN      NaN      NaN      0.0   \n",
       "377       Golmard J.      5.0      NaN      NaN      NaN      NaN      4.0   \n",
       "480      Champion T.      6.0      3.0      NaN      NaN      NaN      2.0   \n",
       "554          Rios M.      6.0      1.0      NaN      NaN      NaN      4.0   \n",
       "555      Rusedski G.      3.0      5.0      NaN      NaN      NaN      6.0   \n",
       "573      Goossens K.      2.0      7.0      5.0      NaN      NaN      6.0   \n",
       "782     Chesnokov A.      6.0      1.0      NaN      NaN      NaN      3.0   \n",
       "789         Etlis G.      3.0      6.0      3.0      NaN      NaN      6.0   \n",
       "908      Stafford G.      7.0      2.0      NaN      NaN      NaN      6.0   \n",
       "936         Gross O.      7.0      2.0      NaN      NaN      NaN      5.0   \n",
       "945        Forget G.      4.0      4.0      NaN      NaN      NaN      6.0   \n",
       "989      Corretja A.      6.0      4.0      NaN      NaN      NaN      4.0   \n",
       "1042    Olhovskiy A.      7.0      4.0      NaN      NaN      NaN      5.0   \n",
       "1049     Zabaleta M.      5.0      7.0      6.0      NaN      NaN      7.0   \n",
       "1270      Jonsson L.      6.0      4.0      4.0      NaN      NaN      0.0   \n",
       "1377  Charpentier M.      4.0      5.0      NaN      NaN      NaN      6.0   \n",
       "\n",
       "      p2_set2  p2_set3  p2_set4  p2_set5  \n",
       "135       1.0      0.0      NaN      NaN  \n",
       "174       3.0      4.0      2.0      NaN  \n",
       "228       6.0      7.0      0.0      NaN  \n",
       "241       2.0      2.0      NaN      NaN  \n",
       "359       1.0      NaN      NaN      NaN  \n",
       "377       NaN      NaN      NaN      NaN  \n",
       "480       1.0      NaN      NaN      NaN  \n",
       "554       0.0      NaN      NaN      NaN  \n",
       "555       0.0      NaN      NaN      NaN  \n",
       "573       5.0      0.0      NaN      NaN  \n",
       "782       0.0      NaN      NaN      NaN  \n",
       "789       3.0      0.0      NaN      NaN  \n",
       "908       0.0      NaN      NaN      NaN  \n",
       "936       0.0      NaN      NaN      NaN  \n",
       "945       2.0      NaN      NaN      NaN  \n",
       "989       1.0      NaN      NaN      NaN  \n",
       "1042      1.0      NaN      NaN      NaN  \n",
       "1049      5.0      6.0      NaN      NaN  \n",
       "1270      6.0      1.0      NaN      NaN  \n",
       "1377      2.0      NaN      NaN      NaN  "
      ]
     },
     "execution_count": 10,
     "metadata": {},
     "output_type": "execute_result"
    }
   ],
   "source": [
    "jd[\n",
    "    (jd['p1_sets_won'] == 1) &\n",
    "    (jd['p1_set1'].notnull())\n",
    "][[\n",
    "    'date',\n",
    "    'tourney_name',\n",
    "    'p1_name',\n",
    "    'p2_name',\n",
    "    'p1_set1',\n",
    "    'p1_set2',\n",
    "    'p1_set3',\n",
    "    'p1_set4',\n",
    "    'p1_set5',\n",
    "    'p2_set1',\n",
    "    'p2_set2',\n",
    "    'p2_set3',\n",
    "    'p2_set4',\n",
    "    'p2_set5',\n",
    "]].head(20)"
   ]
  },
  {
   "cell_type": "markdown",
   "metadata": {},
   "source": [
    "These generally seem to be retirements, not walkovers.  Is the number of sets won ever null?"
   ]
  },
  {
   "cell_type": "code",
   "execution_count": 16,
   "metadata": {},
   "outputs": [
    {
     "data": {
      "text/html": [
       "<div>\n",
       "<style scoped>\n",
       "    .dataframe tbody tr th:only-of-type {\n",
       "        vertical-align: middle;\n",
       "    }\n",
       "\n",
       "    .dataframe tbody tr th {\n",
       "        vertical-align: top;\n",
       "    }\n",
       "\n",
       "    .dataframe thead th {\n",
       "        text-align: right;\n",
       "    }\n",
       "</style>\n",
       "<table border=\"1\" class=\"dataframe\">\n",
       "  <thead>\n",
       "    <tr style=\"text-align: right;\">\n",
       "      <th></th>\n",
       "      <th>match_link</th>\n",
       "      <th>date</th>\n",
       "      <th>tourney_name</th>\n",
       "      <th>p1_sets_won</th>\n",
       "      <th>p2_sets_won</th>\n",
       "      <th>p1_name</th>\n",
       "      <th>p2_name</th>\n",
       "      <th>p1_set1</th>\n",
       "      <th>p2_set1</th>\n",
       "    </tr>\n",
       "  </thead>\n",
       "  <tbody>\n",
       "    <tr>\n",
       "      <th>834330</th>\n",
       "      <td>/match-detail/?id=1602915</td>\n",
       "      <td>2017-08-28</td>\n",
       "      <td>Futures 2017</td>\n",
       "      <td>NaN</td>\n",
       "      <td>NaN</td>\n",
       "      <td>Pla Malfeito J.</td>\n",
       "      <td>Mas Mascolo A.</td>\n",
       "      <td>NaN</td>\n",
       "      <td>NaN</td>\n",
       "    </tr>\n",
       "    <tr>\n",
       "      <th>879877</th>\n",
       "      <td>/match-detail/?id=1701605</td>\n",
       "      <td>2018-07-03</td>\n",
       "      <td>Futures 2018</td>\n",
       "      <td>NaN</td>\n",
       "      <td>NaN</td>\n",
       "      <td>Willems J.</td>\n",
       "      <td>Davydenko P.</td>\n",
       "      <td>NaN</td>\n",
       "      <td>NaN</td>\n",
       "    </tr>\n",
       "    <tr>\n",
       "      <th>940571</th>\n",
       "      <td>/match-detail/?id=1839342</td>\n",
       "      <td>2019-09-24</td>\n",
       "      <td>Futures 2019</td>\n",
       "      <td>NaN</td>\n",
       "      <td>NaN</td>\n",
       "      <td>Pauffley N.</td>\n",
       "      <td>Zarichanskyy D.</td>\n",
       "      <td>NaN</td>\n",
       "      <td>NaN</td>\n",
       "    </tr>\n",
       "  </tbody>\n",
       "</table>\n",
       "</div>"
      ],
      "text/plain": [
       "                       match_link        date  tourney_name  p1_sets_won  \\\n",
       "834330  /match-detail/?id=1602915  2017-08-28  Futures 2017          NaN   \n",
       "879877  /match-detail/?id=1701605  2018-07-03  Futures 2018          NaN   \n",
       "940571  /match-detail/?id=1839342  2019-09-24  Futures 2019          NaN   \n",
       "\n",
       "        p2_sets_won          p1_name          p2_name  p1_set1  p2_set1  \n",
       "834330          NaN  Pla Malfeito J.   Mas Mascolo A.      NaN      NaN  \n",
       "879877          NaN       Willems J.     Davydenko P.      NaN      NaN  \n",
       "940571          NaN      Pauffley N.  Zarichanskyy D.      NaN      NaN  "
      ]
     },
     "execution_count": 16,
     "metadata": {},
     "output_type": "execute_result"
    }
   ],
   "source": [
    "jd[\n",
    "    (jd['p1_sets_won'].isnull() | jd['p2_sets_won'].isnull())\n",
    "][INVESTIGATE_COLS].head(20)\n"
   ]
  },
  {
   "cell_type": "markdown",
   "metadata": {},
   "source": [
    "Very rarely, only in three futures matches.  We will rule these matches out?  Yes, it looks like from cross-referencing that we don't always have the correct winner..."
   ]
  },
  {
   "cell_type": "code",
   "execution_count": 13,
   "metadata": {},
   "outputs": [
    {
     "data": {
      "text/plain": [
       "p1_sets_won\n",
       "1.0    0.209867\n",
       "2.0    0.000513\n",
       "3.0    0.000196\n",
       "dtype: float64"
      ]
     },
     "execution_count": 13,
     "metadata": {},
     "output_type": "execute_result"
    }
   ],
   "source": [
    "jd.groupby('p1_sets_won').apply(lambda x: x['p1_set1'].isnull().mean())"
   ]
  },
  {
   "cell_type": "markdown",
   "metadata": {},
   "source": [
    "There is a very small percentage of matches where the scores are missing but multiple sets have been won.  Let's investigate some of these by cross-referencing with ATP."
   ]
  },
  {
   "cell_type": "code",
   "execution_count": 17,
   "metadata": {},
   "outputs": [
    {
     "data": {
      "text/html": [
       "<div>\n",
       "<style scoped>\n",
       "    .dataframe tbody tr th:only-of-type {\n",
       "        vertical-align: middle;\n",
       "    }\n",
       "\n",
       "    .dataframe tbody tr th {\n",
       "        vertical-align: top;\n",
       "    }\n",
       "\n",
       "    .dataframe thead th {\n",
       "        text-align: right;\n",
       "    }\n",
       "</style>\n",
       "<table border=\"1\" class=\"dataframe\">\n",
       "  <thead>\n",
       "    <tr style=\"text-align: right;\">\n",
       "      <th></th>\n",
       "      <th>match_link</th>\n",
       "      <th>date</th>\n",
       "      <th>tourney_name</th>\n",
       "      <th>p1_sets_won</th>\n",
       "      <th>p2_sets_won</th>\n",
       "      <th>p1_name</th>\n",
       "      <th>p2_name</th>\n",
       "      <th>p1_set1</th>\n",
       "      <th>p2_set1</th>\n",
       "    </tr>\n",
       "  </thead>\n",
       "  <tbody>\n",
       "    <tr>\n",
       "      <th>1686</th>\n",
       "      <td>/match-detail/?id=16090</td>\n",
       "      <td>1997-04-25</td>\n",
       "      <td>Prague challenger</td>\n",
       "      <td>2.0</td>\n",
       "      <td>0.0</td>\n",
       "      <td>Portas A.</td>\n",
       "      <td>Vicente F.</td>\n",
       "      <td>NaN</td>\n",
       "      <td>NaN</td>\n",
       "    </tr>\n",
       "    <tr>\n",
       "      <th>1956</th>\n",
       "      <td>/match-detail/?id=16566</td>\n",
       "      <td>1997-05-10</td>\n",
       "      <td>Hamburg</td>\n",
       "      <td>2.0</td>\n",
       "      <td>0.0</td>\n",
       "      <td>Medvedev A.</td>\n",
       "      <td>Kafelnikov Y.</td>\n",
       "      <td>NaN</td>\n",
       "      <td>NaN</td>\n",
       "    </tr>\n",
       "    <tr>\n",
       "      <th>5026</th>\n",
       "      <td>/match-detail/?id=20711</td>\n",
       "      <td>1997-09-23</td>\n",
       "      <td>Delray Beach challenger</td>\n",
       "      <td>2.0</td>\n",
       "      <td>0.0</td>\n",
       "      <td>Martin T.</td>\n",
       "      <td>Flach D.</td>\n",
       "      <td>NaN</td>\n",
       "      <td>NaN</td>\n",
       "    </tr>\n",
       "    <tr>\n",
       "      <th>5042</th>\n",
       "      <td>/match-detail/?id=20773</td>\n",
       "      <td>1997-09-23</td>\n",
       "      <td>Sevilla challenger</td>\n",
       "      <td>2.0</td>\n",
       "      <td>1.0</td>\n",
       "      <td>Calatrava A.</td>\n",
       "      <td>Munoz-Hernandez J.</td>\n",
       "      <td>NaN</td>\n",
       "      <td>NaN</td>\n",
       "    </tr>\n",
       "    <tr>\n",
       "      <th>5672</th>\n",
       "      <td>/match-detail/?id=21560</td>\n",
       "      <td>1997-10-21</td>\n",
       "      <td>Mexico City</td>\n",
       "      <td>2.0</td>\n",
       "      <td>1.0</td>\n",
       "      <td>Clavet F.</td>\n",
       "      <td>Gaudenzi A.</td>\n",
       "      <td>NaN</td>\n",
       "      <td>NaN</td>\n",
       "    </tr>\n",
       "  </tbody>\n",
       "</table>\n",
       "</div>"
      ],
      "text/plain": [
       "                   match_link        date             tourney_name  \\\n",
       "1686  /match-detail/?id=16090  1997-04-25        Prague challenger   \n",
       "1956  /match-detail/?id=16566  1997-05-10                  Hamburg   \n",
       "5026  /match-detail/?id=20711  1997-09-23  Delray Beach challenger   \n",
       "5042  /match-detail/?id=20773  1997-09-23       Sevilla challenger   \n",
       "5672  /match-detail/?id=21560  1997-10-21              Mexico City   \n",
       "\n",
       "      p1_sets_won  p2_sets_won       p1_name             p2_name  p1_set1  \\\n",
       "1686          2.0          0.0     Portas A.          Vicente F.      NaN   \n",
       "1956          2.0          0.0   Medvedev A.       Kafelnikov Y.      NaN   \n",
       "5026          2.0          0.0     Martin T.            Flach D.      NaN   \n",
       "5042          2.0          1.0  Calatrava A.  Munoz-Hernandez J.      NaN   \n",
       "5672          2.0          1.0     Clavet F.         Gaudenzi A.      NaN   \n",
       "\n",
       "      p2_set1  \n",
       "1686      NaN  \n",
       "1956      NaN  \n",
       "5026      NaN  \n",
       "5042      NaN  \n",
       "5672      NaN  "
      ]
     },
     "execution_count": 17,
     "metadata": {},
     "output_type": "execute_result"
    }
   ],
   "source": [
    "jd[\n",
    "    (jd['p1_sets_won'] > 1) &\n",
    "    (jd['p1_set1'].isnull())\n",
    "][INVESTIGATE_COLS].head()"
   ]
  },
  {
   "cell_type": "markdown",
   "metadata": {},
   "source": [
    "Based on some simple cross-referencing, it looks like these are simple cases of the scores being missing, but the set winnings being accurate.  So, we'll leave these rows in."
   ]
  },
  {
   "cell_type": "code",
   "execution_count": 32,
   "metadata": {},
   "outputs": [],
   "source": [
    "# Filters \n",
    "def missing_score_error(df):\n",
    "    return (\n",
    "        df['p1_sets_won'].isnull() |\n",
    "        df['p2_sets_won'].isnull()\n",
    "    )\n",
    "\n",
    "def possible_walkover(df):\n",
    "    return (\n",
    "        (df['p1_sets_won'] == 1) &\n",
    "        df['p1_set1'].isnull()\n",
    "    )\n",
    "\n",
    "def retirement(df):    \n",
    "    return (\n",
    "        (df['p1_sets_won'] == 1) &\n",
    "        df['p1_set1'].notnull()\n",
    "    )\n",
    "\n",
    "def missing_pids(df):    \n",
    "    return (\n",
    "        df['p1_link'].isnull() | \n",
    "        df['p2_link'].isnull()\n",
    "    )"
   ]
  },
  {
   "cell_type": "markdown",
   "metadata": {},
   "source": [
    "#### Back to Fitting"
   ]
  },
  {
   "cell_type": "code",
   "execution_count": 55,
   "metadata": {},
   "outputs": [],
   "source": [
    "# Fit only when we have the unique identifier for both players?\n",
    "bad_filter = missing_pids(jd) | missing_score_error(jd)\n",
    "rel = jd[~bad_filter]"
   ]
  },
  {
   "cell_type": "code",
   "execution_count": 56,
   "metadata": {},
   "outputs": [],
   "source": [
    "from tennis_new.ml.elo import ELOModel\n",
    "\n",
    "unfiltered_elo = ELOModel(winner_mod=True)"
   ]
  },
  {
   "cell_type": "code",
   "execution_count": 57,
   "metadata": {},
   "outputs": [],
   "source": [
    "unfiltered_elo.fit_and_backfill(\n",
    "    rel['p1_link'],\n",
    "    rel['p2_link'],\n",
    "    rel['match_link']\n",
    ")"
   ]
  },
  {
   "cell_type": "code",
   "execution_count": 115,
   "metadata": {},
   "outputs": [],
   "source": [
    "import pandas as pd\n",
    "\n",
    "def get_test_set(df, test_min='2011-01-01', test_max='2015-01-01', test_surface=None, filter_walkovers=True):\n",
    "    date_cond = (\n",
    "        (df['date'] >= test_min) &\n",
    "        (df['date'] < test_max)\n",
    "    )\n",
    "    if test_surface is None:\n",
    "        surface_cond = True\n",
    "    cond = date_cond & surface_cond\n",
    "    if filter_walkovers:\n",
    "        cond &= (~possible_walkover(df))\n",
    "    return df[cond]\n",
    "\n",
    "\n",
    "def eval_mod(mod, test_min='2011-01-01', test_max='2015-01-01', test_surface=None, filter_walkovers=False):\n",
    "    # TODO: Filter out walkovers from test set\n",
    "    history_df = pd.DataFrame(mod.history)\n",
    "    test_set = get_test_set(\n",
    "        rel,\n",
    "        test_min=test_min,\n",
    "        test_max=test_max,\n",
    "        test_surface=test_surface,\n",
    "        filter_walkovers=filter_walkovers\n",
    "    )\n",
    "    test_set = pd.merge(test_set, history_df, left_on='match_link', right_on='match_id')\n",
    "    print(test_set.shape[0])\n",
    "    \n",
    "    accuracy = (test_set['elo_match_prediction'] > 0.5).mean()\n",
    "    w_odds = test_set[\n",
    "        test_set['p1_odds'].notnull() &\n",
    "        test_set['p2_odds'].notnull() &\n",
    "        (test_set['p1_odds'] != test_set['p2_odds'])\n",
    "    ]\n",
    "    n_w_odds = w_odds.shape[0]\n",
    "    odds_accuracy = (w_odds['p1_odds'] < w_odds['p2_odds']).mean()\n",
    "    mod_odds_accuracy = (w_odds['elo_match_prediction'] > 0.5).mean()\n",
    "    return {\n",
    "        'overall_accuracy': accuracy,\n",
    "        'odds_accuracy': odds_accuracy,\n",
    "        'model_odds_accuracy': mod_odds_accuracy,\n",
    "        'n_w_odds': n_w_odds\n",
    "    }"
   ]
  },
  {
   "cell_type": "code",
   "execution_count": 116,
   "metadata": {},
   "outputs": [
    {
     "name": "stdout",
     "output_type": "stream",
     "text": [
      "224662\n"
     ]
    },
    {
     "data": {
      "text/plain": [
       "{'overall_accuracy': 0.7275996830794705,\n",
       " 'odds_accuracy': 0.7200428690759507,\n",
       " 'model_odds_accuracy': 0.7074658387051017,\n",
       " 'n_w_odds': 63449}"
      ]
     },
     "execution_count": 116,
     "metadata": {},
     "output_type": "execute_result"
    }
   ],
   "source": [
    "unfiltered_eval = eval_mod(unfiltered_elo)\n",
    "unfiltered_eval"
   ]
  },
  {
   "cell_type": "markdown",
   "metadata": {},
   "source": [
    "###### Now Try Not Fitting on Matches with Retirement\n",
    "\n",
    "It seems reasonable that we may do better if we fit without training on walkovers and retirements"
   ]
  },
  {
   "cell_type": "code",
   "execution_count": 121,
   "metadata": {},
   "outputs": [
    {
     "data": {
      "text/plain": [
       "(7567, 945302)"
      ]
     },
     "execution_count": 121,
     "metadata": {},
     "output_type": "execute_result"
    }
   ],
   "source": [
    "bad_filter = possible_walkover(rel) | missing_score_error(rel)\n",
    "good_filter = ~bad_filter\n",
    "bad_filter.sum(), good_filter.sum()"
   ]
  },
  {
   "cell_type": "code",
   "execution_count": 118,
   "metadata": {},
   "outputs": [],
   "source": [
    "# Try not fitting on filtered out matches\n",
    "filtered_elo = ELOModel(winner_mod=True)\n",
    "filtered_elo.fit_and_backfill(\n",
    "    rel['p1_link'],\n",
    "    rel['p2_link'],\n",
    "    rel['match_link'],\n",
    "    filter_mask=good_filter\n",
    ")"
   ]
  },
  {
   "cell_type": "code",
   "execution_count": 119,
   "metadata": {},
   "outputs": [
    {
     "name": "stdout",
     "output_type": "stream",
     "text": [
      "224662\n"
     ]
    },
    {
     "data": {
      "text/plain": [
       "{'overall_accuracy': 0.7271901790244901,\n",
       " 'odds_accuracy': 0.7200428690759507,\n",
       " 'model_odds_accuracy': 0.7080174628441741,\n",
       " 'n_w_odds': 63449}"
      ]
     },
     "execution_count": 119,
     "metadata": {},
     "output_type": "execute_result"
    }
   ],
   "source": [
    "filtered_eval = eval_mod(filtered_elo, )\n",
    "filtered_eval"
   ]
  },
  {
   "cell_type": "markdown",
   "metadata": {},
   "source": [
    "We do marginally better fitting only on the non-walkovers (on the part with odds anyway)...Let's do a hypothesis test here"
   ]
  },
  {
   "cell_type": "code",
   "execution_count": 120,
   "metadata": {},
   "outputs": [
    {
     "data": {
      "text/plain": [
       "0.8337765580346174"
      ]
     },
     "execution_count": 120,
     "metadata": {},
     "output_type": "execute_result"
    }
   ],
   "source": [
    "from scipy.stats import chi2_contingency\n",
    "\n",
    "ns1 = int(np.round(unfiltered_eval['model_odds_accuracy'] * unfiltered_eval['n_w_odds']))\n",
    "nf1 = unfiltered_eval['n_w_odds'] - ns1\n",
    "\n",
    "ns2 = int(np.round(filtered_eval['model_odds_accuracy'] * filtered_eval['n_w_odds']))\n",
    "nf2 = filtered_eval['n_w_odds'] - ns2\n",
    "\n",
    "arr = np.array([[ns1, nf1], [ns2, nf2]])\n",
    "chi2, p, _, _ = chi2_contingency(arr)\n",
    "p"
   ]
  },
  {
   "cell_type": "markdown",
   "metadata": {},
   "source": [
    "Overall, the difference is not significant -- we also see that the accuracy decreases overall, so maybe these filters aren't great?  Let's try to filter out all retirements now..."
   ]
  },
  {
   "cell_type": "code",
   "execution_count": 122,
   "metadata": {},
   "outputs": [
    {
     "data": {
      "text/plain": [
       "(36080, 916789)"
      ]
     },
     "execution_count": 122,
     "metadata": {},
     "output_type": "execute_result"
    }
   ],
   "source": [
    "bad_filter = possible_walkover(rel) | missing_score_error(rel) | retirement(rel)\n",
    "good_filter = ~bad_filter\n",
    "bad_filter.sum(), good_filter.sum()"
   ]
  },
  {
   "cell_type": "code",
   "execution_count": 123,
   "metadata": {},
   "outputs": [],
   "source": [
    "# Try not fitting on filtered out matches\n",
    "filtered_elo = ELOModel(winner_mod=True)\n",
    "filtered_elo.fit_and_backfill(\n",
    "    rel['p1_link'],\n",
    "    rel['p2_link'],\n",
    "    rel['match_link'],\n",
    "    filter_mask=good_filter\n",
    ")"
   ]
  },
  {
   "cell_type": "code",
   "execution_count": 124,
   "metadata": {},
   "outputs": [
    {
     "name": "stdout",
     "output_type": "stream",
     "text": [
      "224662\n"
     ]
    },
    {
     "data": {
      "text/plain": [
       "{'overall_accuracy': 0.7252361325012686,\n",
       " 'odds_accuracy': 0.7200428690759507,\n",
       " 'model_odds_accuracy': 0.7068511718072783,\n",
       " 'n_w_odds': 63449}"
      ]
     },
     "execution_count": 124,
     "metadata": {},
     "output_type": "execute_result"
    }
   ],
   "source": [
    "filtered_eval = eval_mod(filtered_elo, )\n",
    "filtered_eval"
   ]
  },
  {
   "cell_type": "markdown",
   "metadata": {},
   "source": [
    "This is even worse!  For now, we won't do any filtering"
   ]
  },
  {
   "cell_type": "markdown",
   "metadata": {},
   "source": [
    "#### Tune ELO Parameters"
   ]
  },
  {
   "cell_type": "code",
   "execution_count": 125,
   "metadata": {},
   "outputs": [],
   "source": [
    "from tennis_new.ml.sobol import generate_sobol_seq, get_range_values\n",
    "\n",
    "MIN_C = 100\n",
    "MAX_C = 500\n",
    "MIN_O = 0\n",
    "MAX_O = 50\n",
    "MIN_S = 0\n",
    "MAX_S = 2\n",
    "\n",
    "\n",
    "sobol_vals = generate_sobol_seq(3, 100, 1)\n",
    "cs = get_range_values(MIN_C, MAX_C, sobol_vals[:, 0])\n",
    "os = get_range_values(MIN_O, MAX_O, sobol_vals[:, 1])\n",
    "ss = get_range_values(MIN_S, MAX_S, sobol_vals[:, 2])"
   ]
  },
  {
   "cell_type": "code",
   "execution_count": null,
   "metadata": {},
   "outputs": [
    {
     "name": "stderr",
     "output_type": "stream",
     "text": [
      "/Users/siddhantjagadish/Documents/DataProjects/tennis_new/venv/lib/python3.7/site-packages/tqdm/autonotebook/__init__.py:18: TqdmExperimentalWarning: Using `tqdm.autonotebook.tqdm` in notebook mode. Use `tqdm.tqdm` instead to force console mode (e.g. in jupyter console)\n",
      "  \" (e.g. in jupyter console)\", TqdmExperimentalWarning)\n"
     ]
    },
    {
     "data": {
      "application/vnd.jupyter.widget-view+json": {
       "model_id": "9c6e82d99f6d45bd873dd81f2546cf14",
       "version_major": 2,
       "version_minor": 0
      },
      "text/plain": [
       "HBox(children=(IntProgress(value=1, bar_style='info', max=1), HTML(value='')))"
      ]
     },
     "metadata": {},
     "output_type": "display_data"
    },
    {
     "name": "stdout",
     "output_type": "stream",
     "text": [
      "224662\n"
     ]
    }
   ],
   "source": [
    "from tqdm.autonotebook import tqdm\n",
    "\n",
    "out = []\n",
    "for c, o, s in tqdm(zip(cs, os, ss)):\n",
    "    cur_elo = ELOModel(c=c, o=o, s=s, winner_mod=True)\n",
    "    cur_elo.fit_and_backfill(\n",
    "        rel['p1_link'],\n",
    "        rel['p2_link'],\n",
    "        rel['match_link'],\n",
    "        filter_mask=good_filter\n",
    "    )\n",
    "    cur_eval = eval_mod(cur_elo)\n",
    "    cur_eval.update({'c': c, 'o': o, 's': s})\n",
    "    out.append(cur_eval)"
   ]
  },
  {
   "cell_type": "code",
   "execution_count": 27,
   "metadata": {},
   "outputs": [],
   "source": [
    "tune_df = pd.DataFrame(out)"
   ]
  },
  {
   "cell_type": "code",
   "execution_count": 29,
   "metadata": {},
   "outputs": [
    {
     "data": {
      "text/html": [
       "<div>\n",
       "<style scoped>\n",
       "    .dataframe tbody tr th:only-of-type {\n",
       "        vertical-align: middle;\n",
       "    }\n",
       "\n",
       "    .dataframe tbody tr th {\n",
       "        vertical-align: top;\n",
       "    }\n",
       "\n",
       "    .dataframe thead th {\n",
       "        text-align: right;\n",
       "    }\n",
       "</style>\n",
       "<table border=\"1\" class=\"dataframe\">\n",
       "  <thead>\n",
       "    <tr style=\"text-align: right;\">\n",
       "      <th></th>\n",
       "      <th>c</th>\n",
       "      <th>model_odds_accuracy</th>\n",
       "      <th>o</th>\n",
       "      <th>odds_accuracy</th>\n",
       "      <th>overall_accuracy</th>\n",
       "      <th>s</th>\n",
       "    </tr>\n",
       "  </thead>\n",
       "  <tbody>\n",
       "    <tr>\n",
       "      <th>77</th>\n",
       "      <td>334.375</td>\n",
       "      <td>0.707639</td>\n",
       "      <td>4.296875</td>\n",
       "      <td>0.720043</td>\n",
       "      <td>0.723224</td>\n",
       "      <td>0.515625</td>\n",
       "    </tr>\n",
       "    <tr>\n",
       "      <th>27</th>\n",
       "      <td>212.500</td>\n",
       "      <td>0.707576</td>\n",
       "      <td>14.062500</td>\n",
       "      <td>0.720043</td>\n",
       "      <td>0.728917</td>\n",
       "      <td>0.312500</td>\n",
       "    </tr>\n",
       "    <tr>\n",
       "      <th>35</th>\n",
       "      <td>268.750</td>\n",
       "      <td>0.707182</td>\n",
       "      <td>7.031250</td>\n",
       "      <td>0.720043</td>\n",
       "      <td>0.722948</td>\n",
       "      <td>0.468750</td>\n",
       "    </tr>\n",
       "    <tr>\n",
       "      <th>25</th>\n",
       "      <td>462.500</td>\n",
       "      <td>0.707166</td>\n",
       "      <td>20.312500</td>\n",
       "      <td>0.720043</td>\n",
       "      <td>0.723469</td>\n",
       "      <td>0.562500</td>\n",
       "    </tr>\n",
       "    <tr>\n",
       "      <th>13</th>\n",
       "      <td>325.000</td>\n",
       "      <td>0.707025</td>\n",
       "      <td>21.875000</td>\n",
       "      <td>0.720043</td>\n",
       "      <td>0.730043</td>\n",
       "      <td>0.375000</td>\n",
       "    </tr>\n",
       "  </tbody>\n",
       "</table>\n",
       "</div>"
      ],
      "text/plain": [
       "          c  model_odds_accuracy          o  odds_accuracy  overall_accuracy  \\\n",
       "77  334.375             0.707639   4.296875       0.720043          0.723224   \n",
       "27  212.500             0.707576  14.062500       0.720043          0.728917   \n",
       "35  268.750             0.707182   7.031250       0.720043          0.722948   \n",
       "25  462.500             0.707166  20.312500       0.720043          0.723469   \n",
       "13  325.000             0.707025  21.875000       0.720043          0.730043   \n",
       "\n",
       "           s  \n",
       "77  0.515625  \n",
       "27  0.312500  \n",
       "35  0.468750  \n",
       "25  0.562500  \n",
       "13  0.375000  "
      ]
     },
     "execution_count": 29,
     "metadata": {},
     "output_type": "execute_result"
    }
   ],
   "source": [
    "tune_df.sort_values('model_odds_accuracy', ascending=False, inplace=True)\n",
    "tune_df.head()"
   ]
  },
  {
   "cell_type": "code",
   "execution_count": 38,
   "metadata": {},
   "outputs": [
    {
     "data": {
      "text/plain": [
       "<matplotlib.legend.Legend at 0x31ef644a8>"
      ]
     },
     "execution_count": 38,
     "metadata": {},
     "output_type": "execute_result"
    },
    {
     "data": {
      "image/png": "[encoded data removed]",
      "text/plain": [
       "<Figure size 432x288 with 1 Axes>"
      ]
     },
     "metadata": {
      "needs_background": "light"
     },
     "output_type": "display_data"
    }
   ],
   "source": [
    "%matplotlib inline\n",
    "from matplotlib import pyplot as plt\n",
    "import numpy as np\n",
    "\n",
    "def _plot_params(c, o, s):\n",
    "    _x = np.arange(100)\n",
    "    _y = c / (_x + o) ** s\n",
    "    plt.plot(_x, _y, label='c:%0.2f, o: %0.2f, s:%0.2f' % (c, o, s))\n",
    "        \n",
    "\n",
    "def _plot_row(row):\n",
    "    _plot_params(row['c'], row['o'], row['s'])\n",
    "\n",
    "for i in range(5):\n",
    "    _plot_row(tune_df.iloc[i])\n",
    "\n",
    "_default_mod = ELOModel()\n",
    "_plot_params(_default_mod.c, _default_mod.o, _default_mod.s)\n",
    "\n",
    "plt.legend()"
   ]
  },
  {
   "cell_type": "markdown",
   "metadata": {},
   "source": [
    "Above, it looks like the default parameters (those suggested by ESPN) are better than what we've found through tuning."
   ]
  },
  {
   "cell_type": "markdown",
   "metadata": {},
   "source": [
    "#### Set Weighting"
   ]
  },
  {
   "cell_type": "code",
   "execution_count": null,
   "metadata": {},
   "outputs": [],
   "source": []
  }
 ],
 "metadata": {
  "kernelspec": {
   "display_name": "Python 3",
   "language": "python",
   "name": "python3"
  },
  "language_info": {
   "codemirror_mode": {
    "name": "ipython",
    "version": 3
   },
   "file_extension": ".py",
   "mimetype": "text/x-python",
   "name": "python",
   "nbconvert_exporter": "python",
   "pygments_lexer": "ipython3",
   "version": "3.7.3"
  }
 },
 "nbformat": 4,
 "nbformat_minor": 2
}
