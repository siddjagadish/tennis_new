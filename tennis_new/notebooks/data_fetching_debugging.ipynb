{
 "cells": [
  {
   "cell_type": "markdown",
   "metadata": {},
   "source": [
    "In this notebook, we look into some weird stuff in our data fetching, such as:\n",
    "\n",
    "* String vs. bytes in match_stats data "
   ]
  },
  {
   "cell_type": "markdown",
   "metadata": {},
   "source": [
    "#### String vs. bytes in match stats data"
   ]
  },
  {
   "cell_type": "code",
   "execution_count": 1,
   "metadata": {},
   "outputs": [],
   "source": [
    "import os\n",
    "from tennis_new.fetch.atp_api.defs import (\n",
    "    API_RESULTS_DIR,\n",
    "    MATCH_STATS_HEADER,\n",
    "    MATCH_SCORES_HEADER\n",
    ")\n",
    "import pandas as pd"
   ]
  },
  {
   "cell_type": "code",
   "execution_count": null,
   "metadata": {},
   "outputs": [],
   "source": [
    "match_scores_path = os.path.join(\n",
    "    API_RESULTS_DIR,\n",
    "    'match_scores',\n",
    "    'match_scores_2016-2016.csv'\n",
    ")\n",
    "match_scores = pd.read_csv(match_scores_path)"
   ]
  },
  {
   "cell_type": "code",
   "execution_count": null,
   "metadata": {},
   "outputs": [],
   "source": [
    "assert match_scores['match_id'].value_counts().max() == 1"
   ]
  },
  {
   "cell_type": "code",
   "execution_count": null,
   "metadata": {},
   "outputs": [],
   "source": [
    "match_scores[[\n",
    "    'winner_name',\n",
    "    'loser_name',\n",
    "    'winner_player_id',\n",
    "    'loser_player_id',\n",
    "    'tourney_slug',\n",
    "    'tourney_round_name',\n",
    "    'match_score_tiebreaks'\n",
    "]].head(10)"
   ]
  },
  {
   "cell_type": "code",
   "execution_count": null,
   "metadata": {},
   "outputs": [],
   "source": [
    "[x for x in match_scores.columns if match_scores[x].dtype == 'O']"
   ]
  },
  {
   "cell_type": "code",
   "execution_count": null,
   "metadata": {},
   "outputs": [],
   "source": [
    "match_scores['winner_name'].dtype"
   ]
  },
  {
   "cell_type": "markdown",
   "metadata": {},
   "source": [
    "#### Look into match stats"
   ]
  },
  {
   "cell_type": "code",
   "execution_count": null,
   "metadata": {},
   "outputs": [],
   "source": [
    "match_stats_path = os.path.join(\n",
    "    API_RESULTS_DIR,\n",
    "    'match_stats',\n",
    "    'match_stats_2018_0.csv'\n",
    ")\n",
    "match_stats = pd.read_csv(match_stats_path)"
   ]
  },
  {
   "cell_type": "code",
   "execution_count": null,
   "metadata": {},
   "outputs": [],
   "source": [
    "match_stats.iloc[0]['match_stats_url_suffix']"
   ]
  },
  {
   "cell_type": "code",
   "execution_count": null,
   "metadata": {},
   "outputs": [],
   "source": [
    "match_stats.iloc[0]"
   ]
  },
  {
   "cell_type": "markdown",
   "metadata": {},
   "source": [
    "#### Tourney Data"
   ]
  },
  {
   "cell_type": "code",
   "execution_count": null,
   "metadata": {},
   "outputs": [],
   "source": [
    "tourney_path = os.path.join(\n",
    "    API_RESULTS_DIR,\n",
    "    'tournaments',\n",
    "    'tournaments_2017-2019.csv'\n",
    ")\n",
    "tourneys = pd.read_csv(tourney_path)"
   ]
  },
  {
   "cell_type": "code",
   "execution_count": null,
   "metadata": {},
   "outputs": [],
   "source": [
    "tourneys.iloc[0]"
   ]
  },
  {
   "cell_type": "markdown",
   "metadata": {},
   "source": [
    "I can probably decode tourney_name and tourney_location in tournaments upon parsing... "
   ]
  },
  {
   "cell_type": "code",
   "execution_count": null,
   "metadata": {},
   "outputs": [],
   "source": [
    "[x for x in tourneys.columns if tourneys[x].dtype == 'O']"
   ]
  },
  {
   "cell_type": "markdown",
   "metadata": {},
   "source": [
    "#### Tourneys Combined..."
   ]
  },
  {
   "cell_type": "code",
   "execution_count": null,
   "metadata": {},
   "outputs": [],
   "source": [
    "from tennis_new.fetch.defs import STORED_DATA_PATH\n",
    "\n",
    "tourneys_combined_path = os.path.join(STORED_DATA_PATH, 'tournaments', 'combined.csv')\n",
    "tourneys = pd.read_csv(tourneys_combined_path)"
   ]
  },
  {
   "cell_type": "code",
   "execution_count": null,
   "metadata": {},
   "outputs": [],
   "source": [
    "tourneys.iloc[0]"
   ]
  },
  {
   "cell_type": "markdown",
   "metadata": {},
   "source": [
    "#### Match Scores Combined..."
   ]
  },
  {
   "cell_type": "code",
   "execution_count": 2,
   "metadata": {},
   "outputs": [
    {
     "name": "stderr",
     "output_type": "stream",
     "text": [
      "/Users/siddhantjagadish/Documents/DataProjects/tennis_new/venv/lib/python3.7/site-packages/IPython/core/interactiveshell.py:3049: DtypeWarning: Columns (23) have mixed types. Specify dtype option on import or set low_memory=False.\n",
      "  interactivity=interactivity, compiler=compiler, result=result)\n"
     ]
    }
   ],
   "source": [
    "from tennis_new.fetch.defs import STORED_DATA_PATH\n",
    "\n",
    "ms_combined_path = os.path.join(STORED_DATA_PATH, 'match_scores', 'combined.csv')\n",
    "match_scores = pd.read_csv(\n",
    "    ms_combined_path\n",
    ")"
   ]
  },
  {
   "cell_type": "code",
   "execution_count": 3,
   "metadata": {},
   "outputs": [
    {
     "data": {
      "text/plain": [
       "'match_stats_url_suffix'"
      ]
     },
     "execution_count": 3,
     "metadata": {},
     "output_type": "execute_result"
    }
   ],
   "source": [
    "match_scores.columns[23]"
   ]
  },
  {
   "cell_type": "code",
   "execution_count": 4,
   "metadata": {},
   "outputs": [
    {
     "data": {
      "text/plain": [
       "tourney_year_id                                                    2016-451\n",
       "tourney_order                                                             1\n",
       "tourney_slug                                                           doha\n",
       "tourney_url_suffix                 /en/scores/archive/doha/451/2016/results\n",
       "tourney_round_name                                                   Finals\n",
       "round_order                                                               1\n",
       "match_order                                                               1\n",
       "winner_name                                                  Novak Djokovic\n",
       "winner_player_id                                                       d643\n",
       "winner_slug                                                  novak-djokovic\n",
       "loser_name                                                     Rafael Nadal\n",
       "loser_player_id                                                        n409\n",
       "loser_slug                                                     rafael-nadal\n",
       "winner_seed                                                               1\n",
       "loser_seed                                                                2\n",
       "match_score_tiebreaks                                                 61 62\n",
       "winner_sets_won                                                           2\n",
       "loser_sets_won                                                            0\n",
       "winner_games_won                                                         12\n",
       "loser_games_won                                                           3\n",
       "winner_tiebreaks_won                                                      0\n",
       "loser_tiebreaks_won                                                       0\n",
       "match_id                                                 2016-451-d643-n409\n",
       "match_stats_url_suffix    /en/scores/2016/451/MS001/match-stats?isLive=F...\n",
       "Name: 0, dtype: object"
      ]
     },
     "execution_count": 4,
     "metadata": {},
     "output_type": "execute_result"
    }
   ],
   "source": [
    "match_scores.iloc[0]"
   ]
  },
  {
   "cell_type": "code",
   "execution_count": null,
   "metadata": {},
   "outputs": [],
   "source": [
    "match_scores.shape"
   ]
  },
  {
   "cell_type": "markdown",
   "metadata": {},
   "source": [
    "#### Read Joined\n"
   ]
  },
  {
   "cell_type": "code",
   "execution_count": 5,
   "metadata": {},
   "outputs": [
    {
     "name": "stderr",
     "output_type": "stream",
     "text": [
      "/Users/siddhantjagadish/Documents/DataProjects/tennis_new/venv/lib/python3.7/site-packages/IPython/core/interactiveshell.py:3049: DtypeWarning: Columns (13,17,19,33,39,40,41,42,43,44,45,46) have mixed types. Specify dtype option on import or set low_memory=False.\n",
      "  interactivity=interactivity, compiler=compiler, result=result)\n"
     ]
    }
   ],
   "source": [
    "from tennis_new.fetch.defs import STORED_DATA_PATH\n",
    "\n",
    "jd = pd.read_csv(os.path.join(STORED_DATA_PATH, 'joined.tsv'), sep='\\t')"
   ]
  },
  {
   "cell_type": "code",
   "execution_count": 12,
   "metadata": {},
   "outputs": [
    {
     "data": {
      "text/plain": [
       "'match_stats_url_suffix'"
      ]
     },
     "execution_count": 12,
     "metadata": {},
     "output_type": "execute_result"
    }
   ],
   "source": [
    "jd.columns[19]"
   ]
  },
  {
   "cell_type": "code",
   "execution_count": null,
   "metadata": {},
   "outputs": [],
   "source": [
    "jd['tourney_fin_commit'].value_counts(dropna=False)"
   ]
  }
 ],
 "metadata": {
  "kernelspec": {
   "display_name": "Python 3",
   "language": "python",
   "name": "python3"
  },
  "language_info": {
   "codemirror_mode": {
    "name": "ipython",
    "version": 3
   },
   "file_extension": ".py",
   "mimetype": "text/x-python",
   "name": "python",
   "nbconvert_exporter": "python",
   "pygments_lexer": "ipython3",
   "version": "3.7.3"
  }
 },
 "nbformat": 4,
 "nbformat_minor": 2
}
