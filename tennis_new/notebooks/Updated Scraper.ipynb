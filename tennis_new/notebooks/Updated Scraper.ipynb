{
 "cells": [
  {
   "cell_type": "code",
   "execution_count": null,
   "metadata": {},
   "outputs": [],
   "source": [
    "from tennis_new.fetch.atp_api.scrapers.updated_scraper.base import MatchResultsParser\n",
    "\n",
    "mp = MatchResultsParser('https://www.atptour.com/en/scores/archive/como/3473/2010/results')"
   ]
  },
  {
   "cell_type": "code",
   "execution_count": null,
   "metadata": {},
   "outputs": [],
   "source": [
    "mp.match_result_list"
   ]
  },
  {
   "cell_type": "code",
   "execution_count": null,
   "metadata": {},
   "outputs": [],
   "source": [
    "from lxml import html\n",
    "\n",
    "score_table_elems = mp.tree.xpath(\".//table[@class='day-table']\")"
   ]
  },
  {
   "cell_type": "code",
   "execution_count": null,
   "metadata": {},
   "outputs": [],
   "source": [
    "table_rows = score_table_elems[0].xpath('.//tr')"
   ]
  },
  {
   "cell_type": "code",
   "execution_count": null,
   "metadata": {},
   "outputs": [],
   "source": [
    "html.tostring(table_rows[1])"
   ]
  },
  {
   "cell_type": "code",
   "execution_count": null,
   "metadata": {},
   "outputs": [],
   "source": [
    "result_row = table_rows[1]"
   ]
  },
  {
   "cell_type": "code",
   "execution_count": null,
   "metadata": {},
   "outputs": [],
   "source": [
    "html.tostring(result_row)"
   ]
  },
  {
   "cell_type": "code",
   "execution_count": null,
   "metadata": {},
   "outputs": [],
   "source": [
    "w = result_row.xpath(\"./td[@class='day-table-score']/a\")"
   ]
  },
  {
   "cell_type": "code",
   "execution_count": null,
   "metadata": {},
   "outputs": [],
   "source": [
    "w[0].attrib['href']"
   ]
  },
  {
   "cell_type": "code",
   "execution_count": null,
   "metadata": {},
   "outputs": [],
   "source": [
    "w[0].xpath('./text()')"
   ]
  },
  {
   "cell_type": "code",
   "execution_count": null,
   "metadata": {},
   "outputs": [],
   "source": [
    "stripped = regex_strip_array(w[0].xpath('./text()'))\n",
    "stripped.remove(\"\")\n",
    "stripped"
   ]
  },
  {
   "cell_type": "code",
   "execution_count": null,
   "metadata": {},
   "outputs": [],
   "source": []
  },
  {
   "cell_type": "code",
   "execution_count": null,
   "metadata": {},
   "outputs": [],
   "source": [
    "''.join(regex_strip_array(w[0].xpath('./text()')))"
   ]
  },
  {
   "cell_type": "code",
   "execution_count": null,
   "metadata": {},
   "outputs": [],
   "source": [
    "z = w[0]"
   ]
  },
  {
   "cell_type": "code",
   "execution_count": null,
   "metadata": {},
   "outputs": [],
   "source": [
    "from tennis_new.fetch.atp_api.scrapers.updated_scraper.base import regex_strip_string, regex_strip_array\n",
    "\n",
    "regex_strip_string(z.text_content())"
   ]
  },
  {
   "cell_type": "code",
   "execution_count": null,
   "metadata": {},
   "outputs": [],
   "source": [
    "?z.text_content"
   ]
  },
  {
   "cell_type": "code",
   "execution_count": null,
   "metadata": {},
   "outputs": [],
   "source": [
    "z = w[0]"
   ]
  },
  {
   "cell_type": "code",
   "execution_count": null,
   "metadata": {},
   "outputs": [],
   "source": [
    "z.attrib['href']"
   ]
  },
  {
   "cell_type": "code",
   "execution_count": null,
   "metadata": {},
   "outputs": [],
   "source": [
    "html.tostring(z)"
   ]
  },
  {
   "cell_type": "code",
   "execution_count": null,
   "metadata": {},
   "outputs": [],
   "source": [
    "z.attrib"
   ]
  },
  {
   "cell_type": "code",
   "execution_count": null,
   "metadata": {},
   "outputs": [],
   "source": [
    "len(table_rows)"
   ]
  },
  {
   "cell_type": "code",
   "execution_count": null,
   "metadata": {},
   "outputs": [],
   "source": [
    "import pandas as pd\n",
    "import requests\n",
    "from lxml import html\n",
    "\n",
    "\n",
    "def regex_strip_string(string):\n",
    "    string = re.sub('\\n', '', string).strip()\n",
    "    string = re.sub('\\r', '', string).strip()\n",
    "    string = re.sub('\\t', '', string).strip()\n",
    "    return string\n",
    "\n",
    "\n",
    "def regex_strip_array(array):\n",
    "    for i in range(0, len(array)):\n",
    "        array[i] = regex_strip_string(array[i]).strip()\n",
    "    return array\n",
    "\n",
    "def clean_text(to_parse, xpath_expr, unique=True):\n",
    "    _x = to_parse.xpath(xpath_expr)\n",
    "    if len(_x) > 1:\n",
    "        raise ValueError(\"Expected singleton, received array of length %d\" % len(_x))\n",
    "    return regex_strip_string(_x[0])\n",
    "\n",
    "\n",
    "class MatchResultsParser():\n",
    "    \n",
    "    URL_PREFIX = 'https://www.atptour.com/'\n",
    "    \n",
    "    def __init__(self, url):\n",
    "        self.url = url\n",
    "        self.match_result_list = []\n",
    "        self._cur_round_name = None\n",
    "        self.parse_scores()\n",
    "        \n",
    "    def _parse_header_row(self, header_row):\n",
    "        self._cur_round_name = clean_text(\n",
    "            header_row,\n",
    "            \"./th/text()\"\n",
    "        )\n",
    "        \n",
    "    def _parse_result_row(self, result_row):\n",
    "        winner_link, loser_link = result_row.xpath(\"./td[@class='day-table-name']/a\")\n",
    "        winner_name = clean_text(winner_link, './text()')\n",
    "        loser_name = clean_text(loser_link, './text()')\n",
    "        winner_url = winner_link.get('href') \n",
    "        loser_url = loser_link.get('href') \n",
    "\n",
    "        score = ''.join(regex_strip_array(result_row.xpath(\"./td[@class='day-table-score']/a/text()\")))\n",
    "        self.match_result_list.append({\n",
    "            'winner_name': winner_name,\n",
    "            'loser_name': loser_name,\n",
    "            'winner_url': winner_url,\n",
    "            'loser_url': loser_url,\n",
    "            'round': self._cur_round_name,\n",
    "            'score': score\n",
    "        })\n",
    "        \n",
    "    def _parse_row(self, table_row):\n",
    "        player_names = table_row.xpath(\".//td[@class='day-table-name']/a\")\n",
    "        if len(player_names) != 2:  # If this is the case, probably a header\n",
    "            assert len(table_row.xpath(\"./th\")) == 1\n",
    "            self._parse_header_row(table_row)\n",
    "        else:\n",
    "            assert len(table_row.xpath(\"./th\")) == 0\n",
    "            self._parse_result_row(table_row)\n",
    "        \n",
    "    def parse_scores(self):\n",
    "        self.tree = html.fromstring(requests.get(self.url).content)\n",
    "        score_table_elems = self.tree.xpath(\".//table[@class='day-table']\")\n",
    "        assert len(score_table_elems) <= 1\n",
    "        if len(score_table_elems) != 0:\n",
    "            score_table_elem = score_table_elems[0]\n",
    "            table_rows = score_table_elem.xpath('.//tr')\n",
    "            for table_row in table_rows:\n",
    "                self._parse_row(table_row)\n",
    "\n",
    "\n",
    "class TournamentScraper():\n",
    "\n",
    "    EXPECTED_ELEMS = 8  # We expect 8 elements per tournament row\n",
    "    ELIGIBLE_SURFACES = [\n",
    "        'Hard',\n",
    "        'Carpet',\n",
    "        'Clay',\n",
    "        'Grass'\n",
    "    ]\n",
    "    \n",
    "\n",
    "    def _check_xpath_validity(self):\n",
    "        n_elems = len(self.tr_elem.xpath('.//td'))\n",
    "        if n_elems != self.EXPECTED_ELEMS:\n",
    "            raise ValueError(\"Expected {0} elements per tournament, received {1}\").format(\n",
    "                self.EXPECTED_ELEMS, n_elems\n",
    "            )\n",
    "\n",
    "    def _process_title_location_date(self, elem):\n",
    "        self.tourney_title = clean_text(elem, \".//span[@class='tourney-title']/text()\")\n",
    "        self.tourney_location = clean_text(elem, \".//span[@class='tourney-location']/text()\")\n",
    "        self.tourney_dates = clean_text(elem, \".//span[@class='tourney-dates']/text()\")\n",
    "\n",
    "    def _process_draw_sizes(self, elem):\n",
    "        sgd_dbl = regex_strip_array(elem.xpath(\".//div[@class='item-details']/text()\"))\n",
    "        assert sgd_dbl == ['SGL', 'DBL', '']\n",
    "        draw_sizes = regex_strip_array(elem.xpath(\".//span[@class='item-value']/text()\"))\n",
    "        if len(draw_sizes) != 2:\n",
    "            raise ValueError(\"Expected two draw sizes, found %d instead\" % draw_sizes)\n",
    "        self.singles_draw_size = int(draw_sizes[0])\n",
    "        self.doubles_draw_size = int(draw_sizes[1])\n",
    "\n",
    "    def _process_surface(self, elem):\n",
    "        in_out = regex_strip_string(elem.xpath(\".//div[@class='item-details']/text()[1]\")[0])\n",
    "        if in_out not in ['Indoor', 'Outdoor']:\n",
    "            raise ValueError('Expected to see \"Indoor\" or \"Outdoor\", instead saw \"%s\"' % in_out)\n",
    "        self.in_out = in_out\n",
    "        surface = regex_strip_string(elem.xpath(\".//span[@class='item-value']/text()[1]\")[0])\n",
    "        if surface not in self.ELIGIBLE_SURFACES:\n",
    "            raise ValueError(\"Unrecognized Surface %s\" % surface)\n",
    "        self.surface = surface\n",
    "\n",
    "    @staticmethod\n",
    "    def _first_if_present(to_parse, expr, default=None):\n",
    "        # Parses the first element if present, otherwise returns default value\n",
    "        xpath_res = to_parse.xpath(expr)\n",
    "        if len(xpath_res) > 0:\n",
    "            return regex_strip_string(xpath_res[0])\n",
    "        else:\n",
    "            return default\n",
    "        \n",
    "    def _process_fin_commit(self, elem):\n",
    "        # TODO: Make a function to process if present...\n",
    "        self.fin_commit = self._first_if_present(elem, \".//span[@class='item-value']/text()[1]\")\n",
    "            \n",
    "    def _process_tourney_winners(self, elem):\n",
    "        elems = elem.xpath(\".//div[@class='tourney-detail-winner']\")\n",
    "        if len(elems) != 2:\n",
    "            raise ValueError(\"Expected two winners, instead found %d\" % len(elems))\n",
    "        singles, doubles = elems\n",
    "        assert regex_strip_string(singles.xpath(\"./text()[1]\")[0]) == 'SGL:'\n",
    "        assert regex_strip_string(doubles.xpath(\"./text()[1]\")[0]) == 'DBL:'\n",
    "\n",
    "        singles_winner_html = singles.xpath(\n",
    "            \"./a\"\n",
    "        )\n",
    "        doubles_winner_html = doubles.xpath(\n",
    "            \"./a\"\n",
    "        )\n",
    "        if len(singles_winner_html) == 0:\n",
    "            self.singles_winner_name = None\n",
    "            self.singles_winner_link = None\n",
    "        else:\n",
    "            self.singles_winner_name = self._first_if_present(\n",
    "                singles_winner_html[0], \"./text()\"\n",
    "            )\n",
    "            self.singles_winner_link = singles_winner_html[0].get('href')\n",
    "\n",
    "        if len(doubles_winner_html) != 2:\n",
    "            self.doubles_winner_first_name = None\n",
    "            self.doubles_winner_first_link = None\n",
    "            self.doubles_winner_second_name = None\n",
    "            self.doubles_winner_second_link = None\n",
    "        else:\n",
    "            self.doubles_winner_first_name = self._first_if_present(\n",
    "                doubles_winner_html[0], \"./text()\"\n",
    "            )\n",
    "            self.doubles_winner_second_name = self._first_if_present(\n",
    "                doubles_winner_html[1], \"./text()\"\n",
    "            )\n",
    "            self.doubles_winner_first_link = doubles_winner_html[0].get('href')\n",
    "            self.doubles_winner_second_link = doubles_winner_html[1].get('href')\n",
    "            \n",
    "    def _process_results_link(self, elem):\n",
    "        tourney_url_elem = elem.xpath(\"./a\")\n",
    "        if len(tourney_url_elem) > 0:\n",
    "            self.tourney_url_suffix = tourney_url_elem[0].get('href')\n",
    "        else:\n",
    "            self.tourney_url_suffix = None\n",
    "\n",
    "    def _parse_year_id(self):\n",
    "        if self.tourney_url_suffix is None:\n",
    "            self.year_id = None\n",
    "        else:\n",
    "            split = self.tourney_url_suffix.split('/')\n",
    "            assert split[0] == '' \n",
    "            assert split[1] == 'en'\n",
    "            assert split[2] == 'scores'\n",
    "            assert split[3] == 'archive'\n",
    "            self.tourney_id = split[5]\n",
    "            url_year = split[6]\n",
    "            self.year_id = '_'.join([url_year, self.tourney_id])\n",
    "            \n",
    "    def _parse_results(self):\n",
    "        if self.tourney_url_suffix is not None:\n",
    "            print(\"Parsing results for %s\" % self.tourney_url_suffix)\n",
    "            mp = MatchResultsParser(MatchResultsParser.URL_PREFIX + self.tourney_url_suffix)\n",
    "            self.match_results = mp.match_result_list\n",
    "        else:\n",
    "            self.match_results = []\n",
    "    \n",
    "        \n",
    "    def state_to_dict(self):\n",
    "        return {\n",
    "            'tourney_title': self.tourney_title,\n",
    "            'tourney_location': self.tourney_location,\n",
    "            'tourney_dates': self.tourney_dates,\n",
    "            'tourney_singles_draw_size': self.singles_draw_size,\n",
    "            'tourney_doubles_draw_size': self.doubles_draw_size,\n",
    "            'tourney_in_out': self.in_out,\n",
    "            'tourney_surface': self.surface,\n",
    "            'tourney_singles_winner_name': self.singles_winner_name,\n",
    "            'tourney_singles_winner_link': self.singles_winner_link,\n",
    "            'tourney_doubles_winner_first_name': self.doubles_winner_first_name,\n",
    "            'tourney_doubles_winner_second_name': self.doubles_winner_second_name,\n",
    "            'tourney_doubles_winner_first_link': self.doubles_winner_first_link,\n",
    "            'tourney_doubles_winner_second_link': self.doubles_winner_second_link,\n",
    "            'tourney_url_suffix': self.tourney_url_suffix,\n",
    "            'tourney_year_id': self.year_id\n",
    "        }\n",
    "            \n",
    "        \n",
    "    def __init__(self, tr_elem):\n",
    "        self.tr_elem = tr_elem\n",
    "        self._check_xpath_validity()\n",
    "        self.table_entries = self.tr_elem.xpath('.//td')\n",
    "        self._process_title_location_date(self.table_entries[2])\n",
    "        self._process_draw_sizes(self.table_entries[3])\n",
    "        self._process_surface(self.table_entries[4])\n",
    "        self._process_fin_commit(self.table_entries[5])\n",
    "        self._process_tourney_winners(self.table_entries[6])\n",
    "        self._process_results_link(self.table_entries[7])\n",
    "        self._parse_year_id()\n",
    "        self._parse_results()\n",
    "        \n",
    "    def result_df(self):\n",
    "        if len(self.match_results) == 0:\n",
    "            return None\n",
    "        else:\n",
    "            match_result_df = pd.DataFrame(self.match_results)\n",
    "            for k, v in self.state_to_dict().items():\n",
    "                match_result_df[k] = v\n",
    "            return match_result_df\n",
    "        \n",
    "\n",
    "class TennisScraper():\n",
    "    \n",
    "    @staticmethod\n",
    "    def _get_tourney_tree(base_url):\n",
    "        return html.fromstring(requests.get(base_url).content)\n",
    "    \n",
    "    def __init__(self, year, challenger=False):\n",
    "        self.year = year\n",
    "        _base_url = \"http://www.atpworldtour.com/en/scores/results-archive?year=%d\"\n",
    "        self.base_url = _base_url % self.year\n",
    "        if challenger:\n",
    "            self.base_url += \"&tournamentType=ch\" \n",
    "        self.tourney_tree = self._get_tourney_tree(self.base_url)\n",
    "        self.tourneys = [\n",
    "            TournamentScraper(t) for t in self.tourney_tree.xpath(\"//tr[@class='tourney-result']\")\n",
    "        ]\n",
    "    \n",
    "    def tourney_df(self):\n",
    "        return pd.DataFrame([\n",
    "            t.state_to_dict() for t in self.tourneys\n",
    "        ])\n",
    "\n",
    "    def match_df(self):\n",
    "        return pd.concat([\n",
    "            t.result_df() for t in self.tourneys\n",
    "        ])"
   ]
  },
  {
   "cell_type": "code",
   "execution_count": null,
   "metadata": {
    "scrolled": true
   },
   "outputs": [],
   "source": [
    "ts = TennisScraper(1979)\n",
    "matches_1979 = ts.match_df()"
   ]
  },
  {
   "cell_type": "code",
   "execution_count": null,
   "metadata": {},
   "outputs": [],
   "source": [
    "matches_1979.head()"
   ]
  },
  {
   "cell_type": "code",
   "execution_count": null,
   "metadata": {
    "scrolled": true
   },
   "outputs": [],
   "source": [
    "ts_challenger = TennisScraper(1979, challenger=True)\n",
    "matches_1979_ch = ts_challenger.match_df()"
   ]
  },
  {
   "cell_type": "code",
   "execution_count": null,
   "metadata": {},
   "outputs": [],
   "source": [
    "matches_1979_ch.shape"
   ]
  },
  {
   "cell_type": "code",
   "execution_count": null,
   "metadata": {},
   "outputs": [],
   "source": [
    "w = ts.tourneys[0]"
   ]
  },
  {
   "cell_type": "code",
   "execution_count": null,
   "metadata": {},
   "outputs": [],
   "source": [
    "w.year_id"
   ]
  },
  {
   "cell_type": "code",
   "execution_count": null,
   "metadata": {},
   "outputs": [],
   "source": [
    "ts.tourneys[0].result_df()"
   ]
  },
  {
   "cell_type": "code",
   "execution_count": null,
   "metadata": {},
   "outputs": [],
   "source": [
    "pd.DataFrame(ts.tourneys[0].match_results)"
   ]
  },
  {
   "cell_type": "code",
   "execution_count": null,
   "metadata": {},
   "outputs": [],
   "source": [
    "ts.tourneys[0].doubles_winner_first_name"
   ]
  },
  {
   "cell_type": "code",
   "execution_count": null,
   "metadata": {},
   "outputs": [],
   "source": [
    "ts.tourneys[0].singles_winner_link"
   ]
  },
  {
   "cell_type": "code",
   "execution_count": null,
   "metadata": {},
   "outputs": [],
   "source": [
    "print(html.tostring(ts.tourneys[0].table_entries[0]))"
   ]
  },
  {
   "cell_type": "code",
   "execution_count": null,
   "metadata": {},
   "outputs": [],
   "source": [
    "print(html.tostring(ts.tourneys[3].table_entries[7]))"
   ]
  },
  {
   "cell_type": "code",
   "execution_count": null,
   "metadata": {},
   "outputs": [],
   "source": [
    "w = ts.tourneys[0].table_entries[7]\n",
    "# winner1, winner2 = w.xpath(\".//div[@class='tourney-detail-winner']\")"
   ]
  },
  {
   "cell_type": "code",
   "execution_count": null,
   "metadata": {},
   "outputs": [],
   "source": [
    "w.xpath('./a')[0].get('href')"
   ]
  },
  {
   "cell_type": "code",
   "execution_count": null,
   "metadata": {},
   "outputs": [],
   "source": [
    "q = winner1.xpath(\".//a\")[0]"
   ]
  },
  {
   "cell_type": "code",
   "execution_count": null,
   "metadata": {},
   "outputs": [],
   "source": [
    "q.get('href')"
   ]
  },
  {
   "cell_type": "code",
   "execution_count": null,
   "metadata": {},
   "outputs": [],
   "source": [
    "winner2.xpath(\"./a[1]/text()\")"
   ]
  },
  {
   "cell_type": "code",
   "execution_count": null,
   "metadata": {},
   "outputs": [],
   "source": [
    "regex_strip_array(w.xpath(\".//span[@class='item-value']/text()\"))"
   ]
  },
  {
   "cell_type": "code",
   "execution_count": null,
   "metadata": {},
   "outputs": [],
   "source": [
    "w = ts.tourneys[0].tr_elem"
   ]
  },
  {
   "cell_type": "code",
   "execution_count": null,
   "metadata": {},
   "outputs": [],
   "source": [
    "xpath_parse(w, \".//span[@class='tourney-title']/text()\")"
   ]
  },
  {
   "cell_type": "code",
   "execution_count": null,
   "metadata": {},
   "outputs": [],
   "source": [
    "len(xpath_parse(w, \".//td\"))"
   ]
  },
  {
   "cell_type": "markdown",
   "metadata": {},
   "source": [
    "#### Match Scores"
   ]
  },
  {
   "cell_type": "code",
   "execution_count": null,
   "metadata": {},
   "outputs": [],
   "source": [
    "TEST_URL = 'https://www.atptour.com/en/scores/archive/australian-open/580/1976/results'"
   ]
  },
  {
   "cell_type": "code",
   "execution_count": null,
   "metadata": {},
   "outputs": [],
   "source": [
    "class MatchResultsParser():\n",
    "    \n",
    "    def __init__(self, url):\n",
    "        self.url = url\n",
    "        self.match_score_list = []\n",
    "        self._cur_round_name = None\n",
    "\n",
    "    def _parse_header_row(self, header_row):\n",
    "        self._cur_round_name = clean_text(\n",
    "            header_row,\n",
    "            \"./th/text()\"\n",
    "        )\n",
    "        \n",
    "    def _parse_result_row(self, result_row):\n",
    "        winner_link, loser_link = result_row.xpath(\"./td[@class='day-table-name']/a\")\n",
    "        winner_name = clean_text(winner_link, './text()')\n",
    "        loser_name = clean_text(loser_link, './text()')\n",
    "        winner_url = winner_link.get('href') \n",
    "        loser_url = loser_link.get('href') \n",
    "        score = clean_text(result_row, \"./td[@class='day-table-score']/a/text()\")\n",
    "        self.match_score_list.append({\n",
    "            'winner_name': winner_name,\n",
    "            'loser_name': loser_name,\n",
    "            'winner_url': winner_url,\n",
    "            'loser_url': loser_url,\n",
    "            'round': self._cur_round_name,\n",
    "            'score': score\n",
    "        })\n",
    "        \n",
    "    def _parse_row(self, table_row):\n",
    "        player_names = table_row.xpath(\".//td[@class='day-table-name']/a\")\n",
    "        if len(player_names) != 2:  # If this is the case, probably a header\n",
    "            assert len(table_row.xpath(\"./th\")) == 1\n",
    "            self._parse_header_row(table_row)\n",
    "        else:\n",
    "            assert len(table_row.xpath(\"./th\")) == 0\n",
    "            self._parse_result_row(table_row)\n",
    "        \n",
    "    def parse_scores(self):\n",
    "        self.tree = html.fromstring(requests.get(self.url).content)\n",
    "        score_table_elems = self.tree.xpath(\".//table[@class='day-table']\")\n",
    "        assert len(score_table_elems) == 1\n",
    "        score_table_elem = score_table_elems[0]\n",
    "        \n",
    "        table_rows = score_table_elem.xpath('.//tr')\n",
    "        for table_row in table_rows:\n",
    "            self._parse_row(table_row)"
   ]
  },
  {
   "cell_type": "code",
   "execution_count": null,
   "metadata": {},
   "outputs": [],
   "source": [
    "mr = MatchResultsParser(TEST_URL)\n",
    "mr.parse_scores()"
   ]
  },
  {
   "cell_type": "code",
   "execution_count": null,
   "metadata": {},
   "outputs": [],
   "source": [
    "mr.match_score_list"
   ]
  },
  {
   "cell_type": "code",
   "execution_count": null,
   "metadata": {},
   "outputs": [],
   "source": [
    "zubba = root.xpath(\".//table[@class='day-table']\")[0]"
   ]
  },
  {
   "cell_type": "code",
   "execution_count": null,
   "metadata": {},
   "outputs": [],
   "source": [
    "wubba = zubba.xpath('.//tr')"
   ]
  },
  {
   "cell_type": "code",
   "execution_count": null,
   "metadata": {},
   "outputs": [],
   "source": [
    "wubba[1].xpath(\"./td[@class='day-table-name']/a\")"
   ]
  },
  {
   "cell_type": "code",
   "execution_count": null,
   "metadata": {},
   "outputs": [],
   "source": [
    "import os\n",
    "from tennis_new.fetch.atp_api.defs import API_RESULTS_DIR\n",
    "\n",
    "mypath = os.path.join(API_RESULTS_DIR, 'updated_api_results', 'match_results_2019.csv')"
   ]
  },
  {
   "cell_type": "code",
   "execution_count": null,
   "metadata": {},
   "outputs": [],
   "source": [
    "import pandas as pd\n",
    "\n",
    "df = pd.read_csv(mypath)"
   ]
  },
  {
   "cell_type": "code",
   "execution_count": null,
   "metadata": {},
   "outputs": [],
   "source": [
    "df.iloc[0]"
   ]
  },
  {
   "cell_type": "code",
   "execution_count": null,
   "metadata": {},
   "outputs": [],
   "source": [
    "df['match_stats_url'].isnull().mean()"
   ]
  },
  {
   "cell_type": "code",
   "execution_count": null,
   "metadata": {},
   "outputs": [],
   "source": [
    "sorted(df.columns)"
   ]
  },
  {
   "cell_type": "code",
   "execution_count": null,
   "metadata": {},
   "outputs": [],
   "source": [
    "df[df['match_stats_url'].isnull()][[\n",
    "    'tourney_title',\n",
    "    'score',\n",
    "    'winner_name',\n",
    "    'loser_name',\n",
    "    'round'\n",
    "]]"
   ]
  },
  {
   "cell_type": "markdown",
   "metadata": {},
   "source": [
    "#### Scraping Match Stats"
   ]
  },
  {
   "cell_type": "code",
   "execution_count": null,
   "metadata": {},
   "outputs": [],
   "source": [
    "URL = 'https://www.atptour.com/en/scores/2019/339/MS003/match-stats?isLive=False'"
   ]
  },
  {
   "cell_type": "code",
   "execution_count": null,
   "metadata": {},
   "outputs": [],
   "source": [
    "import requests\n",
    "from lxml import html\n",
    "\n",
    "tree = html.fromstring(requests.get(URL).content)"
   ]
  },
  {
   "cell_type": "code",
   "execution_count": null,
   "metadata": {},
   "outputs": [],
   "source": [
    "tree.find_class('player-left-name')[0].find_class('first-name')[0].text"
   ]
  },
  {
   "cell_type": "code",
   "execution_count": null,
   "metadata": {},
   "outputs": [],
   "source": [
    "name_elem = tree.find_class('player-left-name')[0]\n",
    "html.tostring(name_elem)"
   ]
  },
  {
   "cell_type": "code",
   "execution_count": null,
   "metadata": {},
   "outputs": [],
   "source": [
    "name_elem.xpath('./a')[0].attrib['href']"
   ]
  },
  {
   "cell_type": "code",
   "execution_count": null,
   "metadata": {},
   "outputs": [],
   "source": [
    "print(html.tostring(tree, pretty_print=True))"
   ]
  },
  {
   "cell_type": "code",
   "execution_count": null,
   "metadata": {},
   "outputs": [],
   "source": [
    "table = tree.find_class('match-stats-table')[0]"
   ]
  },
  {
   "cell_type": "code",
   "execution_count": null,
   "metadata": {},
   "outputs": [],
   "source": [
    "table_rows = table.xpath('.//tr')"
   ]
  },
  {
   "cell_type": "code",
   "execution_count": null,
   "metadata": {},
   "outputs": [],
   "source": [
    "html.tostring(table_rows[1])"
   ]
  },
  {
   "cell_type": "code",
   "execution_count": null,
   "metadata": {},
   "outputs": [],
   "source": [
    "left_numbers = tree.find_class('match-stats-number-left')"
   ]
  },
  {
   "cell_type": "code",
   "execution_count": null,
   "metadata": {},
   "outputs": [],
   "source": [
    "right_numbers = table.find_class('match-stats-number-right')"
   ]
  },
  {
   "cell_type": "code",
   "execution_count": null,
   "metadata": {},
   "outputs": [],
   "source": [
    "labels = [x.text for x in table.find_class('match-stats-label')]\n",
    "labels"
   ]
  },
  {
   "cell_type": "code",
   "execution_count": null,
   "metadata": {},
   "outputs": [],
   "source": [
    "[_find_center(x) for x in left_numbers]"
   ]
  },
  {
   "cell_type": "code",
   "execution_count": null,
   "metadata": {},
   "outputs": [],
   "source": [
    "[_find_center(x) for x in right_numbers]"
   ]
  },
  {
   "cell_type": "code",
   "execution_count": null,
   "metadata": {},
   "outputs": [],
   "source": [
    "def _find_center(elem, sol=[]):\n",
    "    l = list(elem.iterchildren())\n",
    "    if len(l) == 0:\n",
    "        return elem.text\n",
    "    elif len(l) == 1:\n",
    "        return _find_center(l[0])\n",
    "    else:\n",
    "        assert l[1].attrib['class'] == 'stat-breakdown'\n",
    "        return (_find_center(l[0]), _find_center(l[1]))\n",
    "        \n",
    "_find_center(z)"
   ]
  },
  {
   "cell_type": "code",
   "execution_count": null,
   "metadata": {},
   "outputs": [],
   "source": [
    "q = z.iterchildren()"
   ]
  },
  {
   "cell_type": "code",
   "execution_count": null,
   "metadata": {},
   "outputs": [],
   "source": [
    "html.tostring(table_rows[1])"
   ]
  },
  {
   "cell_type": "code",
   "execution_count": null,
   "metadata": {},
   "outputs": [],
   "source": [
    "    html.tostring(tree.find_class('match-stats-table')[0])"
   ]
  },
  {
   "cell_type": "code",
   "execution_count": null,
   "metadata": {},
   "outputs": [],
   "source": [
    "print(html.tostring(tree, pretty_print=True))"
   ]
  },
  {
   "cell_type": "code",
   "execution_count": null,
   "metadata": {},
   "outputs": [],
   "source": [
    "import re\n",
    "\n",
    "def regex_strip_string(string):\n",
    "    string = re.sub('\\n', '', string).strip()\n",
    "    string = re.sub('\\r', '', string).strip()\n",
    "    string = re.sub('\\t', '', string).strip()\n",
    "    return string\n",
    "\n",
    "def regex_strip_array(array):\n",
    "    for i in range(0, len(array)):\n",
    "        if isinstance(array[i], str):\n",
    "            array[i] = regex_strip_string(array[i]).strip()\n",
    "        else:\n",
    "            array[i] = regex_strip_array(array[i])\n",
    "    return array\n",
    "\n",
    "def _find_center(elem, sol=[]):\n",
    "    l = list(elem.iterchildren())\n",
    "    if len(l) == 0:\n",
    "        return elem.text\n",
    "    elif len(l) == 1:\n",
    "        return _find_center(l[0])\n",
    "    else:\n",
    "        assert l[1].attrib['class'] == 'stat-breakdown'\n",
    "        return [_find_center(l[0]), _find_center(l[1])]\n",
    "\n",
    "class MatchStatsParser(object):\n",
    "\n",
    "    def __init__(self, url):\n",
    "        self.tree = html.fromstring(requests.get(url).content) \n",
    "        self.parse_match()\n",
    "\n",
    "    def _parse_name(self, suffix):\n",
    "        name_elem = self.tree.find_class('player-%s-name' % suffix)\n",
    "        if len(name_elem) != 1:\n",
    "            raise ValueError('Expecting exactly 1 name elem with suffix %s' % suffix)\n",
    "        name_elem = name_elem[0]\n",
    "\n",
    "        link = name_elem.xpath('./a')\n",
    "        if len(link) == 0:\n",
    "            url = None\n",
    "        elif len(link) == 1:\n",
    "            url = link[0].attrib['href']\n",
    "        else:\n",
    "            raise ValueError('Expecting exactly 1 player url, found %d' % len(link))\n",
    "       \n",
    "        first_name = name_elem.find_class('first-name')\n",
    "        if len(first_name) != 1:\n",
    "            raise ValueError('Expecting exactly 1 first name, found %d' % len(first_name))\n",
    "        first_name = regex_strip_string(first_name[0].text)\n",
    "\n",
    "        last_name = name_elem.find_class('last-name')\n",
    "        if len(last_name) != 1:\n",
    "            raise ValueError('Expecting exactly 1 last name, found %d' % len(last_name))\n",
    "        last_name = regex_strip_string(last_name[0].text)\n",
    "        return first_name, last_name,  url\n",
    "\n",
    "    \n",
    "    def _parse_stats(self, suffix):\n",
    "        nums = self.tree.find_class('match-stats-number-%s' % suffix)\n",
    "        return [_find_center(x) for x in nums] \n",
    "    \n",
    "    \n",
    "    def parse_stats(self):\n",
    "        stats_labels = regex_strip_array([x.text for x in self.tree.find_class('match-stats-label')])\n",
    "        stats_labels = ['_'.join(x.lower().split(' ')) for x in stats_labels]\n",
    "        self.left_stats_result = regex_strip_array(self._parse_stats('left'))\n",
    "        assert len(stats_labels) == len(self.left_stats_result)\n",
    "        self.left_stats = dict(zip(stats_labels, self.left_stats_result))\n",
    "        self.right_stats_result = self._parse_stats('right')\n",
    "        self.right_stats_result = regex_strip_array(self.right_stats_result)\n",
    "        assert len(stats_labels) == len(self.right_stats_result)\n",
    "        self.right_stats = dict(zip(stats_labels, self.right_stats_result))\n",
    "        # TODO: Add results to object attributes with right prefix\n",
    "    \n",
    "    def parse_names(self):\n",
    "        self.left_first_name, self.left_last_name, self.left_url = self._parse_name('left')\n",
    "        self.right_first_name, self.right_last_name, self.right_url = self._parse_name('right')\n",
    "        \n",
    "    def parse_match(self):\n",
    "        self.parse_names()\n",
    "        self.parse_stats()"
   ]
  },
  {
   "cell_type": "code",
   "execution_count": null,
   "metadata": {},
   "outputs": [],
   "source": [
    "mrp = MatchStatsParser(URL)"
   ]
  },
  {
   "cell_type": "code",
   "execution_count": null,
   "metadata": {},
   "outputs": [],
   "source": [
    "mrp.left_stats"
   ]
  },
  {
   "cell_type": "code",
   "execution_count": null,
   "metadata": {},
   "outputs": [],
   "source": [
    "mrp.right_stats"
   ]
  },
  {
   "cell_type": "code",
   "execution_count": null,
   "metadata": {},
   "outputs": [],
   "source": [
    "mrp.left_stats_result"
   ]
  },
  {
   "cell_type": "markdown",
   "metadata": {},
   "source": [
    "### Look at jd"
   ]
  },
  {
   "cell_type": "code",
   "execution_count": 4,
   "metadata": {},
   "outputs": [
    {
     "name": "stderr",
     "output_type": "stream",
     "text": [
      "/Users/siddhantjagadish/Documents/DataProjects/tennis_new/venv/lib/python3.7/site-packages/IPython/core/interactiveshell.py:3214: DtypeWarning: Columns (3) have mixed types. Specify dtype option on import or set low_memory=False.\n",
      "  if (yield from self.run_code(code, result)):\n"
     ]
    }
   ],
   "source": [
    "from tennis_new.fetch.get_joined import read_joined\n",
    "\n",
    "jd = read_joined()"
   ]
  },
  {
   "cell_type": "code",
   "execution_count": null,
   "metadata": {},
   "outputs": [],
   "source": [
    "jd['match_stats_url'].notnull().sum()"
   ]
  },
  {
   "cell_type": "code",
   "execution_count": null,
   "metadata": {},
   "outputs": [],
   "source": [
    "jd.iloc[-1]"
   ]
  },
  {
   "cell_type": "code",
   "execution_count": null,
   "metadata": {},
   "outputs": [],
   "source": [
    "jd['tourney_year_id'].tail(100)"
   ]
  },
  {
   "cell_type": "code",
   "execution_count": null,
   "metadata": {},
   "outputs": [],
   "source": [
    "jd.iloc[0]"
   ]
  },
  {
   "cell_type": "code",
   "execution_count": null,
   "metadata": {},
   "outputs": [],
   "source": [
    "jd['loser_url'].isnull().any()"
   ]
  },
  {
   "cell_type": "code",
   "execution_count": null,
   "metadata": {},
   "outputs": [],
   "source": [
    "jd['winner_url'].isnull().any()"
   ]
  },
  {
   "cell_type": "code",
   "execution_count": null,
   "metadata": {},
   "outputs": [],
   "source": [
    "jd['winner_name'].tail(100)"
   ]
  },
  {
   "cell_type": "markdown",
   "metadata": {},
   "source": [
    "#### Joining Odds Data to My Data"
   ]
  },
  {
   "cell_type": "code",
   "execution_count": 181,
   "metadata": {},
   "outputs": [
    {
     "name": "stderr",
     "output_type": "stream",
     "text": [
      "/Users/siddhantjagadish/Documents/DataProjects/tennis_new/venv/lib/python3.7/site-packages/IPython/core/interactiveshell.py:3214: DtypeWarning: Columns (3) have mixed types. Specify dtype option on import or set low_memory=False.\n",
      "  if (yield from self.run_code(code, result)):\n"
     ]
    }
   ],
   "source": [
    "from tennis_new.fetch.get_joined import read_joined\n",
    "\n",
    "odds_df = pd.read_csv(\"/Users/siddhantjagadish/Downloads/2018.csv\")\n",
    "jd = read_joined()"
   ]
  },
  {
   "cell_type": "markdown",
   "metadata": {},
   "source": [
    "#### Name Processing\n",
    "\n",
    "Let's process the player's names so we can join on them"
   ]
  },
  {
   "cell_type": "markdown",
   "metadata": {},
   "source": [
    "#### Tournament Mapping"
   ]
  },
  {
   "cell_type": "code",
   "execution_count": 1,
   "metadata": {},
   "outputs": [],
   "source": [
    "# To help with joining odds data...\n",
    "TOURNAMENT_MAPPING = {\n",
    "    'BRISBANE INTERNATIONAL': ['BRISBANE', 'BRISBANE INTERNATIONAL'],\n",
    "    'US OPEN': 'US OPEN',\n",
    "    'WIMBLEDON': 'WIMBLEDON',\n",
    "    'FRENCH OPEN': 'ROLAND GARROS',\n",
    "    'AUSTRALIAN OPEN': ['AUSTRALIAN OPEN',  'AUSTRALIAN OPEN-2'],\n",
    "    'SONY ERICSSON OPEN': [\n",
    "        'ATP MASTERS 1000 MIAMI',\n",
    "        'MIAMI OPEN PRESENTED BY ITAU',\n",
    "        'MIAMI'\n",
    "    ],\n",
    "    'BNP PARIBAS OPEN': 'BNP PARIBAS OPEN',\n",
    "    \"INTERNAZIONALI BNL D'ITALIA\": \"INTERNAZIONALI BNL D'ITALIA\",\n",
    "    \"WESTERN & SOUTHERN FINANCIAL GROUP MASTERS\": \"WESTERN & SOUTHERN OPEN\",\n",
    "    \"AEGON CHAMPIONSHIPS\": \"LONDON / QUEEN'S CLUB\",\n",
    "    \"MONTE CARLO MASTERS\": \"ATP MASTERS 1000 MONTE CARLO\",\n",
    "    \"MUTUA MADRID OPEN\": [\"ATP MASTERS 1000 MADRID\", \"MUTUA MADRID OPEN\"],\n",
    "    \"SHANGHAI MASTERS\": [\"ATP MASTERS 1000 SHANGHAI\", \"SHANGHAI\"],\n",
    "    \"ROGERS MASTERS\": [\"ATP MASTERS 1000 CANADA\", \"COUPE ROGERS\"],\n",
    "    \"CITI OPEN\": [\"WASHINGTON\", \"CITI OPEN\"],\n",
    "    \"GERMAN OPEN TENNIS CHAMPIONSHIPS\": [\n",
    "        \"HAMBURG\",\n",
    "        \"ATP MASTERS 1000 HAMBURG\",\n",
    "        \"HAMBURG EUROPEAN OPEN\"\n",
    "    ],\n",
    "    \"OPEN BANCO SABADELL\": [\n",
    "        \"BARCELONA OPEN BANC SABADELL\",\n",
    "        \"BARCELONA\",\n",
    "    ],\n",
    "    \n",
    "}"
   ]
  },
  {
   "cell_type": "code",
   "execution_count": 5,
   "metadata": {},
   "outputs": [
    {
     "name": "stdout",
     "output_type": "stream",
     "text": [
      "Winston-Salem         547\n",
      "Winston-Salem Open     59\n",
      "Name: tourney_title, dtype: int64\n",
      "tourney_title\n",
      "Winston-Salem         2018.08.19\n",
      "Winston-Salem Open    2019.08.18\n",
      "dtype: object\n"
     ]
    }
   ],
   "source": [
    "def tourney_stats(s):\n",
    "    tourney_titles = jd[\n",
    "        jd['tourney_title'].map(lambda x: s in x) &\n",
    "        (jd['tour_type'] == 'atp')\n",
    "    ]['tourney_title'].unique()\n",
    "    rel = jd[\n",
    "        jd['tourney_title'].isin(tourney_titles) &\n",
    "        (jd['tour_type'] == 'atp')\n",
    "    ]\n",
    "    print(rel['tourney_title'].value_counts())\n",
    "    print(rel.groupby('tourney_title').apply(lambda x: x['tourney_dates'].max()))\n",
    "    \n",
    "tourney_stats(\"Salem\")"
   ]
  },
  {
   "cell_type": "code",
   "execution_count": 3,
   "metadata": {},
   "outputs": [],
   "source": [
    "import pandas as pd\n",
    "\n",
    "odds_df = pd.read_csv('/Users/siddhantjagadish/Downloads/2013.csv')"
   ]
  },
  {
   "cell_type": "code",
   "execution_count": null,
   "metadata": {},
   "outputs": [],
   "source": [
    "odds_df.groupby(['Tournament', 'Location']).apply(\n",
    "    lambda x: pd.Series({\n",
    "        'n_matches': x.shape[0],\n",
    "        'min_date': x['Date'].min()\n",
    "    })\n",
    ").sort_values('n_matches', ascending=False)"
   ]
  },
  {
   "cell_type": "code",
   "execution_count": null,
   "metadata": {},
   "outputs": [],
   "source": [
    "odds_df[['Winner', 'Loser']].head()"
   ]
  },
  {
   "cell_type": "markdown",
   "metadata": {},
   "source": [
    "#### Score Parsing"
   ]
  },
  {
   "cell_type": "code",
   "execution_count": 82,
   "metadata": {},
   "outputs": [],
   "source": [
    "WALKOVER_DEFS = [\n",
    "    'W/O',\n",
    "    'DEF'\n",
    "]\n",
    "\n",
    "def parse_set_score(s):\n",
    "    if 'RET' in s:\n",
    "        return ('RETIRE', 'RETIRE')\n",
    "    elif any([x in s for x in WALKOVER_DEFS]):\n",
    "        return ('WALKOVER', 'WALKOVER')\n",
    "    elif 'UNP' in s:\n",
    "        return ('MATCH_NOT_PLAYED', 'MATCH_NOT_PLAYED')\n",
    "    else:\n",
    "        s = s.strip(' (NA)')\n",
    "        if len(s) == 2:\n",
    "            return int(s[0]), int(s[1])\n",
    "        else:\n",
    "            for b in range(1, len(s)):\n",
    "                s1, s2 = int(s[:b]), int(s[b:])\n",
    "                if abs(s1 - s2) <= 2:\n",
    "                    return s1, s2\n",
    "            return None, None "
   ]
  },
  {
   "cell_type": "code",
   "execution_count": 83,
   "metadata": {},
   "outputs": [],
   "source": [
    "def parse_match_score(s):\n",
    "    if pd.isnull(s):\n",
    "        return {}\n",
    "    set_scores = s.split(';')\n",
    "    out = {}\n",
    "    for idx, ss in enumerate(set_scores):\n",
    "        w, l = parse_set_score(ss)\n",
    "        out.update({\n",
    "            'W%d' % (idx + 1): w,\n",
    "            'L%d' % (idx + 1): l\n",
    "        })\n",
    "    return out "
   ]
  },
  {
   "cell_type": "code",
   "execution_count": 84,
   "metadata": {},
   "outputs": [],
   "source": [
    "score_df = pd.DataFrame(jd['score'].map(parse_match_score).tolist())"
   ]
  },
  {
   "cell_type": "code",
   "execution_count": 88,
   "metadata": {},
   "outputs": [
    {
     "data": {
      "text/plain": [
       "(373029, 39)"
      ]
     },
     "execution_count": 88,
     "metadata": {},
     "output_type": "execute_result"
    }
   ],
   "source": [
    "jd = pd.concat([jd, score_df], axis=1)\n",
    "jd.shape"
   ]
  },
  {
   "cell_type": "code",
   "execution_count": 93,
   "metadata": {},
   "outputs": [],
   "source": [
    "score_cols = ['W%d' % s for s in range(1, 6)] + ['L%d' % s for s in range(1, 6)]"
   ]
  },
  {
   "cell_type": "code",
   "execution_count": 148,
   "metadata": {},
   "outputs": [],
   "source": [
    "merged = pd.merge(\n",
    "    odds_df,\n",
    "    jd[[\n",
    "        'match_id',\n",
    "        'tourney_url_suffix',\n",
    "        'winner_altered',\n",
    "        'loser_altered',\n",
    "        'tourney_dates',\n",
    "    ] + score_cols],\n",
    "    left_on=['Winner', 'Loser'] + score_cols,\n",
    "    right_on=[\n",
    "        'winner_altered', 'loser_altered',\n",
    "    ] + score_cols,\n",
    ")"
   ]
  },
  {
   "cell_type": "code",
   "execution_count": 149,
   "metadata": {},
   "outputs": [
    {
     "data": {
      "text/plain": [
       "(2631, 43)"
      ]
     },
     "execution_count": 149,
     "metadata": {},
     "output_type": "execute_result"
    }
   ],
   "source": [
    "odds_df.shape"
   ]
  },
  {
   "cell_type": "code",
   "execution_count": 150,
   "metadata": {},
   "outputs": [
    {
     "data": {
      "text/plain": [
       "(2098, 48)"
      ]
     },
     "execution_count": 150,
     "metadata": {},
     "output_type": "execute_result"
    }
   ],
   "source": [
    "merged.shape"
   ]
  },
  {
   "cell_type": "code",
   "execution_count": 151,
   "metadata": {},
   "outputs": [],
   "source": [
    "merged['tourney_dates'] = pd.to_datetime(merged['tourney_dates'])\n",
    "merged['odds_date'] = pd.to_datetime(merged['Date'])"
   ]
  },
  {
   "cell_type": "code",
   "execution_count": 152,
   "metadata": {},
   "outputs": [],
   "source": [
    "merged['date_diff'] = (merged['odds_date'] - merged['tourney_dates']).map(lambda x: x.days)"
   ]
  },
  {
   "cell_type": "code",
   "execution_count": 162,
   "metadata": {},
   "outputs": [],
   "source": [
    "q = merged[\n",
    "    (merged['date_diff'] >= 0) & \n",
    "    (merged['date_diff'] < 31)\n",
    "]"
   ]
  },
  {
   "cell_type": "code",
   "execution_count": 163,
   "metadata": {},
   "outputs": [
    {
     "data": {
      "text/plain": [
       "1753    2\n",
       "2047    1\n",
       "1264    1\n",
       "1220    1\n",
       "1222    1\n",
       "1226    1\n",
       "1230    1\n",
       "1232    1\n",
       "1234    1\n",
       "1238    1\n",
       "1242    1\n",
       "1244    1\n",
       "1246    1\n",
       "1252    1\n",
       "1256    1\n",
       "1260    1\n",
       "1266    1\n",
       "1202    1\n",
       "1268    1\n",
       "1270    1\n",
       "1272    1\n",
       "1276    1\n",
       "1278    1\n",
       "1280    1\n",
       "1282    1\n",
       "1284    1\n",
       "1286    1\n",
       "1290    1\n",
       "1292    1\n",
       "1294    1\n",
       "       ..\n",
       "431     1\n",
       "463     1\n",
       "2480    1\n",
       "433     1\n",
       "2482    1\n",
       "435     1\n",
       "2484    1\n",
       "437     1\n",
       "2486    1\n",
       "2488    1\n",
       "441     1\n",
       "2490    1\n",
       "443     1\n",
       "2492    1\n",
       "2494    1\n",
       "447     1\n",
       "2496    1\n",
       "449     1\n",
       "451     1\n",
       "2500    1\n",
       "453     1\n",
       "2502    1\n",
       "455     1\n",
       "2504    1\n",
       "457     1\n",
       "2506    1\n",
       "459     1\n",
       "2508    1\n",
       "461     1\n",
       "0       1\n",
       "Name: id, Length: 1985, dtype: int64"
      ]
     },
     "execution_count": 163,
     "metadata": {},
     "output_type": "execute_result"
    }
   ],
   "source": [
    "q['id'].value_counts()"
   ]
  },
  {
   "cell_type": "code",
   "execution_count": 166,
   "metadata": {},
   "outputs": [
    {
     "data": {
      "text/html": [
       "<div>\n",
       "<style scoped>\n",
       "    .dataframe tbody tr th:only-of-type {\n",
       "        vertical-align: middle;\n",
       "    }\n",
       "\n",
       "    .dataframe tbody tr th {\n",
       "        vertical-align: top;\n",
       "    }\n",
       "\n",
       "    .dataframe thead th {\n",
       "        text-align: right;\n",
       "    }\n",
       "</style>\n",
       "<table border=\"1\" class=\"dataframe\">\n",
       "  <thead>\n",
       "    <tr style=\"text-align: right;\">\n",
       "      <th></th>\n",
       "      <th>tourney_dates</th>\n",
       "      <th>odds_date</th>\n",
       "      <th>id</th>\n",
       "      <th>match_id</th>\n",
       "      <th>tourney_url_suffix</th>\n",
       "      <th>Tournament</th>\n",
       "    </tr>\n",
       "  </thead>\n",
       "  <tbody>\n",
       "    <tr>\n",
       "      <th>1350</th>\n",
       "      <td>2013-07-08</td>\n",
       "      <td>2013-07-19</td>\n",
       "      <td>1753</td>\n",
       "      <td>Fabio Fognini*Tommy Haas*2013_321*Quarter-Finals</td>\n",
       "      <td>/en/scores/archive/stuttgart/321/2013/results</td>\n",
       "      <td>German Open Tennis Championships</td>\n",
       "    </tr>\n",
       "    <tr>\n",
       "      <th>1351</th>\n",
       "      <td>2013-07-15</td>\n",
       "      <td>2013-07-19</td>\n",
       "      <td>1753</td>\n",
       "      <td>Fabio Fognini*Tommy Haas*2013_414*Quarter-Finals</td>\n",
       "      <td>/en/scores/archive/hamburg/414/2013/results</td>\n",
       "      <td>German Open Tennis Championships</td>\n",
       "    </tr>\n",
       "  </tbody>\n",
       "</table>\n",
       "</div>"
      ],
      "text/plain": [
       "     tourney_dates  odds_date    id  \\\n",
       "1350    2013-07-08 2013-07-19  1753   \n",
       "1351    2013-07-15 2013-07-19  1753   \n",
       "\n",
       "                                              match_id  \\\n",
       "1350  Fabio Fognini*Tommy Haas*2013_321*Quarter-Finals   \n",
       "1351  Fabio Fognini*Tommy Haas*2013_414*Quarter-Finals   \n",
       "\n",
       "                                 tourney_url_suffix  \\\n",
       "1350  /en/scores/archive/stuttgart/321/2013/results   \n",
       "1351    /en/scores/archive/hamburg/414/2013/results   \n",
       "\n",
       "                            Tournament  \n",
       "1350  German Open Tennis Championships  \n",
       "1351  German Open Tennis Championships  "
      ]
     },
     "execution_count": 166,
     "metadata": {},
     "output_type": "execute_result"
    }
   ],
   "source": [
    "q[q['id'] == 1753][[\n",
    "    'tourney_dates',\n",
    "    'odds_date',\n",
    "    'id',\n",
    "    'match_id',\n",
    "    'tourney_url_suffix',\n",
    "    'Tournament'\n",
    "]]"
   ]
  },
  {
   "cell_type": "code",
   "execution_count": 160,
   "metadata": {},
   "outputs": [
    {
     "data": {
      "text/html": [
       "<div>\n",
       "<style scoped>\n",
       "    .dataframe tbody tr th:only-of-type {\n",
       "        vertical-align: middle;\n",
       "    }\n",
       "\n",
       "    .dataframe tbody tr th {\n",
       "        vertical-align: top;\n",
       "    }\n",
       "\n",
       "    .dataframe thead th {\n",
       "        text-align: right;\n",
       "    }\n",
       "</style>\n",
       "<table border=\"1\" class=\"dataframe\">\n",
       "  <thead>\n",
       "    <tr style=\"text-align: right;\">\n",
       "      <th></th>\n",
       "      <th>id</th>\n",
       "      <th>Date</th>\n",
       "      <th>Tournament</th>\n",
       "      <th>W1</th>\n",
       "      <th>W2</th>\n",
       "      <th>W3</th>\n",
       "      <th>W4</th>\n",
       "      <th>W5</th>\n",
       "      <th>L1</th>\n",
       "      <th>L2</th>\n",
       "      <th>L3</th>\n",
       "      <th>L4</th>\n",
       "      <th>L5</th>\n",
       "    </tr>\n",
       "  </thead>\n",
       "  <tbody>\n",
       "    <tr>\n",
       "      <th>1679</th>\n",
       "      <td>1679</td>\n",
       "      <td>7/12/13</td>\n",
       "      <td>Mercedes Cup</td>\n",
       "      <td>6.0</td>\n",
       "      <td>6.0</td>\n",
       "      <td>NaN</td>\n",
       "      <td>NaN</td>\n",
       "      <td>NaN</td>\n",
       "      <td>2.0</td>\n",
       "      <td>4.0</td>\n",
       "      <td>NaN</td>\n",
       "      <td>NaN</td>\n",
       "      <td>NaN</td>\n",
       "    </tr>\n",
       "    <tr>\n",
       "      <th>1753</th>\n",
       "      <td>1753</td>\n",
       "      <td>7/19/13</td>\n",
       "      <td>German Open Tennis Championships</td>\n",
       "      <td>6.0</td>\n",
       "      <td>6.0</td>\n",
       "      <td>NaN</td>\n",
       "      <td>NaN</td>\n",
       "      <td>NaN</td>\n",
       "      <td>2.0</td>\n",
       "      <td>4.0</td>\n",
       "      <td>NaN</td>\n",
       "      <td>NaN</td>\n",
       "      <td>NaN</td>\n",
       "    </tr>\n",
       "  </tbody>\n",
       "</table>\n",
       "</div>"
      ],
      "text/plain": [
       "        id     Date                        Tournament   W1   W2  W3  W4  W5  \\\n",
       "1679  1679  7/12/13                      Mercedes Cup  6.0  6.0 NaN NaN NaN   \n",
       "1753  1753  7/19/13  German Open Tennis Championships  6.0  6.0 NaN NaN NaN   \n",
       "\n",
       "       L1   L2  L3  L4  L5  \n",
       "1679  2.0  4.0 NaN NaN NaN  \n",
       "1753  2.0  4.0 NaN NaN NaN  "
      ]
     },
     "execution_count": 160,
     "metadata": {},
     "output_type": "execute_result"
    }
   ],
   "source": [
    "odds_df[(odds_df['Winner'] == 'Fognini F.') & (odds_df['Loser'] == 'Haas T.')][[\n",
    "    'id',\n",
    "    'Date',\n",
    "    'Tournament'\n",
    "] + score_cols]"
   ]
  },
  {
   "cell_type": "code",
   "execution_count": 121,
   "metadata": {},
   "outputs": [
    {
     "data": {
      "text/plain": [
       "(2631, 43)"
      ]
     },
     "execution_count": 121,
     "metadata": {},
     "output_type": "execute_result"
    }
   ],
   "source": [
    "odds_df.shape"
   ]
  },
  {
   "cell_type": "code",
   "execution_count": 122,
   "metadata": {},
   "outputs": [
    {
     "data": {
      "text/plain": [
       "(2679, 46)"
      ]
     },
     "execution_count": 122,
     "metadata": {},
     "output_type": "execute_result"
    }
   ],
   "source": [
    "merged.shape"
   ]
  },
  {
   "cell_type": "code",
   "execution_count": 111,
   "metadata": {},
   "outputs": [
    {
     "data": {
      "text/html": [
       "<div>\n",
       "<style scoped>\n",
       "    .dataframe tbody tr th:only-of-type {\n",
       "        vertical-align: middle;\n",
       "    }\n",
       "\n",
       "    .dataframe tbody tr th {\n",
       "        vertical-align: top;\n",
       "    }\n",
       "\n",
       "    .dataframe thead th {\n",
       "        text-align: right;\n",
       "    }\n",
       "</style>\n",
       "<table border=\"1\" class=\"dataframe\">\n",
       "  <thead>\n",
       "    <tr style=\"text-align: right;\">\n",
       "      <th></th>\n",
       "      <th>winner_altered</th>\n",
       "      <th>loser_altered</th>\n",
       "      <th>tourney_dates</th>\n",
       "      <th>W1</th>\n",
       "      <th>W2</th>\n",
       "      <th>W3</th>\n",
       "      <th>W4</th>\n",
       "      <th>W5</th>\n",
       "      <th>L1</th>\n",
       "      <th>L2</th>\n",
       "      <th>L3</th>\n",
       "      <th>L4</th>\n",
       "      <th>L5</th>\n",
       "    </tr>\n",
       "  </thead>\n",
       "  <tbody>\n",
       "    <tr>\n",
       "      <th>240588</th>\n",
       "      <td>Nishikori K.</td>\n",
       "      <td>Reynolds B.</td>\n",
       "      <td>2009.01.04</td>\n",
       "      <td>6</td>\n",
       "      <td>6</td>\n",
       "      <td>NaN</td>\n",
       "      <td>NaN</td>\n",
       "      <td>NaN</td>\n",
       "      <td>3</td>\n",
       "      <td>2</td>\n",
       "      <td>NaN</td>\n",
       "      <td>NaN</td>\n",
       "      <td>NaN</td>\n",
       "    </tr>\n",
       "    <tr>\n",
       "      <th>240593</th>\n",
       "      <td>Nishikori K.</td>\n",
       "      <td>Berdych T.</td>\n",
       "      <td>2009.01.04</td>\n",
       "      <td>7</td>\n",
       "      <td>6</td>\n",
       "      <td>NaN</td>\n",
       "      <td>NaN</td>\n",
       "      <td>NaN</td>\n",
       "      <td>6</td>\n",
       "      <td>3</td>\n",
       "      <td>NaN</td>\n",
       "      <td>NaN</td>\n",
       "      <td>NaN</td>\n",
       "    </tr>\n",
       "    <tr>\n",
       "      <th>277836</th>\n",
       "      <td>Nishikori K.</td>\n",
       "      <td>Stebe C.</td>\n",
       "      <td>2012.01.01</td>\n",
       "      <td>3</td>\n",
       "      <td>6</td>\n",
       "      <td>6</td>\n",
       "      <td>NaN</td>\n",
       "      <td>NaN</td>\n",
       "      <td>6</td>\n",
       "      <td>1</td>\n",
       "      <td>4</td>\n",
       "      <td>NaN</td>\n",
       "      <td>NaN</td>\n",
       "    </tr>\n",
       "    <tr>\n",
       "      <th>290028</th>\n",
       "      <td>Nishikori K.</td>\n",
       "      <td>Matosevic M.</td>\n",
       "      <td>2012.12.30</td>\n",
       "      <td>7</td>\n",
       "      <td>6</td>\n",
       "      <td>NaN</td>\n",
       "      <td>NaN</td>\n",
       "      <td>NaN</td>\n",
       "      <td>5</td>\n",
       "      <td>2</td>\n",
       "      <td>NaN</td>\n",
       "      <td>NaN</td>\n",
       "      <td>NaN</td>\n",
       "    </tr>\n",
       "    <tr>\n",
       "      <th>290044</th>\n",
       "      <td>Nishikori K.</td>\n",
       "      <td>Robredo T.</td>\n",
       "      <td>2012.12.30</td>\n",
       "      <td>6</td>\n",
       "      <td>6</td>\n",
       "      <td>NaN</td>\n",
       "      <td>NaN</td>\n",
       "      <td>NaN</td>\n",
       "      <td>3</td>\n",
       "      <td>3</td>\n",
       "      <td>NaN</td>\n",
       "      <td>NaN</td>\n",
       "      <td>NaN</td>\n",
       "    </tr>\n",
       "    <tr>\n",
       "      <th>290050</th>\n",
       "      <td>Nishikori K.</td>\n",
       "      <td>Dolgopolov A.</td>\n",
       "      <td>2012.12.30</td>\n",
       "      <td>6</td>\n",
       "      <td>7</td>\n",
       "      <td>NaN</td>\n",
       "      <td>NaN</td>\n",
       "      <td>NaN</td>\n",
       "      <td>4</td>\n",
       "      <td>6</td>\n",
       "      <td>NaN</td>\n",
       "      <td>NaN</td>\n",
       "      <td>NaN</td>\n",
       "    </tr>\n",
       "    <tr>\n",
       "      <th>302117</th>\n",
       "      <td>Nishikori K.</td>\n",
       "      <td>Ebden M.</td>\n",
       "      <td>2013.12.29</td>\n",
       "      <td>6</td>\n",
       "      <td>6</td>\n",
       "      <td>NaN</td>\n",
       "      <td>NaN</td>\n",
       "      <td>NaN</td>\n",
       "      <td>2</td>\n",
       "      <td>4</td>\n",
       "      <td>NaN</td>\n",
       "      <td>NaN</td>\n",
       "      <td>NaN</td>\n",
       "    </tr>\n",
       "    <tr>\n",
       "      <th>302125</th>\n",
       "      <td>Nishikori K.</td>\n",
       "      <td>Cilic M.</td>\n",
       "      <td>2013.12.29</td>\n",
       "      <td>6</td>\n",
       "      <td>5</td>\n",
       "      <td>6</td>\n",
       "      <td>NaN</td>\n",
       "      <td>NaN</td>\n",
       "      <td>4</td>\n",
       "      <td>7</td>\n",
       "      <td>2</td>\n",
       "      <td>NaN</td>\n",
       "      <td>NaN</td>\n",
       "    </tr>\n",
       "    <tr>\n",
       "      <th>314374</th>\n",
       "      <td>Nishikori K.</td>\n",
       "      <td>Johnson S.</td>\n",
       "      <td>2015.01.04</td>\n",
       "      <td>6</td>\n",
       "      <td>7</td>\n",
       "      <td>NaN</td>\n",
       "      <td>NaN</td>\n",
       "      <td>NaN</td>\n",
       "      <td>4</td>\n",
       "      <td>5</td>\n",
       "      <td>NaN</td>\n",
       "      <td>NaN</td>\n",
       "      <td>NaN</td>\n",
       "    </tr>\n",
       "    <tr>\n",
       "      <th>314382</th>\n",
       "      <td>Nishikori K.</td>\n",
       "      <td>Tomic B.</td>\n",
       "      <td>2015.01.04</td>\n",
       "      <td>6</td>\n",
       "      <td>6</td>\n",
       "      <td>NaN</td>\n",
       "      <td>NaN</td>\n",
       "      <td>NaN</td>\n",
       "      <td>0</td>\n",
       "      <td>4</td>\n",
       "      <td>NaN</td>\n",
       "      <td>NaN</td>\n",
       "      <td>NaN</td>\n",
       "    </tr>\n",
       "    <tr>\n",
       "      <th>326707</th>\n",
       "      <td>Nishikori K.</td>\n",
       "      <td>Kukushkin M.</td>\n",
       "      <td>2016.01.04</td>\n",
       "      <td>6</td>\n",
       "      <td>6</td>\n",
       "      <td>NaN</td>\n",
       "      <td>NaN</td>\n",
       "      <td>NaN</td>\n",
       "      <td>3</td>\n",
       "      <td>4</td>\n",
       "      <td>NaN</td>\n",
       "      <td>NaN</td>\n",
       "      <td>NaN</td>\n",
       "    </tr>\n",
       "    <tr>\n",
       "      <th>339036</th>\n",
       "      <td>Nishikori K.</td>\n",
       "      <td>Donaldson J.</td>\n",
       "      <td>2017.01.01</td>\n",
       "      <td>4</td>\n",
       "      <td>6</td>\n",
       "      <td>6</td>\n",
       "      <td>NaN</td>\n",
       "      <td>NaN</td>\n",
       "      <td>6</td>\n",
       "      <td>4</td>\n",
       "      <td>3</td>\n",
       "      <td>NaN</td>\n",
       "      <td>NaN</td>\n",
       "    </tr>\n",
       "    <tr>\n",
       "      <th>339044</th>\n",
       "      <td>Nishikori K.</td>\n",
       "      <td>Thompson J.</td>\n",
       "      <td>2017.01.01</td>\n",
       "      <td>6</td>\n",
       "      <td>6</td>\n",
       "      <td>NaN</td>\n",
       "      <td>NaN</td>\n",
       "      <td>NaN</td>\n",
       "      <td>1</td>\n",
       "      <td>1</td>\n",
       "      <td>NaN</td>\n",
       "      <td>NaN</td>\n",
       "      <td>NaN</td>\n",
       "    </tr>\n",
       "    <tr>\n",
       "      <th>339047</th>\n",
       "      <td>Nishikori K.</td>\n",
       "      <td>Wawrinka S.</td>\n",
       "      <td>2017.01.01</td>\n",
       "      <td>7</td>\n",
       "      <td>6</td>\n",
       "      <td>NaN</td>\n",
       "      <td>NaN</td>\n",
       "      <td>NaN</td>\n",
       "      <td>6</td>\n",
       "      <td>3</td>\n",
       "      <td>NaN</td>\n",
       "      <td>NaN</td>\n",
       "      <td>NaN</td>\n",
       "    </tr>\n",
       "  </tbody>\n",
       "</table>\n",
       "</div>"
      ],
      "text/plain": [
       "       winner_altered  loser_altered tourney_dates W1 W2   W3   W4   W5 L1 L2  \\\n",
       "240588   Nishikori K.    Reynolds B.    2009.01.04  6  6  NaN  NaN  NaN  3  2   \n",
       "240593   Nishikori K.     Berdych T.    2009.01.04  7  6  NaN  NaN  NaN  6  3   \n",
       "277836   Nishikori K.       Stebe C.    2012.01.01  3  6    6  NaN  NaN  6  1   \n",
       "290028   Nishikori K.   Matosevic M.    2012.12.30  7  6  NaN  NaN  NaN  5  2   \n",
       "290044   Nishikori K.     Robredo T.    2012.12.30  6  6  NaN  NaN  NaN  3  3   \n",
       "290050   Nishikori K.  Dolgopolov A.    2012.12.30  6  7  NaN  NaN  NaN  4  6   \n",
       "302117   Nishikori K.       Ebden M.    2013.12.29  6  6  NaN  NaN  NaN  2  4   \n",
       "302125   Nishikori K.       Cilic M.    2013.12.29  6  5    6  NaN  NaN  4  7   \n",
       "314374   Nishikori K.     Johnson S.    2015.01.04  6  7  NaN  NaN  NaN  4  5   \n",
       "314382   Nishikori K.       Tomic B.    2015.01.04  6  6  NaN  NaN  NaN  0  4   \n",
       "326707   Nishikori K.   Kukushkin M.    2016.01.04  6  6  NaN  NaN  NaN  3  4   \n",
       "339036   Nishikori K.   Donaldson J.    2017.01.01  4  6    6  NaN  NaN  6  4   \n",
       "339044   Nishikori K.    Thompson J.    2017.01.01  6  6  NaN  NaN  NaN  1  1   \n",
       "339047   Nishikori K.    Wawrinka S.    2017.01.01  7  6  NaN  NaN  NaN  6  3   \n",
       "\n",
       "         L3   L4   L5  \n",
       "240588  NaN  NaN  NaN  \n",
       "240593  NaN  NaN  NaN  \n",
       "277836    4  NaN  NaN  \n",
       "290028  NaN  NaN  NaN  \n",
       "290044  NaN  NaN  NaN  \n",
       "290050  NaN  NaN  NaN  \n",
       "302117  NaN  NaN  NaN  \n",
       "302125    2  NaN  NaN  \n",
       "314374  NaN  NaN  NaN  \n",
       "314382  NaN  NaN  NaN  \n",
       "326707  NaN  NaN  NaN  \n",
       "339036    3  NaN  NaN  \n",
       "339044  NaN  NaN  NaN  \n",
       "339047  NaN  NaN  NaN  "
      ]
     },
     "execution_count": 111,
     "metadata": {},
     "output_type": "execute_result"
    }
   ],
   "source": [
    "jd[\n",
    "    (jd['winner_altered'] == 'Nishikori K.') &\n",
    "    (jd['tourney_title'] == \"Brisbane\")\n",
    "][['winner_altered', 'loser_altered', 'tourney_dates'] + score_cols].tail(40)"
   ]
  },
  {
   "cell_type": "code",
   "execution_count": 123,
   "metadata": {},
   "outputs": [
    {
     "data": {
      "text/plain": [
       "1983    3\n",
       "706     3\n",
       "1974    3\n",
       "2005    3\n",
       "2630    3\n",
       "Name: id, dtype: int64"
      ]
     },
     "execution_count": 123,
     "metadata": {},
     "output_type": "execute_result"
    }
   ],
   "source": [
    "merged['id'].value_counts().head()"
   ]
  },
  {
   "cell_type": "code",
   "execution_count": 131,
   "metadata": {},
   "outputs": [
    {
     "data": {
      "text/html": [
       "<div>\n",
       "<style scoped>\n",
       "    .dataframe tbody tr th:only-of-type {\n",
       "        vertical-align: middle;\n",
       "    }\n",
       "\n",
       "    .dataframe tbody tr th {\n",
       "        vertical-align: top;\n",
       "    }\n",
       "\n",
       "    .dataframe thead th {\n",
       "        text-align: right;\n",
       "    }\n",
       "</style>\n",
       "<table border=\"1\" class=\"dataframe\">\n",
       "  <thead>\n",
       "    <tr style=\"text-align: right;\">\n",
       "      <th></th>\n",
       "      <th>match_id</th>\n",
       "      <th>winner_altered</th>\n",
       "      <th>loser_altered</th>\n",
       "      <th>tourney_url_suffix</th>\n",
       "      <th>W1</th>\n",
       "      <th>W2</th>\n",
       "      <th>W3</th>\n",
       "      <th>W4</th>\n",
       "      <th>W5</th>\n",
       "      <th>L1</th>\n",
       "      <th>L2</th>\n",
       "      <th>L3</th>\n",
       "      <th>L4</th>\n",
       "      <th>L5</th>\n",
       "    </tr>\n",
       "  </thead>\n",
       "  <tbody>\n",
       "    <tr>\n",
       "      <th>2013</th>\n",
       "      <td>Feliciano Lopez*Kei Nishikori*2011_425*Round o...</td>\n",
       "      <td>Lopez F.</td>\n",
       "      <td>Nishikori K.</td>\n",
       "      <td>/en/scores/archive/barcelona/425/2011/results</td>\n",
       "      <td>6</td>\n",
       "      <td>7</td>\n",
       "      <td>NaN</td>\n",
       "      <td>NaN</td>\n",
       "      <td>NaN</td>\n",
       "      <td>4</td>\n",
       "      <td>6</td>\n",
       "      <td>NaN</td>\n",
       "      <td>NaN</td>\n",
       "      <td>NaN</td>\n",
       "    </tr>\n",
       "    <tr>\n",
       "      <th>2014</th>\n",
       "      <td>Feliciano Lopez*Kei Nishikori*2013_422*Round o...</td>\n",
       "      <td>Lopez F.</td>\n",
       "      <td>Nishikori K.</td>\n",
       "      <td>/en/scores/archive/cincinnati/422/2013/results</td>\n",
       "      <td>6</td>\n",
       "      <td>7</td>\n",
       "      <td>NaN</td>\n",
       "      <td>NaN</td>\n",
       "      <td>NaN</td>\n",
       "      <td>4</td>\n",
       "      <td>6</td>\n",
       "      <td>NaN</td>\n",
       "      <td>NaN</td>\n",
       "      <td>NaN</td>\n",
       "    </tr>\n",
       "    <tr>\n",
       "      <th>2015</th>\n",
       "      <td>Feliciano Lopez*Kei Nishikori*2015_404*Round o...</td>\n",
       "      <td>Lopez F.</td>\n",
       "      <td>Nishikori K.</td>\n",
       "      <td>/en/scores/archive/indian-wells/404/2015/results</td>\n",
       "      <td>6</td>\n",
       "      <td>7</td>\n",
       "      <td>NaN</td>\n",
       "      <td>NaN</td>\n",
       "      <td>NaN</td>\n",
       "      <td>4</td>\n",
       "      <td>6</td>\n",
       "      <td>NaN</td>\n",
       "      <td>NaN</td>\n",
       "      <td>NaN</td>\n",
       "    </tr>\n",
       "  </tbody>\n",
       "</table>\n",
       "</div>"
      ],
      "text/plain": [
       "                                               match_id winner_altered  \\\n",
       "2013  Feliciano Lopez*Kei Nishikori*2011_425*Round o...       Lopez F.   \n",
       "2014  Feliciano Lopez*Kei Nishikori*2013_422*Round o...       Lopez F.   \n",
       "2015  Feliciano Lopez*Kei Nishikori*2015_404*Round o...       Lopez F.   \n",
       "\n",
       "     loser_altered                                tourney_url_suffix W1 W2  \\\n",
       "2013  Nishikori K.     /en/scores/archive/barcelona/425/2011/results  6  7   \n",
       "2014  Nishikori K.    /en/scores/archive/cincinnati/422/2013/results  6  7   \n",
       "2015  Nishikori K.  /en/scores/archive/indian-wells/404/2015/results  6  7   \n",
       "\n",
       "       W3   W4   W5 L1 L2   L3   L4   L5  \n",
       "2013  NaN  NaN  NaN  4  6  NaN  NaN  NaN  \n",
       "2014  NaN  NaN  NaN  4  6  NaN  NaN  NaN  \n",
       "2015  NaN  NaN  NaN  4  6  NaN  NaN  NaN  "
      ]
     },
     "execution_count": 131,
     "metadata": {},
     "output_type": "execute_result"
    }
   ],
   "source": [
    "merged[merged['id'] == 1983][['match_id', 'winner_altered', 'loser_altered', 'tourney_url_suffix'] + score_cols]"
   ]
  },
  {
   "cell_type": "code",
   "execution_count": 116,
   "metadata": {},
   "outputs": [
    {
     "data": {
      "text/plain": [
       "ATP                          2\n",
       "Location               Chennai\n",
       "Tournament        Chennai Open\n",
       "Date                    1/1/13\n",
       "Series                  ATP250\n",
       "Court                  Outdoor\n",
       "Surface                   Hard\n",
       "Round                1st Round\n",
       "Best of                      3\n",
       "Winner             Bautista R.\n",
       "Loser                Kavcic B.\n",
       "WRank                       80\n",
       "LRank                       94\n",
       "WPts                       648\n",
       "LPts                       569\n",
       "W1                           7\n",
       "L1                           6\n",
       "W2                           6\n",
       "L2                           2\n",
       "W3                         NaN\n",
       "L3                         NaN\n",
       "W4                         NaN\n",
       "L4                         NaN\n",
       "W5                         NaN\n",
       "L5                         NaN\n",
       "Wsets                        2\n",
       "Lsets                        0\n",
       "Comment              Completed\n",
       "B365W                     1.44\n",
       "B365L                     2.62\n",
       "EXW                       1.55\n",
       "EXL                       2.35\n",
       "LBW                        1.5\n",
       "LBL                        2.5\n",
       "PSW                       1.53\n",
       "PSL                       2.67\n",
       "SJW                       1.53\n",
       "SJL                       2.38\n",
       "MaxW                      1.57\n",
       "MaxL                       2.7\n",
       "AvgW                      1.51\n",
       "AvgL                      2.49\n",
       "id                          34\n",
       "winner_altered             NaN\n",
       "loser_altered              NaN\n",
       "Name: 34, dtype: object"
      ]
     },
     "execution_count": 116,
     "metadata": {},
     "output_type": "execute_result"
    }
   ],
   "source": [
    "merged[merged['winner_altered'].isnull()].iloc[6]"
   ]
  },
  {
   "cell_type": "code",
   "execution_count": 90,
   "metadata": {},
   "outputs": [
    {
     "data": {
      "text/plain": [
       "loser_id                                                                         lh23\n",
       "loser_name                                                                 F. Langham\n",
       "loser_url                                        /en/players/f.-langham/lh23/overview\n",
       "match_stats_url                                                                   NaN\n",
       "round                                                                  Quarter-Finals\n",
       "round_order                                                                         2\n",
       "score                                                                     63;62;56;61\n",
       "winner_id                                                                        gi91\n",
       "winner_name                                                              Spencer Gore\n",
       "winner_url                                     /en/players/spencer-gore/gi91/overview\n",
       "tourney_title                                                               Wimbledon\n",
       "tourney_location                                                London, Great Britain\n",
       "tourney_dates                                                              1877.07.09\n",
       "tourney_singles_draw_size                                                          32\n",
       "tourney_doubles_draw_size                                                           0\n",
       "tourney_in_out                                                                Outdoor\n",
       "tourney_surface                                                                 Grass\n",
       "tourney_singles_winner_name                                                       NaN\n",
       "tourney_singles_winner_link                                                       NaN\n",
       "tourney_doubles_winner_first_name                                                 NaN\n",
       "tourney_doubles_winner_second_name                                                NaN\n",
       "tourney_doubles_winner_first_link                                                 NaN\n",
       "tourney_doubles_winner_second_link                                                NaN\n",
       "tourney_url_suffix                      /en/scores/archive/wimbledon/540/1877/results\n",
       "tourney_year_id                                                              1877_540\n",
       "tour_type                                                                         atp\n",
       "match_id                              Spencer Gore*F. Langham*1877_540*Quarter-Finals\n",
       "winner_altered                                                                Gore S.\n",
       "loser_altered                                                              Langham F.\n",
       "L1                                                                                  3\n",
       "L2                                                                                  2\n",
       "L3                                                                                  6\n",
       "L4                                                                                  1\n",
       "L5                                                                                NaN\n",
       "W1                                                                                  6\n",
       "W2                                                                                  6\n",
       "W3                                                                                  5\n",
       "W4                                                                                  6\n",
       "W5                                                                                NaN\n",
       "Name: 0, dtype: object"
      ]
     },
     "execution_count": 90,
     "metadata": {},
     "output_type": "execute_result"
    }
   ],
   "source": [
    "jd.iloc[0]"
   ]
  },
  {
   "cell_type": "code",
   "execution_count": 28,
   "metadata": {},
   "outputs": [
    {
     "name": "stdout",
     "output_type": "stream",
     "text": [
      "Automatic pdb calling has been turned ON\n"
     ]
    },
    {
     "data": {
      "text/html": [
       "<div>\n",
       "<style scoped>\n",
       "    .dataframe tbody tr th:only-of-type {\n",
       "        vertical-align: middle;\n",
       "    }\n",
       "\n",
       "    .dataframe tbody tr th {\n",
       "        vertical-align: top;\n",
       "    }\n",
       "\n",
       "    .dataframe thead th {\n",
       "        text-align: right;\n",
       "    }\n",
       "</style>\n",
       "<table border=\"1\" class=\"dataframe\">\n",
       "  <thead>\n",
       "    <tr style=\"text-align: right;\">\n",
       "      <th></th>\n",
       "      <th>L1</th>\n",
       "      <th>L2</th>\n",
       "      <th>L3</th>\n",
       "      <th>L4</th>\n",
       "      <th>L5</th>\n",
       "      <th>W1</th>\n",
       "      <th>W2</th>\n",
       "      <th>W3</th>\n",
       "      <th>W4</th>\n",
       "      <th>W5</th>\n",
       "    </tr>\n",
       "  </thead>\n",
       "  <tbody>\n",
       "    <tr>\n",
       "      <th>0</th>\n",
       "      <td>6</td>\n",
       "      <td>6.0</td>\n",
       "      <td>6.0</td>\n",
       "      <td>NaN</td>\n",
       "      <td>NaN</td>\n",
       "      <td>7</td>\n",
       "      <td>2.0</td>\n",
       "      <td>7.0</td>\n",
       "      <td>NaN</td>\n",
       "      <td>NaN</td>\n",
       "    </tr>\n",
       "    <tr>\n",
       "      <th>1</th>\n",
       "      <td>5</td>\n",
       "      <td>3.0</td>\n",
       "      <td>6.0</td>\n",
       "      <td>NaN</td>\n",
       "      <td>NaN</td>\n",
       "      <td>7</td>\n",
       "      <td>6.0</td>\n",
       "      <td>7.0</td>\n",
       "      <td>NaN</td>\n",
       "      <td>NaN</td>\n",
       "    </tr>\n",
       "    <tr>\n",
       "      <th>2</th>\n",
       "      <td>6</td>\n",
       "      <td>2.0</td>\n",
       "      <td>3.0</td>\n",
       "      <td>NaN</td>\n",
       "      <td>NaN</td>\n",
       "      <td>3</td>\n",
       "      <td>6.0</td>\n",
       "      <td>6.0</td>\n",
       "      <td>NaN</td>\n",
       "      <td>NaN</td>\n",
       "    </tr>\n",
       "    <tr>\n",
       "      <th>3</th>\n",
       "      <td>6</td>\n",
       "      <td>3.0</td>\n",
       "      <td>3.0</td>\n",
       "      <td>NaN</td>\n",
       "      <td>NaN</td>\n",
       "      <td>4</td>\n",
       "      <td>6.0</td>\n",
       "      <td>6.0</td>\n",
       "      <td>NaN</td>\n",
       "      <td>NaN</td>\n",
       "    </tr>\n",
       "    <tr>\n",
       "      <th>4</th>\n",
       "      <td>4</td>\n",
       "      <td>6.0</td>\n",
       "      <td>2.0</td>\n",
       "      <td>NaN</td>\n",
       "      <td>NaN</td>\n",
       "      <td>6</td>\n",
       "      <td>4.0</td>\n",
       "      <td>6.0</td>\n",
       "      <td>NaN</td>\n",
       "      <td>NaN</td>\n",
       "    </tr>\n",
       "    <tr>\n",
       "      <th>5</th>\n",
       "      <td>7</td>\n",
       "      <td>1.0</td>\n",
       "      <td>7.0</td>\n",
       "      <td>2.0</td>\n",
       "      <td>5.0</td>\n",
       "      <td>5</td>\n",
       "      <td>6.0</td>\n",
       "      <td>5.0</td>\n",
       "      <td>6.0</td>\n",
       "      <td>7.0</td>\n",
       "    </tr>\n",
       "    <tr>\n",
       "      <th>6</th>\n",
       "      <td>6</td>\n",
       "      <td>5.0</td>\n",
       "      <td>4.0</td>\n",
       "      <td>NaN</td>\n",
       "      <td>NaN</td>\n",
       "      <td>7</td>\n",
       "      <td>7.0</td>\n",
       "      <td>6.0</td>\n",
       "      <td>NaN</td>\n",
       "      <td>NaN</td>\n",
       "    </tr>\n",
       "    <tr>\n",
       "      <th>7</th>\n",
       "      <td>3</td>\n",
       "      <td>3.0</td>\n",
       "      <td>NaN</td>\n",
       "      <td>NaN</td>\n",
       "      <td>NaN</td>\n",
       "      <td>6</td>\n",
       "      <td>6.0</td>\n",
       "      <td>NaN</td>\n",
       "      <td>NaN</td>\n",
       "      <td>NaN</td>\n",
       "    </tr>\n",
       "    <tr>\n",
       "      <th>8</th>\n",
       "      <td>3</td>\n",
       "      <td>6.0</td>\n",
       "      <td>2.0</td>\n",
       "      <td>NaN</td>\n",
       "      <td>NaN</td>\n",
       "      <td>6</td>\n",
       "      <td>3.0</td>\n",
       "      <td>6.0</td>\n",
       "      <td>NaN</td>\n",
       "      <td>NaN</td>\n",
       "    </tr>\n",
       "    <tr>\n",
       "      <th>9</th>\n",
       "      <td>7</td>\n",
       "      <td>6.0</td>\n",
       "      <td>3.0</td>\n",
       "      <td>2.0</td>\n",
       "      <td>5.0</td>\n",
       "      <td>6</td>\n",
       "      <td>4.0</td>\n",
       "      <td>6.0</td>\n",
       "      <td>6.0</td>\n",
       "      <td>7.0</td>\n",
       "    </tr>\n",
       "    <tr>\n",
       "      <th>10</th>\n",
       "      <td>2</td>\n",
       "      <td>6.0</td>\n",
       "      <td>NaN</td>\n",
       "      <td>NaN</td>\n",
       "      <td>NaN</td>\n",
       "      <td>6</td>\n",
       "      <td>7.0</td>\n",
       "      <td>NaN</td>\n",
       "      <td>NaN</td>\n",
       "      <td>NaN</td>\n",
       "    </tr>\n",
       "    <tr>\n",
       "      <th>11</th>\n",
       "      <td>4</td>\n",
       "      <td>5.0</td>\n",
       "      <td>3.0</td>\n",
       "      <td>NaN</td>\n",
       "      <td>NaN</td>\n",
       "      <td>6</td>\n",
       "      <td>7.0</td>\n",
       "      <td>6.0</td>\n",
       "      <td>NaN</td>\n",
       "      <td>NaN</td>\n",
       "    </tr>\n",
       "    <tr>\n",
       "      <th>12</th>\n",
       "      <td>6</td>\n",
       "      <td>5.0</td>\n",
       "      <td>NaN</td>\n",
       "      <td>NaN</td>\n",
       "      <td>NaN</td>\n",
       "      <td>7</td>\n",
       "      <td>7.0</td>\n",
       "      <td>NaN</td>\n",
       "      <td>NaN</td>\n",
       "      <td>NaN</td>\n",
       "    </tr>\n",
       "    <tr>\n",
       "      <th>13</th>\n",
       "      <td>4</td>\n",
       "      <td>7.0</td>\n",
       "      <td>2.0</td>\n",
       "      <td>NaN</td>\n",
       "      <td>NaN</td>\n",
       "      <td>6</td>\n",
       "      <td>6.0</td>\n",
       "      <td>6.0</td>\n",
       "      <td>NaN</td>\n",
       "      <td>NaN</td>\n",
       "    </tr>\n",
       "    <tr>\n",
       "      <th>14</th>\n",
       "      <td>6</td>\n",
       "      <td>3.0</td>\n",
       "      <td>6.0</td>\n",
       "      <td>NaN</td>\n",
       "      <td>NaN</td>\n",
       "      <td>3</td>\n",
       "      <td>6.0</td>\n",
       "      <td>7.0</td>\n",
       "      <td>NaN</td>\n",
       "      <td>NaN</td>\n",
       "    </tr>\n",
       "    <tr>\n",
       "      <th>15</th>\n",
       "      <td>7</td>\n",
       "      <td>4.0</td>\n",
       "      <td>6.0</td>\n",
       "      <td>7.0</td>\n",
       "      <td>4.0</td>\n",
       "      <td>6</td>\n",
       "      <td>6.0</td>\n",
       "      <td>7.0</td>\n",
       "      <td>5.0</td>\n",
       "      <td>6.0</td>\n",
       "    </tr>\n",
       "    <tr>\n",
       "      <th>16</th>\n",
       "      <td>(W/O)</td>\n",
       "      <td>NaN</td>\n",
       "      <td>NaN</td>\n",
       "      <td>NaN</td>\n",
       "      <td>NaN</td>\n",
       "      <td>(W/O)</td>\n",
       "      <td>NaN</td>\n",
       "      <td>NaN</td>\n",
       "      <td>NaN</td>\n",
       "      <td>NaN</td>\n",
       "    </tr>\n",
       "    <tr>\n",
       "      <th>17</th>\n",
       "      <td>3</td>\n",
       "      <td>7.0</td>\n",
       "      <td>2.0</td>\n",
       "      <td>NaN</td>\n",
       "      <td>NaN</td>\n",
       "      <td>6</td>\n",
       "      <td>6.0</td>\n",
       "      <td>6.0</td>\n",
       "      <td>NaN</td>\n",
       "      <td>NaN</td>\n",
       "    </tr>\n",
       "    <tr>\n",
       "      <th>18</th>\n",
       "      <td>4</td>\n",
       "      <td>3.0</td>\n",
       "      <td>NaN</td>\n",
       "      <td>NaN</td>\n",
       "      <td>NaN</td>\n",
       "      <td>6</td>\n",
       "      <td>6.0</td>\n",
       "      <td>NaN</td>\n",
       "      <td>NaN</td>\n",
       "      <td>NaN</td>\n",
       "    </tr>\n",
       "    <tr>\n",
       "      <th>19</th>\n",
       "      <td>6</td>\n",
       "      <td>7.0</td>\n",
       "      <td>4.0</td>\n",
       "      <td>3.0</td>\n",
       "      <td>NaN</td>\n",
       "      <td>7</td>\n",
       "      <td>6.0</td>\n",
       "      <td>6.0</td>\n",
       "      <td>6.0</td>\n",
       "      <td>NaN</td>\n",
       "    </tr>\n",
       "    <tr>\n",
       "      <th>20</th>\n",
       "      <td>4</td>\n",
       "      <td>7.0</td>\n",
       "      <td>4.0</td>\n",
       "      <td>4.0</td>\n",
       "      <td>NaN</td>\n",
       "      <td>6</td>\n",
       "      <td>5.0</td>\n",
       "      <td>6.0</td>\n",
       "      <td>6.0</td>\n",
       "      <td>NaN</td>\n",
       "    </tr>\n",
       "    <tr>\n",
       "      <th>21</th>\n",
       "      <td>3</td>\n",
       "      <td>4.0</td>\n",
       "      <td>NaN</td>\n",
       "      <td>NaN</td>\n",
       "      <td>NaN</td>\n",
       "      <td>6</td>\n",
       "      <td>6.0</td>\n",
       "      <td>NaN</td>\n",
       "      <td>NaN</td>\n",
       "      <td>NaN</td>\n",
       "    </tr>\n",
       "    <tr>\n",
       "      <th>22</th>\n",
       "      <td>1</td>\n",
       "      <td>2.0</td>\n",
       "      <td>6.0</td>\n",
       "      <td>3.0</td>\n",
       "      <td>NaN</td>\n",
       "      <td>6</td>\n",
       "      <td>6.0</td>\n",
       "      <td>3.0</td>\n",
       "      <td>6.0</td>\n",
       "      <td>NaN</td>\n",
       "    </tr>\n",
       "    <tr>\n",
       "      <th>23</th>\n",
       "      <td>4</td>\n",
       "      <td>4.0</td>\n",
       "      <td>NaN</td>\n",
       "      <td>NaN</td>\n",
       "      <td>NaN</td>\n",
       "      <td>6</td>\n",
       "      <td>6.0</td>\n",
       "      <td>NaN</td>\n",
       "      <td>NaN</td>\n",
       "      <td>NaN</td>\n",
       "    </tr>\n",
       "    <tr>\n",
       "      <th>24</th>\n",
       "      <td>6</td>\n",
       "      <td>7.0</td>\n",
       "      <td>6.0</td>\n",
       "      <td>NaN</td>\n",
       "      <td>NaN</td>\n",
       "      <td>7</td>\n",
       "      <td>5.0</td>\n",
       "      <td>7.0</td>\n",
       "      <td>NaN</td>\n",
       "      <td>NaN</td>\n",
       "    </tr>\n",
       "    <tr>\n",
       "      <th>25</th>\n",
       "      <td>6</td>\n",
       "      <td>6.0</td>\n",
       "      <td>6.0</td>\n",
       "      <td>6.0</td>\n",
       "      <td>12.0</td>\n",
       "      <td>7</td>\n",
       "      <td>1.0</td>\n",
       "      <td>7.0</td>\n",
       "      <td>4.0</td>\n",
       "      <td>13.0</td>\n",
       "    </tr>\n",
       "  </tbody>\n",
       "</table>\n",
       "</div>"
      ],
      "text/plain": [
       "       L1   L2   L3   L4    L5     W1   W2   W3   W4    W5\n",
       "0       6  6.0  6.0  NaN   NaN      7  2.0  7.0  NaN   NaN\n",
       "1       5  3.0  6.0  NaN   NaN      7  6.0  7.0  NaN   NaN\n",
       "2       6  2.0  3.0  NaN   NaN      3  6.0  6.0  NaN   NaN\n",
       "3       6  3.0  3.0  NaN   NaN      4  6.0  6.0  NaN   NaN\n",
       "4       4  6.0  2.0  NaN   NaN      6  4.0  6.0  NaN   NaN\n",
       "5       7  1.0  7.0  2.0   5.0      5  6.0  5.0  6.0   7.0\n",
       "6       6  5.0  4.0  NaN   NaN      7  7.0  6.0  NaN   NaN\n",
       "7       3  3.0  NaN  NaN   NaN      6  6.0  NaN  NaN   NaN\n",
       "8       3  6.0  2.0  NaN   NaN      6  3.0  6.0  NaN   NaN\n",
       "9       7  6.0  3.0  2.0   5.0      6  4.0  6.0  6.0   7.0\n",
       "10      2  6.0  NaN  NaN   NaN      6  7.0  NaN  NaN   NaN\n",
       "11      4  5.0  3.0  NaN   NaN      6  7.0  6.0  NaN   NaN\n",
       "12      6  5.0  NaN  NaN   NaN      7  7.0  NaN  NaN   NaN\n",
       "13      4  7.0  2.0  NaN   NaN      6  6.0  6.0  NaN   NaN\n",
       "14      6  3.0  6.0  NaN   NaN      3  6.0  7.0  NaN   NaN\n",
       "15      7  4.0  6.0  7.0   4.0      6  6.0  7.0  5.0   6.0\n",
       "16  (W/O)  NaN  NaN  NaN   NaN  (W/O)  NaN  NaN  NaN   NaN\n",
       "17      3  7.0  2.0  NaN   NaN      6  6.0  6.0  NaN   NaN\n",
       "18      4  3.0  NaN  NaN   NaN      6  6.0  NaN  NaN   NaN\n",
       "19      6  7.0  4.0  3.0   NaN      7  6.0  6.0  6.0   NaN\n",
       "20      4  7.0  4.0  4.0   NaN      6  5.0  6.0  6.0   NaN\n",
       "21      3  4.0  NaN  NaN   NaN      6  6.0  NaN  NaN   NaN\n",
       "22      1  2.0  6.0  3.0   NaN      6  6.0  3.0  6.0   NaN\n",
       "23      4  4.0  NaN  NaN   NaN      6  6.0  NaN  NaN   NaN\n",
       "24      6  7.0  6.0  NaN   NaN      7  5.0  7.0  NaN   NaN\n",
       "25      6  6.0  6.0  6.0  12.0      7  1.0  7.0  4.0  13.0"
      ]
     },
     "execution_count": 28,
     "metadata": {},
     "output_type": "execute_result"
    }
   ],
   "source": [
    "%pdb\n",
    "pd.DataFrame(jd[\n",
    "    (jd['winner_name'] == \"Novak Djokovic\") &\n",
    "    (jd['loser_name'] == \"Roger Federer\")\n",
    "]['score'].map(parse_match_score).tolist())"
   ]
  },
  {
   "cell_type": "code",
   "execution_count": null,
   "metadata": {},
   "outputs": [],
   "source": [
    "jd['score'].tail(30).map(parse_match_score)"
   ]
  },
  {
   "cell_type": "code",
   "execution_count": null,
   "metadata": {},
   "outputs": [],
   "source": [
    "jd['score'].tail()"
   ]
  },
  {
   "cell_type": "code",
   "execution_count": 177,
   "metadata": {},
   "outputs": [],
   "source": [
    "def reformat_name(n):\n",
    "    s = n.split(' ')\n",
    "    return ' '.join(s[1:]) + ' ' + s[0][0] + '.' \n",
    "\n",
    "def last_name_jd(n):\n",
    "    return ' '.join(n.split(' ')[1:])\n",
    "\n",
    "def last_name_odds(n):\n",
    "    return ' '.join(n.split(' ')[: 1])\n",
    "\n",
    "jd['winner_altered'] = jd['winner_name'].map(reformat_name)\n",
    "jd['loser_altered'] = jd['loser_name'].map(reformat_name)\n",
    "jd['winner_last_name'] = jd['winner_name'].map(last_name_jd)\n",
    "jd['loser_last_name'] = jd['loser_name'].map(last_name_jd)"
   ]
  },
  {
   "cell_type": "code",
   "execution_count": null,
   "metadata": {},
   "outputs": [],
   "source": [
    "q = pd.merge(\n",
    "    odds_df,\n",
    "    jd[['winner_altered', 'loser_altered']],\n",
    "    left_on=['Winner', 'Loser'],\n",
    "    right_on=['winner_altered', 'loser_altered']\n",
    ")"
   ]
  },
  {
   "cell_type": "code",
   "execution_count": null,
   "metadata": {},
   "outputs": [],
   "source": [
    "(odds_df['B365W'] < odds_df['B365L']).mean()"
   ]
  },
  {
   "cell_type": "markdown",
   "metadata": {},
   "source": [
    "Bet365 had 69.1% accuracy in 2013 for these matches...We can beat this!  Let's see how it was in 2018"
   ]
  },
  {
   "cell_type": "code",
   "execution_count": 168,
   "metadata": {},
   "outputs": [],
   "source": [
    "odds_2018 = pd.read_csv(\"/Users/siddhantjagadish/Downloads/2018.csv\")"
   ]
  },
  {
   "cell_type": "code",
   "execution_count": 171,
   "metadata": {},
   "outputs": [
    {
     "data": {
      "text/plain": [
       "0.6890405764125901"
      ]
     },
     "execution_count": 171,
     "metadata": {},
     "output_type": "execute_result"
    }
   ],
   "source": [
    "(odds_2018['B365W'] <= odds_2018['B365L']).mean()"
   ]
  },
  {
   "cell_type": "code",
   "execution_count": 172,
   "metadata": {},
   "outputs": [
    {
     "data": {
      "text/plain": [
       "0.6617368221463784"
      ]
     },
     "execution_count": 172,
     "metadata": {},
     "output_type": "execute_result"
    }
   ],
   "source": [
    "(odds_2018['B365W'] < odds_2018['B365L']).mean()"
   ]
  },
  {
   "cell_type": "markdown",
   "metadata": {},
   "source": [
    "In 2018, 69% accuracy, but lots of cases with even odds that I'm "
   ]
  },
  {
   "cell_type": "code",
   "execution_count": 173,
   "metadata": {},
   "outputs": [
    {
     "data": {
      "text/plain": [
       "0.6803118908382066"
      ]
     },
     "execution_count": 173,
     "metadata": {},
     "output_type": "execute_result"
    }
   ],
   "source": [
    "rel = odds_2018[odds_2018['B365W'] != odds_2018['B365L']]\n",
    "(rel['B365W'] < rel['B365L']).mean()"
   ]
  },
  {
   "cell_type": "markdown",
   "metadata": {},
   "source": [
    "Removing these, 68% accuracy"
   ]
  },
  {
   "cell_type": "code",
   "execution_count": 176,
   "metadata": {},
   "outputs": [
    {
     "data": {
      "text/plain": [
       "0.6339150227617603"
      ]
     },
     "execution_count": 176,
     "metadata": {},
     "output_type": "execute_result"
    }
   ],
   "source": [
    "ranked = odds_2018[\n",
    "    odds_2018['WRank'].notnull() &\n",
    "    odds_2018['LRank'].notnull()\n",
    "]\n",
    "(ranked['WRank'] < ranked['LRank']).mean()"
   ]
  },
  {
   "cell_type": "markdown",
   "metadata": {},
   "source": [
    "The rankings have 63% accuracy over the same period"
   ]
  },
  {
   "cell_type": "markdown",
   "metadata": {},
   "source": [
    "#### Odds Scraping"
   ]
  },
  {
   "cell_type": "code",
   "execution_count": 2,
   "metadata": {},
   "outputs": [],
   "source": [
    "URL = 'https://www.oddsportal.com/tennis/australia/canberra-challenger-men/results/'"
   ]
  },
  {
   "cell_type": "code",
   "execution_count": 3,
   "metadata": {},
   "outputs": [],
   "source": [
    "from lxml import html\n",
    "import requests\n",
    "\n",
    "tree = html.fromstring(requests.get(URL).content)"
   ]
  },
  {
   "cell_type": "code",
   "execution_count": 4,
   "metadata": {},
   "outputs": [
    {
     "data": {
      "text/plain": [
       "b'<html xmlns=\"http://www.w3.org/1999/xhtml\" xml:lang=\"cs\">\\n            <head>\\n\\t\\t        <meta http-equiv=\"content-type\" content=\"text/html; charset=utf-8\">\\n\\t\\t        <meta http-equiv=\"expires\" content=\"86400\">\\n\\t\\t        <meta name=\"description\" content=\"\">\\n\\t\\t        <meta name=\"keywords\" content=\"\">\\n\\t\\t        <title>OddsPortal: Page not found</title>\\n\\t\\t        <style type=\"text/css\" media=\"screen,projection\">\\n\\t\\t\\t\\t\\tbody {background: url(\"data:image/png;base64,iVBORw0KGgoAAAANSUhEUgAAAAQAAAAEAgMAAADUn3btAAAADFBMVEUqKiokJCQbGxsfHx/MYYG6AAAAGUlEQVR4XgXAgRAAAAwCwDeY3/zyC6FzXmUFqAH/YS8jCAAAAABJRU5ErkJggg%3D%3D\") repeat scroll 0 0 #2A2A2A;font-family: Tahoma,Verdana,Arial;}body {background-color: #000000;}body {   color: #333333;font-size: 75%;margin: 0;padding: 0;}.wrap {padding-top: 1px;}           #mother {margin: 0 auto 25px;padding: 22px 0 1px;position: relative;text-align: left;width: 790px;}       #wrap {background: url(\"data:image/png;base64,iVBORw0KGgoAAAANSUhEUgAAA+IAAAAIAgMAAAAAQ62hAAAACVBMVEX///8AAAAAAAB+UaldAAAAA3RSTlMAecsIPR1ZAAAAIklEQVR4Xu3PAQEAAAiDMKIaycgPAmswDqdvrtLcp7lM8wGbdAeBHwTnEgAAAABJRU5ErkJggg%3D%3D\") repeat-y scroll 0 0 transparent;margin: 0 -2px;position: relative;}#nav-skip {left: -2000px;position: absolute;}a {    color: #C21018;    text-decoration: none;}#logo-box {    float: left;    margin: 0;    padding: 1px 33px 0 0;}#logo-box h1, #logo-box p {    margin: 0;    padding: 0;}p {    font-family: Tahoma,Arial,sans-serif;    font-size: 92%;    line-height: 1.4;    margin-bottom: 10px;}.hidden {    display: none !important;}hr {    margin: 0;    padding: 0;}.break {clear: both;display: block;font-size: 1px;height: 1px;margin: 0;overflow: hidden;padding: 0 !important;visibility: hidden;}#wrap {background: url(\"data:image/png;base64,iVBORw0KGgoAAAANSUhEUgAAA+IAAAAIAgMAAAAAQ62hAAAACVBMVEX///8AAAAAAAB+UaldAAAAA3RSTlMAecsIPR1ZAAAAIklEQVR4Xu3PAQEAAAiDMKIaycgPAmswDqdvrtLcp7lM8wGbdAeBHwTnEgAAAABJRU5ErkJggg%3D%3D\") repeat-y scroll 0 0 transparent;margin: 0 -2px;position: relative;}#box-top {background: url(\"data:image/png;base64,iVBORw0KGgoAAAANSUhEUgAAAAUAAAACAQMAAACqpIQeAAAABlBMVEUAAAAAAAClZ7nPAAAAAnRSTlN5y4TYFL8AAAAUSURBVHheBcAhDQAAAICw90+MZGgA/AD5i20n1QAAAABJRU5ErkJggg%3D%3D\") repeat-x scroll 0 0 transparent;padding-top: 2px;}#box-bottom {background: url(\"data:image/png;base64,iVBORw0KGgoAAAANSUhEUgAAAAUAAAACAQMAAACqpIQeAAAABlBMVEUAAAAAAAClZ7nPAAAAAnRSTlPLeXdECiUAAAAUSURBVHheBcAhDQAAAICw90+MZGgA/AD5i20n1QAAAABJRU5ErkJggg%3D%3D\") repeat-x scroll 0 100% transparent;margin-bottom: -1px;padding: 0 2px 2px;}#main {background: none repeat scroll 0 0 white;padding: 0 0 20px;}#breadcrumb {background: none repeat scroll 0 0 #F1EFF1;border-bottom: 1px solid #D0CCD0;font-size: 92%;margin: 0 0 6px;padding: 12px 18px 9px;}#col-content {padding: 6px 18px 0;}#footer {background: none repeat scroll 0 0 #F3F2F3;border-top: 1px solid #D0CCD0;padding: 12px 18px;}.cor-l-t {background-position: left top;left: 0;top: 0;}.cor-l-t, .cor-r-t, .cor-l-b, .cor-r-b {background-image: url(\"data:image/png;base64,iVBORw0KGgoAAAANSUhEUgAAAA4AAAAOCAMAAAAolt3jAAAATlBMVEUdHR0REREODg4jIyMYGBgLCwsVFRWpqKl1dXUaGhrx8PHY19gmJiYJCQkWFhbj4eMeHh4SEhK2tbbu7e7y8fIcHBzw7/BAP0AXFxdDQ0PzrqoEAAAAXUlEQVR4Xl2PRwoAMQwDJdupW3v5/0cXQk6em8FII2BUi8WsRNMRsLVQJAQRltWg78YvDUP6uL2KiyGfjRx4YY7PURvHE2dQ9trZhbBpuTvLZO50zy7KFTkNJ+km/GtzCFUwWjFQAAAAAElFTkSuQmCC\");display: block;height: 7px;overflow: hidden;position: absolute;width: 7px;}.cor-r-t {background-position: right top;right: 0;top: 0;}.cor-l-t, .cor-r-t, .cor-l-b, .cor-r-b {background-image: url(\"data:image/png;base64,iVBORw0KGgoAAAANSUhEUgAAAA4AAAAOCAMAAAAolt3jAAAATlBMVEUdHR0REREODg4jIyMYGBgLCwsVFRWpqKl1dXUaGhrx8PHY19gmJiYJCQkWFhbj4eMeHh4SEhK2tbbu7e7y8fIcHBzw7/BAP0AXFxdDQ0PzrqoEAAAAXUlEQVR4Xl2PRwoAMQwDJdupW3v5/0cXQk6em8FII2BUi8WsRNMRsLVQJAQRltWg78YvDUP6uL2KiyGfjRx4YY7PURvHE2dQ9trZhbBpuTvLZO50zy7KFTkNJ+km/GtzCFUwWjFQAAAAAElFTkSuQmCC\");display: block;height: 7px;overflow: hidden;position: absolute;width: 7px;}.cor-l-b {background-image: url(\"data:image/png;base64,iVBORw0KGgoAAAANSUhEUgAAAA4AAAAHCAMAAAAPmYwrAAAATlBMVEUdHR0REREYGBgODg4jIyMaGhoLCwsVFRUeHh51dXWpqKnY19gmJiYJCQkWFhbj4eMSEhK2tbbu7e4cHBzy8fJAP0Dw7/AXFxdDQ0Px8PHLZpdWAAAATklEQVR4Xi3Hxw0DQQwDQJKSNl3O5/4bNWDv/AaalrtbJoG2fbrNiDlf+3/7lWccTPX8qYkH/Fn5tmFoL9fHoRI0S8mMUQSMrhxSZPmILzdeBNWbJiKZAAAAAElFTkSuQmCC\");background-position: left top;bottom: 0;left: 0;}.cor-r-b {background-image: url(\"data:image/png;base64,iVBORw0KGgoAAAANSUhEUgAAAA4AAAAHCAMAAAAPmYwrAAAATlBMVEUdHR0REREYGBgODg4jIyMaGhoLCwsVFRUeHh51dXWpqKnY19gmJiYJCQkWFhbj4eMSEhK2tbbu7e4cHBzy8fJAP0Dw7/AXFxdDQ0Px8PHLZpdWAAAATklEQVR4Xi3Hxw0DQQwDQJKSNl3O5/4bNWDv/AaalrtbJoG2fbrNiDlf+3/7lWccTPX8qYkH/Fn5tmFoL9fHoRI0S8mMUQSMrhxSZPmILzdeBNWbJiKZAAAAAElFTkSuQmCC\");background-position: right top;bottom: 0;right: 0;}#col-content h1, h2, h3, h4, h5, h6 {margin-bottom: 10px;margin-top: 0;}h1, h2, h3, h4, h5, h6 {font-family: Arial,Helvetica,sans-serif;} #footer p {margin: 0; padding: 0;}\\n\\t\\t        </style>\\n            </head>\\n\\t        <body>\\n                <div class=\"wrap\">\\n                    <div id=\"mother\">\\n\\t                    <div id=\"header\">\\n\\t                        <div id=\"logo-box\">\\n                                <p>\\n                                    <a href=\"http://www.oddsportal.com\">\\n                                        <img alt=\"ODDS Portal\" src=\"data:image/png;base64,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%3D\">\\n                                    </a>\\n                                </p>\\n                                <hr class=\"hidden\">\\n\\t                        </div>\\n\\t                        <div class=\"break\"></div>\\n\\t                    </div>\\n                        <div id=\"wrap\">\\n                            <div id=\"box-top\">\\n                                <div id=\"box-bottom\">\\n                                    <div id=\"main\" class=\"home\">\\n                                        <div id=\"breadcrumb\">\\n                                            <strong>The page you requested is not available.</strong>\\n                                        </div>\\n\\t                                    <hr class=\"hidden\">\\n                                        <div id=\"col-content\">\\n                                            <h1>Page not found</h1>\\n                                            <p>This page not exist on OddsPortal.com!</p>\\n\\t\\t\\t\\t                        </div>\\n                                        <div class=\"break\"></div>\\n                                        <hr class=\"hidden\">\\n                                    </div>\\n                                    <div id=\"footer\">\\n                                        <p class=\"l\">Copyright &#169; 2008-12 OddsPortal.com (v)</p>\\n                                        <div class=\"break\"></div>\\n\\t\\t\\t                        </div>\\n                                </div>\\n\\t\\t\\t                </div>\\n                            <span class=\"cor-l-t\">&#160;</span>\\n                            <span class=\"cor-r-t\">&#160;</span>\\n                            <span class=\"cor-l-b\">&#160;</span>\\n                            <span class=\"cor-r-b\">&#160;</span>\\n\\t\\t\\t\\t\\t        <div class=\"break\"></div>\\n                        </div>\\n                    </div>\\n                </div>\\n            </body>\\n        </html>'"
      ]
     },
     "execution_count": 4,
     "metadata": {},
     "output_type": "execute_result"
    }
   ],
   "source": [
    "html.tostring(tree)"
   ]
  },
  {
   "cell_type": "code",
   "execution_count": null,
   "metadata": {},
   "outputs": [],
   "source": []
  }
 ],
 "metadata": {
  "kernelspec": {
   "display_name": "Python 3",
   "language": "python",
   "name": "python3"
  },
  "language_info": {
   "codemirror_mode": {
    "name": "ipython",
    "version": 3
   },
   "file_extension": ".py",
   "mimetype": "text/x-python",
   "name": "python",
   "nbconvert_exporter": "python",
   "pygments_lexer": "ipython3",
   "version": "3.7.3"
  }
 },
 "nbformat": 4,
 "nbformat_minor": 2
}
