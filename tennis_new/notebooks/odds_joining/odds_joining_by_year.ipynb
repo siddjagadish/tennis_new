{
 "cells": [
  {
   "cell_type": "markdown",
   "metadata": {},
   "source": [
    "## Odds Joining\n",
    "\n",
    "The purpose of this notebook is to determine how to join odds data, from [here](http://www.tennis-data.co.uk/alldata.php), with the parsed data.  This is difficult because player's names are represented differently, the parsed data doesn't have match dates, tournaments are represented differently, and so on.  There are various manual corrections we will need to make to create our basis for joining the data here."
   ]
  },
  {
   "cell_type": "markdown",
   "metadata": {},
   "source": [
    "#### Joining Odds Data to My Data"
   ]
  },
  {
   "cell_type": "code",
   "execution_count": 1,
   "metadata": {},
   "outputs": [],
   "source": [
    "from pathlib import Path\n",
    "from tennis_new.infra.defs import REPO_DIR\n",
    "\n",
    "ODDS_PATH = Path.joinpath(\n",
    "    REPO_DIR,\n",
    "    'fetch/odds_data/'\n",
    ")"
   ]
  },
  {
   "cell_type": "code",
   "execution_count": 2,
   "metadata": {},
   "outputs": [
    {
     "name": "stderr",
     "output_type": "stream",
     "text": [
      "/Users/siddhantjagadish/Documents/DataProjects/tennis_new/venv/lib/python3.7/site-packages/IPython/core/interactiveshell.py:3049: DtypeWarning: Columns (13,16,17,18,19,25) have mixed types. Specify dtype option on import or set low_memory=False.\n",
      "  interactivity=interactivity, compiler=compiler, result=result)\n",
      "/Users/siddhantjagadish/Documents/DataProjects/tennis_new/venv/lib/python3.7/site-packages/IPython/core/interactiveshell.py:3214: DtypeWarning: Columns (3) have mixed types. Specify dtype option on import or set low_memory=False.\n",
      "  if (yield from self.run_code(code, result)):\n"
     ]
    }
   ],
   "source": [
    "import pandas as pd\n",
    "from tennis_new.fetch.get_joined import read_joined\n",
    "\n",
    "YEAR = 2006\n",
    "odds_df = pd.read_csv(Path.joinpath(ODDS_PATH, \"%d.csv\" % YEAR))\n",
    "all_odds = pd.read_csv(\"./all_odds.csv\")\n",
    "jd = read_joined()"
   ]
  },
  {
   "cell_type": "markdown",
   "metadata": {},
   "source": [
    "#### Name Processing\n",
    "\n",
    "Let's process the player's names so we can join on them"
   ]
  },
  {
   "cell_type": "code",
   "execution_count": 14,
   "metadata": {},
   "outputs": [],
   "source": [
    "# TODO: Confirm names for a given player don't change over time?\n",
    "ODDS_NAME_CORRECTIONS = {\n",
    "    'DEL POTRO J. M.': 'DEL POTRO J.M.',\n",
    "    'GAMBILL J. M.': 'GAMBILL J.M.',\n",
    "    'QUERRY S.': 'QUERREY S.',\n",
    "    'BAUTISTA AGUT R.': 'BAUTISTA R.',\n",
    "    'BOGOMOLOV JR. A.': 'BOGOMOLOV A.',\n",
    "    'RAMIREZ HIDALGO R.': 'RAMIREZ-HIDALGO R.',\n",
    "    'CARRENO BUSTA P.': 'CARRENO-BUSTA P.',\n",
    "    'MUNOZ-DE LA NAVA D.': 'MUNOZ-DE-LA-NAVA D.',\n",
    "    'MUNOZ DE LA NAVA D.': 'MUNOZ-DE-LA-NAVA D.',\n",
    "    'DEL BONIS F.': 'DELBONIS F.',\n",
    "    'HANTSCHEK M.': 'HANTSCHK M.',\n",
    "    'HAIDER-MAUER A.': 'HAIDER-MAURER A.',\n",
    "    'DE HEART R.': 'DEHEART R.',\n",
    "    'MATSUKEVITCH D.': 'MATSUKEVICH D.',\n",
    "    'NADAL-PARERA R.': 'NADAL R.',\n",
    "    'AL GHAREEB M.': 'GHAREEB M.',\n",
    "    \"AL-GHAREEB M.\": \"GHAREEB M.\",\n",
    "    'WANG Y. JR': 'WANG-JR. Y.',\n",
    "    \"SANCHEZ DE LUNA J.\": \"SANCHEZ-DE-LUNA J.A\",\n",
    "    \"SANCHEZ DE LUNA J.A.\": \"SANCHEZ-DE-LUNA J.A.\",\n",
    "    \"DEV VARMAN S.\": \"DEVVARMAN S.\",\n",
    "    \"GRANOLLERS-PUJOL M.\": \"GRANOLLERS M.\",\n",
    "    \"GRANOLLERS PUJOL G.\": \"GRANOLLERS G.\",\n",
    "    \"GRANOLLERS-PUJOL G.\": \"GRANOLLERS G.\",\n",
    "    \"BAHROUZYAN O.\": \"AWADHY O.\",\n",
    "    \"ALI MUTAWA J.M.\": \"AL-MUTAWA J.M.\",\n",
    "    \"AL MUTAWA J.\": \"AL-MUTAWA J.\",\n",
    "    \"ZAYID M. S.\": \"ZAYID M.S.\",\n",
    "    \"GALLARDO VALLES M.\": \"GALLARDO-VALLES M.\",\n",
    "    \"RIBA-MADRID P.\": \"RIBA P.\",\n",
    "    \"CHEKOV P.\": \"CHEKHOV P.\",\n",
    "    \"SAAVEDRA CORVALAN C.\": \"SAAVEDRA-CORVALAN C.\",\n",
    "    \"HAJI A.\": \"HAJJI A.\",\n",
    "    \"ZAYED M. S.\": \"ZAYED M.S.\",\n",
    "    \"KUNITCIN I.\": \"KUNITSYN I.\",\n",
    "    \"DEEN HESHAAM A.\": \"DEEN-HESHAAM A.\",\n",
    "    \"ESTRELLA V.\": \"ESTRELLA-BURGOS V.\",\n",
    "    \"SCHUTTLER P.\": \"SCHUETTLER R.\",\n",
    "    \"TYURNEV E.\": \"TIURNEV E.\",\n",
    "    \"SULTAN-KHALFAN A.\": \"KHALFAN S.\",\n",
    "    \"VAN D. MERWE I.\": \"VAN DER MERWE I.\",\n",
    "    \"ALAWADHI O.\": \"AWADHY O.\",\n",
    "    \"RASCON T.\": \"RASCON-LOPE J.T.\",\n",
    "    \"RUEVSKI P.\": \"RUSEVSKI P.\",\n",
    "    \"ESTRELLA BURGOS V.\": \"ESTRELLA-BURGOS V.\",\n",
    "    \"VAN DER DIUM A.\": \"VAN DER DUIM A.\",\n",
    "    \"AL KHULAIFI N.G.\": \"AL-KHULAIFI N.G.\"\n",
    "}\n",
    "\n",
    "JD_WHOLE_NAME_CORRECTIONS = {\n",
    "    'IVAN NAVARRO': 'IVAN NAVARRO-PASTOR',\n",
    "    'DANIEL MUNOZ DE LA NAVA': 'DANIEL MUNOZ-DE-LA-NAVA',\n",
    "    'MIGUEL ANGEL LOPEZ JAEN': 'MIGUEL-ANGEL LOPEZ-JAEN',\n",
    "    'YU JR. WANG': 'YU WANG-JR.',\n",
    "    \"OMAR ALAWADHI\": \"OMAR AWADHY\",\n",
    "    \"MIGUEL ANGEL REYES-VARELA\": \"MIGUEL-ANGEL REYES-VARELA\",\n",
    "    \"ISRAEL MATOS GIL\": \"ISRAEL MATOS-GIL\",\n",
    "    \"ARIEZ ELYAAS DEEN HESHAAM\": \"ARIEZ-ELYAAS DEEN-HESHAAM\",\n",
    "    \"ENRIQUE LOPEZ PEREZ\": \"ENRIQUE LOPEZ-PEREZ\",\n",
    "    \"VICTOR ESTRELLA BURGOS\": \"VICTOR ESTRELLA-BURGOS\",\n",
    "    \"MAHMOUD-NADER AL BALOUSHI\": \"MAHMOUD NADER\"\n",
    "}\n",
    "\n",
    "\n",
    "JD_NAME_CORRECTIONS = {\n",
    "    'MARTIN DEL POTRO': 'DEL POTRO',\n",
    "    'IGNACIO LONDERO': 'LONDERO',\n",
    "    'FERREIRA SILVA': \"SILVA\",\n",
    "    \"ELAHI GALAN\": \"GALAN\",\n",
    "    \"CARLOS FERRERO\": \"FERRERO\",\n",
    "    \"IGNACIO CHELA\": \"CHELA\",\n",
    "    \"ALBERT VILOCA-PUIG\": \"VILOCA\",\n",
    "    \"BURRIEZA-LOPEZ\": \"BURRIEZA\",\n",
    "    \"BOGOMOLOV JR.\": \"BOGOMOLOV\",\n",
    "    # \"KHALFAN\": \"AL-ALAWI\",\n",
    "    # \"ALAWADHI\": \"BAHROUZYAN\",\n",
    "    \"BAUTISTA AGUT\": \"BAUTISTA\",\n",
    "    \"RAMIREZ HIDALGO\": \"RAMIREZ-HIDALGO\",\n",
    "    \"VASSALLO ARGUELLO\": \"VASSALLO-ARGUELLO\",\n",
    "    \"CARRENO BUSTA\": \"CARRENO-BUSTA\",\n",
    "    \"PABLO BRZEZICKI\": \"BRZEZICKI\",\n",
    "    \"TRUJILLO-SOLER\": \"TRUJILLO\",\n",
    "    \"MARCO MORONI\": \"MORONI\",\n",
    "    \"SALVA-VIDAL\": \"SALVA\",\n",
    "    \"ANTONIO SANCHEZ-DE LUNA\": \"SANCHEZ-DE-LUNA\",\n",
    "    \"SEBASTIAN CABAL\": \"CABAL\",\n",
    "    \"SHANNAN ZAYID\": \"ZAYID\",\n",
    "    \"SHANAN ZAYED\": \"ZAYED\",\n",
    "    \"VIJAY SUNDAR PRASHANTH\": 'PRASHANTH',\n",
    "    \"DON GRUBER\": \"GRUBER\",\n",
    "    \"PAUL FRUTTERO\": \"FRUTTERO\",\n",
    "    \"LUQUE-VELASCO\": \"LUQUE\"\n",
    "}"
   ]
  },
  {
   "cell_type": "code",
   "execution_count": 15,
   "metadata": {},
   "outputs": [
    {
     "data": {
      "text/plain": [
       "['ATP',\n",
       " 'B365L',\n",
       " 'B365W',\n",
       " 'Best of',\n",
       " 'CBL',\n",
       " 'CBW',\n",
       " 'Comment',\n",
       " 'Court',\n",
       " 'Date',\n",
       " 'EXL',\n",
       " 'EXW',\n",
       " 'L1',\n",
       " 'L2',\n",
       " 'L3',\n",
       " 'L4',\n",
       " 'L5',\n",
       " 'LPts',\n",
       " 'LRank',\n",
       " 'Location',\n",
       " 'Loser',\n",
       " 'Lsets',\n",
       " 'PSL',\n",
       " 'PSW',\n",
       " 'Round',\n",
       " 'Series',\n",
       " 'Surface',\n",
       " 'Tournament',\n",
       " 'UBL',\n",
       " 'UBW',\n",
       " 'W1',\n",
       " 'W2',\n",
       " 'W3',\n",
       " 'W4',\n",
       " 'W5',\n",
       " 'WPts',\n",
       " 'WRank',\n",
       " 'Winner',\n",
       " 'Wsets']"
      ]
     },
     "execution_count": 15,
     "metadata": {},
     "output_type": "execute_result"
    }
   ],
   "source": [
    "sorted(odds_df.columns)"
   ]
  },
  {
   "cell_type": "code",
   "execution_count": 16,
   "metadata": {},
   "outputs": [],
   "source": [
    "# Preprocessing for upper case\n",
    "jd['winner_name'] = jd['winner_name'].map(lambda x: x.upper())\n",
    "jd['loser_name'] = jd['loser_name'].map(lambda x: x.upper())\n",
    "jd['winner_name'] = jd['winner_name'].map(lambda x: JD_WHOLE_NAME_CORRECTIONS.get(x, x))\n",
    "jd['loser_name'] = jd['loser_name'].map(lambda x: JD_WHOLE_NAME_CORRECTIONS.get(x, x))\n",
    "all_odds['Winner'] = all_odds['Winner'].map(lambda x: x.upper())\n",
    "all_odds['Loser'] = all_odds['Loser'].map(lambda x: x.upper())\n",
    "all_odds['Winner'] = all_odds['Winner'].map(lambda x: ODDS_NAME_CORRECTIONS.get(x, x))\n",
    "all_odds['Loser'] = all_odds['Loser'].map(lambda x: ODDS_NAME_CORRECTIONS.get(x, x))"
   ]
  },
  {
   "cell_type": "code",
   "execution_count": 17,
   "metadata": {},
   "outputs": [],
   "source": [
    "def last_name_jd(n):\n",
    "    return ' '.join(n.upper().strip().split(' ')[1: ])\n",
    "\n",
    "def last_name_odds(n):\n",
    "    return ' '.join(n.upper().strip().split(' ')[: -1])\n",
    "\n",
    "jd['winner_last_name'] = jd['winner_name'].map(last_name_jd)\n",
    "jd['loser_last_name'] = jd['loser_name'].map(last_name_jd)\n",
    "jd['winner_last_name'] = jd['winner_last_name'].map(lambda x: JD_NAME_CORRECTIONS.get(x, x))\n",
    "jd['loser_last_name'] = jd['loser_last_name'].map(lambda x: JD_NAME_CORRECTIONS.get(x, x))"
   ]
  },
  {
   "cell_type": "code",
   "execution_count": 18,
   "metadata": {},
   "outputs": [],
   "source": [
    "all_odds['winner_last_name'] = all_odds['Winner'].map(last_name_odds)\n",
    "all_odds['loser_last_name'] = all_odds['Loser'].map(last_name_odds)"
   ]
  },
  {
   "cell_type": "code",
   "execution_count": 20,
   "metadata": {},
   "outputs": [
    {
     "data": {
      "text/plain": [
       "Series([], Name: Winner, dtype: int64)"
      ]
     },
     "execution_count": 20,
     "metadata": {},
     "output_type": "execute_result"
    }
   ],
   "source": [
    "top_missing_winners = all_odds['Winner'][~all_odds['winner_last_name'].isin(jd['winner_last_name'])].value_counts()\n",
    "top_missing_winners                              "
   ]
  },
  {
   "cell_type": "code",
   "execution_count": 22,
   "metadata": {},
   "outputs": [
    {
     "data": {
      "text/plain": [
       "Series([], Name: Loser, dtype: int64)"
      ]
     },
     "execution_count": 22,
     "metadata": {},
     "output_type": "execute_result"
    }
   ],
   "source": [
    "top_missing_losers = all_odds['Loser'][~all_odds['loser_last_name'].isin(jd['loser_last_name'])].value_counts()\n",
    "top_missing_losers                              "
   ]
  },
  {
   "cell_type": "code",
   "execution_count": 10,
   "metadata": {},
   "outputs": [],
   "source": [
    "TO_INVESTIGATE = 'KHULAIFI'"
   ]
  },
  {
   "cell_type": "code",
   "execution_count": 11,
   "metadata": {},
   "outputs": [
    {
     "data": {
      "text/plain": [
       "AL KHULAIFI N.G.    1\n",
       "Name: Loser, dtype: int64"
      ]
     },
     "execution_count": 11,
     "metadata": {},
     "output_type": "execute_result"
    }
   ],
   "source": [
    "all_odds['Loser'][all_odds['loser_last_name'].map(lambda x: TO_INVESTIGATE in x)].value_counts()"
   ]
  },
  {
   "cell_type": "code",
   "execution_count": 12,
   "metadata": {},
   "outputs": [
    {
     "data": {
      "text/html": [
       "<div>\n",
       "<style scoped>\n",
       "    .dataframe tbody tr th:only-of-type {\n",
       "        vertical-align: middle;\n",
       "    }\n",
       "\n",
       "    .dataframe tbody tr th {\n",
       "        vertical-align: top;\n",
       "    }\n",
       "\n",
       "    .dataframe thead th {\n",
       "        text-align: right;\n",
       "    }\n",
       "</style>\n",
       "<table border=\"1\" class=\"dataframe\">\n",
       "  <thead>\n",
       "    <tr style=\"text-align: right;\">\n",
       "      <th></th>\n",
       "      <th>Winner</th>\n",
       "      <th>winner_last_name</th>\n",
       "      <th>Loser</th>\n",
       "      <th>loser_last_name</th>\n",
       "      <th>Tournament</th>\n",
       "      <th>Location</th>\n",
       "      <th>Date</th>\n",
       "      <th>W1</th>\n",
       "      <th>L1</th>\n",
       "      <th>W2</th>\n",
       "      <th>L2</th>\n",
       "    </tr>\n",
       "  </thead>\n",
       "  <tbody>\n",
       "    <tr>\n",
       "      <th>72</th>\n",
       "      <td>OGORODOV O.</td>\n",
       "      <td>OGORODOV</td>\n",
       "      <td>AL KHULAIFI N.G.</td>\n",
       "      <td>AL KHULAIFI</td>\n",
       "      <td>Qatar Open</td>\n",
       "      <td>Doha</td>\n",
       "      <td>12/31/01</td>\n",
       "      <td>6.0</td>\n",
       "      <td>1.0</td>\n",
       "      <td>6.0</td>\n",
       "      <td>2.0</td>\n",
       "    </tr>\n",
       "  </tbody>\n",
       "</table>\n",
       "</div>"
      ],
      "text/plain": [
       "         Winner winner_last_name             Loser loser_last_name  \\\n",
       "72  OGORODOV O.         OGORODOV  AL KHULAIFI N.G.     AL KHULAIFI   \n",
       "\n",
       "    Tournament Location      Date   W1   L1   W2   L2  \n",
       "72  Qatar Open     Doha  12/31/01  6.0  1.0  6.0  2.0  "
      ]
     },
     "execution_count": 12,
     "metadata": {},
     "output_type": "execute_result"
    }
   ],
   "source": [
    "all_odds[[\n",
    "    'Winner',\n",
    "    'winner_last_name',\n",
    "    'Loser',\n",
    "    'loser_last_name',\n",
    "    'Tournament',\n",
    "    'Location',\n",
    "    'Date',\n",
    "    'W1',\n",
    "    'L1',\n",
    "    'W2',\n",
    "    'L2'\n",
    "]][all_odds['loser_last_name'].map(lambda x: TO_INVESTIGATE in x)].head()"
   ]
  },
  {
   "cell_type": "code",
   "execution_count": 13,
   "metadata": {},
   "outputs": [
    {
     "data": {
      "text/html": [
       "<div>\n",
       "<style scoped>\n",
       "    .dataframe tbody tr th:only-of-type {\n",
       "        vertical-align: middle;\n",
       "    }\n",
       "\n",
       "    .dataframe tbody tr th {\n",
       "        vertical-align: top;\n",
       "    }\n",
       "\n",
       "    .dataframe thead th {\n",
       "        text-align: right;\n",
       "    }\n",
       "</style>\n",
       "<table border=\"1\" class=\"dataframe\">\n",
       "  <thead>\n",
       "    <tr style=\"text-align: right;\">\n",
       "      <th></th>\n",
       "      <th>loser_name</th>\n",
       "      <th>loser_last_name</th>\n",
       "    </tr>\n",
       "  </thead>\n",
       "  <tbody>\n",
       "    <tr>\n",
       "      <th>144402</th>\n",
       "      <td>NASSER-GHANIM AL-KHULAIFI</td>\n",
       "      <td>AL-KHULAIFI</td>\n",
       "    </tr>\n",
       "  </tbody>\n",
       "</table>\n",
       "</div>"
      ],
      "text/plain": [
       "                       loser_name loser_last_name\n",
       "144402  NASSER-GHANIM AL-KHULAIFI     AL-KHULAIFI"
      ]
     },
     "execution_count": 13,
     "metadata": {},
     "output_type": "execute_result"
    }
   ],
   "source": [
    "jd[[\n",
    "    'loser_name',\n",
    "    'loser_last_name',\n",
    "]][jd['loser_last_name'].map(lambda x: TO_INVESTIGATE in x)].drop_duplicates(\n",
    "    ['loser_name', 'loser_last_name']\n",
    ")"
   ]
  },
  {
   "cell_type": "markdown",
   "metadata": {},
   "source": [
    "#### Location Mapping"
   ]
  },
  {
   "cell_type": "markdown",
   "metadata": {},
   "source": [
    "#### Tournament Mapping\n",
    "\n",
    "The tournament names are presented differently as well.  We will have to map tournament names to each other to provide the right mappings..."
   ]
  },
  {
   "cell_type": "code",
   "execution_count": null,
   "metadata": {},
   "outputs": [],
   "source": [
    "# Preprocessing, don't wanna deal with case issues\n",
    "\n",
    "jd['tourney_title'] = jd['tourney_title'].map(lambda x: x.upper())\n",
    "odds_df['Tournament'] = odds_df['Tournament'].map(lambda x: x.upper().strip(' '))"
   ]
  },
  {
   "cell_type": "code",
   "execution_count": null,
   "metadata": {},
   "outputs": [],
   "source": [
    "odds_df['Tournament'][~odds_df['Tournament'].isin(jd['tourney_title'])].value_counts().head()"
   ]
  },
  {
   "cell_type": "code",
   "execution_count": null,
   "metadata": {},
   "outputs": [],
   "source": [
    "pd.set_option('display.max_rows', 100, 'display.max_columns', None) # more options can be specified also\n",
    "wubba = odds_df.groupby(['Tournament', 'Location']).apply(\n",
    "    lambda x: pd.Series({\n",
    "        'n_matches': x.shape[0],\n",
    "        'min_date': x['Date'].min()\n",
    "    })\n",
    ").sort_values('n_matches', ascending=False)\n",
    "wubba"
   ]
  },
  {
   "cell_type": "code",
   "execution_count": null,
   "metadata": {},
   "outputs": [],
   "source": [
    "def tourney_stats(s):\n",
    "    tourney_titles = jd[\n",
    "        jd['tourney_title'].map(lambda x: s in x) &\n",
    "        (jd['tour_type'] == 'atp')\n",
    "    ]['tourney_title'].unique()\n",
    "    rel = jd[\n",
    "        jd['tourney_title'].isin(tourney_titles) &\n",
    "        (jd['tour_type'] == 'atp')\n",
    "    ]\n",
    "    print(rel['tourney_title'].value_counts())\n",
    "    print(rel.groupby('tourney_title').apply(lambda x: (x['tourney_dates'].min(), x['tourney_dates'].max())))\n",
    "    \n",
    "tourney_stats(\"BNP\")"
   ]
  },
  {
   "cell_type": "code",
   "execution_count": null,
   "metadata": {},
   "outputs": [],
   "source": [
    "# To help with joining odds data...\n",
    "TOURNAMENT_MAPPING = {\n",
    "    'BRISBANE INTERNATIONAL': ['BRISBANE', 'BRISBANE INTERNATIONAL'],\n",
    "    'US OPEN': 'US OPEN',\n",
    "    'WIMBLEDON': 'WIMBLEDON',\n",
    "    'FRENCH OPEN': 'ROLAND GARROS',\n",
    "    'AUSTRALIAN OPEN': ['AUSTRALIAN OPEN',  'AUSTRALIAN OPEN-2'],\n",
    "    'SONY ERICSSON OPEN': [\n",
    "        'ATP MASTERS 1000 MIAMI',\n",
    "        'MIAMI OPEN PRESENTED BY ITAU',\n",
    "        'MIAMI'\n",
    "    ],\n",
    "    \"BNP PARIBAS OPEN\": ['BNP PARIBAS OPEN', 'ATP MASTERS 1000 INDIAN WELLS', 'INDIAN WELLS'],\n",
    "    \"BNP PARIBAS MASTERS\": ['BNP PARIBAS MASTERS', 'ATP MASTERS 1000 PARIS', 'PARIS'],\n",
    "    \"INTERNAZIONALI BNL D'ITALIA\": [\n",
    "        \"INTERNAZIONALI BNL D'ITALIA\",\n",
    "        \"ATP MASTERS 1000 ROME\",\n",
    "        \"ROME\",\n",
    "    ],\n",
    "    \"WESTERN & SOUTHERN FINANCIAL GROUP MASTERS\": [\"WESTERN & SOUTHERN OPEN\", \"ATP MASTERS 1000 CINCINNATI\", \"CINCINNATI\"],\n",
    "    \"AEGON CHAMPIONSHIPS\": \"LONDON / QUEEN'S CLUB\",\n",
    "    \"MONTE CARLO MASTERS\": \"ATP MASTERS 1000 MONTE CARLO\",\n",
    "    \"MUTUA MADRID OPEN\": [\"ATP MASTERS 1000 MADRID\", \"MUTUA MADRID OPEN\"],\n",
    "    \"SHANGHAI MASTERS\": [\"ATP MASTERS 1000 SHANGHAI\", \"SHANGHAI\"],\n",
    "    \"ROGERS MASTERS\": [\"ATP MASTERS 1000 CANADA\", \"COUPE ROGERS\"],\n",
    "    \"CITI OPEN\": [\"WASHINGTON\", \"CITI OPEN\"],\n",
    "    \"GERMAN TENNIS CHAMPIONSHIPS\": [\n",
    "        \"GERMAN OPEN TENNIS CHAMPIONSHIPS\",\n",
    "        \"HAMBURG\",\n",
    "        \"ATP MASTERS 1000 HAMBURG\",\n",
    "        \"HAMBURG EUROPEAN OPEN\"\n",
    "    ],\n",
    "    \"OPEN BANCO SABADELL\": [\n",
    "        \"BARCELONA OPEN BANC SABADELL\",\n",
    "        \"BARCELONA\",\n",
    "    ],\n",
    "    \"SWISS INDOORS\": \"BASEL\",\n",
    "    \"RAKUTEN JAPAN OPEN TENNIS CHAMPIONSHIPS\": [\"RAKUTEN JAPAN OPEN TENNIS CHAMPIONSHIPS\", \"TOKYO\"],\n",
    "    \"QATAR EXXON MOBIL OPEN\": [\"QATAR EXXONMOBIL OPEN\", \"DOHA\"],\n",
    "    \"GRAND PRIX HASSAN II\": \"MARRAKECH\",\n",
    "    \"GERRY WEBER OPEN\": \"HALLE\",\n",
    "    \"CHINA OPEN\": [\"CHINA OPEN\", \"BEIJING\"],\n",
    "    \"ABIERTO MEXICANO\": [\"ABIERTO MEXICANO TELCEL PRESENTADO POR HSBC\", \"ACAPULCO\"],\n",
    "    \"DELRAY BEACH OPEN\": [\"DELRAY BEACH\", \"DELRAY BEACH OPEN BY VITACOST.COM\"],\n",
    "    \"DUBAI TENNIS CHAMPIONSHIPS\": [\"DUBAI\", \"DUBAI DUTY FREE TENNIS CHAMPIONSHIPS\"],\n",
    "    \"ERSTE BANK OPEN\": [\"VIENNA\", \"ERSTE BANK OPEN\"],\n",
    "    \"ARGENTINA OPEN\": [\"BUENOS AIRES\", \"ARGENTINA OPEN\"],\n",
    "    \"RICOH OPEN\": [\"S-HERTOGENBOSCH\", \"'S-HERTOGENBOSCH\"],\n",
    "    \"EASTBOURNE INTERNATIONAL\": [\"EASTBOURNE\", \"NATURE VALLEY INTERNATIONAL\"],\n",
    "    \"BB&T ATLANTA OPEN\": [\"BB&T ATLANTA OPEN\", \"ATLANTA\"],\n",
    "    \"ASB CLASSIC\": [\"ASB CLASSIC\", \"AUCKLAND\"],\n",
    "    \"SHENZHEN OPEN\": [\"SHENZHEN\"],\n",
    "    \"SKISTAR SWEDISH OPEN\": [\"BASTAD\", \"SWEDISH OPEN\"],\n",
    "    \"STOCKHOLM OPEN\": [\"STOCKHOLM\", \"INTRUM STOCKHOLM OPEN\"],\n",
    "    \"ST. PETERSBURG OPEN\": [\"ST. PETERSBURG\", \"ST. PETERSBURG OPEN\"],\n",
    "    \"SUISSE OPEN GSTAAD\": [\"GSTAAD\", \"J. SAFRA SARASIN SWISS OPEN GSTAAD\"],\n",
    "    \"SYDNEY INTERNATIONAL\": [\"SYDNEY INTERNATIONAL\", \"SYDNEY\"],\n",
    "    \"TATA OPEN\": [\"TATA OPEN MAHARASHTRA\", \"PUNE\"],\n",
    "    \"U.S. MEN'S CLAY COURT CHAMPIONSHIPS\": [\"HOUSTON\", \"FAYEZ SAROFIM & CO. U.S. MEN'S CLAY COURT CHAMPIONSHIP\"],\n",
    "    \"ANTALYA OPEN\": [\"ANTALYA\", \"TURKISH AIRLINES OPEN ANTALYA\"],\n",
    "    \"CROATIA OPEN\": [\"PLAVA LAGUNA CROATIA OPEN UMAG\", \"UMAG\"],\n",
    "    \"ECUADOR OPEN\": \"QUITO\",\n",
    "    \"GAZPROM HUNGARIAN OPEN\": [\"HUNGARIAN OPEN\", \"BUDAPEST\"],\n",
    "    \"GENERALI OPEN\": [\"GENERALI OPEN\", \"KITZBUHEL\", \"KITZBÜHEL\", \"KITZBUEHEL\"],\n",
    "    \"OPEN DE MOSELLE\": [\"MOSELLE OPEN\", \"METZ\"],\n",
    "    \"GENEVA OPEN\": [\"GENEVA\", \"BANQUE ERIC STURDZA GENEVA OPEN\"],\n",
    "    \"GARANTI KOZA SOFIA OPEN\": [\"SOFIA\", \"SOFIA OPEN\"],\n",
    "    \"EUROPEAN OPEN\": [\"ANTWERP\", \"EUROPEAN OPEN\"],\n",
    "    \"HALL OF FAME CHAMPIONSHIPS\": [\"NEWPORT\", \"HALL OF FAME OPEN\"],\n",
    "    \"ABIERTO MEXICANO MIFEL\": [\"LOS CABOS\", \"ABIERTO DE TENIS MIFEL PRESENTADO POR CINEMEX\"],\n",
    "    \"ISTANBUL OPEN\": \"ISTANBUL\",\n",
    "    \"KREMLIN CUP\": [\"MOSCOW\", \"VTB KREMLIN CUP\"],\n",
    "    \"LYON OPEN\": [\"LYON\", \"OPEN PARC AUVERGNE-RHONE-ALPES LYON\"],\n",
    "    \"MERCEDES CUP\": [\"STUTTGART\", \"ATP MASTERS 1000 STUTTGART\", \"MERCEDESCUP\"],\n",
    "    \"MILLENNIUM ESTORIL OPEN\": [\"ESTORIL\", \"MILLENNIUM ESTORIL OPEN\"],\n",
    "    \"BRASIL OPEN\": [\"SAO PAULO\", \"BRASIL OPEN\"],\n",
    "    \"CHENGDU OPEN\": [\"CHENGDU\", \"CHENGDU OPEN\"],\n",
    "    \"NEW YORK OPEN\": [\"NEW YORK\", \"NEW YORK OPEN\"],\n",
    "    \"OPEN 13\": [\"OPEN 13 PROVENCE\", \"MARSEILLE\"],\n",
    "    \"BMW OPEN\": [\"MUNICH\", \"BMW OPEN BY FWU\"],\n",
    "    \"OPEN SUD DE FRANCE\": [\"OPEN SUD DE FRANCE\", \"MONTPELLIER\"],\n",
    "    \"MASTERS CUP\": [\"TENNIS MASTERS CUP\", \"NITTO ATP FINALS\"],\n",
    "    \"RIO OPEN\": [\"RIO DE JANEIRO\", \"RIO OPEN PRESENTED BY CLARO\"],\n",
    "    \"ABN AMRO WORLD TENNIS TOURNAMENT\": [\"ROTTERDAM\", \"ABN AMRO WORLD TENNIS TOURNAMENT\"],\n",
    "    \"WINSTON-SALEM OPEN AT WAKE FOREST UNIVERSITY\": ['WINSTON-SALEM', 'WINSTON-SALEM OPEN']\n",
    "}"
   ]
  },
  {
   "cell_type": "markdown",
   "metadata": {},
   "source": [
    "#### Score Parsing"
   ]
  },
  {
   "cell_type": "code",
   "execution_count": null,
   "metadata": {},
   "outputs": [],
   "source": [
    "WALKOVER_DEFS = [\n",
    "    'W/O',\n",
    "    'DEF'\n",
    "]\n",
    "\n",
    "def parse_set_score(s):\n",
    "    if 'RET' in s:\n",
    "        return ('RETIRE', 'RETIRE')\n",
    "    elif any([x in s for x in WALKOVER_DEFS]):\n",
    "        return ('WALKOVER', 'WALKOVER')\n",
    "    elif 'UNP' in s:\n",
    "        return ('MATCH_NOT_PLAYED', 'MATCH_NOT_PLAYED')\n",
    "    else:\n",
    "        s = s.strip(' (NA)')\n",
    "        if len(s) == 2:\n",
    "            return int(s[0]), int(s[1])\n",
    "        else:\n",
    "            for b in range(1, len(s)):\n",
    "                s1, s2 = int(s[:b]), int(s[b:])\n",
    "                if abs(s1 - s2) <= 2:\n",
    "                    return s1, s2\n",
    "            return None, None "
   ]
  },
  {
   "cell_type": "code",
   "execution_count": null,
   "metadata": {},
   "outputs": [],
   "source": [
    "def parse_match_score(s):\n",
    "    if pd.isnull(s):\n",
    "        return {}\n",
    "    set_scores = s.split(';')\n",
    "    out = {}\n",
    "    for idx, ss in enumerate(set_scores):\n",
    "        w, l = parse_set_score(ss)\n",
    "        out.update({\n",
    "            'W%d' % (idx + 1): w,\n",
    "            'L%d' % (idx + 1): l\n",
    "        })\n",
    "    return out "
   ]
  },
  {
   "cell_type": "code",
   "execution_count": null,
   "metadata": {},
   "outputs": [],
   "source": [
    "score_df = pd.DataFrame(jd['score'].map(parse_match_score).tolist())"
   ]
  },
  {
   "cell_type": "code",
   "execution_count": null,
   "metadata": {},
   "outputs": [],
   "source": [
    "score_df.head()"
   ]
  },
  {
   "cell_type": "code",
   "execution_count": null,
   "metadata": {},
   "outputs": [],
   "source": [
    "jd = pd.concat([jd, score_df], axis=1)\n",
    "jd.shape"
   ]
  },
  {
   "cell_type": "code",
   "execution_count": null,
   "metadata": {},
   "outputs": [],
   "source": [
    "score_cols = ['W%d' % s for s in range(1, 6)] + ['L%d' % s for s in range(1, 6)]"
   ]
  },
  {
   "cell_type": "markdown",
   "metadata": {},
   "source": [
    "#### Joining"
   ]
  },
  {
   "cell_type": "code",
   "execution_count": null,
   "metadata": {},
   "outputs": [],
   "source": [
    "odds_df['odds_match_id'] = range(odds_df.shape[0])"
   ]
  },
  {
   "cell_type": "code",
   "execution_count": null,
   "metadata": {},
   "outputs": [],
   "source": [
    "jd_2018 = jd[jd['year'] == 2018].copy()"
   ]
  },
  {
   "cell_type": "code",
   "execution_count": null,
   "metadata": {},
   "outputs": [],
   "source": [
    "join_cols = sorted([\n",
    "    'winner_last_name',\n",
    "    'loser_last_name',\n",
    "    'tourney_title'\n",
    "] + score_cols)"
   ]
  },
  {
   "cell_type": "code",
   "execution_count": null,
   "metadata": {},
   "outputs": [],
   "source": [
    "def get_tourney(x, idx):\n",
    "    mapped = TOURNAMENT_MAPPING[x]\n",
    "    if isinstance(mapped, str):\n",
    "        return mapped if idx == 0 else None\n",
    "    if idx >= len(mapped):\n",
    "        return None\n",
    "    else:\n",
    "        return mapped[idx]\n",
    "\n",
    "idx = 0\n",
    "merged_dfs = []\n",
    "while(True):\n",
    "    print(idx)\n",
    "    cur_odds = odds_df.copy()\n",
    "    cur_odds['tourney_title'] = odds_df['Tournament'].map(lambda x: get_tourney(x, idx))\n",
    "    if cur_odds['tourney_title'].isnull().all():\n",
    "         break\n",
    "    merged_dfs.append(\n",
    "        pd.merge(\n",
    "            jd_2018,\n",
    "            cur_odds,\n",
    "            on=join_cols\n",
    "        )\n",
    "    )\n",
    "    idx += 1"
   ]
  },
  {
   "cell_type": "code",
   "execution_count": null,
   "metadata": {},
   "outputs": [],
   "source": [
    "all_merged = pd.concat(merged_dfs)"
   ]
  },
  {
   "cell_type": "code",
   "execution_count": null,
   "metadata": {},
   "outputs": [],
   "source": [
    "all_merged.to_csv(\"./merged_2018.csv\", index=False)"
   ]
  },
  {
   "cell_type": "code",
   "execution_count": null,
   "metadata": {},
   "outputs": [],
   "source": [
    "assert all_merged['match_id'].value_counts().max() == 1"
   ]
  },
  {
   "cell_type": "code",
   "execution_count": null,
   "metadata": {},
   "outputs": [],
   "source": [
    "missing = odds_df[~odds_df['odds_match_id'].isin(all_merged['odds_match_id'].tolist())]"
   ]
  },
  {
   "cell_type": "code",
   "execution_count": null,
   "metadata": {},
   "outputs": [],
   "source": [
    "missing.shape"
   ]
  },
  {
   "cell_type": "code",
   "execution_count": null,
   "metadata": {},
   "outputs": [],
   "source": [
    "missing['Comment'].value_counts()"
   ]
  },
  {
   "cell_type": "code",
   "execution_count": null,
   "metadata": {},
   "outputs": [],
   "source": [
    "missing[missing['Comment'] == 'Completed'][[\n",
    "    'Winner', 'Loser', 'winner_last_name', 'loser_last_name'\n",
    "]]"
   ]
  },
  {
   "cell_type": "code",
   "execution_count": null,
   "metadata": {},
   "outputs": [],
   "source": [
    "# What tournaments are ALWAYS missing!?\n",
    "missing[~missing['Tournament'].isin(all_merged['Tournament'])]['Tournament'].value_counts()"
   ]
  },
  {
   "cell_type": "code",
   "execution_count": null,
   "metadata": {},
   "outputs": [],
   "source": [
    "missing[missing['Tournament'] == \"CHENGDU OPEN\"].iloc[0]"
   ]
  },
  {
   "cell_type": "code",
   "execution_count": null,
   "metadata": {},
   "outputs": [],
   "source": [
    "TOURNAMENT_MAPPING['FRENCH OPEN']"
   ]
  },
  {
   "cell_type": "code",
   "execution_count": null,
   "metadata": {},
   "outputs": [],
   "source": [
    "get_tourney('FRENCH OPEN', 0)"
   ]
  },
  {
   "cell_type": "code",
   "execution_count": null,
   "metadata": {},
   "outputs": [],
   "source": [
    "def inspect_match(w=None, l=None):\n",
    "    if w is not None:\n",
    "        rel = jd_2018[\n",
    "            (jd_2018['winner_last_name'] == w)\n",
    "        ]\n",
    "    else:\n",
    "        rel = jd_2018\n",
    "    if l is not None:\n",
    "        rel = rel[\n",
    "            rel['loser_last_name'] == w\n",
    "        ]\n",
    "    return rel[[\n",
    "        'winner_last_name',\n",
    "        'loser_last_name',\n",
    "        'tourney_title'\n",
    "    ] + score_cols]\n",
    "\n",
    "inspect_match('POLANSKY')"
   ]
  },
  {
   "cell_type": "code",
   "execution_count": null,
   "metadata": {},
   "outputs": [],
   "source": [
    "ranked = all_merged[\n",
    "    all_merged['WRank'].notnull() &\n",
    "    all_merged['LRank'].notnull()\n",
    "]"
   ]
  },
  {
   "cell_type": "code",
   "execution_count": null,
   "metadata": {},
   "outputs": [],
   "source": [
    "(ranked['WRank'] < ranked['LRank']).mean()"
   ]
  },
  {
   "cell_type": "code",
   "execution_count": null,
   "metadata": {},
   "outputs": [],
   "source": [
    "(ranked['B365W'] <= ranked['B365L']).mean()"
   ]
  },
  {
   "cell_type": "code",
   "execution_count": null,
   "metadata": {},
   "outputs": [],
   "source": [
    "(ranked['B365W'] < ranked['B365L']).mean()"
   ]
  },
  {
   "cell_type": "code",
   "execution_count": null,
   "metadata": {},
   "outputs": [],
   "source": [
    "import numpy as np\n",
    "\n",
    "with_scores = jd[jd['score'].notnull()]\n",
    "winner_sets = np.zeros(with_scores.shape[0])\n",
    "for set_index in range(1, 6):\n",
    "    winner_sets += (with_scores['W%d' % set_index] > with_scores['L%d' % set_index]).astype(int)"
   ]
  },
  {
   "cell_type": "code",
   "execution_count": null,
   "metadata": {},
   "outputs": [],
   "source": [
    "pd.Series(winner_sets).value_counts()"
   ]
  },
  {
   "cell_type": "code",
   "execution_count": null,
   "metadata": {},
   "outputs": [],
   "source": [
    "with_scores[winner_sets == 1][['score', 'tourney_url_suffix']]"
   ]
  },
  {
   "cell_type": "code",
   "execution_count": null,
   "metadata": {},
   "outputs": [],
   "source": [
    "with_scores[with_scores['score'].map(lambda x: 'W/O' in x)][['winner_name', 'loser_name']]"
   ]
  },
  {
   "cell_type": "code",
   "execution_count": null,
   "metadata": {},
   "outputs": [],
   "source": [
    "with_scores"
   ]
  },
  {
   "cell_type": "code",
   "execution_count": null,
   "metadata": {},
   "outputs": [],
   "source": []
  }
 ],
 "metadata": {
  "kernelspec": {
   "display_name": "Python 3",
   "language": "python",
   "name": "python3"
  },
  "language_info": {
   "codemirror_mode": {
    "name": "ipython",
    "version": 3
   },
   "file_extension": ".py",
   "mimetype": "text/x-python",
   "name": "python",
   "nbconvert_exporter": "python",
   "pygments_lexer": "ipython3",
   "version": "3.7.3"
  }
 },
 "nbformat": 4,
 "nbformat_minor": 2
}
