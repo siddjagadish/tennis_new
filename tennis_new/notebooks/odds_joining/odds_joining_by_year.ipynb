{
 "cells": [
  {
   "cell_type": "markdown",
   "metadata": {},
   "source": [
    "# Odds Joining (WIP)\n",
    "\n",
    "The purpose of this notebook is to determine how to join odds data, from [here](http://www.tennis-data.co.uk/alldata.php), with the parsed data.  This is difficult because player's names are represented differently, the parsed data doesn't have match dates, tournaments are represented differently, and so on.  There are various manual corrections we will need to make to create our basis for joining the data here.\n",
    "\n",
    "Here, we attempt to join by player last name / first initial, year, and tournament location (the locations are more stable over time than the names of the tournaments, and it is cumbersome to come up with consistent mappings for many different name representations)."
   ]
  },
  {
   "cell_type": "markdown",
   "metadata": {},
   "source": [
    "#### Read in Data\n",
    "\n",
    "Before anything else, we have to read in the data..."
   ]
  },
  {
   "cell_type": "code",
   "execution_count": 1,
   "metadata": {},
   "outputs": [],
   "source": [
    "from pathlib import Path\n",
    "from tennis_new.infra.defs import REPO_DIR\n",
    "\n",
    "ODDS_PATH = Path.joinpath(\n",
    "    REPO_DIR,\n",
    "    'fetch/odds_data/'\n",
    ")"
   ]
  },
  {
   "cell_type": "code",
   "execution_count": 2,
   "metadata": {},
   "outputs": [
    {
     "name": "stderr",
     "output_type": "stream",
     "text": [
      "/Users/siddhantjagadish/Documents/DataProjects/tennis_new/venv/lib/python3.7/site-packages/IPython/core/interactiveshell.py:3049: DtypeWarning: Columns (13,25) have mixed types. Specify dtype option on import or set low_memory=False.\n",
      "  interactivity=interactivity, compiler=compiler, result=result)\n",
      "/Users/siddhantjagadish/Documents/DataProjects/tennis_new/venv/lib/python3.7/site-packages/IPython/core/interactiveshell.py:3214: DtypeWarning: Columns (3) have mixed types. Specify dtype option on import or set low_memory=False.\n",
      "  if (yield from self.run_code(code, result)):\n"
     ]
    }
   ],
   "source": [
    "import pandas as pd\n",
    "from tennis_new.fetch.get_joined import read_joined\n",
    "\n",
    "YEAR = 2006\n",
    "odds_df = pd.read_csv(Path.joinpath(ODDS_PATH, \"%d.csv\" % YEAR))\n",
    "all_odds = pd.read_csv(\"./all_odds.csv\", na_values = ' ')  # There is a weird thing in the odds data with how nulls are sometimes represented\n",
    "jd = read_joined()"
   ]
  },
  {
   "cell_type": "code",
   "execution_count": 4,
   "metadata": {},
   "outputs": [
    {
     "data": {
      "text/plain": [
       "(UNP)    2\n",
       "Name: score, dtype: int64"
      ]
     },
     "execution_count": 4,
     "metadata": {},
     "output_type": "execute_result"
    }
   ],
   "source": [
    "# Look into a particular weird case\n",
    "ws = jd[jd['score'].notnull()]\n",
    "ws['score'][ws['score'].map(lambda x: 'UNP' in x)].value_counts()"
   ]
  },
  {
   "cell_type": "markdown",
   "metadata": {},
   "source": [
    "#### Name Processing\n",
    "\n",
    "Let's process the player's names so we can join on them.  Certain players' names are inconsistently represented, especially in the odds data.  Here, we map inconsistent representations of the same player to consistent ones, as well as correct players' names so that last names appear the same in the odds data and in the atp data."
   ]
  },
  {
   "cell_type": "code",
   "execution_count": 65,
   "metadata": {},
   "outputs": [],
   "source": [
    "# TODO: Confirm names for a given player don't change over time?\n",
    "ODDS_NAME_CORRECTIONS = {  # Corrections for the odds data\n",
    "    'DEL POTRO J. M.': 'DEL POTRO J.M.',\n",
    "    'GAMBILL J. M.': 'GAMBILL J.M.',\n",
    "    'QUERRY S.': 'QUERREY S.',\n",
    "    'BAUTISTA AGUT R.': 'BAUTISTA R.',\n",
    "    'BOGOMOLOV JR. A.': 'BOGOMOLOV A.',\n",
    "    'RAMIREZ HIDALGO R.': 'RAMIREZ-HIDALGO R.',\n",
    "    'CARRENO BUSTA P.': 'CARRENO-BUSTA P.',\n",
    "    'MUNOZ-DE LA NAVA D.': 'MUNOZ-DE-LA-NAVA D.',\n",
    "    'MUNOZ DE LA NAVA D.': 'MUNOZ-DE-LA-NAVA D.',\n",
    "    'DEL BONIS F.': 'DELBONIS F.',\n",
    "    'HANTSCHEK M.': 'HANTSCHK M.',\n",
    "    'HAIDER-MAUER A.': 'HAIDER-MAURER A.',\n",
    "    'DE HEART R.': 'DEHEART R.',\n",
    "    'MATSUKEVITCH D.': 'MATSUKEVICH D.',\n",
    "    'NADAL-PARERA R.': 'NADAL R.',\n",
    "    'AL GHAREEB M.': 'GHAREEB M.',\n",
    "    \"AL-GHAREEB M.\": \"GHAREEB M.\",\n",
    "    'WANG Y. JR': 'WANG-JR. Y.',\n",
    "    \"SANCHEZ DE LUNA J.\": \"SANCHEZ-DE-LUNA J.A\",\n",
    "    \"SANCHEZ DE LUNA J.A.\": \"SANCHEZ-DE-LUNA J.A.\",\n",
    "    \"DEV VARMAN S.\": \"DEVVARMAN S.\",\n",
    "    \"GRANOLLERS-PUJOL M.\": \"GRANOLLERS M.\",\n",
    "    \"GRANOLLERS PUJOL G.\": \"GRANOLLERS G.\",\n",
    "    \"GRANOLLERS-PUJOL G.\": \"GRANOLLERS G.\",\n",
    "    \"BAHROUZYAN O.\": \"AWADHY O.\",\n",
    "    \"ALI MUTAWA J.M.\": \"AL-MUTAWA J.M.\",\n",
    "    \"AL MUTAWA J.\": \"AL-MUTAWA J.\",\n",
    "    \"ZAYID M. S.\": \"ZAYID M.S.\",\n",
    "    \"GALLARDO VALLES M.\": \"GALLARDO-VALLES M.\",\n",
    "    \"RIBA-MADRID P.\": \"RIBA P.\",\n",
    "    \"CHEKOV P.\": \"CHEKHOV P.\",\n",
    "    \"SAAVEDRA CORVALAN C.\": \"SAAVEDRA-CORVALAN C.\",\n",
    "    \"HAJI A.\": \"HAJJI A.\",\n",
    "    \"ZAYED M. S.\": \"ZAYED M.S.\",\n",
    "    \"KUNITCIN I.\": \"KUNITSYN I.\",\n",
    "    \"DEEN HESHAAM A.\": \"DEEN-HESHAAM A.\",\n",
    "    \"ESTRELLA V.\": \"ESTRELLA-BURGOS V.\",\n",
    "    \"SCHUTTLER P.\": \"SCHUETTLER R.\",\n",
    "    \"TYURNEV E.\": \"TIURNEV E.\",\n",
    "    \"SULTAN-KHALFAN A.\": \"KHALFAN S.\",\n",
    "    \"VAN D. MERWE I.\": \"VAN DER MERWE I.\",\n",
    "    \"ALAWADHI O.\": \"AWADHY O.\",\n",
    "    \"RASCON T.\": \"RASCON-LOPE J.T.\",\n",
    "    \"RUEVSKI P.\": \"RUSEVSKI P.\",\n",
    "    \"ESTRELLA BURGOS V.\": \"ESTRELLA-BURGOS V.\",\n",
    "    \"VAN DER DIUM A.\": \"VAN DER DUIM A.\",\n",
    "    \"AL KHULAIFI N.G.\": \"AL-KHULAIFI N.G.\"\n",
    "}\n",
    "\n",
    "JD_WHOLE_NAME_CORRECTIONS = {  # Corrections before parsing last name\n",
    "    'IVAN NAVARRO': 'IVAN NAVARRO-PASTOR',\n",
    "    'DANIEL MUNOZ DE LA NAVA': 'DANIEL MUNOZ-DE-LA-NAVA',\n",
    "    'MIGUEL ANGEL LOPEZ JAEN': 'MIGUEL-ANGEL LOPEZ-JAEN',\n",
    "    'YU JR. WANG': 'YU WANG-JR.',\n",
    "    \"OMAR ALAWADHI\": \"OMAR AWADHY\",\n",
    "    \"MIGUEL ANGEL REYES-VARELA\": \"MIGUEL-ANGEL REYES-VARELA\",\n",
    "    \"ISRAEL MATOS GIL\": \"ISRAEL MATOS-GIL\",\n",
    "    \"ARIEZ ELYAAS DEEN HESHAAM\": \"ARIEZ-ELYAAS DEEN-HESHAAM\",\n",
    "    \"ENRIQUE LOPEZ PEREZ\": \"ENRIQUE LOPEZ-PEREZ\",\n",
    "    \"VICTOR ESTRELLA BURGOS\": \"VICTOR ESTRELLA-BURGOS\",\n",
    "    \"MAHMOUD-NADER AL BALOUSHI\": \"MAHMOUD NADER\"\n",
    "}\n",
    "\n",
    "\n",
    "JD_NAME_CORRECTIONS = {  # Corrections after parsing last name\n",
    "    'MARTIN DEL POTRO': 'DEL POTRO',\n",
    "    'IGNACIO LONDERO': 'LONDERO',\n",
    "    'FERREIRA SILVA': \"SILVA\",\n",
    "    \"ELAHI GALAN\": \"GALAN\",\n",
    "    \"CARLOS FERRERO\": \"FERRERO\",\n",
    "    \"IGNACIO CHELA\": \"CHELA\",\n",
    "    \"ALBERT VILOCA-PUIG\": \"VILOCA\",\n",
    "    \"BURRIEZA-LOPEZ\": \"BURRIEZA\",\n",
    "    \"BOGOMOLOV JR.\": \"BOGOMOLOV\",\n",
    "    # \"KHALFAN\": \"AL-ALAWI\",\n",
    "    # \"ALAWADHI\": \"BAHROUZYAN\",\n",
    "    \"BAUTISTA AGUT\": \"BAUTISTA\",\n",
    "    \"RAMIREZ HIDALGO\": \"RAMIREZ-HIDALGO\",\n",
    "    \"VASSALLO ARGUELLO\": \"VASSALLO-ARGUELLO\",\n",
    "    \"CARRENO BUSTA\": \"CARRENO-BUSTA\",\n",
    "    \"PABLO BRZEZICKI\": \"BRZEZICKI\",\n",
    "    \"TRUJILLO-SOLER\": \"TRUJILLO\",\n",
    "    \"MARCO MORONI\": \"MORONI\",\n",
    "    \"SALVA-VIDAL\": \"SALVA\",\n",
    "    \"ANTONIO SANCHEZ-DE LUNA\": \"SANCHEZ-DE-LUNA\",\n",
    "    \"SEBASTIAN CABAL\": \"CABAL\",\n",
    "    \"SHANNAN ZAYID\": \"ZAYID\",\n",
    "    \"SHANAN ZAYED\": \"ZAYED\",\n",
    "    \"VIJAY SUNDAR PRASHANTH\": 'PRASHANTH',\n",
    "    \"DON GRUBER\": \"GRUBER\",\n",
    "    \"PAUL FRUTTERO\": \"FRUTTERO\",\n",
    "    \"LUQUE-VELASCO\": \"LUQUE\",\n",
    "    \"ANTONIO MARIN\": \"MARIN\"\n",
    "}"
   ]
  },
  {
   "cell_type": "code",
   "execution_count": 6,
   "metadata": {},
   "outputs": [
    {
     "data": {
      "text/plain": [
       "['ATP',\n",
       " 'B365L',\n",
       " 'B365W',\n",
       " 'Best of',\n",
       " 'CBL',\n",
       " 'CBW',\n",
       " 'Comment',\n",
       " 'Court',\n",
       " 'Date',\n",
       " 'EXL',\n",
       " 'EXW',\n",
       " 'L1',\n",
       " 'L2',\n",
       " 'L3',\n",
       " 'L4',\n",
       " 'L5',\n",
       " 'LPts',\n",
       " 'LRank',\n",
       " 'Location',\n",
       " 'Loser',\n",
       " 'Lsets',\n",
       " 'PSL',\n",
       " 'PSW',\n",
       " 'Round',\n",
       " 'Series',\n",
       " 'Surface',\n",
       " 'Tournament',\n",
       " 'UBL',\n",
       " 'UBW',\n",
       " 'W1',\n",
       " 'W2',\n",
       " 'W3',\n",
       " 'W4',\n",
       " 'W5',\n",
       " 'WPts',\n",
       " 'WRank',\n",
       " 'Winner',\n",
       " 'Wsets']"
      ]
     },
     "execution_count": 6,
     "metadata": {},
     "output_type": "execute_result"
    }
   ],
   "source": [
    "sorted(odds_df.columns)"
   ]
  },
  {
   "cell_type": "code",
   "execution_count": 7,
   "metadata": {},
   "outputs": [],
   "source": [
    "# Make all names upper case for consistent capitalization, and put through whole name corrections \n",
    "jd['winner_name'] = jd['winner_name'].map(lambda x: x.upper())\n",
    "jd['loser_name'] = jd['loser_name'].map(lambda x: x.upper())\n",
    "jd['winner_name'] = jd['winner_name'].map(lambda x: JD_WHOLE_NAME_CORRECTIONS.get(x, x))\n",
    "jd['loser_name'] = jd['loser_name'].map(lambda x: JD_WHOLE_NAME_CORRECTIONS.get(x, x))\n",
    "all_odds['Winner'] = all_odds['Winner'].map(lambda x: x.upper())\n",
    "all_odds['Loser'] = all_odds['Loser'].map(lambda x: x.upper())\n",
    "all_odds['Winner'] = all_odds['Winner'].map(lambda x: ODDS_NAME_CORRECTIONS.get(x, x))\n",
    "all_odds['Loser'] = all_odds['Loser'].map(lambda x: ODDS_NAME_CORRECTIONS.get(x, x))"
   ]
  },
  {
   "cell_type": "code",
   "execution_count": 8,
   "metadata": {},
   "outputs": [],
   "source": [
    "# Parse last names\n",
    "def last_name_jd(n):\n",
    "    return ' '.join(n.upper().strip().split(' ')[1: ])\n",
    "\n",
    "def last_name_odds(n):\n",
    "    return ' '.join(n.upper().strip().split(' ')[: -1])\n",
    "\n",
    "jd['winner_last_name'] = jd['winner_name'].map(last_name_jd)\n",
    "jd['loser_last_name'] = jd['loser_name'].map(last_name_jd)\n",
    "jd['winner_last_name'] = jd['winner_last_name'].map(lambda x: JD_NAME_CORRECTIONS.get(x, x))\n",
    "jd['loser_last_name'] = jd['loser_last_name'].map(lambda x: JD_NAME_CORRECTIONS.get(x, x))\n",
    "all_odds['winner_last_name'] = all_odds['Winner'].map(last_name_odds)\n",
    "all_odds['loser_last_name'] = all_odds['Loser'].map(last_name_odds)"
   ]
  },
  {
   "cell_type": "code",
   "execution_count": 10,
   "metadata": {},
   "outputs": [
    {
     "data": {
      "text/plain": [
       "Series([], Name: Winner, dtype: int64)"
      ]
     },
     "execution_count": 10,
     "metadata": {},
     "output_type": "execute_result"
    }
   ],
   "source": [
    "# Which (winner) names from the odds aren't represented in the ATP data?\n",
    "top_missing_winners = all_odds['Winner'][~all_odds['winner_last_name'].isin(jd['winner_last_name'])].value_counts()\n",
    "top_missing_winners                              "
   ]
  },
  {
   "cell_type": "code",
   "execution_count": 11,
   "metadata": {},
   "outputs": [
    {
     "data": {
      "text/plain": [
       "Series([], Name: Loser, dtype: int64)"
      ]
     },
     "execution_count": 11,
     "metadata": {},
     "output_type": "execute_result"
    }
   ],
   "source": [
    "# Which (loser) names from the odds aren't represented in the ATP data?\n",
    "top_missing_losers = all_odds['Loser'][~all_odds['loser_last_name'].isin(jd['loser_last_name'])].value_counts()\n",
    "top_missing_losers                              "
   ]
  },
  {
   "cell_type": "code",
   "execution_count": 12,
   "metadata": {},
   "outputs": [],
   "source": [
    "TO_INVESTIGATE = 'KHULAIFI'"
   ]
  },
  {
   "cell_type": "code",
   "execution_count": 13,
   "metadata": {},
   "outputs": [
    {
     "data": {
      "text/plain": [
       "AL-KHULAIFI N.G.    1\n",
       "Name: Loser, dtype: int64"
      ]
     },
     "execution_count": 13,
     "metadata": {},
     "output_type": "execute_result"
    }
   ],
   "source": [
    "all_odds['Loser'][all_odds['loser_last_name'].map(lambda x: TO_INVESTIGATE in x)].value_counts()"
   ]
  },
  {
   "cell_type": "code",
   "execution_count": 14,
   "metadata": {},
   "outputs": [
    {
     "data": {
      "text/html": [
       "<div>\n",
       "<style scoped>\n",
       "    .dataframe tbody tr th:only-of-type {\n",
       "        vertical-align: middle;\n",
       "    }\n",
       "\n",
       "    .dataframe tbody tr th {\n",
       "        vertical-align: top;\n",
       "    }\n",
       "\n",
       "    .dataframe thead th {\n",
       "        text-align: right;\n",
       "    }\n",
       "</style>\n",
       "<table border=\"1\" class=\"dataframe\">\n",
       "  <thead>\n",
       "    <tr style=\"text-align: right;\">\n",
       "      <th></th>\n",
       "      <th>Winner</th>\n",
       "      <th>winner_last_name</th>\n",
       "      <th>Loser</th>\n",
       "      <th>loser_last_name</th>\n",
       "      <th>Tournament</th>\n",
       "      <th>Location</th>\n",
       "      <th>Date</th>\n",
       "      <th>W1</th>\n",
       "      <th>L1</th>\n",
       "      <th>W2</th>\n",
       "      <th>L2</th>\n",
       "    </tr>\n",
       "  </thead>\n",
       "  <tbody>\n",
       "    <tr>\n",
       "      <th>72</th>\n",
       "      <td>OGORODOV O.</td>\n",
       "      <td>OGORODOV</td>\n",
       "      <td>AL-KHULAIFI N.G.</td>\n",
       "      <td>AL-KHULAIFI</td>\n",
       "      <td>Qatar Open</td>\n",
       "      <td>Doha</td>\n",
       "      <td>12/31/01</td>\n",
       "      <td>6.0</td>\n",
       "      <td>1.0</td>\n",
       "      <td>6.0</td>\n",
       "      <td>2.0</td>\n",
       "    </tr>\n",
       "  </tbody>\n",
       "</table>\n",
       "</div>"
      ],
      "text/plain": [
       "         Winner winner_last_name             Loser loser_last_name  \\\n",
       "72  OGORODOV O.         OGORODOV  AL-KHULAIFI N.G.     AL-KHULAIFI   \n",
       "\n",
       "    Tournament Location      Date   W1   L1   W2   L2  \n",
       "72  Qatar Open     Doha  12/31/01  6.0  1.0  6.0  2.0  "
      ]
     },
     "execution_count": 14,
     "metadata": {},
     "output_type": "execute_result"
    }
   ],
   "source": [
    "all_odds[[\n",
    "    'Winner',\n",
    "    'winner_last_name',\n",
    "    'Loser',\n",
    "    'loser_last_name',\n",
    "    'Tournament',\n",
    "    'Location',\n",
    "    'Date',\n",
    "    'W1',\n",
    "    'L1',\n",
    "    'W2',\n",
    "    'L2'\n",
    "]][all_odds['loser_last_name'].map(lambda x: TO_INVESTIGATE in x)].head()"
   ]
  },
  {
   "cell_type": "code",
   "execution_count": 15,
   "metadata": {},
   "outputs": [
    {
     "data": {
      "text/html": [
       "<div>\n",
       "<style scoped>\n",
       "    .dataframe tbody tr th:only-of-type {\n",
       "        vertical-align: middle;\n",
       "    }\n",
       "\n",
       "    .dataframe tbody tr th {\n",
       "        vertical-align: top;\n",
       "    }\n",
       "\n",
       "    .dataframe thead th {\n",
       "        text-align: right;\n",
       "    }\n",
       "</style>\n",
       "<table border=\"1\" class=\"dataframe\">\n",
       "  <thead>\n",
       "    <tr style=\"text-align: right;\">\n",
       "      <th></th>\n",
       "      <th>loser_name</th>\n",
       "      <th>loser_last_name</th>\n",
       "    </tr>\n",
       "  </thead>\n",
       "  <tbody>\n",
       "    <tr>\n",
       "      <th>144402</th>\n",
       "      <td>NASSER-GHANIM AL-KHULAIFI</td>\n",
       "      <td>AL-KHULAIFI</td>\n",
       "    </tr>\n",
       "  </tbody>\n",
       "</table>\n",
       "</div>"
      ],
      "text/plain": [
       "                       loser_name loser_last_name\n",
       "144402  NASSER-GHANIM AL-KHULAIFI     AL-KHULAIFI"
      ]
     },
     "execution_count": 15,
     "metadata": {},
     "output_type": "execute_result"
    }
   ],
   "source": [
    "jd[[\n",
    "    'loser_name',\n",
    "    'loser_last_name',\n",
    "]][jd['loser_last_name'].map(lambda x: TO_INVESTIGATE in x)].drop_duplicates(\n",
    "    ['loser_name', 'loser_last_name']\n",
    ")"
   ]
  },
  {
   "cell_type": "markdown",
   "metadata": {},
   "source": [
    "#### Score Parsing\n",
    "\n",
    "Now let's parse the scores from the jd data set so that we can join on score between odds and atp as well."
   ]
  },
  {
   "cell_type": "code",
   "execution_count": 16,
   "metadata": {},
   "outputs": [],
   "source": [
    "from copy import copy\n",
    "import numpy as np\n",
    "\n",
    "WALKOVER_DEFS = [\n",
    "    'W/O',\n",
    "    'DEF'\n",
    "]\n",
    "\n",
    "def parse_numeric_set(s, origs):\n",
    "    if len(s) == 2:\n",
    "        return (int(s[0]), int(s[1]), True)\n",
    "    else:\n",
    "        for b in range(1, len(s)):\n",
    "            s1, s2 = int(s[:b]), int(s[b:])\n",
    "            if abs(s1 - s2) <= 2:\n",
    "                return (s1, s2, True)\n",
    "        return (np.nan, np.nan, False)\n",
    "\n",
    "def parse_set_score(s):\n",
    "    # TODO: Parse scores when there are retirements\n",
    "    # TODO: parse oddS_comment in here.\n",
    "    origs = copy(s)\n",
    "    comment = None \n",
    "    if 'RET' in s:\n",
    "        comment = 'Retired' \n",
    "        s = s.strip(' (RET)') \n",
    "    elif any([x in s for x in WALKOVER_DEFS]):\n",
    "        comment = 'Walkover'\n",
    "        return (np.nan, np.nan, comment)\n",
    "    elif 'UNP' in s:\n",
    "        comment = 'Match Not Played'\n",
    "        return (np.nan, np.nan, comment)\n",
    "    s = s.strip(' (NA)')\n",
    "    if len(s) == 0:\n",
    "        return (np.nan, np.nan, comment)\n",
    "    else:\n",
    "        s1, s2, completion_flag = parse_numeric_set(s, origs)\n",
    "        if not completion_flag:\n",
    "            comment = \"ERROR\"\n",
    "        return (s1, s2, comment)\n",
    "    \n",
    "def parse_match_score(s):\n",
    "    if pd.isnull(s):\n",
    "        return {}\n",
    "    set_scores = s.split(';')\n",
    "    out = {}\n",
    "    for idx, ss in enumerate(set_scores):\n",
    "        w, l, comment = parse_set_score(ss)\n",
    "        out.update({\n",
    "            'W%d' % (idx + 1): w,\n",
    "            'L%d' % (idx + 1): l,\n",
    "            'join_comment': comment\n",
    "        })\n",
    "    return out "
   ]
  },
  {
   "cell_type": "code",
   "execution_count": 17,
   "metadata": {},
   "outputs": [
    {
     "data": {
      "text/html": [
       "<div>\n",
       "<style scoped>\n",
       "    .dataframe tbody tr th:only-of-type {\n",
       "        vertical-align: middle;\n",
       "    }\n",
       "\n",
       "    .dataframe tbody tr th {\n",
       "        vertical-align: top;\n",
       "    }\n",
       "\n",
       "    .dataframe thead th {\n",
       "        text-align: right;\n",
       "    }\n",
       "</style>\n",
       "<table border=\"1\" class=\"dataframe\">\n",
       "  <thead>\n",
       "    <tr style=\"text-align: right;\">\n",
       "      <th></th>\n",
       "      <th>L1</th>\n",
       "      <th>L2</th>\n",
       "      <th>L3</th>\n",
       "      <th>L4</th>\n",
       "      <th>L5</th>\n",
       "      <th>W1</th>\n",
       "      <th>W2</th>\n",
       "      <th>W3</th>\n",
       "      <th>W4</th>\n",
       "      <th>W5</th>\n",
       "      <th>join_comment</th>\n",
       "    </tr>\n",
       "  </thead>\n",
       "  <tbody>\n",
       "    <tr>\n",
       "      <th>0</th>\n",
       "      <td>3.0</td>\n",
       "      <td>2.0</td>\n",
       "      <td>6.0</td>\n",
       "      <td>1.0</td>\n",
       "      <td>NaN</td>\n",
       "      <td>6.0</td>\n",
       "      <td>6.0</td>\n",
       "      <td>5.0</td>\n",
       "      <td>6.0</td>\n",
       "      <td>NaN</td>\n",
       "      <td>None</td>\n",
       "    </tr>\n",
       "    <tr>\n",
       "      <th>1</th>\n",
       "      <td>3.0</td>\n",
       "      <td>3.0</td>\n",
       "      <td>5.0</td>\n",
       "      <td>NaN</td>\n",
       "      <td>NaN</td>\n",
       "      <td>6.0</td>\n",
       "      <td>6.0</td>\n",
       "      <td>6.0</td>\n",
       "      <td>NaN</td>\n",
       "      <td>NaN</td>\n",
       "      <td>None</td>\n",
       "    </tr>\n",
       "    <tr>\n",
       "      <th>2</th>\n",
       "      <td>5.0</td>\n",
       "      <td>6.0</td>\n",
       "      <td>4.0</td>\n",
       "      <td>1.0</td>\n",
       "      <td>NaN</td>\n",
       "      <td>6.0</td>\n",
       "      <td>5.0</td>\n",
       "      <td>6.0</td>\n",
       "      <td>6.0</td>\n",
       "      <td>NaN</td>\n",
       "      <td>None</td>\n",
       "    </tr>\n",
       "    <tr>\n",
       "      <th>3</th>\n",
       "      <td>2.0</td>\n",
       "      <td>5.0</td>\n",
       "      <td>2.0</td>\n",
       "      <td>NaN</td>\n",
       "      <td>NaN</td>\n",
       "      <td>6.0</td>\n",
       "      <td>6.0</td>\n",
       "      <td>6.0</td>\n",
       "      <td>NaN</td>\n",
       "      <td>NaN</td>\n",
       "      <td>None</td>\n",
       "    </tr>\n",
       "    <tr>\n",
       "      <th>4</th>\n",
       "      <td>1.0</td>\n",
       "      <td>2.0</td>\n",
       "      <td>4.0</td>\n",
       "      <td>NaN</td>\n",
       "      <td>NaN</td>\n",
       "      <td>6.0</td>\n",
       "      <td>6.0</td>\n",
       "      <td>6.0</td>\n",
       "      <td>NaN</td>\n",
       "      <td>NaN</td>\n",
       "      <td>None</td>\n",
       "    </tr>\n",
       "  </tbody>\n",
       "</table>\n",
       "</div>"
      ],
      "text/plain": [
       "    L1   L2   L3   L4  L5   W1   W2   W3   W4  W5 join_comment\n",
       "0  3.0  2.0  6.0  1.0 NaN  6.0  6.0  5.0  6.0 NaN         None\n",
       "1  3.0  3.0  5.0  NaN NaN  6.0  6.0  6.0  NaN NaN         None\n",
       "2  5.0  6.0  4.0  1.0 NaN  6.0  5.0  6.0  6.0 NaN         None\n",
       "3  2.0  5.0  2.0  NaN NaN  6.0  6.0  6.0  NaN NaN         None\n",
       "4  1.0  2.0  4.0  NaN NaN  6.0  6.0  6.0  NaN NaN         None"
      ]
     },
     "execution_count": 17,
     "metadata": {},
     "output_type": "execute_result"
    }
   ],
   "source": [
    "parsed_scores = jd['score'].map(parse_match_score)\n",
    "score_df = pd.DataFrame(parsed_scores.tolist())\n",
    "score_df.head()"
   ]
  },
  {
   "cell_type": "code",
   "execution_count": 18,
   "metadata": {},
   "outputs": [],
   "source": [
    "new_jd = pd.concat([jd, score_df], axis=1)"
   ]
  },
  {
   "cell_type": "code",
   "execution_count": 19,
   "metadata": {},
   "outputs": [],
   "source": [
    "score_cols = score_df.columns.tolist()"
   ]
  },
  {
   "cell_type": "code",
   "execution_count": 20,
   "metadata": {},
   "outputs": [],
   "source": [
    "comment_cols = [x for x in score_cols if 'comment' in x]"
   ]
  },
  {
   "cell_type": "code",
   "execution_count": 21,
   "metadata": {},
   "outputs": [
    {
     "data": {
      "text/html": [
       "<div>\n",
       "<style scoped>\n",
       "    .dataframe tbody tr th:only-of-type {\n",
       "        vertical-align: middle;\n",
       "    }\n",
       "\n",
       "    .dataframe tbody tr th {\n",
       "        vertical-align: top;\n",
       "    }\n",
       "\n",
       "    .dataframe thead th {\n",
       "        text-align: right;\n",
       "    }\n",
       "</style>\n",
       "<table border=\"1\" class=\"dataframe\">\n",
       "  <thead>\n",
       "    <tr style=\"text-align: right;\">\n",
       "      <th></th>\n",
       "      <th>score</th>\n",
       "      <th>join_comment</th>\n",
       "      <th>tourney_dates</th>\n",
       "      <th>tourney_title</th>\n",
       "      <th>winner_name</th>\n",
       "      <th>loser_name</th>\n",
       "      <th>tour_type</th>\n",
       "      <th>tourney_url_suffix</th>\n",
       "    </tr>\n",
       "  </thead>\n",
       "  <tbody>\n",
       "    <tr>\n",
       "      <th>89376</th>\n",
       "      <td>22;300 (RET)</td>\n",
       "      <td>ERROR</td>\n",
       "      <td>1987.05.04</td>\n",
       "      <td>Forest Hills</td>\n",
       "      <td>BORIS BECKER</td>\n",
       "      <td>FRANCISCO MACIEL</td>\n",
       "      <td>atp</td>\n",
       "      <td>/en/scores/archive/forest-hills/415/1987/results</td>\n",
       "    </tr>\n",
       "    <tr>\n",
       "      <th>100790</th>\n",
       "      <td>24;030 (RET)</td>\n",
       "      <td>ERROR</td>\n",
       "      <td>1989.04.17</td>\n",
       "      <td>Tokyo Outdoor</td>\n",
       "      <td>BILL SCANLON</td>\n",
       "      <td>PAT CASH</td>\n",
       "      <td>atp</td>\n",
       "      <td>/en/scores/archive/tokyo/329/1989/results</td>\n",
       "    </tr>\n",
       "    <tr>\n",
       "      <th>106054</th>\n",
       "      <td>64;640</td>\n",
       "      <td>ERROR</td>\n",
       "      <td>1990.02.12</td>\n",
       "      <td>Croydon</td>\n",
       "      <td>NUNO MARQUES</td>\n",
       "      <td>RICHARD VOGEL</td>\n",
       "      <td>challenger</td>\n",
       "      <td>/en/scores/archive/croydon/491/1990/results</td>\n",
       "    </tr>\n",
       "    <tr>\n",
       "      <th>106081</th>\n",
       "      <td>63;600</td>\n",
       "      <td>ERROR</td>\n",
       "      <td>1990.02.12</td>\n",
       "      <td>Nairobi-1</td>\n",
       "      <td>PAOLO PAMBIANCO</td>\n",
       "      <td>STEFAN LOCHBIHLER</td>\n",
       "      <td>challenger</td>\n",
       "      <td>/en/scores/archive/nairobi/252/1990/results</td>\n",
       "    </tr>\n",
       "    <tr>\n",
       "      <th>111355</th>\n",
       "      <td>62;620</td>\n",
       "      <td>ERROR</td>\n",
       "      <td>1991.01.21</td>\n",
       "      <td>Vina Del Mar</td>\n",
       "      <td>GERARDO VACAREZZA</td>\n",
       "      <td>ALVARO JORDAN</td>\n",
       "      <td>challenger</td>\n",
       "      <td>/en/scores/archive/vina-del-mar/204/1991/results</td>\n",
       "    </tr>\n",
       "    <tr>\n",
       "      <th>230099</th>\n",
       "      <td>60;70;0500</td>\n",
       "      <td>ERROR</td>\n",
       "      <td>2008.04.14</td>\n",
       "      <td>Athens</td>\n",
       "      <td>CHARALAMPOS KAPOGIANNIS</td>\n",
       "      <td>PIER BISBIKOS</td>\n",
       "      <td>challenger</td>\n",
       "      <td>/en/scores/archive/athens/3801/2008/results</td>\n",
       "    </tr>\n",
       "  </tbody>\n",
       "</table>\n",
       "</div>"
      ],
      "text/plain": [
       "               score join_comment tourney_dates  tourney_title  \\\n",
       "89376   22;300 (RET)        ERROR    1987.05.04   Forest Hills   \n",
       "100790  24;030 (RET)        ERROR    1989.04.17  Tokyo Outdoor   \n",
       "106054        64;640        ERROR    1990.02.12        Croydon   \n",
       "106081        63;600        ERROR    1990.02.12      Nairobi-1   \n",
       "111355        62;620        ERROR    1991.01.21   Vina Del Mar   \n",
       "230099    60;70;0500        ERROR    2008.04.14         Athens   \n",
       "\n",
       "                    winner_name         loser_name   tour_type  \\\n",
       "89376              BORIS BECKER   FRANCISCO MACIEL         atp   \n",
       "100790             BILL SCANLON           PAT CASH         atp   \n",
       "106054             NUNO MARQUES      RICHARD VOGEL  challenger   \n",
       "106081          PAOLO PAMBIANCO  STEFAN LOCHBIHLER  challenger   \n",
       "111355        GERARDO VACAREZZA      ALVARO JORDAN  challenger   \n",
       "230099  CHARALAMPOS KAPOGIANNIS      PIER BISBIKOS  challenger   \n",
       "\n",
       "                                      tourney_url_suffix  \n",
       "89376   /en/scores/archive/forest-hills/415/1987/results  \n",
       "100790         /en/scores/archive/tokyo/329/1989/results  \n",
       "106054       /en/scores/archive/croydon/491/1990/results  \n",
       "106081       /en/scores/archive/nairobi/252/1990/results  \n",
       "111355  /en/scores/archive/vina-del-mar/204/1991/results  \n",
       "230099       /en/scores/archive/athens/3801/2008/results  "
      ]
     },
     "execution_count": 21,
     "metadata": {},
     "output_type": "execute_result"
    }
   ],
   "source": [
    "# Look at malformed scores...\n",
    "new_jd[\n",
    "    ['score'] + comment_cols + \n",
    "    [\n",
    "        'tourney_dates',\n",
    "        'tourney_title',\n",
    "        'winner_name',\n",
    "        'loser_name',\n",
    "        'tour_type',\n",
    "        'tourney_url_suffix'\n",
    "    ]\n",
    "][(new_jd[comment_cols] == 'ERROR').any(axis=1)]"
   ]
  },
  {
   "cell_type": "markdown",
   "metadata": {},
   "source": [
    "None of the malformed scores should affect our data joining (either all challenger or too old) "
   ]
  },
  {
   "cell_type": "code",
   "execution_count": 22,
   "metadata": {},
   "outputs": [
    {
     "data": {
      "text/plain": [
       "(373236, 41)"
      ]
     },
     "execution_count": 22,
     "metadata": {},
     "output_type": "execute_result"
    }
   ],
   "source": [
    "jd = pd.concat([jd, score_df], axis=1)\n",
    "jd.shape"
   ]
  },
  {
   "cell_type": "code",
   "execution_count": 23,
   "metadata": {},
   "outputs": [
    {
     "data": {
      "text/html": [
       "<div>\n",
       "<style scoped>\n",
       "    .dataframe tbody tr th:only-of-type {\n",
       "        vertical-align: middle;\n",
       "    }\n",
       "\n",
       "    .dataframe tbody tr th {\n",
       "        vertical-align: top;\n",
       "    }\n",
       "\n",
       "    .dataframe thead th {\n",
       "        text-align: right;\n",
       "    }\n",
       "</style>\n",
       "<table border=\"1\" class=\"dataframe\">\n",
       "  <thead>\n",
       "    <tr style=\"text-align: right;\">\n",
       "      <th></th>\n",
       "      <th>score</th>\n",
       "      <th>L1</th>\n",
       "      <th>L2</th>\n",
       "      <th>L3</th>\n",
       "      <th>L4</th>\n",
       "      <th>L5</th>\n",
       "      <th>W1</th>\n",
       "      <th>W2</th>\n",
       "      <th>W3</th>\n",
       "      <th>W4</th>\n",
       "      <th>W5</th>\n",
       "      <th>join_comment</th>\n",
       "    </tr>\n",
       "  </thead>\n",
       "  <tbody>\n",
       "    <tr>\n",
       "      <th>148</th>\n",
       "      <td>63;75;20 (RET)</td>\n",
       "      <td>3.0</td>\n",
       "      <td>5.0</td>\n",
       "      <td>0.0</td>\n",
       "      <td>NaN</td>\n",
       "      <td>NaN</td>\n",
       "      <td>6.0</td>\n",
       "      <td>7.0</td>\n",
       "      <td>2.0</td>\n",
       "      <td>NaN</td>\n",
       "      <td>NaN</td>\n",
       "      <td>Retired</td>\n",
       "    </tr>\n",
       "    <tr>\n",
       "      <th>188</th>\n",
       "      <td>46;46;86;20 (RET)</td>\n",
       "      <td>6.0</td>\n",
       "      <td>6.0</td>\n",
       "      <td>6.0</td>\n",
       "      <td>0.0</td>\n",
       "      <td>NaN</td>\n",
       "      <td>4.0</td>\n",
       "      <td>4.0</td>\n",
       "      <td>8.0</td>\n",
       "      <td>2.0</td>\n",
       "      <td>NaN</td>\n",
       "      <td>Retired</td>\n",
       "    </tr>\n",
       "    <tr>\n",
       "      <th>205</th>\n",
       "      <td>75;57;86;57 (RET)</td>\n",
       "      <td>5.0</td>\n",
       "      <td>7.0</td>\n",
       "      <td>6.0</td>\n",
       "      <td>7.0</td>\n",
       "      <td>NaN</td>\n",
       "      <td>7.0</td>\n",
       "      <td>5.0</td>\n",
       "      <td>8.0</td>\n",
       "      <td>5.0</td>\n",
       "      <td>NaN</td>\n",
       "      <td>Retired</td>\n",
       "    </tr>\n",
       "    <tr>\n",
       "      <th>257</th>\n",
       "      <td>62;53 (RET)</td>\n",
       "      <td>2.0</td>\n",
       "      <td>3.0</td>\n",
       "      <td>NaN</td>\n",
       "      <td>NaN</td>\n",
       "      <td>NaN</td>\n",
       "      <td>6.0</td>\n",
       "      <td>5.0</td>\n",
       "      <td>NaN</td>\n",
       "      <td>NaN</td>\n",
       "      <td>NaN</td>\n",
       "      <td>Retired</td>\n",
       "    </tr>\n",
       "    <tr>\n",
       "      <th>313</th>\n",
       "      <td>64;64;21 (RET)</td>\n",
       "      <td>4.0</td>\n",
       "      <td>4.0</td>\n",
       "      <td>1.0</td>\n",
       "      <td>NaN</td>\n",
       "      <td>NaN</td>\n",
       "      <td>6.0</td>\n",
       "      <td>6.0</td>\n",
       "      <td>2.0</td>\n",
       "      <td>NaN</td>\n",
       "      <td>NaN</td>\n",
       "      <td>Retired</td>\n",
       "    </tr>\n",
       "  </tbody>\n",
       "</table>\n",
       "</div>"
      ],
      "text/plain": [
       "                 score   L1   L2   L3   L4  L5   W1   W2   W3   W4  W5  \\\n",
       "148     63;75;20 (RET)  3.0  5.0  0.0  NaN NaN  6.0  7.0  2.0  NaN NaN   \n",
       "188  46;46;86;20 (RET)  6.0  6.0  6.0  0.0 NaN  4.0  4.0  8.0  2.0 NaN   \n",
       "205  75;57;86;57 (RET)  5.0  7.0  6.0  7.0 NaN  7.0  5.0  8.0  5.0 NaN   \n",
       "257        62;53 (RET)  2.0  3.0  NaN  NaN NaN  6.0  5.0  NaN  NaN NaN   \n",
       "313     64;64;21 (RET)  4.0  4.0  1.0  NaN NaN  6.0  6.0  2.0  NaN NaN   \n",
       "\n",
       "    join_comment  \n",
       "148      Retired  \n",
       "188      Retired  \n",
       "205      Retired  \n",
       "257      Retired  \n",
       "313      Retired  "
      ]
     },
     "execution_count": 23,
     "metadata": {},
     "output_type": "execute_result"
    }
   ],
   "source": [
    "# Visually check that this is processing retirements appropriately...\n",
    "score_cols = score_df.columns.tolist()\n",
    "jd[['score'] + score_cols][jd['join_comment'] == 'Retired'].head()"
   ]
  },
  {
   "cell_type": "code",
   "execution_count": 24,
   "metadata": {},
   "outputs": [],
   "source": [
    "all_odds['join_comment'] = all_odds['Comment']\n",
    "all_odds.loc[\n",
    "    ~all_odds['join_comment'].isin(['Retired', 'Walkover']),\n",
    "    'join_comment'\n",
    "] = None"
   ]
  },
  {
   "cell_type": "markdown",
   "metadata": {},
   "source": [
    "#### Location Mapping\n",
    "\n",
    "Earlier, we did tournament mapping -- now, we'll just try location mapping -- this will hopefully make things less cumbersome, even if a little less accurate.\n",
    "\n",
    "First, are there any instances in the data where the location is missing?"
   ]
  },
  {
   "cell_type": "code",
   "execution_count": 25,
   "metadata": {},
   "outputs": [
    {
     "data": {
      "text/plain": [
       "(79, 41)"
      ]
     },
     "execution_count": 25,
     "metadata": {},
     "output_type": "execute_result"
    }
   ],
   "source": [
    "missing_location = jd[\n",
    "    jd['tourney_location'].isnull() &\n",
    "    (jd['year'] >= 2002)\n",
    "]\n",
    "missing_location.shape"
   ]
  },
  {
   "cell_type": "markdown",
   "metadata": {},
   "source": [
    "Yes, there are cases...what tournaments?"
   ]
  },
  {
   "cell_type": "code",
   "execution_count": 26,
   "metadata": {},
   "outputs": [
    {
     "data": {
      "text/plain": [
       "Tennis Masters Cup    49\n",
       "ATP Finals            30\n",
       "Name: tourney_title, dtype: int64"
      ]
     },
     "execution_count": 26,
     "metadata": {},
     "output_type": "execute_result"
    }
   ],
   "source": [
    "missing_location['tourney_title'].value_counts()"
   ]
  },
  {
   "cell_type": "markdown",
   "metadata": {},
   "source": [
    "Are there missing cases in the odds data?"
   ]
  },
  {
   "cell_type": "code",
   "execution_count": 27,
   "metadata": {},
   "outputs": [
    {
     "data": {
      "text/plain": [
       "False    48777\n",
       "Name: Location, dtype: int64"
      ]
     },
     "execution_count": 27,
     "metadata": {},
     "output_type": "execute_result"
    }
   ],
   "source": [
    "all_odds['Location'].isnull().value_counts()"
   ]
  },
  {
   "cell_type": "markdown",
   "metadata": {},
   "source": [
    "Good, no!"
   ]
  },
  {
   "cell_type": "code",
   "execution_count": 28,
   "metadata": {},
   "outputs": [],
   "source": [
    "# Create additional column with modified locations for joining \n",
    "all_odds['join_location'] = all_odds['Location']\n",
    "all_odds.loc[\n",
    "    all_odds['Tournament'] == 'Masters Cup',\n",
    "    'join_location'\n",
    "] = 'MASTERS_CUP'"
   ]
  },
  {
   "cell_type": "code",
   "execution_count": 29,
   "metadata": {},
   "outputs": [],
   "source": [
    "# Fill in missing locations in the jd data to match what exists in the odds data\n",
    "jd['join_location'] = jd['tourney_location']\n",
    "jd['tourney_title'][\n",
    "    jd['tourney_location'].isnull() &\n",
    "    (jd['year'] >= 2002)\n",
    "].isin(['Tennis Masters Cup', 'ATP Finals']).all()\n",
    "jd.loc[\n",
    "    jd['tourney_location'].isnull() &\n",
    "    (jd['year'] >= 2002),\n",
    "    'join_location'\n",
    "] = 'MASTERS_CUP'\n",
    "jd.loc[\n",
    "    jd['tourney_title'] == \"London / Queen's Club\",\n",
    "    'join_location'\n",
    "] = \"QUEEN'S CLUB\""
   ]
  },
  {
   "cell_type": "code",
   "execution_count": 30,
   "metadata": {},
   "outputs": [],
   "source": [
    "ODDS_LOCATION_CORRECTIONS = {\n",
    "    \"'S-HERTOGENBOSCH\": \"S-HERTOGENBOSCH\",\n",
    "    \"HO CHI MIN CITY\": \"HO CHI MINH CITY\",\n",
    "    \"ST. POLTEN\": \"ST. POELTEN\",\n",
    "    \"QUEENS CLUB\": \"QUEEN'S CLUB\"\n",
    "}\n",
    "\n",
    "JD_LOCATION_CORRECTIONS = {\n",
    "    \"HO CHI MINH\": \"HO CHI MINH CITY\"\n",
    "}"
   ]
  },
  {
   "cell_type": "code",
   "execution_count": 31,
   "metadata": {},
   "outputs": [],
   "source": [
    "jd['join_location'].fillna('', inplace=True)"
   ]
  },
  {
   "cell_type": "code",
   "execution_count": 32,
   "metadata": {},
   "outputs": [],
   "source": [
    "jd['join_location'] = jd['join_location'].map(lambda x: x.split(',')[0].strip().upper())\n",
    "jd['join_location'] = jd['join_location'].map(lambda x: JD_LOCATION_CORRECTIONS.get(x, x))"
   ]
  },
  {
   "cell_type": "code",
   "execution_count": 33,
   "metadata": {},
   "outputs": [
    {
     "data": {
      "text/plain": [
       "Series([], Name: join_location, dtype: int64)"
      ]
     },
     "execution_count": 33,
     "metadata": {},
     "output_type": "execute_result"
    }
   ],
   "source": [
    "all_odds['join_location'] = all_odds['join_location'].map(lambda x: x.strip().upper())\n",
    "all_odds['join_location'] = all_odds['join_location'].map(lambda x: ODDS_LOCATION_CORRECTIONS.get(x, x))\n",
    "missing_locs = all_odds['join_location'][~all_odds['join_location'].isin(jd['join_location'])]\n",
    "missing_locs.value_counts()"
   ]
  },
  {
   "cell_type": "markdown",
   "metadata": {},
   "source": [
    "#### Joining"
   ]
  },
  {
   "cell_type": "code",
   "execution_count": 79,
   "metadata": {},
   "outputs": [],
   "source": [
    "all_odds['odds_match_id'] = range(all_odds.shape[0])"
   ]
  },
  {
   "cell_type": "code",
   "execution_count": 80,
   "metadata": {},
   "outputs": [
    {
     "data": {
      "text/plain": [
       "['join_comment',\n",
       " 'join_location',\n",
       " 'loser_last_name',\n",
       " 'winner_last_name',\n",
       " 'year']"
      ]
     },
     "execution_count": 80,
     "metadata": {},
     "output_type": "execute_result"
    }
   ],
   "source": [
    "join_cols = sorted([\n",
    "    'winner_last_name',\n",
    "    'loser_last_name',\n",
    "    'join_location',\n",
    "    'year',\n",
    "    'join_comment'\n",
    "])\n",
    "join_cols"
   ]
  },
  {
   "cell_type": "code",
   "execution_count": 81,
   "metadata": {},
   "outputs": [],
   "source": [
    "merged = pd.merge(\n",
    "    all_odds,\n",
    "    jd,\n",
    "    on=join_cols,\n",
    "    how='left'\n",
    ")"
   ]
  },
  {
   "cell_type": "code",
   "execution_count": 82,
   "metadata": {},
   "outputs": [
    {
     "data": {
      "text/plain": [
       "False    46558\n",
       "True      2300\n",
       "Name: match_id, dtype: int64"
      ]
     },
     "execution_count": 82,
     "metadata": {},
     "output_type": "execute_result"
    }
   ],
   "source": [
    "merged['match_id'].isnull().value_counts()"
   ]
  },
  {
   "cell_type": "markdown",
   "metadata": {},
   "source": [
    "2300 matches are missing!"
   ]
  },
  {
   "cell_type": "code",
   "execution_count": 99,
   "metadata": {},
   "outputs": [
    {
     "data": {
      "text/plain": [
       "1    46456\n",
       "2       51\n",
       "Name: match_id, dtype: int64"
      ]
     },
     "execution_count": 99,
     "metadata": {},
     "output_type": "execute_result"
    }
   ],
   "source": [
    "merged['match_id'].value_counts().value_counts()"
   ]
  },
  {
   "cell_type": "markdown",
   "metadata": {},
   "source": [
    "51 tennis-matches were double-joined to the ATP data!"
   ]
  },
  {
   "cell_type": "code",
   "execution_count": 98,
   "metadata": {},
   "outputs": [
    {
     "data": {
      "text/plain": [
       "join_location   year\n",
       "ACAPULCO        2003     4\n",
       "                2004     1\n",
       "                2005     2\n",
       "                2006     2\n",
       "                2012     2\n",
       "                2016     1\n",
       "ADELAIDE        2005     1\n",
       "                2007    24\n",
       "AMERSFOORT      2005     2\n",
       "                2006     2\n",
       "AUCKLAND        2006    31\n",
       "                2012    27\n",
       "                2013     1\n",
       "BARCELONA       2002     1\n",
       "                2003     1\n",
       "                2004     1\n",
       "                2006     1\n",
       "                2007     1\n",
       "                2011     2\n",
       "                2012     3\n",
       "                2013     4\n",
       "                2014     2\n",
       "BASTAD          2012    27\n",
       "                2013     3\n",
       "                2014     2\n",
       "BEIJING         2004     1\n",
       "                2006     1\n",
       "                2011     1\n",
       "                2016    31\n",
       "BOGOTA          2015    27\n",
       "                        ..\n",
       "ST. PETERSBURG  2013     1\n",
       "STOCKHOLM       2003     1\n",
       "                2004     1\n",
       "                2012     1\n",
       "STUTTGART       2004     3\n",
       "SYDNEY          2009    27\n",
       "                2014     2\n",
       "TOKYO           2007     1\n",
       "                2012     1\n",
       "UMAG            2002     2\n",
       "                2003     1\n",
       "                2011     3\n",
       "                2013     1\n",
       "                2014     2\n",
       "VALENCIA        2007     2\n",
       "                2012     2\n",
       "VIENNA          2006    31\n",
       "                2011     1\n",
       "                2016     1\n",
       "VINA DEL MAR    2002     2\n",
       "                2003     1\n",
       "                2004     1\n",
       "                2006     2\n",
       "                2007    25\n",
       "                2008     1\n",
       "                2013     3\n",
       "                2014     1\n",
       "WASHINGTON      2002     1\n",
       "                2007     2\n",
       "WINSTON-SALEM   2012     1\n",
       "Length: 217, dtype: int64"
      ]
     },
     "execution_count": 98,
     "metadata": {},
     "output_type": "execute_result"
    }
   ],
   "source": [
    "# Look into the missing data by location and year -- are certain tournaments missing as a whole?\n",
    "missing = merged[merged['match_id'].isnull()]\n",
    "missing.groupby(['join_location', 'year']).size()"
   ]
  },
  {
   "cell_type": "code",
   "execution_count": 97,
   "metadata": {},
   "outputs": [
    {
     "data": {
      "text/html": [
       "<div>\n",
       "<style scoped>\n",
       "    .dataframe tbody tr th:only-of-type {\n",
       "        vertical-align: middle;\n",
       "    }\n",
       "\n",
       "    .dataframe tbody tr th {\n",
       "        vertical-align: top;\n",
       "    }\n",
       "\n",
       "    .dataframe thead th {\n",
       "        text-align: right;\n",
       "    }\n",
       "</style>\n",
       "<table border=\"1\" class=\"dataframe\">\n",
       "  <thead>\n",
       "    <tr style=\"text-align: right;\">\n",
       "      <th></th>\n",
       "      <th>join_comment</th>\n",
       "      <th>join_location</th>\n",
       "      <th>loser_last_name</th>\n",
       "      <th>winner_last_name</th>\n",
       "      <th>year</th>\n",
       "      <th>round</th>\n",
       "      <th>score</th>\n",
       "    </tr>\n",
       "  </thead>\n",
       "  <tbody>\n",
       "    <tr>\n",
       "      <th>183599</th>\n",
       "      <td>None</td>\n",
       "      <td>MUNICH</td>\n",
       "      <td>FRODE ANDERSEN</td>\n",
       "      <td>NOVAK</td>\n",
       "      <td>2002</td>\n",
       "      <td>Round of 32</td>\n",
       "      <td>46;61;64</td>\n",
       "    </tr>\n",
       "  </tbody>\n",
       "</table>\n",
       "</div>"
      ],
      "text/plain": [
       "       join_comment join_location loser_last_name winner_last_name  year  \\\n",
       "183599         None        MUNICH  FRODE ANDERSEN            NOVAK  2002   \n",
       "\n",
       "              round     score  \n",
       "183599  Round of 32  46;61;64  "
      ]
     },
     "execution_count": 97,
     "metadata": {},
     "output_type": "execute_result"
    }
   ],
   "source": [
    "def find_jd_case(\n",
    "    case,\n",
    "    winner_last_name=True,\n",
    "    loser_last_name=True,\n",
    "    location=True,\n",
    "    year=True\n",
    "):\n",
    "    conditions = True \n",
    "    if winner_last_name:\n",
    "        conditions = conditions & (jd['winner_last_name'] == case['winner_last_name'])\n",
    "    if loser_last_name:\n",
    "        conditions = conditions & (jd['loser_last_name'] == case['loser_last_name'])\n",
    "    if location:\n",
    "        conditions = conditions & (jd['join_location'] == case['join_location'])\n",
    "    if year:\n",
    "        conditions = conditions & (jd['year'] == case['year'])\n",
    "    return jd[conditions][join_cols + ['round', 'score']]\n",
    "\n",
    "find_jd_case(missing.loc[1063], location=True, year=True, winner_last_name=True, loser_last_name=False)"
   ]
  },
  {
   "cell_type": "markdown",
   "metadata": {},
   "source": [
    "The scores are often very different!  Maybe we'll just join on names / tourney / year / round..."
   ]
  },
  {
   "cell_type": "code",
   "execution_count": null,
   "metadata": {},
   "outputs": [],
   "source": [
    "jd['match_id']"
   ]
  },
  {
   "cell_type": "code",
   "execution_count": null,
   "metadata": {},
   "outputs": [],
   "source": [
    "def get_tourney(x, idx):\n",
    "    mapped = TOURNAMENT_MAPPING[x]\n",
    "    if isinstance(mapped, str):\n",
    "        return mapped if idx == 0 else None\n",
    "    if idx >= len(mapped):\n",
    "        return None\n",
    "    else:\n",
    "        return mapped[idx]\n",
    "\n",
    "idx = 0\n",
    "merged_dfs = []\n",
    "while(True):\n",
    "    print(idx)\n",
    "    cur_odds = odds_df.copy()\n",
    "    cur_odds['tourney_title'] = odds_df['Tournament'].map(lambda x: get_tourney(x, idx))\n",
    "    if cur_odds['tourney_title'].isnull().all():\n",
    "         break\n",
    "    merged_dfs.append(\n",
    "        pd.merge(\n",
    "            jd_2018,\n",
    "            cur_odds,\n",
    "            on=join_cols\n",
    "        )\n",
    "    )\n",
    "    idx += 1"
   ]
  },
  {
   "cell_type": "code",
   "execution_count": null,
   "metadata": {},
   "outputs": [],
   "source": [
    "all_merged = pd.concat(merged_dfs)"
   ]
  },
  {
   "cell_type": "code",
   "execution_count": null,
   "metadata": {},
   "outputs": [],
   "source": [
    "all_merged.to_csv(\"./merged_2018.csv\", index=False)"
   ]
  },
  {
   "cell_type": "code",
   "execution_count": null,
   "metadata": {},
   "outputs": [],
   "source": [
    "assert all_merged['match_id'].value_counts().max() == 1"
   ]
  },
  {
   "cell_type": "code",
   "execution_count": null,
   "metadata": {},
   "outputs": [],
   "source": [
    "missing = odds_df[~odds_df['odds_match_id'].isin(all_merged['odds_match_id'].tolist())]"
   ]
  },
  {
   "cell_type": "code",
   "execution_count": null,
   "metadata": {},
   "outputs": [],
   "source": [
    "missing.shape"
   ]
  },
  {
   "cell_type": "code",
   "execution_count": null,
   "metadata": {},
   "outputs": [],
   "source": [
    "missing['Comment'].value_counts()"
   ]
  },
  {
   "cell_type": "code",
   "execution_count": null,
   "metadata": {},
   "outputs": [],
   "source": [
    "missing[missing['Comment'] == 'Completed'][[\n",
    "    'Winner', 'Loser', 'winner_last_name', 'loser_last_name'\n",
    "]]"
   ]
  },
  {
   "cell_type": "code",
   "execution_count": null,
   "metadata": {},
   "outputs": [],
   "source": [
    "# What tournaments are ALWAYS missing!?\n",
    "missing[~missing['Tournament'].isin(all_merged['Tournament'])]['Tournament'].value_counts()"
   ]
  },
  {
   "cell_type": "code",
   "execution_count": null,
   "metadata": {},
   "outputs": [],
   "source": [
    "missing[missing['Tournament'] == \"CHENGDU OPEN\"].iloc[0]"
   ]
  },
  {
   "cell_type": "code",
   "execution_count": null,
   "metadata": {},
   "outputs": [],
   "source": [
    "TOURNAMENT_MAPPING['FRENCH OPEN']"
   ]
  },
  {
   "cell_type": "code",
   "execution_count": null,
   "metadata": {},
   "outputs": [],
   "source": [
    "get_tourney('FRENCH OPEN', 0)"
   ]
  },
  {
   "cell_type": "code",
   "execution_count": null,
   "metadata": {},
   "outputs": [],
   "source": [
    "def inspect_match(w=None, l=None):\n",
    "    if w is not None:\n",
    "        rel = jd_2018[\n",
    "            (jd_2018['winner_last_name'] == w)\n",
    "        ]\n",
    "    else:\n",
    "        rel = jd_2018\n",
    "    if l is not None:\n",
    "        rel = rel[\n",
    "            rel['loser_last_name'] == w\n",
    "        ]\n",
    "    return rel[[\n",
    "        'winner_last_name',\n",
    "        'loser_last_name',\n",
    "        'tourney_title'\n",
    "    ] + score_cols]\n",
    "\n",
    "inspect_match('POLANSKY')"
   ]
  },
  {
   "cell_type": "code",
   "execution_count": null,
   "metadata": {},
   "outputs": [],
   "source": [
    "ranked = all_merged[\n",
    "    all_merged['WRank'].notnull() &\n",
    "    all_merged['LRank'].notnull()\n",
    "]"
   ]
  },
  {
   "cell_type": "code",
   "execution_count": null,
   "metadata": {},
   "outputs": [],
   "source": [
    "(ranked['WRank'] < ranked['LRank']).mean()"
   ]
  },
  {
   "cell_type": "code",
   "execution_count": null,
   "metadata": {},
   "outputs": [],
   "source": [
    "(ranked['B365W'] <= ranked['B365L']).mean()"
   ]
  },
  {
   "cell_type": "code",
   "execution_count": null,
   "metadata": {},
   "outputs": [],
   "source": [
    "(ranked['B365W'] < ranked['B365L']).mean()"
   ]
  },
  {
   "cell_type": "code",
   "execution_count": null,
   "metadata": {},
   "outputs": [],
   "source": [
    "import numpy as np\n",
    "\n",
    "with_scores = jd[jd['score'].notnull()]\n",
    "winner_sets = np.zeros(with_scores.shape[0])\n",
    "for set_index in range(1, 6):\n",
    "    winner_sets += (with_scores['W%d' % set_index] > with_scores['L%d' % set_index]).astype(int)"
   ]
  },
  {
   "cell_type": "code",
   "execution_count": null,
   "metadata": {},
   "outputs": [],
   "source": [
    "pd.Series(winner_sets).value_counts()"
   ]
  },
  {
   "cell_type": "code",
   "execution_count": null,
   "metadata": {},
   "outputs": [],
   "source": [
    "with_scores[winner_sets == 1][['score', 'tourney_url_suffix']]"
   ]
  },
  {
   "cell_type": "code",
   "execution_count": null,
   "metadata": {},
   "outputs": [],
   "source": [
    "with_scores[with_scores['score'].map(lambda x: 'W/O' in x)][['winner_name', 'loser_name']]"
   ]
  },
  {
   "cell_type": "code",
   "execution_count": null,
   "metadata": {},
   "outputs": [],
   "source": [
    "with_scores"
   ]
  }
 ],
 "metadata": {
  "kernelspec": {
   "display_name": "Python 3",
   "language": "python",
   "name": "python3"
  },
  "language_info": {
   "codemirror_mode": {
    "name": "ipython",
    "version": 3
   },
   "file_extension": ".py",
   "mimetype": "text/x-python",
   "name": "python",
   "nbconvert_exporter": "python",
   "pygments_lexer": "ipython3",
   "version": "3.7.3"
  }
 },
 "nbformat": 4,
 "nbformat_minor": 2
}
